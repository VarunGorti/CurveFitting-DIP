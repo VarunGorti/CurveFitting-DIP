{
 "cells": [
  {
   "cell_type": "code",
   "execution_count": null,
   "id": "c9db8fe4",
   "metadata": {},
   "outputs": [],
   "source": [
    "import torch\n",
    "import random\n",
    "import numpy as np\n",
    "\n",
    "import matplotlib.pyplot as plt\n",
    "%matplotlib inline\n",
    "\n",
    "import torch.nn as nn\n",
    "import torch.nn.functional as F\n",
    "\n",
    "import math\n",
    "import time"
   ]
  },
  {
   "cell_type": "code",
   "execution_count": null,
   "id": "363b781a",
   "metadata": {},
   "outputs": [],
   "source": [
    "device = torch.device('cuda:0' if torch.cuda.is_available() else 'cpu')\n",
    "print(device)"
   ]
  },
  {
   "cell_type": "markdown",
   "id": "d15e41bb",
   "metadata": {
    "tags": []
   },
   "source": [
    "# Load the data"
   ]
  },
  {
   "cell_type": "code",
   "execution_count": null,
   "id": "e97e4933",
   "metadata": {},
   "outputs": [],
   "source": [
    "root_path = \"/scratch1/04703/sravula/UTAFSDataNew/new_data\"\n",
    "chip_num = 10"
   ]
  },
  {
   "cell_type": "code",
   "execution_count": null,
   "id": "21c25f9d",
   "metadata": {},
   "outputs": [],
   "source": [
    "import utils\n",
    "\n",
    "data_dict = utils.grab_chip_data(root_path, chip_num, resample=False)"
   ]
  },
  {
   "cell_type": "code",
   "execution_count": null,
   "id": "d22d85f5",
   "metadata": {},
   "outputs": [],
   "source": [
    "data_dict.keys()"
   ]
  },
  {
   "cell_type": "markdown",
   "id": "d999d2e1",
   "metadata": {
    "tags": []
   },
   "source": [
    "## Check the data matrices converted from touchstone to np"
   ]
  },
  {
   "cell_type": "code",
   "execution_count": null,
   "id": "063962dc",
   "metadata": {},
   "outputs": [],
   "source": [
    "print(\"GT Data shape: \", data_dict['gt_matrix'].shape)\n",
    "print(\"VF Data shape: \", data_dict['vf_matrix'].shape)\n",
    "print(\"Y Data shape: \", data_dict['y_matrix'].shape)"
   ]
  },
  {
   "cell_type": "code",
   "execution_count": null,
   "id": "32cb7725",
   "metadata": {},
   "outputs": [],
   "source": [
    "print(\"GT Data type: \", data_dict['gt_matrix'].dtype)\n",
    "print(\"VF Data type: \", data_dict['vf_matrix'].dtype)\n",
    "print(\"Y Data type: \", data_dict['y_matrix'].dtype)"
   ]
  },
  {
   "cell_type": "code",
   "execution_count": null,
   "id": "e9f08082",
   "metadata": {},
   "outputs": [],
   "source": [
    "print(\"GT frequency shape: \", data_dict['gt_freqs'].shape)\n",
    "print(\"Y frequency shape: \", data_dict['y_freqs'].shape)"
   ]
  },
  {
   "cell_type": "code",
   "execution_count": null,
   "id": "7b2f775e",
   "metadata": {},
   "outputs": [],
   "source": [
    "print(\"GT frequency type: \", data_dict['gt_freqs'].dtype)\n",
    "print(\"Y frequency type: \", data_dict['y_freqs'].dtype)"
   ]
  },
  {
   "cell_type": "markdown",
   "id": "da46eed3",
   "metadata": {},
   "source": [
    "## Calc the Singular values to check the distribution"
   ]
  },
  {
   "cell_type": "code",
   "execution_count": null,
   "id": "9cc30077",
   "metadata": {},
   "outputs": [],
   "source": [
    "temp = np.empty(data_dict['gt_matrix'].shape[:-1], dtype=np.complex64)\n",
    "temp.real = data_dict['gt_matrix'][..., 0]\n",
    "temp.imag = data_dict['gt_matrix'][..., 1]\n",
    "\n",
    "print(\"Complex GT data shape: \", temp.shape)\n",
    "print(\"Complex GT data type: \", temp.dtype)"
   ]
  },
  {
   "cell_type": "code",
   "execution_count": null,
   "id": "edbf5d13",
   "metadata": {},
   "outputs": [],
   "source": [
    "vals = np.linalg.svd(temp, compute_uv=False)\n",
    "print(\"GT data singular values shape: \", vals.shape)"
   ]
  },
  {
   "cell_type": "code",
   "execution_count": null,
   "id": "6490c46d",
   "metadata": {},
   "outputs": [],
   "source": [
    "vals = vals[:,0]\n",
    "print(\"GT data largest singular values shape: \", vals.shape)"
   ]
  },
  {
   "cell_type": "code",
   "execution_count": null,
   "id": "ecc3ffe2",
   "metadata": {},
   "outputs": [],
   "source": [
    "print(\"Max singular value: \", np.amax(vals))\n",
    "print(\"Min singular value: \", np.amin(vals))"
   ]
  },
  {
   "cell_type": "code",
   "execution_count": null,
   "id": "de11586e-948e-4a66-863d-d8cec8482fb7",
   "metadata": {},
   "outputs": [],
   "source": [
    "plt.figure()\n",
    "plt.hist(vals, density=True, bins=25)\n",
    "plt.show()"
   ]
  },
  {
   "cell_type": "code",
   "execution_count": null,
   "id": "b53afe67",
   "metadata": {},
   "outputs": [],
   "source": [
    "plt.figure()\n",
    "plt.plot(vals)\n",
    "plt.show()"
   ]
  },
  {
   "cell_type": "markdown",
   "id": "c653323e",
   "metadata": {
    "tags": []
   },
   "source": [
    "## Convert the raw data matrices to only the unique S-parameters"
   ]
  },
  {
   "cell_type": "code",
   "execution_count": null,
   "id": "9055b5ef",
   "metadata": {},
   "outputs": [],
   "source": [
    "vf_data = utils.matrix_to_sparams(data_dict['vf_matrix'])\n",
    "gt_data = utils.matrix_to_sparams(data_dict['gt_matrix'])\n",
    "y_data = utils.matrix_to_sparams(data_dict['y_matrix'])"
   ]
  },
  {
   "cell_type": "code",
   "execution_count": null,
   "id": "34f580e1",
   "metadata": {
    "tags": []
   },
   "outputs": [],
   "source": [
    "print(\"VF S-parameters shape: \", vf_data.shape)\n",
    "print(\"GT S-parameters shape: \", gt_data.shape)\n",
    "print(\"Y S-parameters shape: \", y_data.shape)"
   ]
  },
  {
   "cell_type": "code",
   "execution_count": null,
   "id": "72cbe131",
   "metadata": {},
   "outputs": [],
   "source": [
    "print(\"VF S-parameters type: \", vf_data.dtype)\n",
    "print(\"GT S-parameters type: \", gt_data.dtype)\n",
    "print(\"Y S-parameters type: \", y_data.dtype)"
   ]
  },
  {
   "cell_type": "code",
   "execution_count": null,
   "id": "e2c8a7b7",
   "metadata": {},
   "outputs": [],
   "source": [
    "gt_freqs = data_dict['gt_freqs']\n",
    "y_freqs = data_dict['y_freqs']"
   ]
  },
  {
   "cell_type": "code",
   "execution_count": null,
   "id": "7c7b1e8e",
   "metadata": {},
   "outputs": [],
   "source": [
    "print(\"GT frequencies shape: \", gt_freqs.shape)\n",
    "print(\"Y frequencies shape: \", y_freqs.shape)"
   ]
  },
  {
   "cell_type": "code",
   "execution_count": null,
   "id": "eb694d58",
   "metadata": {},
   "outputs": [],
   "source": [
    "print(\"GT frequencies type: \", gt_freqs.dtype)\n",
    "print(\"Y frequencies type: \", y_freqs.dtype)"
   ]
  },
  {
   "cell_type": "markdown",
   "id": "dc22c759",
   "metadata": {},
   "source": [
    "## Plot the Ground truth S-parameters "
   ]
  },
  {
   "cell_type": "code",
   "execution_count": null,
   "id": "4a58ca60",
   "metadata": {},
   "outputs": [],
   "source": [
    "n_sparams = gt_data.shape[0]\n",
    "\n",
    "plt.figure()\n",
    "for i in range(n_sparams):\n",
    "    plt.plot(gt_freqs, gt_data[i,0,:].squeeze(), label=str(i)+\" Re\")\n",
    "    plt.plot(gt_freqs, gt_data[i,1,:].squeeze(), label=str(i)+\" Im\")\n",
    "if n_sparams <= 10:\n",
    "    plt.legend()\n",
    "plt.title(\"Ground Truth\")\n",
    "plt.show()"
   ]
  },
  {
   "cell_type": "code",
   "execution_count": null,
   "id": "a2d692b2",
   "metadata": {},
   "outputs": [],
   "source": [
    "gt_mag = utils.to_mag(torch.from_numpy(gt_data))\n",
    "\n",
    "print(\"GT magniutde shape: \", gt_mag.shape)"
   ]
  },
  {
   "cell_type": "code",
   "execution_count": null,
   "id": "9cca4ae5",
   "metadata": {},
   "outputs": [],
   "source": [
    "n_sparams = gt_mag.shape[0]\n",
    "\n",
    "plt.figure()\n",
    "for i in range(n_sparams):\n",
    "    plt.plot(gt_freqs, gt_mag[i], label=str(i))\n",
    "if n_sparams <= 10:\n",
    "    plt.legend()\n",
    "plt.title(\"Ground Truth\")\n",
    "plt.ylabel(\"Magnitude (DB)\")\n",
    "plt.xlabel(\"Frequency\")\n",
    "plt.show()"
   ]
  },
  {
   "cell_type": "markdown",
   "id": "eeb9aa3e",
   "metadata": {},
   "source": [
    "## Check the data for some smoothness and regularity conditions"
   ]
  },
  {
   "cell_type": "code",
   "execution_count": null,
   "id": "c3e700a0",
   "metadata": {},
   "outputs": [],
   "source": [
    "def calc_diffs(x, order=1):\n",
    "    if order > 1:\n",
    "        x = calc_diffs(x, order-1)\n",
    "    \n",
    "    if isinstance(x, np.ndarray):\n",
    "        return (x - np.roll(x, -1, 2))[...,:-1] \n",
    "    elif torch.is_tensor(x):\n",
    "        return (x - torch.roll(x, -1, 2))[...,:-1]"
   ]
  },
  {
   "cell_type": "code",
   "execution_count": null,
   "id": "7fcf1ec7",
   "metadata": {},
   "outputs": [],
   "source": [
    "x_diff_1 = calc_diffs(gt_data)\n",
    "\n",
    "print(x_diff_1.shape)\n",
    "\n",
    "plt.figure()\n",
    "for i in range(n_sparams):\n",
    "    plt.plot(x_diff_1[i,0,:].squeeze(), label=str(i)+\" Re\")\n",
    "    plt.plot(x_diff_1[i,1,:].squeeze(), label=str(i)+\" Im\")\n",
    "if n_sparams <= 10:\n",
    "    plt.legend()\n",
    "plt.title(\"First-Order Diffs\")\n",
    "plt.show()"
   ]
  },
  {
   "cell_type": "code",
   "execution_count": null,
   "id": "f41b91c6",
   "metadata": {},
   "outputs": [],
   "source": [
    "x_diff_2 = calc_diffs(gt_data, 2)\n",
    "\n",
    "print(x_diff_2.shape)\n",
    "\n",
    "plt.figure()\n",
    "for i in range(n_sparams):\n",
    "    plt.plot(x_diff_2[i,0,:].squeeze(), label=str(i)+\" Re\")\n",
    "    plt.plot(x_diff_2[i,1,:].squeeze(), label=str(i)+\" Im\")\n",
    "if n_sparams <= 10:\n",
    "    plt.legend()\n",
    "plt.title(\"Second-Order Diffs\")\n",
    "plt.show()"
   ]
  },
  {
   "cell_type": "markdown",
   "id": "43bc212f",
   "metadata": {},
   "source": [
    "## Grab some measurements"
   ]
  },
  {
   "cell_type": "code",
   "execution_count": null,
   "id": "3fa7e35c",
   "metadata": {},
   "outputs": [],
   "source": [
    "PROBLEM_TYPE = \"log\" #[random, equal, forecast, full, log]\n",
    "LENGTH = len(gt_freqs)\n",
    "M = int(y_freqs.shape[0])"
   ]
  },
  {
   "cell_type": "code",
   "execution_count": null,
   "id": "a09476be",
   "metadata": {},
   "outputs": [],
   "source": [
    "kept_inds, missing_inds = utils.get_inds(PROBLEM_TYPE, LENGTH, M)"
   ]
  },
  {
   "cell_type": "code",
   "execution_count": null,
   "id": "52652b70",
   "metadata": {},
   "outputs": [],
   "source": [
    "print(\"LENGTH: \", LENGTH)\n",
    "print(\"Intended M (num measurements): \", M)\n",
    "print(\"Actual M (num measurements): \", len(kept_inds))\n",
    "print(\"(LENGTH - M): \", len(missing_inds))"
   ]
  },
  {
   "cell_type": "markdown",
   "id": "52b9e6de",
   "metadata": {
    "tags": []
   },
   "source": [
    "## Make the final data"
   ]
  },
  {
   "cell_type": "code",
   "execution_count": null,
   "id": "dee93370",
   "metadata": {},
   "outputs": [],
   "source": [
    "x = torch.from_numpy(gt_data)\n",
    "x = x.view(-1, LENGTH).unsqueeze(0)"
   ]
  },
  {
   "cell_type": "code",
   "execution_count": null,
   "id": "f8640578",
   "metadata": {},
   "outputs": [],
   "source": [
    "print(\"Final GT data shape: \", x.shape)\n",
    "print(\"Final GT data type: \", x.dtype)"
   ]
  },
  {
   "cell_type": "code",
   "execution_count": null,
   "id": "ffe8dbd8",
   "metadata": {},
   "outputs": [],
   "source": [
    "y = torch.clone(x)[:, :, kept_inds]"
   ]
  },
  {
   "cell_type": "code",
   "execution_count": null,
   "id": "deb21420",
   "metadata": {},
   "outputs": [],
   "source": [
    "print(\"Final Y data shape: \", y.shape)\n",
    "print(\"Final Y data type: \", y.dtype)"
   ]
  },
  {
   "cell_type": "code",
   "execution_count": null,
   "id": "95a8f6a3",
   "metadata": {},
   "outputs": [],
   "source": [
    "y_freqs = gt_freqs[kept_inds] #NOTE - y_freqs was previously the name of the VF used frequencies, changing it here"
   ]
  },
  {
   "cell_type": "code",
   "execution_count": null,
   "id": "97539b8a",
   "metadata": {},
   "outputs": [],
   "source": [
    "print(\"Final Y frequencies shape: \", y_freqs.shape)\n",
    "print(\"Final Y frequencies type: \", y_freqs.dtype)"
   ]
  },
  {
   "cell_type": "markdown",
   "id": "a82c389b",
   "metadata": {
    "tags": []
   },
   "source": [
    "## Check the singular values again with the PyTorch function on the S-parameters"
   ]
  },
  {
   "cell_type": "code",
   "execution_count": null,
   "id": "08c2643a",
   "metadata": {},
   "outputs": [],
   "source": [
    "vals = utils.sparams_to_sing_vals(x)\n",
    "vals = vals[:, 0] #grab only the largest singular value"
   ]
  },
  {
   "cell_type": "code",
   "execution_count": null,
   "id": "67eba6ce",
   "metadata": {},
   "outputs": [],
   "source": [
    "print(\"Largest sing vals shape: \", vals.shape)"
   ]
  },
  {
   "cell_type": "code",
   "execution_count": null,
   "id": "7906330b",
   "metadata": {},
   "outputs": [],
   "source": [
    "print(\"Max singular value: \", torch.max(vals).item())\n",
    "print(\"Min singular value: \", torch.min(vals).item())"
   ]
  },
  {
   "cell_type": "code",
   "execution_count": null,
   "id": "2f1d23a4",
   "metadata": {},
   "outputs": [],
   "source": [
    "plt.figure()\n",
    "plt.hist(vals.numpy(), density=True, bins=25)\n",
    "plt.show()"
   ]
  },
  {
   "cell_type": "code",
   "execution_count": null,
   "id": "acc9a4d9",
   "metadata": {},
   "outputs": [],
   "source": [
    "plt.figure()\n",
    "plt.plot(vals.numpy())\n",
    "plt.show()"
   ]
  },
  {
   "cell_type": "markdown",
   "id": "25f32f51",
   "metadata": {
    "tags": []
   },
   "source": [
    "## Check the causaliy of the signal"
   ]
  },
  {
   "cell_type": "code",
   "execution_count": null,
   "id": "c8218679",
   "metadata": {},
   "outputs": [],
   "source": [
    "evens = [i for i in range(x.shape[1]) if i%2 == 0]\n",
    "odds = [i for i in range(x.shape[1]) if i%2 != 0]\n",
    "print(\"Even indices length: \", len(evens))\n",
    "print(\"Odd indices length: \", len(odds))"
   ]
  },
  {
   "cell_type": "code",
   "execution_count": null,
   "id": "664c522c",
   "metadata": {},
   "outputs": [],
   "source": [
    "x_complex = torch.complex(x[:,evens,:], x[:,odds,:])\n",
    "print(\"Complex x shape: \", x_complex.shape)"
   ]
  },
  {
   "cell_type": "code",
   "execution_count": null,
   "id": "9a299004",
   "metadata": {},
   "outputs": [],
   "source": [
    "x_time = torch.fft.irfft(x_complex, n=2*x_complex.shape[-1]-1, norm=\"forward\")\n",
    "print(\"Time-domain x shape: \", x_time.shape)"
   ]
  },
  {
   "cell_type": "code",
   "execution_count": null,
   "id": "f5836080",
   "metadata": {},
   "outputs": [],
   "source": [
    "plt.figure()\n",
    "plt.plot(x_time.cpu().numpy()[0,0,:])\n",
    "plt.show()"
   ]
  },
  {
   "cell_type": "markdown",
   "id": "6639bc11-b82a-4e5f-8590-ca029f8391e3",
   "metadata": {
    "tags": []
   },
   "source": [
    "## Try to check the Causality Layer"
   ]
  },
  {
   "cell_type": "code",
   "execution_count": null,
   "id": "6ec1908c-a1ee-404d-bcbb-ee2728bbaa5c",
   "metadata": {},
   "outputs": [],
   "source": [
    "from model_parts import CausalityLayer\n",
    "\n",
    "Causal_Layer = CausalityLayer(LENGTH, K=1)\n",
    "causal_check = Causal_Layer(x[:,evens,:])"
   ]
  },
  {
   "cell_type": "code",
   "execution_count": null,
   "id": "e197ffe5-cc42-4e8f-9e3d-59b5f45ab5e2",
   "metadata": {},
   "outputs": [],
   "source": [
    "print(\"X shape: \", x.shape)\n",
    "print(\"Causal output shape: \", causal_check.shape)"
   ]
  },
  {
   "cell_type": "code",
   "execution_count": null,
   "id": "6f75267f-a299-495e-ae2b-05b20ffc88f5",
   "metadata": {},
   "outputs": [],
   "source": [
    "plt.figure()\n",
    "for j in range(x.shape[0]):\n",
    "    for i in range(x.shape[1]):\n",
    "        label = str(i//2) + (\" re\" if i % 2 == 0 else \" im\")\n",
    "        plt.plot(gt_freqs, x[j,i,:].flatten(), label=label)\n",
    "plt.title(\"Ground Truth\")\n",
    "if n_sparams <= 10:\n",
    "    plt.legend()\n",
    "plt.show()"
   ]
  },
  {
   "cell_type": "code",
   "execution_count": null,
   "id": "8690d562-1056-4b36-a0a7-163f25708798",
   "metadata": {},
   "outputs": [],
   "source": [
    "plt.figure()\n",
    "for j in range(causal_check.shape[0]):\n",
    "    for i in range(causal_check.shape[1]):\n",
    "        label = str(i//2) + (\" re\" if i % 2 == 0 else \" im\")\n",
    "        plt.plot(gt_freqs, causal_check[j,i,:].flatten(), label=label)\n",
    "plt.title(\"Causal Output\")\n",
    "if n_sparams <= 10:\n",
    "    plt.legend()\n",
    "plt.show()"
   ]
  },
  {
   "cell_type": "code",
   "execution_count": null,
   "id": "6d7eee94-8a78-4b82-984a-5b3f435715fe",
   "metadata": {},
   "outputs": [],
   "source": [
    "print(\"MSE between X and causal recon (should be close to 0): \", torch.mean(torch.square(x - causal_check)).item())"
   ]
  },
  {
   "cell_type": "code",
   "execution_count": null,
   "id": "8dd6f791-21d7-41c0-a95a-26000aaed14a",
   "metadata": {},
   "outputs": [],
   "source": [
    "x_mag = utils.to_mag(x)\n",
    "causal_mag = utils.to_mag(causal_check)\n",
    "\n",
    "print(\"X magnitude shape: \", x_mag.shape)\n",
    "print(\"Causal recon magnitude shape: \", causal_mag.shape)"
   ]
  },
  {
   "cell_type": "code",
   "execution_count": null,
   "id": "e3ab179c-3d66-4a97-bf4f-dddf3d85c1c2",
   "metadata": {},
   "outputs": [],
   "source": [
    "plt.figure()\n",
    "\n",
    "for i in range(x_mag.shape[0]):\n",
    "    plt.plot(gt_freqs, x_mag[i], color=\"blue\")\n",
    "    plt.plot(gt_freqs, causal_mag[i], color=\"red\")\n",
    "\n",
    "plt.title(\"CAUSAL CHECK and GT Magnitudes Overlaid\")\n",
    "plt.xlabel(\"Frequency (Hz)\")\n",
    "plt.ylabel(\"Magnitude (dB)\")\n",
    "plt.show()"
   ]
  },
  {
   "cell_type": "markdown",
   "id": "7aa32975-b464-4337-8137-8bdb4902956d",
   "metadata": {
    "tags": []
   },
   "source": [
    "## Try to check the passivity layer"
   ]
  },
  {
   "cell_type": "markdown",
   "id": "8f21ca4e-6316-4307-a325-a92ac54d41a3",
   "metadata": {
    "tags": []
   },
   "source": [
    "### First make sure it doesnt change OG signals"
   ]
  },
  {
   "cell_type": "code",
   "execution_count": null,
   "id": "839abd8d-1903-4489-913b-bb83016c55cf",
   "metadata": {},
   "outputs": [],
   "source": [
    "from model_parts import PassivityLayer\n",
    "\n",
    "Passive_Layer = PassivityLayer()\n",
    "passive_check = Passive_Layer(x)"
   ]
  },
  {
   "cell_type": "code",
   "execution_count": null,
   "id": "1a0adad2-7c11-47a5-b048-a806a098060c",
   "metadata": {},
   "outputs": [],
   "source": [
    "print(\"Passivity recon shape: \", passive_check.shape)\n",
    "print(\"MSE between X and passive recon (should be 0): \", torch.mean(torch.square(x - passive_check)).item())"
   ]
  },
  {
   "cell_type": "markdown",
   "id": "fa9fab7d-27a2-4f62-b012-4d870c2038b2",
   "metadata": {},
   "source": [
    "### Now scale the OG signal, try to make passive, and compare"
   ]
  },
  {
   "cell_type": "code",
   "execution_count": null,
   "id": "40df43aa-de56-4048-a5ac-541b7b516546",
   "metadata": {},
   "outputs": [],
   "source": [
    "x_scaled = 2. * x"
   ]
  },
  {
   "cell_type": "code",
   "execution_count": null,
   "id": "b239bea7-2a7a-4404-b5ff-36212f8c8f8f",
   "metadata": {},
   "outputs": [],
   "source": [
    "print(\"MSE between X and scaled X: \", torch.mean(torch.square(x - x_scaled)).item())"
   ]
  },
  {
   "cell_type": "code",
   "execution_count": null,
   "id": "cad9de51-d260-4eb9-9884-888cacc1a520",
   "metadata": {},
   "outputs": [],
   "source": [
    "scaled_vals = utils.sparams_to_sing_vals(x_scaled)\n",
    "scaled_vals = scaled_vals[:, 0] #grab only the largest singular value"
   ]
  },
  {
   "cell_type": "code",
   "execution_count": null,
   "id": "c9d5a905-e2ee-4729-a665-61dd856cbf02",
   "metadata": {},
   "outputs": [],
   "source": [
    "print(\"Max singular value of scaled X: \", torch.max(scaled_vals).item())\n",
    "print(\"Min singular value of scaled X: \", torch.min(scaled_vals).item())"
   ]
  },
  {
   "cell_type": "code",
   "execution_count": null,
   "id": "630b0753-0331-44f2-9181-885aba36ab82",
   "metadata": {},
   "outputs": [],
   "source": [
    "plt.figure()\n",
    "plt.hist(scaled_vals.numpy(), density=True, bins=25)\n",
    "plt.show()"
   ]
  },
  {
   "cell_type": "code",
   "execution_count": null,
   "id": "7191341b-2ccc-4846-9a83-9be4b058c46f",
   "metadata": {},
   "outputs": [],
   "source": [
    "plt.figure()\n",
    "plt.plot(scaled_vals.numpy())\n",
    "plt.show()"
   ]
  },
  {
   "cell_type": "code",
   "execution_count": null,
   "id": "535f9abb-c5c1-4616-b6b7-70827e299bbd",
   "metadata": {},
   "outputs": [],
   "source": [
    "passive_check = Passive_Layer(x_scaled)\n",
    "\n",
    "print(\"Passive recon shape: \", passive_check.shape)\n",
    "print(\"MSE between X and passive recon (should be 0): \", torch.mean(torch.square(x - passive_check)).item())"
   ]
  },
  {
   "cell_type": "code",
   "execution_count": null,
   "id": "585602f5-a332-451f-b7d1-1270c31d7c0e",
   "metadata": {},
   "outputs": [],
   "source": [
    "passive_vals = utils.sparams_to_sing_vals(passive_check)\n",
    "passive_vals = passive_vals[:, 0] #grab only the largest singular value"
   ]
  },
  {
   "cell_type": "code",
   "execution_count": null,
   "id": "34cd5229-53e7-4bc8-9dcd-eaea166f2cbc",
   "metadata": {},
   "outputs": [],
   "source": [
    "print(\"Max singular val of passive recon: \", torch.max(passive_vals).item())\n",
    "print(\"Min singular val of passive recon: \", torch.min(passive_vals).item())"
   ]
  },
  {
   "cell_type": "code",
   "execution_count": null,
   "id": "2d2c8a9c-22d7-4ebd-be03-b8479c1cce82",
   "metadata": {},
   "outputs": [],
   "source": [
    "plt.figure()\n",
    "plt.hist(passive_vals.numpy(), density=True, bins=25)\n",
    "plt.show()"
   ]
  },
  {
   "cell_type": "code",
   "execution_count": null,
   "id": "78a9a0bb-2b88-4328-9069-43c0cac858a9",
   "metadata": {},
   "outputs": [],
   "source": [
    "plt.figure()\n",
    "plt.plot(passive_vals.numpy())\n",
    "plt.show()"
   ]
  },
  {
   "cell_type": "code",
   "execution_count": null,
   "id": "a8b083b3-47cd-430e-9f35-c1b4250eac6e",
   "metadata": {},
   "outputs": [],
   "source": [
    "plt.figure()\n",
    "for j in range(x.shape[0]):\n",
    "    for i in range(x.shape[1]):\n",
    "        label = str(i//2) + (\" re\" if i % 2 == 0 else \" im\")\n",
    "        plt.plot(gt_freqs, x[j,i,:].flatten(), label=label)\n",
    "plt.title(\"Ground Truth\")\n",
    "if n_sparams <= 10:\n",
    "    plt.legend()\n",
    "plt.show()"
   ]
  },
  {
   "cell_type": "code",
   "execution_count": null,
   "id": "475dfe00-ced7-4a22-8ebb-9679e476662b",
   "metadata": {},
   "outputs": [],
   "source": [
    "plt.figure()\n",
    "for j in range(passive_check.shape[0]):\n",
    "    for i in range(passive_check.shape[1]):\n",
    "        label = str(i//2) + (\" re\" if i % 2 == 0 else \" im\")\n",
    "        plt.plot(gt_freqs, passive_check[j,i,:].flatten(), label=label)\n",
    "plt.title(\"Passive Output\")\n",
    "if n_sparams <= 10:\n",
    "    plt.legend()\n",
    "plt.show()"
   ]
  },
  {
   "cell_type": "code",
   "execution_count": null,
   "id": "95b9c477-7294-472c-9ee4-7c34181fa00f",
   "metadata": {},
   "outputs": [],
   "source": [
    "x_mag = utils.to_mag(x)\n",
    "passive_mag = utils.to_mag(passive_check)\n",
    "\n",
    "print(\"X mag shape\", x_mag.shape)\n",
    "print(\"Passive recon mag shape\", passive_mag.shape)"
   ]
  },
  {
   "cell_type": "code",
   "execution_count": null,
   "id": "c3a30e82-699b-4c39-b8d4-24cc3bac60cd",
   "metadata": {},
   "outputs": [],
   "source": [
    "plt.figure()\n",
    "\n",
    "for i in range(x_mag.shape[0]):\n",
    "    plt.plot(gt_freqs, x_mag[i], color=\"blue\")\n",
    "    plt.plot(gt_freqs, passive_mag[i], color=\"red\")\n",
    "\n",
    "plt.title(\"PASSIVE CHECK and GT Magnitudes Overlaid\")\n",
    "plt.xlabel(\"Frequency (Hz)\")\n",
    "plt.ylabel(\"Magnitude (dB)\")\n",
    "plt.show()"
   ]
  },
  {
   "cell_type": "markdown",
   "id": "8aa0d712",
   "metadata": {
    "tags": []
   },
   "source": [
    "# Set up the network"
   ]
  },
  {
   "cell_type": "code",
   "execution_count": null,
   "id": "5afda3a7",
   "metadata": {},
   "outputs": [],
   "source": [
    "LR = 1e-4 # learning rate\n",
    "NUM_ITER = 25000 # number iterations\n",
    "\n",
    "NZ = y.shape[1]\n",
    "\n",
    "NUM_LAYERS = int(np.ceil(np.log2(LENGTH))) - 4\n",
    "\n",
    "BASE_NGF = 2 ** int(np.ceil(np.log2(NZ))) if NZ < 64 else NZ\n",
    "BASE_NGF = max(BASE_NGF, 128)\n",
    "BASE_NGF = min(BASE_NGF, 512)\n",
    "\n",
    "NGF = [int(BASE_NGF * 2**(i/2)) for i in range(NUM_LAYERS)]\n",
    "\n",
    "BS = y.shape[0]\n",
    "NC = y.shape[1]"
   ]
  },
  {
   "cell_type": "code",
   "execution_count": null,
   "id": "08a38dad",
   "metadata": {},
   "outputs": [],
   "source": [
    "print(\"NZ: \", str(NZ))\n",
    "print(\"NUM_LAYERS: \", str(NUM_LAYERS))\n",
    "print(\"BASE NGF: \", str(BASE_NGF))\n",
    "print(\"NGF: \", str(NGF))\n",
    "print(\"BS: \", BS)\n",
    "print(\"NC: \", NC)"
   ]
  },
  {
   "cell_type": "code",
   "execution_count": null,
   "id": "cf08a910",
   "metadata": {},
   "outputs": [],
   "source": [
    "from models import RES_UNET\n",
    "\n",
    "KERNEL_SIZE = 1\n",
    "USE_SKIP = False\n",
    "USE_CAUSAL_PASSIVE = True\n",
    "\n",
    "net = RES_UNET(bs=BS, nz=NZ, ngf=NGF, output_size=LENGTH, nc=NC, kernel_size=KERNEL_SIZE, \\\n",
    "               num_layers=NUM_LAYERS, use_skip=USE_SKIP, causal_passive=USE_CAUSAL_PASSIVE)\n",
    "net = net.to(device)"
   ]
  },
  {
   "cell_type": "code",
   "execution_count": null,
   "id": "4099799e",
   "metadata": {},
   "outputs": [],
   "source": [
    "test_out = net.forward_with_z()\n",
    "print(\"Net output shape: \", test_out.shape)"
   ]
  },
  {
   "cell_type": "code",
   "execution_count": null,
   "id": "5554fc5e",
   "metadata": {},
   "outputs": [],
   "source": [
    "pytorch_total_params = sum(p.numel() for p in net.parameters() if p.requires_grad)\n",
    "\n",
    "print(\"TOTAL PARAMS: \", pytorch_total_params)"
   ]
  },
  {
   "cell_type": "code",
   "execution_count": null,
   "id": "7ecf8306",
   "metadata": {},
   "outputs": [],
   "source": [
    "for name, param in net.named_parameters():\n",
    "    if param.requires_grad:\n",
    "        print(name + \": \", param.shape)"
   ]
  },
  {
   "cell_type": "markdown",
   "id": "d7b70fc6",
   "metadata": {
    "tags": []
   },
   "source": [
    "# Make the linear interpolation and use it as the input to the network"
   ]
  },
  {
   "cell_type": "code",
   "execution_count": null,
   "id": "be7703e3",
   "metadata": {},
   "outputs": [],
   "source": [
    "import scipy\n",
    "\n",
    "y_np = y.cpu().detach().numpy()\n",
    "\n",
    "Interpolate = scipy.interpolate.interp1d(kept_inds, y_np, fill_value='extrapolate')"
   ]
  },
  {
   "cell_type": "code",
   "execution_count": null,
   "id": "e529c13f",
   "metadata": {},
   "outputs": [],
   "source": [
    "y_interp = Interpolate(np.arange(LENGTH))\n",
    "\n",
    "print(\"Interpolation shape: \", y_interp.shape)"
   ]
  },
  {
   "cell_type": "code",
   "execution_count": null,
   "id": "345929e8",
   "metadata": {},
   "outputs": [],
   "source": [
    "fig, axes = plt.subplots(2,1, figsize=(16, 8))\n",
    "axes = axes.flatten()\n",
    "\n",
    "for j in range(x.shape[0]):\n",
    "    for i in range(x.shape[1]):\n",
    "        label = str(i//2) + (\" re\" if i % 2 == 0 else \" im\")\n",
    "        axes[0].plot(gt_freqs, x[j,i,:].flatten(), label=label)\n",
    "        axes[0].scatter(gt_freqs[kept_inds], y[j,i].cpu())\n",
    "axes[0].set_title(\"Ground Truth\")\n",
    "if n_sparams <= 10:\n",
    "    axes[0].legend()\n",
    "\n",
    "for j in range(x.shape[0]):\n",
    "    for i in range(x.shape[1]):\n",
    "        label = str(i//2) + (\" re\" if i % 2 == 0 else \" im\")\n",
    "        axes[1].plot(gt_freqs, y_interp[j,i,:].flatten(), label=label)\n",
    "        axes[1].scatter(gt_freqs[kept_inds], y[j,i].cpu())\n",
    "axes[1].set_title(\"Measurements - Linear interpolation\")\n",
    "if n_sparams <= 10:\n",
    "    axes[1].legend()\n",
    "\n",
    "plt.show()"
   ]
  },
  {
   "cell_type": "code",
   "execution_count": null,
   "id": "54b76f4c",
   "metadata": {},
   "outputs": [],
   "source": [
    "y_interp_mag = utils.to_mag(torch.from_numpy(y_interp))\n",
    "\n",
    "print(\"Interpolation magnitude shape: \", y_interp_mag.shape)"
   ]
  },
  {
   "cell_type": "code",
   "execution_count": null,
   "id": "3fc5ffc2",
   "metadata": {},
   "outputs": [],
   "source": [
    "x_mag = utils.to_mag(x)\n",
    "y_mag = utils.to_mag(y)\n",
    "\n",
    "print(\"X magnitude shape: \", x_mag.shape)\n",
    "print(\"Y magnitude shape: \", y_mag.shape)"
   ]
  },
  {
   "cell_type": "code",
   "execution_count": null,
   "id": "05300064",
   "metadata": {},
   "outputs": [],
   "source": [
    "fig, axes = plt.subplots(2,1, figsize=(16, 8))\n",
    "axes = axes.flatten()\n",
    "\n",
    "for j in range(x_mag.shape[0]):\n",
    "    axes[0].plot(gt_freqs, x_mag[j], label=str(j))\n",
    "    axes[0].scatter(gt_freqs[kept_inds], y_mag[j])\n",
    "axes[0].set_title(\"Ground Truth\")\n",
    "axes[0].set_ylabel(\"Magnitude (DB)\")\n",
    "if n_sparams <= 10:\n",
    "    axes[0].legend()\n",
    "\n",
    "for j in range(x_mag.shape[0]):\n",
    "    axes[1].plot(gt_freqs, y_interp_mag[j], label=str(j))\n",
    "    axes[1].scatter(gt_freqs[kept_inds], y_mag[j])\n",
    "axes[1].set_title(\"Measurements - Linear interpolation\")\n",
    "axes[1].set_ylabel(\"Magnitude (DB)\")\n",
    "axes[1].set_xlabel(\"Frequency (Hz)\")\n",
    "if n_sparams <= 10:\n",
    "    axes[1].legend()\n",
    "\n",
    "plt.show()"
   ]
  },
  {
   "cell_type": "code",
   "execution_count": null,
   "id": "842e5671",
   "metadata": {},
   "outputs": [],
   "source": [
    "net.set_z(y_interp)\n",
    "\n",
    "y_interp = torch.from_numpy(y_interp)\n",
    "y_interp = y_interp.to(device)"
   ]
  },
  {
   "cell_type": "markdown",
   "id": "389534bd-bc93-4779-a09e-2d625e017116",
   "metadata": {
    "tags": []
   },
   "source": [
    "# Fit the noisy linear interp first as a warm start"
   ]
  },
  {
   "cell_type": "code",
   "execution_count": null,
   "id": "dbbecf10-3d16-4a01-83a5-6931fa09b06f",
   "metadata": {},
   "outputs": [],
   "source": [
    "NUM_ITER_WARM = 5000\n",
    "\n",
    "criterion = utils.Measurement_MSE_Loss(kept_inds=range(LENGTH), per_param=True, reduction=\"sum\")\n",
    "criterion = criterion.to(device)\n",
    "\n",
    "REG_HYPERPARAM = 0.1\n",
    "\n",
    "if REG_HYPERPARAM > 0:\n",
    "    regularizer = utils.Smoothing_Loss(per_param=True, reduction=\"sum\")\n",
    "    regularizer = regularizer.to(device)"
   ]
  },
  {
   "cell_type": "code",
   "execution_count": null,
   "id": "307fbce4-8f72-4a49-8fb9-cda605233417",
   "metadata": {},
   "outputs": [],
   "source": [
    "net = net.train()\n",
    "\n",
    "optim = torch.optim.Adam(net.parameters(), lr=LR)\n",
    "\n",
    "train_losses = []\n",
    "train_errors = []\n",
    "if REG_HYPERPARAM > 0:\n",
    "    train_regs = []\n",
    "\n",
    "test_mses = []\n",
    "test_maes = []\n",
    "\n",
    "x = x.to(device)\n",
    "y = y.to(device)"
   ]
  },
  {
   "cell_type": "code",
   "execution_count": null,
   "id": "3987d1c6-052d-40ee-9231-fd3bbe149a97",
   "metadata": {},
   "outputs": [],
   "source": [
    "tic = time.time()\n",
    "\n",
    "for i in range(NUM_ITER_WARM):\n",
    "    optim.zero_grad()\n",
    "    \n",
    "    out = net.forward_with_z()\n",
    "    \n",
    "    train_error = criterion(out, y_interp + 0.01*torch.randn_like(y_interp)) \n",
    "    if REG_HYPERPARAM > 0:\n",
    "        train_reg = REG_HYPERPARAM * regularizer(out)\n",
    "        train_loss = train_error + train_reg\n",
    "    else:\n",
    "        train_loss = train_error\n",
    "    \n",
    "    train_loss.backward()\n",
    "    optim.step()\n",
    "    \n",
    "    with torch.no_grad():\n",
    "        train_losses.append(train_loss.item())\n",
    "        train_errors.append(train_error.item())\n",
    "        if REG_HYPERPARAM > 0:\n",
    "            train_regs.append(train_reg.item())\n",
    "        \n",
    "        test_mse = nn.MSELoss()(out, x)\n",
    "        test_mses.append(test_mse.item())\n",
    "        \n",
    "        test_mae = nn.L1Loss()(out, x)\n",
    "        test_maes.append(test_mae.item())\n",
    "\n",
    "        if (i+1)%1000 == 0 or i == 0:\n",
    "            toc = time.time()\n",
    "            print(\"ITER \", str(i))\n",
    "            print(\"TIME: \", str(toc - tic))\n",
    "            print()"
   ]
  },
  {
   "cell_type": "markdown",
   "id": "543c4af8-7c64-4adb-be70-8588244f3a76",
   "metadata": {},
   "source": [
    "## Plot the last output and the metrics"
   ]
  },
  {
   "cell_type": "code",
   "execution_count": null,
   "id": "72e41ef9-cad0-4ac3-b8f1-a23d9f434a66",
   "metadata": {},
   "outputs": [],
   "source": [
    "out = out.detach().clone().cpu()\n",
    "\n",
    "fig, axes = plt.subplots(3,1, figsize=(16, 12))\n",
    "axes = axes.flatten()\n",
    "\n",
    "for j in range(x.shape[0]):\n",
    "    for i in range(x.shape[1]):\n",
    "        label = str(i//2) + (\" re\" if i % 2 == 0 else \" im\")\n",
    "        axes[0].plot(gt_freqs, x[j,i,:].cpu().flatten(), label=label)\n",
    "#         axes[0].scatter(gt_freqs[kept_inds], y[j,i].cpu())\n",
    "axes[0].set_title(\"Ground Truth\")\n",
    "if n_sparams <= 10:\n",
    "    axes[0].legend()\n",
    "\n",
    "for j in range(x.shape[0]):\n",
    "    for i in range(x.shape[1]):\n",
    "        label = str(i//2) + (\" re\" if i % 2 == 0 else \" im\")\n",
    "        axes[1].plot(gt_freqs, out[j,i,:].flatten(), label=label)\n",
    "#         axes[1].scatter(gt_freqs[kept_inds], y[j,i].cpu())\n",
    "axes[1].set_title(\"Last Output\")\n",
    "if n_sparams <= 10:\n",
    "    axes[1].legend()\n",
    "\n",
    "for j in range(x.shape[0]):\n",
    "    for i in range(x.shape[1]):\n",
    "        label = str(i//2) + (\" re\" if i % 2 == 0 else \" im\")\n",
    "        axes[2].plot(gt_freqs[kept_inds], y[j,i,:].cpu().flatten(), label=label)\n",
    "#         axes[2].scatter(gt_freqs[kept_inds], y[j,i].cpu())\n",
    "axes[2].set_title(\"Measurements - Linear interpolation\")\n",
    "if n_sparams <= 10:\n",
    "    axes[2].legend()\n",
    "\n",
    "plt.show()"
   ]
  },
  {
   "cell_type": "code",
   "execution_count": null,
   "id": "47ce704b-647c-4bba-be85-b1cb67d70e93",
   "metadata": {},
   "outputs": [],
   "source": [
    "out_mag = utils.to_mag(out)\n",
    "\n",
    "print(out_mag.shape)"
   ]
  },
  {
   "cell_type": "code",
   "execution_count": null,
   "id": "2f674f01-04cb-43b2-aeb3-85fc608545d4",
   "metadata": {},
   "outputs": [],
   "source": [
    "fig, axes = plt.subplots(3,1, figsize=(16, 12))\n",
    "axes = axes.flatten()\n",
    "\n",
    "for j in range(x_mag.shape[0]):\n",
    "    axes[0].plot(gt_freqs, x_mag[j], label=str(j))\n",
    "#     axes[0].scatter(gt_freqs[kept_inds], y_mag[j].cpu().numpy())\n",
    "axes[0].set_title(\"Ground Truth\")\n",
    "axes[0].set_ylabel(\"Magnitude (DB)\")\n",
    "if n_sparams <= 10:\n",
    "    axes[0].legend()\n",
    "\n",
    "for j in range(x_mag.shape[0]):\n",
    "    axes[1].plot(gt_freqs, out_mag[j], label=str(j))\n",
    "#     axes[1].scatter(gt_freqs[kept_inds], y_mag[j].cpu().numpy())\n",
    "axes[1].set_title(\"Last Output\")\n",
    "axes[1].set_ylabel(\"Magnitude (DB)\")\n",
    "if n_sparams <= 10:\n",
    "    axes[1].legend()\n",
    "\n",
    "for j in range(x_mag.shape[0]):\n",
    "    axes[2].plot(gt_freqs, y_interp_mag[j], label=str(j))\n",
    "#     axes[2].scatter(gt_freqs[kept_inds], y_mag[j].cpu().numpy())\n",
    "axes[2].set_title(\"Measurements - Linear interpolation (in complex --> mag)\")\n",
    "axes[2].set_ylabel(\"Magnitude (DB)\")\n",
    "axes[2].set_xlabel(\"Frequency (Hz)\")\n",
    "if n_sparams <= 10:\n",
    "    axes[2].legend()\n",
    "\n",
    "plt.show()"
   ]
  },
  {
   "cell_type": "code",
   "execution_count": null,
   "id": "e239938a-9a48-4b03-8fb3-526f4c8e2047",
   "metadata": {},
   "outputs": [],
   "source": [
    "plt.figure()\n",
    "\n",
    "for i in range(x_mag.shape[0]):\n",
    "    plt.plot(gt_freqs, x_mag[i], color=\"blue\")\n",
    "    plt.plot(gt_freqs, out_mag[i], color=\"red\")\n",
    "\n",
    "plt.title(\"DIP and GT Magnitudes Overlaid\")\n",
    "plt.xlabel(\"Frequency (Hz)\")\n",
    "plt.ylabel(\"Magnitude (dB)\")\n",
    "plt.show()"
   ]
  },
  {
   "cell_type": "code",
   "execution_count": null,
   "id": "24762db4-9a56-414c-b6fa-a8b42a23bb42",
   "metadata": {},
   "outputs": [],
   "source": [
    "max_idx = 500 #np.argmax(train_losses)\n",
    "\n",
    "plt.figure()\n",
    "plt.plot(train_losses)\n",
    "plt.title(\"TRAIN LOSS\")\n",
    "plt.ylim(0., train_losses[max_idx])\n",
    "plt.show()\n",
    "\n",
    "plt.figure()\n",
    "plt.plot(train_errors)\n",
    "plt.title(\"TRAIN ERRORS\")\n",
    "plt.ylim(0., train_errors[max_idx])\n",
    "plt.show()\n",
    "\n",
    "if REG_HYPERPARAM > 0:\n",
    "    plt.figure()\n",
    "    plt.plot(train_regs)\n",
    "    plt.title(\"TRAIN REGS\")\n",
    "    plt.ylim(0., train_regs[max_idx])\n",
    "    plt.show()\n",
    "\n",
    "plt.figure()\n",
    "plt.plot(test_mses, color='r')\n",
    "plt.title(\"TEST MSE\")\n",
    "plt.ylim(0., test_mses[max_idx])\n",
    "plt.show()\n",
    "\n",
    "plt.figure()\n",
    "plt.plot(test_maes, color='g')\n",
    "plt.title(\"TEST MAE\")\n",
    "plt.ylim(0, test_maes[max_idx])\n",
    "plt.show()"
   ]
  },
  {
   "cell_type": "markdown",
   "id": "b7f4986b",
   "metadata": {},
   "source": [
    "# Run"
   ]
  },
  {
   "cell_type": "code",
   "execution_count": null,
   "id": "ddb5d51a",
   "metadata": {},
   "outputs": [],
   "source": [
    "criterion = utils.Measurement_MSE_Loss(kept_inds=kept_inds, per_param=True, reduction=\"sum\")\n",
    "criterion = criterion.to(device)\n",
    "\n",
    "REG_HYPERPARAM = 0.1\n",
    "\n",
    "if REG_HYPERPARAM > 0:\n",
    "    regularizer = utils.Smoothing_Loss(per_param=True, reduction=\"sum\")\n",
    "    regularizer = regularizer.to(device)"
   ]
  },
  {
   "cell_type": "code",
   "execution_count": null,
   "id": "fe6c790f",
   "metadata": {},
   "outputs": [],
   "source": [
    "net = net.train()\n",
    "\n",
    "optim = torch.optim.Adam(net.parameters(), lr=LR)\n",
    "\n",
    "train_losses = []\n",
    "train_errors = []\n",
    "if REG_HYPERPARAM > 0:\n",
    "    train_regs = []\n",
    "\n",
    "test_mses = []\n",
    "test_maes = []\n",
    "\n",
    "x = x.to(device)\n",
    "y = y.to(device)"
   ]
  },
  {
   "cell_type": "code",
   "execution_count": null,
   "id": "a6673109",
   "metadata": {},
   "outputs": [],
   "source": [
    "tic = time.time()\n",
    "\n",
    "for i in range(NUM_ITER):\n",
    "    optim.zero_grad()\n",
    "    \n",
    "    out = net.forward_with_z()\n",
    "    \n",
    "    train_error = criterion(out, y) \n",
    "    if REG_HYPERPARAM > 0:\n",
    "        train_reg = REG_HYPERPARAM * regularizer(out)\n",
    "        train_loss = train_error + train_reg\n",
    "    else:\n",
    "        train_loss = train_error\n",
    "    \n",
    "    train_loss.backward()\n",
    "    optim.step()\n",
    "    \n",
    "    with torch.no_grad():\n",
    "        train_losses.append(train_loss.item())\n",
    "        train_errors.append(train_error.item())\n",
    "        if REG_HYPERPARAM > 0:\n",
    "            train_regs.append(train_reg.item())\n",
    "        \n",
    "        test_mse = nn.MSELoss()(out, x)\n",
    "        test_mses.append(test_mse.item())\n",
    "        \n",
    "        test_mae = nn.L1Loss()(out, x)\n",
    "        test_maes.append(test_mae.item())\n",
    "\n",
    "        if (i+1)%1000 == 0 or i == 0:\n",
    "            toc = time.time()\n",
    "            print(\"ITER \", str(i))\n",
    "            print(\"TIME: \", str(toc - tic))\n",
    "            print()"
   ]
  },
  {
   "cell_type": "markdown",
   "id": "4ceade1b",
   "metadata": {},
   "source": [
    "# Plot the last output and the metrics"
   ]
  },
  {
   "cell_type": "code",
   "execution_count": null,
   "id": "b76c3f8c",
   "metadata": {},
   "outputs": [],
   "source": [
    "out = out.detach().clone().cpu()\n",
    "\n",
    "fig, axes = plt.subplots(3,1, figsize=(16, 12))\n",
    "axes = axes.flatten()\n",
    "\n",
    "for j in range(x.shape[0]):\n",
    "    for i in range(x.shape[1]):\n",
    "        label = str(i//2) + (\" re\" if i % 2 == 0 else \" im\")\n",
    "        axes[0].plot(gt_freqs, x[j,i,:].cpu().flatten(), label=label)\n",
    "#         axes[0].scatter(gt_freqs[kept_inds], y[j,i].cpu())\n",
    "axes[0].set_title(\"Ground Truth\")\n",
    "if n_sparams <= 10:\n",
    "    axes[0].legend()\n",
    "\n",
    "for j in range(x.shape[0]):\n",
    "    for i in range(x.shape[1]):\n",
    "        label = str(i//2) + (\" re\" if i % 2 == 0 else \" im\")\n",
    "        axes[1].plot(gt_freqs, out[j,i,:].flatten(), label=label)\n",
    "#         axes[1].scatter(gt_freqs[kept_inds], y[j,i].cpu())\n",
    "axes[1].set_title(\"Last Output\")\n",
    "if n_sparams <= 10:\n",
    "    axes[1].legend()\n",
    "\n",
    "for j in range(x.shape[0]):\n",
    "    for i in range(x.shape[1]):\n",
    "        label = str(i//2) + (\" re\" if i % 2 == 0 else \" im\")\n",
    "        axes[2].plot(gt_freqs[kept_inds], y[j,i,:].cpu().flatten(), label=label)\n",
    "#         axes[2].scatter(gt_freqs[kept_inds], y[j,i].cpu())\n",
    "axes[2].set_title(\"Measurements - Linear interpolation\")\n",
    "if n_sparams <= 10:\n",
    "    axes[2].legend()\n",
    "\n",
    "plt.show()"
   ]
  },
  {
   "cell_type": "code",
   "execution_count": null,
   "id": "1194e660",
   "metadata": {},
   "outputs": [],
   "source": [
    "out_mag = utils.to_mag(out)\n",
    "\n",
    "print(out_mag.shape)"
   ]
  },
  {
   "cell_type": "code",
   "execution_count": null,
   "id": "885aa4de",
   "metadata": {},
   "outputs": [],
   "source": [
    "fig, axes = plt.subplots(3,1, figsize=(16, 12))\n",
    "axes = axes.flatten()\n",
    "\n",
    "for j in range(x_mag.shape[0]):\n",
    "    axes[0].plot(gt_freqs, x_mag[j], label=str(j))\n",
    "#     axes[0].scatter(gt_freqs[kept_inds], y_mag[j].cpu().numpy())\n",
    "axes[0].set_title(\"Ground Truth\")\n",
    "axes[0].set_ylabel(\"Magnitude (DB)\")\n",
    "if n_sparams <= 10:\n",
    "    axes[0].legend()\n",
    "\n",
    "for j in range(x_mag.shape[0]):\n",
    "    axes[1].plot(gt_freqs, out_mag[j], label=str(j))\n",
    "#     axes[1].scatter(gt_freqs[kept_inds], y_mag[j].cpu().numpy())\n",
    "axes[1].set_title(\"Last Output\")\n",
    "axes[1].set_ylabel(\"Magnitude (DB)\")\n",
    "if n_sparams <= 10:\n",
    "    axes[1].legend()\n",
    "\n",
    "for j in range(x_mag.shape[0]):\n",
    "    axes[2].plot(gt_freqs, y_interp_mag[j], label=str(j))\n",
    "#     axes[2].scatter(gt_freqs[kept_inds], y_mag[j].cpu().numpy())\n",
    "axes[2].set_title(\"Measurements - Linear interpolation (in complex --> mag)\")\n",
    "axes[2].set_ylabel(\"Magnitude (DB)\")\n",
    "axes[2].set_xlabel(\"Frequency (Hz)\")\n",
    "if n_sparams <= 10:\n",
    "    axes[2].legend()\n",
    "\n",
    "plt.show()"
   ]
  },
  {
   "cell_type": "code",
   "execution_count": null,
   "id": "86bae9fb",
   "metadata": {},
   "outputs": [],
   "source": [
    "plt.figure()\n",
    "\n",
    "for i in range(x_mag.shape[0]):\n",
    "    plt.plot(gt_freqs, x_mag[i], color=\"blue\")\n",
    "    plt.plot(gt_freqs, out_mag[i], color=\"red\")\n",
    "\n",
    "plt.title(\"DIP and GT Magnitudes Overlaid\")\n",
    "plt.xlabel(\"Frequency (Hz)\")\n",
    "plt.ylabel(\"Magnitude (dB)\")\n",
    "plt.show()"
   ]
  },
  {
   "cell_type": "code",
   "execution_count": null,
   "id": "f2ae00e4",
   "metadata": {},
   "outputs": [],
   "source": [
    "max_idx = 500 #np.argmax(train_losses)\n",
    "\n",
    "plt.figure()\n",
    "plt.plot(train_losses)\n",
    "plt.title(\"TRAIN LOSS\")\n",
    "plt.ylim(0., train_losses[max_idx])\n",
    "plt.show()\n",
    "\n",
    "plt.figure()\n",
    "plt.plot(train_errors)\n",
    "plt.title(\"TRAIN ERRORS\")\n",
    "plt.ylim(0., train_errors[max_idx])\n",
    "plt.show()\n",
    "\n",
    "if REG_HYPERPARAM > 0:\n",
    "    plt.figure()\n",
    "    plt.plot(train_regs)\n",
    "    plt.title(\"TRAIN REGS\")\n",
    "    plt.ylim(0., train_regs[max_idx])\n",
    "    plt.show()\n",
    "\n",
    "plt.figure()\n",
    "plt.plot(test_mses, color='r')\n",
    "plt.title(\"TEST MSE\")\n",
    "plt.ylim(0., test_mses[max_idx])\n",
    "plt.show()\n",
    "\n",
    "plt.figure()\n",
    "plt.plot(test_maes, color='g')\n",
    "plt.title(\"TEST MAE\")\n",
    "plt.ylim(0, test_maes[max_idx])\n",
    "plt.show()"
   ]
  },
  {
   "cell_type": "markdown",
   "id": "81949e6c",
   "metadata": {},
   "source": [
    "# Calculate Metrics between DIP, Vector Fit, Linear Interpolation, and the Ground Truth "
   ]
  },
  {
   "cell_type": "code",
   "execution_count": null,
   "id": "6690fbd7",
   "metadata": {},
   "outputs": [],
   "source": [
    "print(\"FINAL DIP MSE: \", test_mses[-1])\n",
    "print(\"LINEAR INTERP MSE: \", torch.nn.MSELoss()(x, y_interp).item())"
   ]
  },
  {
   "cell_type": "markdown",
   "id": "e8a47e00",
   "metadata": {},
   "source": [
    "## Make neworks from DIP, Interp, and Observations"
   ]
  },
  {
   "cell_type": "code",
   "execution_count": null,
   "id": "c8bf6c74",
   "metadata": {},
   "outputs": [],
   "source": [
    "DIP_OUT_MATRIX = utils.sparams_to_matrix(out)\n",
    "\n",
    "INTERP_MATRIX = utils.sparams_to_matrix(y_interp)\n",
    "\n",
    "Y_MATRIX = utils.sparams_to_matrix(y)"
   ]
  },
  {
   "cell_type": "code",
   "execution_count": null,
   "id": "983e9a37",
   "metadata": {},
   "outputs": [],
   "source": [
    "print(DIP_OUT_MATRIX.shape)\n",
    "print(INTERP_MATRIX.shape)\n",
    "print(Y_MATRIX.shape)"
   ]
  },
  {
   "cell_type": "code",
   "execution_count": null,
   "id": "b7834a5e",
   "metadata": {},
   "outputs": [],
   "source": [
    "DIP_net = utils.matrix_to_network(DIP_OUT_MATRIX, gt_freqs, \"DIP Recon With \"+str(M)+\" Samples for Chip \"+str(chip_num))\n",
    "\n",
    "INTERP_net = utils.matrix_to_network(INTERP_MATRIX, gt_freqs, \"Linear Interpolation With \"+str(M)+\" Samples for Chip \"+str(chip_num))\n",
    "\n",
    "Y_net = utils.matrix_to_network(Y_MATRIX, y_freqs, \"Observations for Chip \"+str(chip_num))"
   ]
  },
  {
   "cell_type": "markdown",
   "id": "9ee8253b",
   "metadata": {},
   "source": [
    "## Quickly check the singular values of the output"
   ]
  },
  {
   "cell_type": "code",
   "execution_count": null,
   "id": "b2f59da1",
   "metadata": {},
   "outputs": [],
   "source": [
    "temp = DIP_net.s\n",
    "\n",
    "print(temp.shape)\n",
    "print(temp.dtype)"
   ]
  },
  {
   "cell_type": "code",
   "execution_count": null,
   "id": "928ed656",
   "metadata": {},
   "outputs": [],
   "source": [
    "vals = np.linalg.svd(temp, compute_uv=False)\n",
    "print(vals.shape)"
   ]
  },
  {
   "cell_type": "code",
   "execution_count": null,
   "id": "c7dd7ab2",
   "metadata": {},
   "outputs": [],
   "source": [
    "vals = vals[:,0]\n",
    "print(vals.shape)"
   ]
  },
  {
   "cell_type": "code",
   "execution_count": null,
   "id": "5e881926",
   "metadata": {},
   "outputs": [],
   "source": [
    "print(np.amax(vals))\n",
    "print(np.amin(vals))"
   ]
  },
  {
   "cell_type": "code",
   "execution_count": null,
   "id": "6bbef92c",
   "metadata": {},
   "outputs": [],
   "source": [
    "plt.figure()\n",
    "plt.hist(vals, density=True, bins=25)\n",
    "plt.show"
   ]
  },
  {
   "cell_type": "code",
   "execution_count": null,
   "id": "69c1cb77",
   "metadata": {},
   "outputs": [],
   "source": [
    "plt.figure()\n",
    "plt.plot(vals)\n",
    "plt.show()"
   ]
  },
  {
   "cell_type": "markdown",
   "id": "568ee622",
   "metadata": {},
   "source": [
    "## Grab the data back from the networks for DIP and Interp to compare metrics"
   ]
  },
  {
   "cell_type": "code",
   "execution_count": null,
   "id": "a75ea9dd",
   "metadata": {},
   "outputs": [],
   "source": [
    "DIP_FINAL_OUT = np.stack((DIP_net.s.real, DIP_net.s.imag), axis=-1)\n",
    "\n",
    "INTERP_FINAL_OUT = np.stack((INTERP_net.s.real, INTERP_net.s.imag), axis=-1)"
   ]
  },
  {
   "cell_type": "code",
   "execution_count": null,
   "id": "950e6d2e",
   "metadata": {},
   "outputs": [],
   "source": [
    "print(DIP_FINAL_OUT.shape)\n",
    "print(INTERP_FINAL_OUT.shape)"
   ]
  },
  {
   "cell_type": "code",
   "execution_count": null,
   "id": "53137319",
   "metadata": {},
   "outputs": [],
   "source": [
    "dip_data = utils.matrix_to_sparams(DIP_FINAL_OUT)\n",
    "interp_data = utils.matrix_to_sparams(INTERP_FINAL_OUT)"
   ]
  },
  {
   "cell_type": "code",
   "execution_count": null,
   "id": "7feae2cc",
   "metadata": {},
   "outputs": [],
   "source": [
    "print(dip_data.shape)\n",
    "print(interp_data.shape)"
   ]
  },
  {
   "cell_type": "code",
   "execution_count": null,
   "id": "54176752",
   "metadata": {},
   "outputs": [],
   "source": [
    "print(dip_data.dtype)\n",
    "print(interp_data.dtype)"
   ]
  },
  {
   "cell_type": "markdown",
   "id": "4217533b",
   "metadata": {},
   "source": [
    "## Compare DIP, VF, and Interp"
   ]
  },
  {
   "cell_type": "code",
   "execution_count": null,
   "id": "4708c601",
   "metadata": {},
   "outputs": [],
   "source": [
    "import skimage.metrics\n",
    "from skimage.metrics import peak_signal_noise_ratio as psnr\n",
    "\n",
    "data_range = np.amax(gt_data) - np.amin(gt_data)\n",
    "\n",
    "psnr_ours = psnr(gt_data, dip_data)#, data_range)\n",
    "psnr_interp = psnr(gt_data, interp_data)#, data_range)\n",
    "psnr_vf = psnr(gt_data, vf_data)#, data_range)"
   ]
  },
  {
   "cell_type": "code",
   "execution_count": null,
   "id": "6a5629d9",
   "metadata": {},
   "outputs": [],
   "source": [
    "print(\"DIP PSNR: \", psnr_ours)\n",
    "print(\"INTERP PSNR: \", psnr_interp)\n",
    "print(\"VF PSNR: \", psnr_vf)"
   ]
  },
  {
   "cell_type": "markdown",
   "id": "09314d9a",
   "metadata": {},
   "source": [
    "## Save the outputs"
   ]
  },
  {
   "cell_type": "code",
   "execution_count": null,
   "id": "a8547b30",
   "metadata": {},
   "outputs": [],
   "source": [
    "# write_path = \"/scratch1/04703/sravula\"\n",
    "\n",
    "# DIP_net.write_touchstone(write_path+\"/DIP_\"+str(chip_num))\n",
    "# INTERP_net.write_touchstone(write_path+\"/INTERP_\"+str(chip_num))\n",
    "# Y_net.write_touchstone(write_path+\"/OBSERVATIONS_\"+str(chip_num))"
   ]
  },
  {
   "cell_type": "code",
   "execution_count": null,
   "id": "f4545136-b274-4c77-84b9-0a9184a8d30f",
   "metadata": {},
   "outputs": [],
   "source": []
  }
 ],
 "metadata": {
  "kernelspec": {
   "display_name": "basic",
   "language": "python",
   "name": "basic"
  },
  "language_info": {
   "codemirror_mode": {
    "name": "ipython",
    "version": 3
   },
   "file_extension": ".py",
   "mimetype": "text/x-python",
   "name": "python",
   "nbconvert_exporter": "python",
   "pygments_lexer": "ipython3",
   "version": "3.9.13"
  }
 },
 "nbformat": 4,
 "nbformat_minor": 5
}
