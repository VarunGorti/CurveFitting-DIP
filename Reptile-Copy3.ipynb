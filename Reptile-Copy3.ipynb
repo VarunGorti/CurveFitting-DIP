{
 "cells": [
  {
   "cell_type": "markdown",
   "id": "d20b1317-3ff8-4964-8dc0-b5d046e003af",
   "metadata": {},
   "source": [
    "# Make the running parameters"
   ]
  },
  {
   "cell_type": "code",
   "execution_count": 1,
   "id": "e72c0035-4822-49c6-af89-a65193011ed8",
   "metadata": {},
   "outputs": [],
   "source": [
    "from Fitting import reptile\n",
    "from models import RESNET_BACKBONE\n",
    "\n",
    "import torch"
   ]
  },
  {
   "cell_type": "code",
   "execution_count": 2,
   "id": "56ee54e3-182d-4c1c-999e-07e83ee93786",
   "metadata": {},
   "outputs": [
    {
     "name": "stdout",
     "output_type": "stream",
     "text": [
      "cuda:2\n"
     ]
    }
   ],
   "source": [
    "device = torch.device('cuda:2' if torch.cuda.is_available() else 'cpu')\n",
    "print(device)"
   ]
  },
  {
   "cell_type": "code",
   "execution_count": 3,
   "id": "cbda812a-db43-42a3-9b1f-b80a2e8c5977",
   "metadata": {},
   "outputs": [],
   "source": [
    "ROOT_PATH = \"/scratch1/04703/sravula/UTAFSDataNew/new_data\"\n",
    "\n",
    "NUM_SAMPLES = 62\n",
    "\n",
    "TEST_SET = [9, 21, 29, 38, 49, 50, 61]\n",
    "TRAIN_SET = [i for i in range(NUM_SAMPLES) if i not in TEST_SET]"
   ]
  },
  {
   "cell_type": "code",
   "execution_count": 4,
   "id": "1e1a3a43-d788-4aa4-bdb4-bc4c6c7b52e4",
   "metadata": {},
   "outputs": [],
   "source": [
    "NUM_LAYERS = 8\n",
    "BASE_NGF = 512\n",
    "KERNEL_SIZE = 3\n",
    "\n",
    "CAUSAL = False\n",
    "PASSIVE = False\n",
    "\n",
    "net_backbone = RESNET_BACKBONE(ngf=BASE_NGF,\n",
    "                               ngf_in_out=BASE_NGF,\n",
    "                               kernel_size=KERNEL_SIZE,\n",
    "                               num_layers=NUM_LAYERS)"
   ]
  },
  {
   "cell_type": "code",
   "execution_count": 5,
   "id": "11616291-2583-4a03-8609-bfd0cf3359f4",
   "metadata": {},
   "outputs": [],
   "source": [
    "NUM_EPOCHS = 10\n",
    "LR_OUTER = 1e-3\n",
    "\n",
    "LR_INNER = 1e-4\n",
    "NUM_ITERS = 1000\n",
    "REG_LAMBDA = 1\n",
    "\n",
    "MEASUREMENT_SPACING = \"equal\"\n",
    "NUM_MEASUREMENTS = 0.5"
   ]
  },
  {
   "cell_type": "code",
   "execution_count": 6,
   "id": "c56103a9-6824-4982-9df2-27ba62ad4dc6",
   "metadata": {},
   "outputs": [],
   "source": [
    "# START_NOISE_LEVEL = 0.1\n",
    "# END_NOISE_LEVEL = 0.001\n",
    "# NOISE_DECAY_FACTOR = (END_NOISE_LEVEL / START_NOISE_LEVEL)**(1 / NUM_ITERS) \n",
    "\n",
    "# print(\"Noise decay factor: \", NOISE_DECAY_FACTOR)\n",
    "START_NOISE_LEVEL = None\n",
    "NOISE_DECAY_FACTOR = None"
   ]
  },
  {
   "cell_type": "markdown",
   "id": "7ff127f4-0697-4bd3-933c-5ef417fef41d",
   "metadata": {},
   "source": [
    "# Run the thing"
   ]
  },
  {
   "cell_type": "code",
   "execution_count": null,
   "id": "c0e9c505-fb70-4bc9-8e05-fbe0ce246af4",
   "metadata": {
    "tags": []
   },
   "outputs": [
    {
     "data": {
      "application/vnd.jupyter.widget-view+json": {
       "model_id": "9699246865744a35bc5bcb5217b061c3",
       "version_major": 2,
       "version_minor": 0
      },
      "text/plain": [
       "  0%|          | 0/10 [00:00<?, ?it/s]"
      ]
     },
     "metadata": {},
     "output_type": "display_data"
    },
    {
     "data": {
      "application/vnd.jupyter.widget-view+json": {
       "model_id": "5b0764c4bfad44d8a8056e7d59f6ad58",
       "version_major": 2,
       "version_minor": 0
      },
      "text/plain": [
       "  0%|          | 0/7 [00:00<?, ?it/s]"
      ]
     },
     "metadata": {},
     "output_type": "display_data"
    },
    {
     "data": {
      "application/vnd.jupyter.widget-view+json": {
       "model_id": "213d5cdb62d443c7abdf48551be0656f",
       "version_major": 2,
       "version_minor": 0
      },
      "text/plain": [
       "  0%|          | 0/55 [00:00<?, ?it/s]"
      ]
     },
     "metadata": {},
     "output_type": "display_data"
    }
   ],
   "source": [
    "_, _, _, _ = reptile(backbone=net_backbone, data_root=ROOT_PATH, device=device, \n",
    "                  measurement_spacing=MEASUREMENT_SPACING, num_measurements=NUM_MEASUREMENTS, \n",
    "                  num_epochs=NUM_EPOCHS, lr_outer=LR_OUTER, test_inds=TEST_SET, train_inds=TRAIN_SET, \n",
    "                  lr_inner=LR_INNER, num_iters_inner=NUM_ITERS, reg_lambda_inner=REG_LAMBDA, \n",
    "                  start_noise_inner=START_NOISE_LEVEL, noise_decay_inner=NOISE_DECAY_FACTOR,    \n",
    "                  ngf=BASE_NGF, kernel_size=KERNEL_SIZE, causal=CAUSAL, passive=PASSIVE)"
   ]
  },
  {
   "cell_type": "code",
   "execution_count": null,
   "id": "4216fcf1-78fc-4fb2-9d21-d61eb02af83e",
   "metadata": {},
   "outputs": [],
   "source": []
  }
 ],
 "metadata": {
  "kernelspec": {
   "display_name": "Python 3 (ipykernel)",
   "language": "python",
   "name": "python3"
  },
  "language_info": {
   "codemirror_mode": {
    "name": "ipython",
    "version": 3
   },
   "file_extension": ".py",
   "mimetype": "text/x-python",
   "name": "python",
   "nbconvert_exporter": "python",
   "pygments_lexer": "ipython3",
   "version": "3.9.13"
  }
 },
 "nbformat": 4,
 "nbformat_minor": 5
}
