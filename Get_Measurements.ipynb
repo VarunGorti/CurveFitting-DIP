{
 "cells": [
  {
   "cell_type": "markdown",
   "id": "784536ce-dec6-4121-8255-ffa79d5b0b4a",
   "metadata": {},
   "source": [
    "# The purpose of this notebook is simply to grab and save measurement data from chips"
   ]
  },
  {
   "cell_type": "code",
   "execution_count": null,
   "id": "2f07ff70-5695-4ea3-8124-84e263dfa8d6",
   "metadata": {},
   "outputs": [],
   "source": [
    "import torch\n",
    "import random\n",
    "import numpy as np\n",
    "\n",
    "import matplotlib.pyplot as plt\n",
    "%matplotlib inline\n",
    "\n",
    "import torch.nn as nn\n",
    "import torch.nn.functional as F\n",
    "\n",
    "import math\n",
    "import time"
   ]
  },
  {
   "cell_type": "code",
   "execution_count": null,
   "id": "bf0f4002-94b8-4768-a89e-2681d5cbc482",
   "metadata": {},
   "outputs": [],
   "source": [
    "device = torch.device('cuda:1' if torch.cuda.is_available() else 'cpu')\n",
    "print(device)"
   ]
  },
  {
   "cell_type": "markdown",
   "id": "154a338b-7138-4dc1-a32d-bad37bd1dd1e",
   "metadata": {},
   "source": [
    "# 1. Load the data and get measurements"
   ]
  },
  {
   "cell_type": "code",
   "execution_count": null,
   "id": "9fcef4e5-aede-4e67-b309-5dc2a6c049c0",
   "metadata": {},
   "outputs": [],
   "source": [
    "ROOT_PATH = \"/scratch1/04703/sravula/UTAFSDataNew/new_data\"\n",
    "CHIP_NUM = 21"
   ]
  },
  {
   "cell_type": "code",
   "execution_count": null,
   "id": "d785b49c-eaff-4959-af96-9d4f7bc47059",
   "metadata": {},
   "outputs": [],
   "source": [
    "import utils\n",
    "\n",
    "data_dict = utils.grab_chip_data(ROOT_PATH, CHIP_NUM)"
   ]
  },
  {
   "cell_type": "markdown",
   "id": "2bf7bc25-48d5-4cfb-8cc7-b2ebc1b31a86",
   "metadata": {
    "tags": []
   },
   "source": [
    "## Convert the raw data matrices to only the unique S-parameters"
   ]
  },
  {
   "cell_type": "code",
   "execution_count": null,
   "id": "42e745cb-3c3f-4fbd-a0cd-09fff8618642",
   "metadata": {},
   "outputs": [],
   "source": [
    "vf_data = utils.matrix_to_sparams(data_dict['vf_matrix'])\n",
    "gt_data = utils.matrix_to_sparams(data_dict['gt_matrix'])\n",
    "y_data = utils.matrix_to_sparams(data_dict['y_matrix'])\n",
    "\n",
    "print(\"VF S-parameters shape: \", vf_data.shape)\n",
    "print(\"GT S-parameters shape: \", gt_data.shape)\n",
    "print(\"Y S-parameters shape: \", y_data.shape)"
   ]
  },
  {
   "cell_type": "code",
   "execution_count": null,
   "id": "fc3ca479-9ce4-4d0a-b232-6fd037d4dc4d",
   "metadata": {},
   "outputs": [],
   "source": [
    "gt_freqs = data_dict['gt_freqs']\n",
    "y_freqs = data_dict['y_freqs']\n",
    "\n",
    "print(\"GT frequencies shape: \", gt_freqs.shape)\n",
    "print(\"Y frequencies shape: \", y_freqs.shape)"
   ]
  },
  {
   "cell_type": "markdown",
   "id": "4bfdfa96-0197-49e5-9dc3-65c7822207a9",
   "metadata": {},
   "source": [
    "## Make some variables we will need"
   ]
  },
  {
   "cell_type": "code",
   "execution_count": null,
   "id": "07b10823-8087-42a8-8d4a-12713fc844a6",
   "metadata": {},
   "outputs": [],
   "source": [
    "N_FREQS = gt_data.shape[-1]\n",
    "N_SPARAMS = gt_data.shape[0]  \n",
    "\n",
    "print(\"N_FREQS: \", N_FREQS)\n",
    "print(\"N_SPARAMS: \", N_SPARAMS)"
   ]
  },
  {
   "cell_type": "code",
   "execution_count": null,
   "id": "f756a49a-6921-4025-83e6-6ef5a9da0ba8",
   "metadata": {},
   "outputs": [],
   "source": [
    "x = torch.from_numpy(gt_data).view(-1, N_FREQS).unsqueeze(0).to(device)\n",
    "\n",
    "print(\"x shape: \", x.shape)"
   ]
  },
  {
   "cell_type": "markdown",
   "id": "1ddd0a76-0815-45c1-8486-d53e52a1b391",
   "metadata": {},
   "source": [
    "## Grab Some Measurements"
   ]
  },
  {
   "cell_type": "code",
   "execution_count": null,
   "id": "d0ae91d7-6005-40f3-8869-fd4c52f21e70",
   "metadata": {},
   "outputs": [],
   "source": [
    "PROBLEM_TYPE = \"sqrt\" #[random, equal, forecast, full, log, sqrt]\n",
    "M = 0.2\n",
    "\n",
    "kept_inds, missing_inds = utils.get_inds(PROBLEM_TYPE, N_FREQS, M)\n",
    "\n",
    "M = len(kept_inds) #re-define in case kept_inds is off by 1 or something\n",
    "\n",
    "print(\"Number of Ground Truth Frequency Points: \", N_FREQS)\n",
    "print(\"Number of Measurements: \", M)\n",
    "print(\"Undersampling Ratio: \", M/N_FREQS)"
   ]
  },
  {
   "cell_type": "code",
   "execution_count": null,
   "id": "ef0ec464-a4cf-41ed-9140-47c5aa82a179",
   "metadata": {},
   "outputs": [],
   "source": [
    "y = torch.clone(x)[:, :, kept_inds]\n",
    "y_freqs = gt_freqs[kept_inds]\n",
    "\n",
    "print(\"y shape: \", y.shape)\n",
    "print(\"y_freqs shape: \", y_freqs.shape)"
   ]
  },
  {
   "cell_type": "markdown",
   "id": "f9ee5124-a06f-4c07-84ad-6bd301a4733b",
   "metadata": {},
   "source": [
    "## Visualise measurements"
   ]
  },
  {
   "cell_type": "code",
   "execution_count": null,
   "id": "abdb554b-5eef-41fb-8214-7a717152a440",
   "metadata": {},
   "outputs": [],
   "source": [
    "plt.figure()\n",
    "for i in range(N_SPARAMS):\n",
    "    plt.plot(gt_freqs, x[0,2*i].cpu(), label=str(i)+\" Re\")\n",
    "    plt.plot(gt_freqs, x[0,2*i+1].cpu(), label=str(i)+\" Im\")\n",
    "    plt.scatter(y_freqs, y[0,2*i].cpu())\n",
    "    plt.scatter(y_freqs, y[0,2*i+1].cpu())\n",
    "if N_SPARAMS <= 10:\n",
    "    plt.legend()\n",
    "plt.title(\"Ground Truth Complex Representation\")\n",
    "plt.xlabel(\"Frequency\")\n",
    "plt.show()"
   ]
  },
  {
   "cell_type": "markdown",
   "id": "3cebe2ee-1c9f-4938-9000-509c9daeefd0",
   "metadata": {},
   "source": [
    "## Save measurements"
   ]
  },
  {
   "cell_type": "code",
   "execution_count": null,
   "id": "6dac7409-f773-4a4d-b817-fc74536d516b",
   "metadata": {},
   "outputs": [],
   "source": [
    "SAVE_ROOT = \"/scratch1/04703/sravula/Siemens_VF_Data/case21/\""
   ]
  },
  {
   "cell_type": "code",
   "execution_count": null,
   "id": "5c29c6d9-ea23-4b59-8406-79d0010dd736",
   "metadata": {},
   "outputs": [],
   "source": [
    "Y_MATRIX = utils.sparams_to_matrix(y)\n",
    "print(Y_MATRIX.shape)"
   ]
  },
  {
   "cell_type": "code",
   "execution_count": null,
   "id": "e3267a67-cf08-4930-97c9-89a3e07cdbf8",
   "metadata": {},
   "outputs": [],
   "source": [
    "Y_net = utils.matrix_to_network(Y_MATRIX, y_freqs, \"Observations for Chip \"+str(CHIP_NUM))"
   ]
  },
  {
   "cell_type": "code",
   "execution_count": null,
   "id": "4fedb6c3-3753-4341-b300-f3750b51bfdd",
   "metadata": {},
   "outputs": [],
   "source": [
    "temp = Y_net.s\n",
    "\n",
    "print(temp.shape)\n",
    "print(temp.dtype)"
   ]
  },
  {
   "cell_type": "code",
   "execution_count": null,
   "id": "0508f689-f55a-445c-a93d-ec7e7796ca61",
   "metadata": {},
   "outputs": [],
   "source": [
    "WRITE_PTH = SAVE_ROOT + \"case\" + str(CHIP_NUM) + \"_\" + PROBLEM_TYPE + \"_\" + str(M)\n",
    "print(WRITE_PTH)"
   ]
  },
  {
   "cell_type": "code",
   "execution_count": null,
   "id": "e0c5250c-624d-4982-aee6-51de61ffa5ee",
   "metadata": {},
   "outputs": [],
   "source": [
    "Y_net.write_touchstone(WRITE_PTH)"
   ]
  },
  {
   "cell_type": "code",
   "execution_count": null,
   "id": "1562c6a4-a4c5-462f-a161-0541f5fa8fd8",
   "metadata": {},
   "outputs": [],
   "source": []
  }
 ],
 "metadata": {
  "kernelspec": {
   "display_name": "Python 3 (ipykernel)",
   "language": "python",
   "name": "python3"
  },
  "language_info": {
   "codemirror_mode": {
    "name": "ipython",
    "version": 3
   },
   "file_extension": ".py",
   "mimetype": "text/x-python",
   "name": "python",
   "nbconvert_exporter": "python",
   "pygments_lexer": "ipython3",
   "version": "3.9.13"
  }
 },
 "nbformat": 4,
 "nbformat_minor": 5
}
