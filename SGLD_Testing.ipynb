{
 "cells": [
  {
   "cell_type": "code",
   "execution_count": null,
   "id": "27a9ce15-eac3-40b1-9dff-38851d072f18",
   "metadata": {},
   "outputs": [],
   "source": [
    "import torch\n",
    "import random\n",
    "import numpy as np\n",
    "\n",
    "import matplotlib.pyplot as plt\n",
    "%matplotlib inline\n",
    "\n",
    "import torch.nn as nn\n",
    "import torch.nn.functional as F\n",
    "\n",
    "import math\n",
    "import time"
   ]
  },
  {
   "cell_type": "code",
   "execution_count": null,
   "id": "466d8b67-dc9a-4475-ac09-a99ef9e53711",
   "metadata": {},
   "outputs": [],
   "source": [
    "device = torch.device('cuda:0' if torch.cuda.is_available() else 'cpu')\n",
    "print(device)"
   ]
  },
  {
   "cell_type": "markdown",
   "id": "1263c850-b02d-43a2-9226-bb6fd3d29eea",
   "metadata": {
    "tags": []
   },
   "source": [
    "# 1. Load the data and get measurements"
   ]
  },
  {
   "cell_type": "code",
   "execution_count": null,
   "id": "aaa11735-a2e7-4960-a60a-82fd62bab454",
   "metadata": {},
   "outputs": [],
   "source": [
    "ROOT_PATH = \"/scratch1/04703/sravula/UTAFSDataNew/new_data\"\n",
    "CHIP_NUM = 9"
   ]
  },
  {
   "cell_type": "code",
   "execution_count": null,
   "id": "ef6fe50c-82b6-493a-9ea1-daac70523080",
   "metadata": {},
   "outputs": [],
   "source": [
    "import utils\n",
    "\n",
    "data_dict = utils.grab_chip_data(ROOT_PATH, CHIP_NUM)"
   ]
  },
  {
   "cell_type": "code",
   "execution_count": null,
   "id": "38416a0f-a2f1-4b28-adf0-3a3657f393c9",
   "metadata": {},
   "outputs": [],
   "source": [
    "data_dict.keys()"
   ]
  },
  {
   "cell_type": "markdown",
   "id": "31843ebf-be8a-4a94-8eb7-f92b5c0f5e6e",
   "metadata": {
    "tags": []
   },
   "source": [
    "## Convert the raw data matrices to only the unique S-parameters"
   ]
  },
  {
   "cell_type": "code",
   "execution_count": null,
   "id": "022de3cb-03a1-41d4-b90d-d542c6db5ac8",
   "metadata": {},
   "outputs": [],
   "source": [
    "vf_data = utils.matrix_to_sparams(data_dict['vf_matrix'])\n",
    "gt_data = utils.matrix_to_sparams(data_dict['gt_matrix'])\n",
    "y_data = utils.matrix_to_sparams(data_dict['y_matrix'])\n",
    "\n",
    "print(\"VF S-parameters shape: \", vf_data.shape)\n",
    "print(\"GT S-parameters shape: \", gt_data.shape)\n",
    "print(\"Y S-parameters shape: \", y_data.shape)"
   ]
  },
  {
   "cell_type": "code",
   "execution_count": null,
   "id": "4171045f-0678-4124-9cf1-c1f1ed538f48",
   "metadata": {},
   "outputs": [],
   "source": [
    "gt_freqs = data_dict['gt_freqs']\n",
    "y_freqs = data_dict['y_freqs']\n",
    "\n",
    "print(\"GT frequencies shape: \", gt_freqs.shape)\n",
    "print(\"Y frequencies shape: \", y_freqs.shape)"
   ]
  },
  {
   "cell_type": "markdown",
   "id": "ee9d2838-ee47-47bd-bdb1-80ea134688d0",
   "metadata": {
    "tags": []
   },
   "source": [
    "## Make some variables we will need"
   ]
  },
  {
   "cell_type": "code",
   "execution_count": null,
   "id": "97dc8e9c-42fe-4227-8869-3137d8480ce2",
   "metadata": {},
   "outputs": [],
   "source": [
    "N_FREQS = gt_data.shape[-1]\n",
    "N_SPARAMS = gt_data.shape[0]  \n",
    "\n",
    "print(\"N_FREQS: \", N_FREQS)\n",
    "print(\"N_SPARAMS: \", N_SPARAMS)"
   ]
  },
  {
   "cell_type": "code",
   "execution_count": null,
   "id": "c7d4d9f0-1f44-4089-9a92-ef4f10e044ee",
   "metadata": {},
   "outputs": [],
   "source": [
    "x = torch.from_numpy(gt_data).view(-1, N_FREQS).unsqueeze(0).to(device)\n",
    "\n",
    "print(\"x shape: \", x.shape)"
   ]
  },
  {
   "cell_type": "code",
   "execution_count": null,
   "id": "0f95be31-37b0-4b4d-a0dd-e245d11ced50",
   "metadata": {},
   "outputs": [],
   "source": [
    "x_mag = utils.sparams_to_mag(x)\n",
    "\n",
    "print(\"x_mag shape: \", x_mag.shape)"
   ]
  },
  {
   "cell_type": "markdown",
   "id": "252dc604-a418-4873-9716-c76744517798",
   "metadata": {},
   "source": [
    "## Grab Some Measurements"
   ]
  },
  {
   "cell_type": "code",
   "execution_count": null,
   "id": "aaa491f7-88cf-40b9-be64-6246222447ca",
   "metadata": {},
   "outputs": [],
   "source": [
    "PROBLEM_TYPE = \"equal\" #[random, equal, forecast, full, log, sqrt]\n",
    "M = 0.1\n",
    "\n",
    "kept_inds, missing_inds = utils.get_inds(PROBLEM_TYPE, N_FREQS, M)\n",
    "\n",
    "M = len(kept_inds) #re-define in case kept_inds is off by 1 or something\n",
    "\n",
    "print(\"Number of Ground Truth Frequency Points: \", N_FREQS)\n",
    "print(\"Number of Measurements: \", M)\n",
    "print(\"Undersampling Ratio: \", M/N_FREQS)"
   ]
  },
  {
   "cell_type": "code",
   "execution_count": null,
   "id": "2b271b3a-1c28-4044-9ac6-be6974ca78a7",
   "metadata": {},
   "outputs": [],
   "source": [
    "y = torch.clone(x)[:, :, kept_inds]\n",
    "y_freqs = gt_freqs[kept_inds]\n",
    "\n",
    "print(\"y shape: \", y.shape)\n",
    "print(\"y_freqs shape: \", y_freqs.shape)"
   ]
  },
  {
   "cell_type": "code",
   "execution_count": null,
   "id": "443ae673-1de9-4b53-8e30-8e2f239ef4f2",
   "metadata": {},
   "outputs": [],
   "source": [
    "y_mag = utils.sparams_to_mag(y)\n",
    "\n",
    "print(\"x_mag shape: \", y_mag.shape)"
   ]
  },
  {
   "cell_type": "code",
   "execution_count": null,
   "id": "01da80f3-ea77-41ee-8878-da8a7ac137b2",
   "metadata": {},
   "outputs": [],
   "source": [
    "z = torch.clone(x)\n",
    "z[:, :, missing_inds] = 0\n",
    "\n",
    "print(\"z shape: \", z.shape)"
   ]
  },
  {
   "cell_type": "markdown",
   "id": "937016d4-0f95-418f-9b84-6bceae88770d",
   "metadata": {},
   "source": [
    "## Plot data and measurements"
   ]
  },
  {
   "cell_type": "code",
   "execution_count": null,
   "id": "248004ef-174e-4e03-83ac-7787a169d949",
   "metadata": {},
   "outputs": [],
   "source": [
    "plt.figure()\n",
    "for i in range(N_SPARAMS):\n",
    "    plt.plot(gt_freqs, x_mag[0, i].cpu(), label=str(i))\n",
    "    plt.scatter(y_freqs, y_mag[0, i].cpu(), s=20)\n",
    "if N_SPARAMS <= 10:\n",
    "    plt.legend()\n",
    "plt.title(\"Ground Truth Magnitude Spectrum\")\n",
    "plt.ylabel(\"Magnitude\")\n",
    "plt.xlabel(\"Frequency\")\n",
    "plt.show()"
   ]
  },
  {
   "cell_type": "code",
   "execution_count": null,
   "id": "7c78df32-607a-4e37-8f02-2ac1b867b720",
   "metadata": {},
   "outputs": [],
   "source": [
    "plt.figure()\n",
    "for i in range(N_SPARAMS):\n",
    "    plt.plot(gt_freqs, x[0,2*i].cpu(), label=str(i)+\" Re\")\n",
    "    plt.plot(gt_freqs, x[0,2*i+1].cpu(), label=str(i)+\" Im\")\n",
    "    plt.scatter(y_freqs, y[0,2*i].cpu(), s=20)\n",
    "    plt.scatter(y_freqs, y[0,2*i+1].cpu(), s=20)\n",
    "if N_SPARAMS <= 10:\n",
    "    plt.legend()\n",
    "plt.title(\"Ground Truth Complex Representation\")\n",
    "plt.xlabel(\"Frequency\")\n",
    "plt.show()"
   ]
  },
  {
   "cell_type": "code",
   "execution_count": null,
   "id": "f27f31b2-cc12-40df-ad27-532ffc3a0858",
   "metadata": {},
   "outputs": [],
   "source": [
    "@torch.no_grad()\n",
    "def calc_diffs(x, order=1):\n",
    "    if order > 1:\n",
    "        x = calc_diffs(x, order-1)\n",
    "    \n",
    "    if isinstance(x, np.ndarray):\n",
    "        return (x - np.roll(x, -1, 2))[...,:-1] \n",
    "    elif torch.is_tensor(x):\n",
    "        return (x - torch.roll(x, -1, 2))[...,:-1]\n",
    "\n",
    "x_diff_2 = calc_diffs(x, 3)\n",
    "\n",
    "print(x_diff_2.shape)\n",
    "\n",
    "plt.figure()\n",
    "for i in range(x_diff_2.shape[1]//2):\n",
    "    plt.plot(x_diff_2[0,2*i,:].squeeze().cpu(), label=str(i)+\" Re\")\n",
    "    plt.plot(x_diff_2[0,2*i+1,:].squeeze().cpu(), label=str(i)+\" Im\")\n",
    "plt.title(\"Third-Order Diffs\")\n",
    "plt.show()"
   ]
  },
  {
   "cell_type": "markdown",
   "id": "ae1b8f5c-264c-4e69-9188-6d85af405b38",
   "metadata": {},
   "source": [
    "# 2. Network Setup"
   ]
  },
  {
   "cell_type": "markdown",
   "id": "08ce5316-e001-4826-bed3-e6be0cbaa9b5",
   "metadata": {},
   "source": [
    "## Define network parameters"
   ]
  },
  {
   "cell_type": "code",
   "execution_count": null,
   "id": "c9deea63-3263-463f-8fa5-fadd42d58fed",
   "metadata": {},
   "outputs": [],
   "source": [
    "NZ = y.shape[1]\n",
    "\n",
    "NUM_LAYERS = int(np.ceil(np.log2(N_FREQS))) - 5\n",
    "\n",
    "if NZ < 16:\n",
    "    BASE_NGF = 2 ** (int(np.ceil(np.log2(NZ))) + 2) #third power of two after NZ \n",
    "elif NZ < 64:\n",
    "    BASE_NGF = 2 ** (int(np.ceil(np.log2(NZ))) + 1) #second power of two after NZ \n",
    "elif NZ < 128:\n",
    "    BASE_NGF = 2 ** int(np.ceil(np.log2(NZ))) #next highest power of 2\n",
    "else:\n",
    "    BASE_NGF = NZ\n",
    "\n",
    "NC = y.shape[1]\n",
    "\n",
    "KERNEL_SIZE = 3\n",
    "CAUSAL = True\n",
    "PASSIVE = False"
   ]
  },
  {
   "cell_type": "code",
   "execution_count": null,
   "id": "5e6cc142-ad84-4a45-963b-08161df5bae6",
   "metadata": {},
   "outputs": [],
   "source": [
    "print(\"NZ: \", str(NZ))\n",
    "print(\"NUM_LAYERS: \", str(NUM_LAYERS))\n",
    "print(\"BASE NGF: \", str(BASE_NGF))\n",
    "print(\"NC: \", NC)\n",
    "print(\"KERNEL_SIZE: \", KERNEL_SIZE)\n",
    "print(\"CAUSAL: \", CAUSAL)\n",
    "print(\"PASSIVE: \", PASSIVE)"
   ]
  },
  {
   "cell_type": "markdown",
   "id": "e940a34f-147e-4ed5-9698-13659e34c6ad",
   "metadata": {
    "jp-MarkdownHeadingCollapsed": true,
    "tags": []
   },
   "source": [
    "## Init and check dimensions"
   ]
  },
  {
   "cell_type": "code",
   "execution_count": null,
   "id": "107c069f-8f4f-4ee7-b56f-1f678d5fe4cc",
   "metadata": {},
   "outputs": [],
   "source": [
    "from models import RESNET_BACKBONE, RESNET_HEAD, MODULAR_RESNET\n",
    "\n",
    "net_backbone = RESNET_BACKBONE(ngf=BASE_NGF,\n",
    "                               ngf_in_out=BASE_NGF,\n",
    "                               kernel_size=KERNEL_SIZE,\n",
    "                               num_layers=NUM_LAYERS)\n",
    "net_head = RESNET_HEAD(nz=NZ,\n",
    "                       ngf_in_out=BASE_NGF,\n",
    "                       nc=NC,\n",
    "                       output_size=N_FREQS,\n",
    "                       kernel_size=KERNEL_SIZE,\n",
    "                       causal=CAUSAL,\n",
    "                       passive=PASSIVE)\n",
    "\n",
    "net = MODULAR_RESNET(backbone=net_backbone,\n",
    "                     head=net_head)\n",
    "net = net.to(device)"
   ]
  },
  {
   "cell_type": "code",
   "execution_count": null,
   "id": "a87f6e9a-3ceb-4e59-acfa-97a8aec32dad",
   "metadata": {},
   "outputs": [],
   "source": [
    "z_temp = torch.randn((1, NZ, N_FREQS)).to(device)\n",
    "\n",
    "test_out = net.forward(z_temp)\n",
    "\n",
    "print(\"Net output shape: \", test_out.shape)"
   ]
  },
  {
   "cell_type": "code",
   "execution_count": null,
   "id": "73883df2-f2f4-4630-8071-dd0d6ce7bad4",
   "metadata": {},
   "outputs": [],
   "source": [
    "pytorch_total_params = sum(p.numel() for p in net.parameters() if p.requires_grad)\n",
    "\n",
    "print(\"TOTAL PARAMS: \", pytorch_total_params)"
   ]
  },
  {
   "cell_type": "markdown",
   "id": "14e41d7b-3d65-4c66-b80d-cf86e9af5352",
   "metadata": {},
   "source": [
    "# Define Running Functions and Stuff"
   ]
  },
  {
   "cell_type": "code",
   "execution_count": null,
   "id": "b048e4b5-23ab-4fb1-a5f0-b55912300b17",
   "metadata": {},
   "outputs": [],
   "source": [
    "LR = 2e-4 \n",
    "NUM_ITER = 10000 \n",
    "\n",
    "REG_HYPERPARAM = 1.0\n",
    "REG_TYPE = \"smoothing\"\n",
    "REG_TARGET = None #this is only sety if we are using centered_wd regularisation\n",
    "REG_ORDER = 2\n",
    "REG_NORM = 2\n",
    "\n",
    "# REG_HYPERPARAM = 1e-2\n",
    "# REG_TYPE = \"wd\"\n",
    "# REG_TARGET = None #this is only sety if we are using centered_wd regularisation\n",
    "# REG_ORDER = None\n",
    "# REG_NORM = None\n",
    "\n",
    "# REG_HYPERPARAM = 1e-5\n",
    "# REG_TYPE = \"centered_wd\"\n",
    "# REG_TARGET = None #this is only sety if we are using centered_wd regularisation\n",
    "# REG_ORDER = None\n",
    "# REG_NORM = None\n",
    "\n",
    "REDUCTION = \"mean\""
   ]
  },
  {
   "cell_type": "code",
   "execution_count": null,
   "id": "ce9cb773-62a9-46cb-a816-e103d39ba0ff",
   "metadata": {},
   "outputs": [],
   "source": [
    "START_NOISE_LEVEL = 1\n",
    "END_NOISE_LEVEL = 0.001\n",
    "NOISE_DECAY_FACTOR = (END_NOISE_LEVEL / START_NOISE_LEVEL)**(1 / NUM_ITER) \n",
    "\n",
    "print(\"Noise decay factor: \", NOISE_DECAY_FACTOR)\n",
    "\n",
    "# START_NOISE_LEVEL = None\n",
    "# NOISE_DECAY_FACTOR = None"
   ]
  },
  {
   "cell_type": "code",
   "execution_count": null,
   "id": "26264fdd-d950-4a5b-96b9-e47ef79b3aa2",
   "metadata": {},
   "outputs": [],
   "source": [
    "# SGLD = False\n",
    "# BURN_IN_ITER = 5000\n",
    "# SAVE_OUTPUT_EVERY = 1\n",
    "\n",
    "SGLD = True\n",
    "BURN_IN_ITER = 5000\n",
    "SAVE_OUTPUT_EVERY = 100"
   ]
  },
  {
   "cell_type": "code",
   "execution_count": null,
   "id": "dced4912-91e7-47d8-baa2-e069b2ea39d6",
   "metadata": {},
   "outputs": [],
   "source": [
    "import Fitting\n",
    "\n",
    "dip_args = {\"y\": y,\n",
    "            \"x\": x,\n",
    "            \"z\": z,\n",
    "            \"device\": device,\n",
    "            \"model\": net,\n",
    "            \"lr\": LR,\n",
    "            \"num_iter\": NUM_ITER,\n",
    "            \"reg_type\": REG_TYPE,\n",
    "            \"reg_lambda\": REG_HYPERPARAM,\n",
    "            \"reg_target\": REG_TARGET,\n",
    "            \"reg_order\": REG_ORDER,\n",
    "            \"reg_norm\": REG_NORM,\n",
    "            \"reduction\": REDUCTION,\n",
    "            \"kept_inds\": kept_inds,\n",
    "            \"input_noise_start\": START_NOISE_LEVEL,\n",
    "            \"input_noise_decay\": NOISE_DECAY_FACTOR,\n",
    "            \"perturb_weights\": SGLD,\n",
    "            \"burn_in_iter\": BURN_IN_ITER,\n",
    "            \"save_output_every\": SAVE_OUTPUT_EVERY,\n",
    "            \"debug\": True}\n",
    "dip_args = Fitting.dict2namespace(dip_args)"
   ]
  },
  {
   "cell_type": "code",
   "execution_count": null,
   "id": "0f0cc81b-d7cd-48ce-aa54-f79486705e03",
   "metadata": {},
   "outputs": [],
   "source": [
    "dip_results = Fitting.run_dip(dip_args)"
   ]
  },
  {
   "cell_type": "code",
   "execution_count": null,
   "id": "ecf84952-975e-4bd6-b863-f94718ce5626",
   "metadata": {},
   "outputs": [],
   "source": [
    "print(\"Final MSE: \", dip_results.mse_list_gt[-1])\n",
    "print(\"Final Mean MSE: \", dip_results.mse_list_mean_gt[-1])"
   ]
  },
  {
   "cell_type": "code",
   "execution_count": null,
   "id": "8d25367c-1a87-474a-8ca4-cb88ca09a1e4",
   "metadata": {},
   "outputs": [],
   "source": [
    "MAX_IDX = 100\n",
    "\n",
    "plt.figure()\n",
    "plt.plot(dip_results.mse_list_gt)\n",
    "plt.title(\"MSE vs GT\")\n",
    "plt.ylim(0, dip_results.mse_list_gt[MAX_IDX])\n",
    "plt.show()\n",
    "\n",
    "plt.figure()\n",
    "plt.plot(dip_results.mse_list_meas)\n",
    "plt.title(\"MSE vs MEAS\")\n",
    "plt.ylim(0, dip_results.mse_list_meas[MAX_IDX])\n",
    "plt.show()\n",
    "\n",
    "if hasattr(dip_results, \"reg_list\"):\n",
    "    plt.figure()\n",
    "    plt.plot(dip_results.reg_list)\n",
    "    plt.title(\"Reg\")\n",
    "    plt.ylim(0, dip_results.reg_list[MAX_IDX])\n",
    "    plt.show()\n",
    "\n",
    "plt.figure()\n",
    "plt.plot(np.arange(BURN_IN_ITER, NUM_ITER, SAVE_OUTPUT_EVERY), dip_results.mse_list_mean_gt)\n",
    "plt.title(\"MEAN MSE vs GT\")\n",
    "plt.show()\n",
    "\n",
    "plt.figure()\n",
    "plt.plot(np.arange(BURN_IN_ITER, NUM_ITER, SAVE_OUTPUT_EVERY), dip_results.mse_list_mean_meas)\n",
    "plt.title(\"MEAN MSE vs MEAS\")\n",
    "plt.show()"
   ]
  },
  {
   "cell_type": "code",
   "execution_count": null,
   "id": "816a596b-e0eb-4a88-bd4e-acf2be0f3ae2",
   "metadata": {},
   "outputs": [],
   "source": [
    "out_mag_list = [utils.sparams_to_mag(i) for i in dip_results.out_list]\n",
    "\n",
    "mean_out_mag = torch.mean(torch.cat(out_mag_list), dim=0, keepdim=True)\n",
    "std_out_mag = torch.std(torch.cat(out_mag_list), dim=0, keepdim=True)"
   ]
  },
  {
   "cell_type": "code",
   "execution_count": null,
   "id": "5dc4b240-4729-46c5-a123-521a4a115120",
   "metadata": {},
   "outputs": [],
   "source": [
    "last_out = dip_results.out_list[-1]\n",
    "\n",
    "last_out_mag = utils.sparams_to_mag(last_out)"
   ]
  },
  {
   "cell_type": "code",
   "execution_count": null,
   "id": "1c077f74-e229-416d-a512-7303506e5283",
   "metadata": {},
   "outputs": [],
   "source": [
    "_, axes = plt.subplots(3,1, figsize=(16, 12))\n",
    "axes = axes.flatten()\n",
    "\n",
    "for i in range(x_mag.shape[1]):\n",
    "    axes[0].plot(x_mag[0,i].cpu(), label=str(i))\n",
    "axes[0].set_title(\"Ground Truth Magnitude Spectrum\")\n",
    "axes[0].set_ylim(0,1)\n",
    "\n",
    "for i in range(x_mag.shape[1]):\n",
    "    axes[1].plot(last_out_mag[0,i].detach().cpu(), label=str(i))\n",
    "axes[1].set_title(\"DIP Final Output Magnitude Spectrum\")\n",
    "axes[1].set_ylim(0,1)\n",
    "\n",
    "for i in range(x_mag.shape[1]):\n",
    "    axes[2].plot(mean_out_mag[0,i].detach().cpu(), label=str(i))\n",
    "axes[2].set_title(\"DIP Mean Output Magnitude Spectrum\")\n",
    "axes[2].set_ylim(0,1)\n",
    "\n",
    "plt.show()"
   ]
  },
  {
   "cell_type": "code",
   "execution_count": null,
   "id": "0aad5f24-c440-4bca-a3fd-de0d530f57a4",
   "metadata": {},
   "outputs": [],
   "source": [
    "under_line = mean_out_mag - 1.96*std_out_mag\n",
    "over_line = mean_out_mag + 1.96*std_out_mag\n",
    "\n",
    "resid_mag = torch.square(x_mag - mean_out_mag)\n",
    "\n",
    "plt.figure(figsize=(16,8))\n",
    "for i in range(std_out_mag.shape[1]):\n",
    "    plt.plot(std_out_mag[0,i].detach().cpu(), label=str(i))\n",
    "    plt.scatter(kept_inds, std_out_mag[0,i][kept_inds].detach().cpu(), s=20)\n",
    "plt.title(\"STD\")\n",
    "\n",
    "plt.figure(figsize=(16,8))\n",
    "for i in range(resid_mag.shape[1]):\n",
    "    plt.plot(resid_mag[0,i].detach().cpu(), label=str(i))\n",
    "    plt.scatter(kept_inds, resid_mag[0,i][kept_inds].detach().cpu(), s=20)\n",
    "plt.title(\"Squared Residuals\")\n",
    "\n",
    "plt.figure(figsize=(16,8))\n",
    "for i in range(mean_out_mag.shape[1]):\n",
    "    plt.plot(np.arange(N_FREQS), mean_out_mag[0,i].detach().cpu(), label=str(i))\n",
    "    plt.scatter(kept_inds, mean_out_mag[0,i][kept_inds].detach().cpu(), s=20)\n",
    "    plt.fill_between(np.arange(N_FREQS), under_line[0,i].detach().cpu(), over_line[0,i].detach().cpu(), alpha=0.3)\n",
    "plt.title(\"Mean\")"
   ]
  },
  {
   "cell_type": "code",
   "execution_count": null,
   "id": "d633f396-bc72-46f4-8f0d-403bca7565a1",
   "metadata": {},
   "outputs": [],
   "source": []
  }
 ],
 "metadata": {
  "kernelspec": {
   "display_name": "Python 3 (ipykernel)",
   "language": "python",
   "name": "python3"
  },
  "language_info": {
   "codemirror_mode": {
    "name": "ipython",
    "version": 3
   },
   "file_extension": ".py",
   "mimetype": "text/x-python",
   "name": "python",
   "nbconvert_exporter": "python",
   "pygments_lexer": "ipython3",
   "version": "3.9.13"
  }
 },
 "nbformat": 4,
 "nbformat_minor": 5
}
