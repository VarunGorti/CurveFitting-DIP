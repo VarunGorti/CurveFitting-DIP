{
 "cells": [
  {
   "cell_type": "code",
   "execution_count": 1,
   "id": "318bd54e-b166-4a5b-bf76-cd321a78a2b6",
   "metadata": {},
   "outputs": [],
   "source": [
    "import torch\n",
    "import random\n",
    "import numpy as np\n",
    "\n",
    "import matplotlib.pyplot as plt\n",
    "%matplotlib inline\n",
    "\n",
    "from tqdm import tqdm\n",
    "\n",
    "import torch.nn as nn\n",
    "import torch.nn.functional as F\n",
    "\n",
    "import math\n",
    "import time\n",
    "\n",
    "import skrf\n",
    "from skrf import Network\n",
    "\n",
    "import utils"
   ]
  },
  {
   "cell_type": "code",
   "execution_count": 2,
   "id": "3d085188-b5ef-43a2-a093-fc34ee22c3d3",
   "metadata": {},
   "outputs": [
    {
     "name": "stdout",
     "output_type": "stream",
     "text": [
      "cuda:0\n"
     ]
    }
   ],
   "source": [
    "device = torch.device('cuda:0' if torch.cuda.is_available() else 'cpu')\n",
    "print(device)"
   ]
  },
  {
   "cell_type": "markdown",
   "id": "b14d6d6b-b56a-41da-b4f1-e19818ae4aae",
   "metadata": {},
   "source": [
    "# Grab some data"
   ]
  },
  {
   "cell_type": "code",
   "execution_count": 3,
   "id": "d01a818e-415e-4429-b59b-1f500fa86dca",
   "metadata": {},
   "outputs": [],
   "source": [
    "ROOT_PATH = \"/scratch1/04703/sravula/UTAFSDataNew/new_data\"\n",
    "CHIP_NUM = 9"
   ]
  },
  {
   "cell_type": "code",
   "execution_count": 4,
   "id": "cae1252e-d50f-4db1-9cec-b0f77a973499",
   "metadata": {},
   "outputs": [],
   "source": [
    "test_net = utils.get_network_from_file(ROOT_PATH, CHIP_NUM)['network']"
   ]
  },
  {
   "cell_type": "code",
   "execution_count": 6,
   "id": "ef0a28bb-dfb2-4c89-840d-4d34fb28e313",
   "metadata": {},
   "outputs": [
    {
     "name": "stdout",
     "output_type": "stream",
     "text": [
      "S-parameters shape:  (1000, 4, 4)\n",
      "S-parameters type:  complex128\n"
     ]
    }
   ],
   "source": [
    "print(\"S-parameters shape: \", test_net.s.shape)\n",
    "print(\"S-parameters type: \", test_net.s.dtype)"
   ]
  },
  {
   "cell_type": "code",
   "execution_count": 7,
   "id": "6fd28d3e-a700-45f4-992d-4431f52d7e74",
   "metadata": {},
   "outputs": [
    {
     "name": "stdout",
     "output_type": "stream",
     "text": [
      "N_FREQS:  1000\n",
      "N_PORTS:  4\n"
     ]
    }
   ],
   "source": [
    "N_PORTS = test_net.nports\n",
    "N_FREQS = test_net.frequency.npoints\n",
    "\n",
    "print(\"N_FREQS: \", N_FREQS)\n",
    "print(\"N_PORTS: \", N_PORTS)"
   ]
  },
  {
   "cell_type": "code",
   "execution_count": 8,
   "id": "53f6acea-c850-45e7-8d64-cbd1c2214157",
   "metadata": {},
   "outputs": [
    {
     "name": "stdout",
     "output_type": "stream",
     "text": [
      "True\n"
     ]
    }
   ],
   "source": [
    "reciprocity = skrf.network.reciprocity(test_net.s)\n",
    "\n",
    "EPS_SMALL = 1e-6\n",
    "\n",
    "IS_RECIPROCAL = False\n",
    "if np.sum(np.abs(reciprocity)) < EPS_SMALL:\n",
    "    IS_RECIPROCAL = True\n",
    "    \n",
    "print(IS_RECIPROCAL)"
   ]
  },
  {
   "cell_type": "markdown",
   "id": "af8d3dac-ee03-4322-9fde-0834e3415ac1",
   "metadata": {},
   "source": [
    "# Grab a toch tensor from this guy"
   ]
  },
  {
   "cell_type": "code",
   "execution_count": 9,
   "id": "2b093cc8-7790-4701-9003-d205509750d1",
   "metadata": {},
   "outputs": [
    {
     "ename": "NameError",
     "evalue": "name 'network_to_sparams' is not defined",
     "output_type": "error",
     "traceback": [
      "\u001b[0;31m---------------------------------------------------------------------------\u001b[0m",
      "\u001b[0;31mNameError\u001b[0m                                 Traceback (most recent call last)",
      "Cell \u001b[0;32mIn [9], line 1\u001b[0m\n\u001b[0;32m----> 1\u001b[0m x_test \u001b[38;5;241m=\u001b[39m \u001b[43mnetwork_to_sparams\u001b[49m(test_net)\n",
      "\u001b[0;31mNameError\u001b[0m: name 'network_to_sparams' is not defined"
     ]
    }
   ],
   "source": [
    "x_test = utils.network_to_sparams(test_net)"
   ]
  },
  {
   "cell_type": "code",
   "execution_count": null,
   "id": "18ac1a6c-1cbb-4fdf-ab28-4979c8692970",
   "metadata": {},
   "outputs": [],
   "source": [
    "print(x_test.shape)\n",
    "print(x_test.dtype)"
   ]
  },
  {
   "cell_type": "code",
   "execution_count": null,
   "id": "fa6b3a49-a1c8-421a-a6b7-ae1a49b37030",
   "metadata": {},
   "outputs": [],
   "source": [
    "plt.figure()\n",
    "for i in range(x_test.shape[1]//2):\n",
    "    plt.plot(x_test[0, 2*i])\n",
    "    plt.plot(x_test[0, 2*i+1])\n",
    "plt.show()"
   ]
  },
  {
   "cell_type": "code",
   "execution_count": null,
   "id": "124f9f49-d70a-4f3f-92e4-630c4580a34a",
   "metadata": {},
   "outputs": [],
   "source": []
  }
 ],
 "metadata": {
  "kernelspec": {
   "display_name": "Python 3 (ipykernel)",
   "language": "python",
   "name": "python3"
  },
  "language_info": {
   "codemirror_mode": {
    "name": "ipython",
    "version": 3
   },
   "file_extension": ".py",
   "mimetype": "text/x-python",
   "name": "python",
   "nbconvert_exporter": "python",
   "pygments_lexer": "ipython3",
   "version": "3.9.13"
  }
 },
 "nbformat": 4,
 "nbformat_minor": 5
}
