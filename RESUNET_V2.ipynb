{
 "cells": [
  {
   "cell_type": "code",
   "execution_count": 1,
   "id": "7747eb6d-89e4-4b78-9aec-64bbce05d9df",
   "metadata": {},
   "outputs": [],
   "source": [
    "import torch\n",
    "import random\n",
    "import numpy as np\n",
    "\n",
    "import matplotlib.pyplot as plt\n",
    "%matplotlib inline\n",
    "\n",
    "import torch.nn as nn\n",
    "import torch.nn.functional as F\n",
    "\n",
    "import math\n",
    "import time"
   ]
  },
  {
   "cell_type": "code",
   "execution_count": 2,
   "id": "5f36db79-c565-4f57-b90a-523b61d12bd2",
   "metadata": {},
   "outputs": [
    {
     "name": "stdout",
     "output_type": "stream",
     "text": [
      "cuda:0\n"
     ]
    }
   ],
   "source": [
    "device = torch.device('cuda:0' if torch.cuda.is_available() else 'cpu')\n",
    "print(device)"
   ]
  },
  {
   "cell_type": "markdown",
   "id": "a0031931-77b1-474a-a7a7-a02ef379dfca",
   "metadata": {},
   "source": [
    "# Load the data"
   ]
  },
  {
   "cell_type": "code",
   "execution_count": 3,
   "id": "eaa8a31a-2ad1-4a38-9f40-5f6141055866",
   "metadata": {},
   "outputs": [],
   "source": [
    "root_path = \"/scratch/04703/sravula/UTAFSDataNew/new_data\"\n",
    "chip_num = 1"
   ]
  },
  {
   "cell_type": "code",
   "execution_count": 4,
   "id": "35dfe8f9-f327-49e9-b471-6ea73b9353c6",
   "metadata": {},
   "outputs": [],
   "source": [
    "import utils\n",
    "\n",
    "data_dict = utils.grab_chip_data(root_path, chip_num, resample=False)"
   ]
  },
  {
   "cell_type": "code",
   "execution_count": 5,
   "id": "3038afb2-d562-41da-81d6-1e24e9735496",
   "metadata": {},
   "outputs": [
    {
     "data": {
      "text/plain": [
       "dict_keys(['gt_matrix', 'gt_freqs', 'vf_matrix', 'y_matrix', 'y_freqs'])"
      ]
     },
     "execution_count": 5,
     "metadata": {},
     "output_type": "execute_result"
    }
   ],
   "source": [
    "data_dict.keys()"
   ]
  },
  {
   "cell_type": "markdown",
   "id": "0d789f11-c6a8-4d46-959c-7caa277184b9",
   "metadata": {},
   "source": [
    "## Check the data matrices converted from touchstone to np"
   ]
  },
  {
   "cell_type": "code",
   "execution_count": 6,
   "id": "22834b5a-53ca-482a-998d-2cc64d4eaf03",
   "metadata": {},
   "outputs": [
    {
     "name": "stdout",
     "output_type": "stream",
     "text": [
      "(501, 4, 4, 2)\n",
      "(501, 4, 4, 2)\n",
      "(18, 4, 4, 2)\n"
     ]
    }
   ],
   "source": [
    "print(data_dict['gt_matrix'].shape)\n",
    "print(data_dict['vf_matrix'].shape)\n",
    "print(data_dict['y_matrix'].shape)"
   ]
  },
  {
   "cell_type": "code",
   "execution_count": 7,
   "id": "3c0538ef-12f0-4493-b662-96c5a3db7d9b",
   "metadata": {},
   "outputs": [
    {
     "name": "stdout",
     "output_type": "stream",
     "text": [
      "float32\n",
      "float32\n",
      "float32\n"
     ]
    }
   ],
   "source": [
    "print(data_dict['gt_matrix'].dtype)\n",
    "print(data_dict['vf_matrix'].dtype)\n",
    "print(data_dict['y_matrix'].dtype)"
   ]
  },
  {
   "cell_type": "code",
   "execution_count": 8,
   "id": "59637a01-7eb4-4cdc-b218-cae59737faa7",
   "metadata": {},
   "outputs": [
    {
     "name": "stdout",
     "output_type": "stream",
     "text": [
      "(501,)\n",
      "(18,)\n"
     ]
    }
   ],
   "source": [
    "print(data_dict['gt_freqs'].shape)\n",
    "print(data_dict['y_freqs'].shape)"
   ]
  },
  {
   "cell_type": "code",
   "execution_count": 9,
   "id": "4e08f6cb-000e-4d3e-b470-e6bf6fa537bc",
   "metadata": {},
   "outputs": [
    {
     "name": "stdout",
     "output_type": "stream",
     "text": [
      "float64\n",
      "float64\n"
     ]
    }
   ],
   "source": [
    "print(data_dict['gt_freqs'].dtype)\n",
    "print(data_dict['y_freqs'].dtype)"
   ]
  },
  {
   "cell_type": "markdown",
   "id": "06415729-9792-421c-91fd-0a810803d3ef",
   "metadata": {},
   "source": [
    "## Convert the raw data matrices to only the unique S-parameters"
   ]
  },
  {
   "cell_type": "code",
   "execution_count": 10,
   "id": "5b982231-4368-46c6-a909-4154617a8b23",
   "metadata": {},
   "outputs": [],
   "source": [
    "vf_data = utils.matrix_to_sparams(data_dict['vf_matrix'])\n",
    "gt_data = utils.matrix_to_sparams(data_dict['gt_matrix'])\n",
    "y_data = utils.matrix_to_sparams(data_dict['y_matrix'])"
   ]
  },
  {
   "cell_type": "code",
   "execution_count": 11,
   "id": "a15a66a4-ce98-4bdb-9687-f5636c161993",
   "metadata": {
    "tags": []
   },
   "outputs": [
    {
     "name": "stdout",
     "output_type": "stream",
     "text": [
      "(10, 2, 501)\n",
      "(10, 2, 501)\n",
      "(10, 2, 18)\n"
     ]
    }
   ],
   "source": [
    "print(vf_data.shape)\n",
    "print(gt_data.shape)\n",
    "print(y_data.shape)"
   ]
  },
  {
   "cell_type": "code",
   "execution_count": 12,
   "id": "6d6d59cf-a266-4c34-9cee-020775b36600",
   "metadata": {},
   "outputs": [
    {
     "name": "stdout",
     "output_type": "stream",
     "text": [
      "float32\n",
      "float32\n",
      "float32\n"
     ]
    }
   ],
   "source": [
    "print(vf_data.dtype)\n",
    "print(gt_data.dtype)\n",
    "print(y_data.dtype)"
   ]
  },
  {
   "cell_type": "code",
   "execution_count": 13,
   "id": "a358cc8d-71f2-4c12-82f9-1600934be256",
   "metadata": {},
   "outputs": [],
   "source": [
    "gt_freqs = data_dict['gt_freqs']\n",
    "y_freqs = data_dict['y_freqs']"
   ]
  },
  {
   "cell_type": "code",
   "execution_count": 14,
   "id": "453302d8-a997-4701-84f6-6c3e4841aef3",
   "metadata": {},
   "outputs": [
    {
     "name": "stdout",
     "output_type": "stream",
     "text": [
      "(501,)\n",
      "(18,)\n"
     ]
    }
   ],
   "source": [
    "print(gt_freqs.shape)\n",
    "print(y_freqs.shape)"
   ]
  },
  {
   "cell_type": "code",
   "execution_count": 15,
   "id": "4e5cc17d-7eb3-44e3-85d2-a7ddf506b61b",
   "metadata": {},
   "outputs": [
    {
     "name": "stdout",
     "output_type": "stream",
     "text": [
      "float64\n",
      "float64\n"
     ]
    }
   ],
   "source": [
    "print(gt_freqs.dtype)\n",
    "print(y_freqs.dtype)"
   ]
  },
  {
   "cell_type": "code",
   "execution_count": null,
   "id": "844a3f13-a523-4d44-a015-1de528b59d05",
   "metadata": {},
   "outputs": [],
   "source": []
  }
 ],
 "metadata": {
  "kernelspec": {
   "display_name": "Python 3",
   "language": "python",
   "name": "python3"
  },
  "language_info": {
   "codemirror_mode": {
    "name": "ipython",
    "version": 3
   },
   "file_extension": ".py",
   "mimetype": "text/x-python",
   "name": "python",
   "nbconvert_exporter": "python",
   "pygments_lexer": "ipython3",
   "version": "3.7.10"
  }
 },
 "nbformat": 4,
 "nbformat_minor": 5
}
