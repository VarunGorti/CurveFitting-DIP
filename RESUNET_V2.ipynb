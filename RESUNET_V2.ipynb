{
 "cells": [
  {
   "cell_type": "code",
   "execution_count": null,
   "id": "7747eb6d-89e4-4b78-9aec-64bbce05d9df",
   "metadata": {},
   "outputs": [],
   "source": [
    "import torch\n",
    "import random\n",
    "import numpy as np\n",
    "\n",
    "import matplotlib.pyplot as plt\n",
    "%matplotlib inline\n",
    "\n",
    "import torch.nn as nn\n",
    "import torch.nn.functional as F\n",
    "\n",
    "import math\n",
    "import time"
   ]
  },
  {
   "cell_type": "code",
   "execution_count": null,
   "id": "5f36db79-c565-4f57-b90a-523b61d12bd2",
   "metadata": {},
   "outputs": [],
   "source": [
    "device = torch.device('cuda:0' if torch.cuda.is_available() else 'cpu')\n",
    "print(device)"
   ]
  },
  {
   "cell_type": "markdown",
   "id": "a0031931-77b1-474a-a7a7-a02ef379dfca",
   "metadata": {},
   "source": [
    "# Load the data"
   ]
  },
  {
   "cell_type": "code",
   "execution_count": null,
   "id": "eaa8a31a-2ad1-4a38-9f40-5f6141055866",
   "metadata": {},
   "outputs": [],
   "source": [
    "root_path = \"/scratch/04703/sravula/UTAFSDataNew/new_data\"\n",
    "chip_num = 40"
   ]
  },
  {
   "cell_type": "code",
   "execution_count": null,
   "id": "35dfe8f9-f327-49e9-b471-6ea73b9353c6",
   "metadata": {},
   "outputs": [],
   "source": [
    "import utils\n",
    "\n",
    "data_dict = utils.grab_chip_data(root_path, chip_num, resample=False)"
   ]
  },
  {
   "cell_type": "code",
   "execution_count": null,
   "id": "3038afb2-d562-41da-81d6-1e24e9735496",
   "metadata": {},
   "outputs": [],
   "source": [
    "data_dict.keys()"
   ]
  },
  {
   "cell_type": "markdown",
   "id": "0d789f11-c6a8-4d46-959c-7caa277184b9",
   "metadata": {},
   "source": [
    "## Check the data matrices converted from touchstone to np"
   ]
  },
  {
   "cell_type": "code",
   "execution_count": null,
   "id": "22834b5a-53ca-482a-998d-2cc64d4eaf03",
   "metadata": {},
   "outputs": [],
   "source": [
    "print(data_dict['gt_matrix'].shape)\n",
    "print(data_dict['vf_matrix'].shape)\n",
    "print(data_dict['y_matrix'].shape)"
   ]
  },
  {
   "cell_type": "code",
   "execution_count": null,
   "id": "3c0538ef-12f0-4493-b662-96c5a3db7d9b",
   "metadata": {},
   "outputs": [],
   "source": [
    "print(data_dict['gt_matrix'].dtype)\n",
    "print(data_dict['vf_matrix'].dtype)\n",
    "print(data_dict['y_matrix'].dtype)"
   ]
  },
  {
   "cell_type": "code",
   "execution_count": null,
   "id": "59637a01-7eb4-4cdc-b218-cae59737faa7",
   "metadata": {},
   "outputs": [],
   "source": [
    "print(data_dict['gt_freqs'].shape)\n",
    "print(data_dict['y_freqs'].shape)"
   ]
  },
  {
   "cell_type": "code",
   "execution_count": null,
   "id": "4e08f6cb-000e-4d3e-b470-e6bf6fa537bc",
   "metadata": {},
   "outputs": [],
   "source": [
    "print(data_dict['gt_freqs'].dtype)\n",
    "print(data_dict['y_freqs'].dtype)"
   ]
  },
  {
   "cell_type": "markdown",
   "id": "06415729-9792-421c-91fd-0a810803d3ef",
   "metadata": {},
   "source": [
    "## Convert the raw data matrices to only the unique S-parameters"
   ]
  },
  {
   "cell_type": "code",
   "execution_count": null,
   "id": "5b982231-4368-46c6-a909-4154617a8b23",
   "metadata": {},
   "outputs": [],
   "source": [
    "vf_data = utils.matrix_to_sparams(data_dict['vf_matrix'])\n",
    "gt_data = utils.matrix_to_sparams(data_dict['gt_matrix'])\n",
    "y_data = utils.matrix_to_sparams(data_dict['y_matrix'])"
   ]
  },
  {
   "cell_type": "code",
   "execution_count": null,
   "id": "a15a66a4-ce98-4bdb-9687-f5636c161993",
   "metadata": {
    "tags": []
   },
   "outputs": [],
   "source": [
    "print(vf_data.shape)\n",
    "print(gt_data.shape)\n",
    "print(y_data.shape)"
   ]
  },
  {
   "cell_type": "code",
   "execution_count": null,
   "id": "6d6d59cf-a266-4c34-9cee-020775b36600",
   "metadata": {},
   "outputs": [],
   "source": [
    "print(vf_data.dtype)\n",
    "print(gt_data.dtype)\n",
    "print(y_data.dtype)"
   ]
  },
  {
   "cell_type": "code",
   "execution_count": null,
   "id": "a358cc8d-71f2-4c12-82f9-1600934be256",
   "metadata": {},
   "outputs": [],
   "source": [
    "gt_freqs = data_dict['gt_freqs']\n",
    "y_freqs = data_dict['y_freqs']"
   ]
  },
  {
   "cell_type": "code",
   "execution_count": null,
   "id": "453302d8-a997-4701-84f6-6c3e4841aef3",
   "metadata": {},
   "outputs": [],
   "source": [
    "print(gt_freqs.shape)\n",
    "print(y_freqs.shape)"
   ]
  },
  {
   "cell_type": "code",
   "execution_count": null,
   "id": "4e5cc17d-7eb3-44e3-85d2-a7ddf506b61b",
   "metadata": {},
   "outputs": [],
   "source": [
    "print(gt_freqs.dtype)\n",
    "print(y_freqs.dtype)"
   ]
  },
  {
   "cell_type": "markdown",
   "id": "b2083782-e1fd-467c-9054-a6c8aabb064f",
   "metadata": {},
   "source": [
    "## Plot the Ground truth S-parameters "
   ]
  },
  {
   "cell_type": "code",
   "execution_count": null,
   "id": "4d9e2e3f-a284-48df-919b-f1ee82375110",
   "metadata": {},
   "outputs": [],
   "source": [
    "n_sparams = gt_data.shape[0]\n",
    "\n",
    "plt.figure()\n",
    "for i in range(n_sparams):\n",
    "    plt.plot(gt_freqs, gt_data[i,0,:].squeeze(), label=str(i)+\" Re\")\n",
    "    plt.plot(gt_freqs, gt_data[i,1,:].squeeze(), label=str(i)+\" Im\")\n",
    "if n_sparams <= 10:\n",
    "    plt.legend()\n",
    "plt.title(\"Ground Truth\")\n",
    "plt.show()"
   ]
  },
  {
   "cell_type": "code",
   "execution_count": null,
   "id": "161dcd25-bac7-4fc9-9fbe-41eb1eb0d7ff",
   "metadata": {},
   "outputs": [],
   "source": [
    "gt_mag = utils.to_mag(torch.from_numpy(gt_data))\n",
    "\n",
    "print(gt_mag.shape)"
   ]
  },
  {
   "cell_type": "code",
   "execution_count": null,
   "id": "97376017-c746-4c69-bd77-430db4f07b8c",
   "metadata": {},
   "outputs": [],
   "source": [
    "n_sparams = gt_mag.shape[0]\n",
    "\n",
    "plt.figure()\n",
    "for i in range(n_sparams):\n",
    "    plt.plot(gt_freqs, gt_mag[i], label=str(i))\n",
    "if n_sparams <= 10:\n",
    "    plt.legend()\n",
    "plt.title(\"Ground Truth\")\n",
    "plt.ylabel(\"Magnitude (DB)\")\n",
    "plt.xlabel(\"Frequency\")\n",
    "plt.show()"
   ]
  },
  {
   "cell_type": "markdown",
   "id": "053a63f2-67a9-4d97-a4a1-3bd769360ff2",
   "metadata": {},
   "source": [
    "## Check the data for some smoothness and regularity conditions"
   ]
  },
  {
   "cell_type": "code",
   "execution_count": null,
   "id": "588afb62-bb39-4784-8e88-8debb469cd75",
   "metadata": {},
   "outputs": [],
   "source": [
    "def calc_diffs(x, order=1):\n",
    "    if order > 1:\n",
    "        x = calc_diffs(x, order-1)\n",
    "    \n",
    "    if isinstance(x, np.ndarray):\n",
    "        return (x - np.roll(x, -1, 2))[...,:-1] \n",
    "    elif torch.is_tensor(x):\n",
    "        return (x - torch.roll(x, -1, 2))[...,:-1]"
   ]
  },
  {
   "cell_type": "code",
   "execution_count": null,
   "id": "e8a50dec-0a28-43c9-b75a-2e165eb60a13",
   "metadata": {},
   "outputs": [],
   "source": [
    "x_diff_1 = calc_diffs(gt_data)\n",
    "\n",
    "print(x_diff_1.shape)\n",
    "\n",
    "plt.figure()\n",
    "for i in range(n_sparams):\n",
    "    plt.plot(x_diff_1[i,0,:].squeeze(), label=str(i)+\" Re\")\n",
    "    plt.plot(x_diff_1[i,1,:].squeeze(), label=str(i)+\" Im\")\n",
    "if n_sparams <= 10:\n",
    "    plt.legend()\n",
    "plt.title(\"First-Order Diffs\")\n",
    "plt.show()"
   ]
  },
  {
   "cell_type": "code",
   "execution_count": null,
   "id": "b5a9dfa1-1371-4586-8cb4-43a90eb4e227",
   "metadata": {},
   "outputs": [],
   "source": [
    "x_diff_2 = calc_diffs(gt_data, 2)\n",
    "\n",
    "print(x_diff_2.shape)\n",
    "\n",
    "plt.figure()\n",
    "for i in range(n_sparams):\n",
    "    plt.plot(x_diff_2[i,0,:].squeeze(), label=str(i)+\" Re\")\n",
    "    plt.plot(x_diff_2[i,1,:].squeeze(), label=str(i)+\" Im\")\n",
    "if n_sparams <= 10:\n",
    "    plt.legend()\n",
    "plt.title(\"Second-Order Diffs\")\n",
    "plt.show()"
   ]
  },
  {
   "cell_type": "markdown",
   "id": "05e2c739-a83a-4d17-a200-2308fcb0013e",
   "metadata": {},
   "source": [
    "## Grab some measurements"
   ]
  },
  {
   "cell_type": "code",
   "execution_count": null,
   "id": "c6e7764e-6afe-4e71-9a24-3a3e5670fa7e",
   "metadata": {},
   "outputs": [],
   "source": [
    "PROBLEM_TYPE = \"equal\" #[random, equal, forecast, full]\n",
    "LENGTH = len(gt_freqs)\n",
    "M = int(y_freqs.shape[0])"
   ]
  },
  {
   "cell_type": "code",
   "execution_count": null,
   "id": "42cf0135-d34f-4fea-bbd6-7b79b54af86b",
   "metadata": {},
   "outputs": [],
   "source": [
    "kept_inds, missing_inds = utils.get_inds(PROBLEM_TYPE, LENGTH, M)"
   ]
  },
  {
   "cell_type": "code",
   "execution_count": null,
   "id": "f5e27526-6eee-4f5c-91cf-00ad4a626b77",
   "metadata": {},
   "outputs": [],
   "source": [
    "print(LENGTH)\n",
    "print(M)\n",
    "print(len(kept_inds))\n",
    "print(len(missing_inds))"
   ]
  },
  {
   "cell_type": "markdown",
   "id": "69babcd7-98f1-4856-b1d0-554f387c58fe",
   "metadata": {},
   "source": [
    "## Make the final data"
   ]
  },
  {
   "cell_type": "code",
   "execution_count": null,
   "id": "5430ba59-cc34-4e81-b87b-1bfe730a47c2",
   "metadata": {},
   "outputs": [],
   "source": [
    "x = torch.from_numpy(gt_data)\n",
    "x = x.view(-1, LENGTH).unsqueeze(0)"
   ]
  },
  {
   "cell_type": "code",
   "execution_count": null,
   "id": "3ca9de93-76db-4106-9d4e-1f86619e7835",
   "metadata": {},
   "outputs": [],
   "source": [
    "print(x.shape)\n",
    "print(x.dtype)"
   ]
  },
  {
   "cell_type": "code",
   "execution_count": null,
   "id": "08cff4d9-454f-4ca7-b5e5-2d6eb70d2930",
   "metadata": {},
   "outputs": [],
   "source": [
    "y = torch.clone(x)[:, :, kept_inds]"
   ]
  },
  {
   "cell_type": "code",
   "execution_count": null,
   "id": "4de425df-413b-43a2-bfe8-8cf401a558e0",
   "metadata": {},
   "outputs": [],
   "source": [
    "print(y.shape)\n",
    "print(y.dtype)"
   ]
  },
  {
   "cell_type": "markdown",
   "id": "e34db045-69e5-4ae6-b3c8-cb26c965049f",
   "metadata": {},
   "source": [
    "### quick redundancy check"
   ]
  },
  {
   "cell_type": "code",
   "execution_count": null,
   "id": "fc56fc9e-79ff-485d-9c0f-526eacb2ea5a",
   "metadata": {},
   "outputs": [],
   "source": [
    "checked_inds = []\n",
    "num_unique = 0\n",
    "for i in range(y.shape[1]//2):\n",
    "    if i in checked_inds:\n",
    "        continue\n",
    "    \n",
    "    for j in range(y.shape[1]//2):\n",
    "        if torch.mean(torch.square(y[:, i:i+2, :] - y[:, j:j+2, :])) <= 1e-10:\n",
    "            checked_inds.append(j)\n",
    "    \n",
    "    num_unique += 1\n",
    "\n",
    "print(num_unique)"
   ]
  },
  {
   "cell_type": "markdown",
   "id": "230b8b91-7853-42ec-a0e7-241f9efcabe9",
   "metadata": {},
   "source": [
    "# Set up the network"
   ]
  },
  {
   "cell_type": "code",
   "execution_count": null,
   "id": "fa4286d6-a3cb-41ee-8a42-a212b1043266",
   "metadata": {},
   "outputs": [],
   "source": [
    "LR = 1e-4 # learning rate\n",
    "NUM_ITER = 2000 # number iterations\n",
    "\n",
    "NZ = y.shape[1]\n",
    "\n",
    "NUM_LAYERS = int(np.ceil(np.log2(LENGTH))) - 4\n",
    "NUM_LAYERS = max(NUM_LAYERS, 5)\n",
    "\n",
    "BASE_NGF = 2 ** int(np.ceil(np.log2(NZ)))\n",
    "BASE_NGF = max(BASE_NGF, 128)\n",
    "\n",
    "NGF = [int(BASE_NGF * 2**(i/2)) for i in range(NUM_LAYERS)]\n",
    "\n",
    "BS = y.shape[0]\n",
    "NC = y.shape[1]"
   ]
  },
  {
   "cell_type": "code",
   "execution_count": null,
   "id": "427f816e-3773-4783-8a2a-64a4bc3d52cb",
   "metadata": {},
   "outputs": [],
   "source": [
    "print(\"NZ: \", str(NZ))\n",
    "print(\"NUM_LAYERS: \", str(NUM_LAYERS))\n",
    "print(\"BASE NGF: \", str(BASE_NGF))\n",
    "print(\"NGF: \", str(NGF))\n",
    "print(\"BS: \", BS)\n",
    "print(\"NC: \", NC)"
   ]
  },
  {
   "cell_type": "code",
   "execution_count": null,
   "id": "e43f3877-d272-437e-9ce8-91ddbd3a6a34",
   "metadata": {},
   "outputs": [],
   "source": [
    "from models import RES_UNET\n",
    "\n",
    "KERNEL_SIZE = 1\n",
    "\n",
    "net = RES_UNET(bs=BS, nz=NZ, ngf=NGF, output_size=LENGTH, nc=NC, kernel_size=KERNEL_SIZE, num_layers=NUM_LAYERS)\n",
    "net = net.to(device)"
   ]
  },
  {
   "cell_type": "code",
   "execution_count": null,
   "id": "80817dff-3587-4feb-b8b5-08b67d9c16c6",
   "metadata": {},
   "outputs": [],
   "source": [
    "test_out = net.forward_with_z()\n",
    "print(test_out.shape)"
   ]
  },
  {
   "cell_type": "code",
   "execution_count": null,
   "id": "9b32a394-a39e-4c96-b006-36ab86fdbac7",
   "metadata": {},
   "outputs": [],
   "source": [
    "pytorch_total_params = sum(p.numel() for p in net.parameters() if p.requires_grad)\n",
    "\n",
    "print(\"TOTAL PARAMS: \", pytorch_total_params)"
   ]
  },
  {
   "cell_type": "markdown",
   "id": "6c4d53e8-acf3-46f4-8754-7c5e4655e954",
   "metadata": {},
   "source": [
    "# Make the linear interpolation and use it as the input to the network"
   ]
  },
  {
   "cell_type": "code",
   "execution_count": null,
   "id": "9e79ca8d-423e-4927-a175-04afce54f1dd",
   "metadata": {},
   "outputs": [],
   "source": [
    "import scipy\n",
    "\n",
    "y_np = y.cpu().detach().numpy()\n",
    "\n",
    "Interpolate = scipy.interpolate.interp1d(kept_inds, y_np, fill_value='extrapolate')"
   ]
  },
  {
   "cell_type": "code",
   "execution_count": null,
   "id": "79795e87-8244-404f-8438-87d140f4f7f1",
   "metadata": {},
   "outputs": [],
   "source": [
    "y_interp = Interpolate(np.arange(LENGTH))\n",
    "\n",
    "print(y_interp.shape)"
   ]
  },
  {
   "cell_type": "code",
   "execution_count": null,
   "id": "e068f90a-a55f-4513-a05a-ade1130a8e77",
   "metadata": {},
   "outputs": [],
   "source": [
    "fig, axes = plt.subplots(2,1, figsize=(16, 8))\n",
    "axes = axes.flatten()\n",
    "\n",
    "for j in range(x.shape[0]):\n",
    "    for i in range(x.shape[1]):\n",
    "        label = str(i//2) + (\" re\" if i % 2 == 0 else \" im\")\n",
    "        axes[0].plot(gt_freqs, x[j,i,:].flatten(), label=label)\n",
    "        axes[0].scatter(gt_freqs[kept_inds], y[j,i].cpu())\n",
    "axes[0].set_title(\"Ground Truth\")\n",
    "if n_sparams <= 10:\n",
    "    axes[0].legend()\n",
    "\n",
    "for j in range(x.shape[0]):\n",
    "    for i in range(x.shape[1]):\n",
    "        label = str(i//2) + (\" re\" if i % 2 == 0 else \" im\")\n",
    "        axes[1].plot(gt_freqs, y_interp[j,i,:].flatten(), label=label)\n",
    "        axes[1].scatter(gt_freqs[kept_inds], y[j,i].cpu())\n",
    "axes[1].set_title(\"Measurements - Linear interpolation\")\n",
    "if n_sparams <= 10:\n",
    "    axes[1].legend()\n",
    "\n",
    "plt.show()"
   ]
  },
  {
   "cell_type": "code",
   "execution_count": null,
   "id": "501dba26-8633-41fb-8c09-4841c133dc3d",
   "metadata": {},
   "outputs": [],
   "source": [
    "y_interp_mag = utils.to_mag(torch.from_numpy(y_interp))\n",
    "\n",
    "print(y_interp_mag.shape)"
   ]
  },
  {
   "cell_type": "code",
   "execution_count": null,
   "id": "810bbaca-213d-4f33-9426-e2b24ce18da8",
   "metadata": {},
   "outputs": [],
   "source": [
    "x_mag = utils.to_mag(x)\n",
    "y_mag = utils.to_mag(y)\n",
    "\n",
    "print(x_mag.shape)\n",
    "print(y_mag.shape)"
   ]
  },
  {
   "cell_type": "code",
   "execution_count": null,
   "id": "f44b0684-d603-49d1-a84c-e5e8f5cf9fc0",
   "metadata": {},
   "outputs": [],
   "source": [
    "fig, axes = plt.subplots(2,1, figsize=(16, 8))\n",
    "axes = axes.flatten()\n",
    "\n",
    "for j in range(x_mag.shape[0]):\n",
    "    axes[0].plot(gt_freqs, x_mag[j], label=str(j))\n",
    "    axes[0].scatter(gt_freqs[kept_inds], y_mag[j])\n",
    "axes[0].set_title(\"Ground Truth\")\n",
    "axes[0].set_ylabel(\"Magnitude (DB)\")\n",
    "if n_sparams <= 10:\n",
    "    axes[0].legend()\n",
    "\n",
    "for j in range(x_mag.shape[0]):\n",
    "    axes[1].plot(gt_freqs, y_interp_mag[j], label=str(j))\n",
    "    axes[1].scatter(gt_freqs[kept_inds], y_mag[j])\n",
    "axes[1].set_title(\"Measurements - Linear interpolation\")\n",
    "axes[1].set_ylabel(\"Magnitude (DB)\")\n",
    "axes[1].set_xlabel(\"Frequency (Hz)\")\n",
    "if n_sparams <= 10:\n",
    "    axes[1].legend()\n",
    "\n",
    "plt.show()"
   ]
  },
  {
   "cell_type": "code",
   "execution_count": null,
   "id": "3d7b10d7-f22b-4bed-916f-56563c1150fd",
   "metadata": {},
   "outputs": [],
   "source": [
    "net.set_z(y_interp)\n",
    "\n",
    "y_interp = torch.from_numpy(y_interp)\n",
    "y_interp = y_interp.to(device)"
   ]
  },
  {
   "cell_type": "markdown",
   "id": "1fdb5c3e-ebee-4d70-be29-c67f3871253b",
   "metadata": {},
   "source": [
    "# Run"
   ]
  },
  {
   "cell_type": "code",
   "execution_count": null,
   "id": "a57d5569-de74-48a2-b288-68b7821287f1",
   "metadata": {},
   "outputs": [],
   "source": [
    "criterion = utils.Measurement_MSE_Loss(kept_inds=kept_inds, per_param=True, reduction=\"sum\")\n",
    "criterion = criterion.to(device)\n",
    "\n",
    "regularizer = utils.Smoothing_Loss(per_param=True, reduction=\"sum\")\n",
    "regularizer = regularizer.to(device)\n",
    "\n",
    "REG_HYPERPARAM = 10"
   ]
  },
  {
   "cell_type": "code",
   "execution_count": null,
   "id": "71de64f0-c037-4226-bd33-066ee64be095",
   "metadata": {},
   "outputs": [],
   "source": [
    "net = net.train()\n",
    "\n",
    "optim = torch.optim.Adam(net.parameters(), lr=LR)\n",
    "\n",
    "train_losses = []\n",
    "train_errors = []\n",
    "train_regs = []\n",
    "\n",
    "test_mses = []\n",
    "test_maes = []\n",
    "\n",
    "# outputs = []\n",
    "\n",
    "x = x.to(device)\n",
    "y = y.to(device)"
   ]
  },
  {
   "cell_type": "code",
   "execution_count": null,
   "id": "7284f10d-0bdb-4791-a541-3d880fddaaee",
   "metadata": {},
   "outputs": [],
   "source": [
    "tic = time.time()\n",
    "for i in range(NUM_ITER):\n",
    "    \n",
    "    optim.zero_grad()\n",
    "    \n",
    "    out = net.forward_with_z()\n",
    "    \n",
    "    train_error = criterion(out, y) \n",
    "    train_reg = REG_HYPERPARAM * regularizer(out)\n",
    "    train_loss = train_error + train_reg\n",
    "    \n",
    "    train_loss.backward()\n",
    "    optim.step()\n",
    "    \n",
    "    with torch.no_grad():\n",
    "#         outputs.append(out.detach().clone().cpu())\n",
    "        \n",
    "        train_losses.append(train_loss.item())\n",
    "        train_errors.append(train_error.item())\n",
    "        train_regs.append(train_reg.item())\n",
    "        \n",
    "        test_mse = nn.MSELoss()(out, x)\n",
    "        test_mses.append(test_mse.item())\n",
    "        \n",
    "        test_mae = nn.L1Loss()(out, x)\n",
    "        test_maes.append(test_mae.item())\n",
    "\n",
    "        if (i+1)%1000 == 0 or i == 0:\n",
    "            toc = time.time()\n",
    "            print(\"ITER \", str(i))\n",
    "            print(\"TIME: \", str(toc - tic))\n",
    "            print()"
   ]
  },
  {
   "cell_type": "markdown",
   "id": "1313b7ed-6c3c-4768-92de-abb6e614c549",
   "metadata": {},
   "source": [
    "# Plot the last output and the metrics"
   ]
  },
  {
   "cell_type": "code",
   "execution_count": null,
   "id": "b7def744-f89b-473d-acf9-7f9003eb7849",
   "metadata": {},
   "outputs": [],
   "source": [
    "out = out.detach().clone().cpu()\n",
    "\n",
    "fig, axes = plt.subplots(3,1, figsize=(16, 12))\n",
    "axes = axes.flatten()\n",
    "\n",
    "for j in range(x.shape[0]):\n",
    "    for i in range(x.shape[1]):\n",
    "        label = str(i//2) + (\" re\" if i % 2 == 0 else \" im\")\n",
    "        axes[0].plot(gt_freqs, x[j,i,:].cpu().flatten(), label=label)\n",
    "#         axes[0].scatter(gt_freqs[kept_inds], y[j,i].cpu())\n",
    "axes[0].set_title(\"Ground Truth\")\n",
    "if n_sparams <= 10:\n",
    "    axes[0].legend()\n",
    "\n",
    "for j in range(x.shape[0]):\n",
    "    for i in range(x.shape[1]):\n",
    "        label = str(i//2) + (\" re\" if i % 2 == 0 else \" im\")\n",
    "        axes[1].plot(gt_freqs, out[j,i,:].flatten(), label=label)\n",
    "#         axes[1].scatter(gt_freqs[kept_inds], y[j,i].cpu())\n",
    "axes[1].set_title(\"Last Output\")\n",
    "if n_sparams <= 10:\n",
    "    axes[1].legend()\n",
    "\n",
    "for j in range(x.shape[0]):\n",
    "    for i in range(x.shape[1]):\n",
    "        label = str(i//2) + (\" re\" if i % 2 == 0 else \" im\")\n",
    "        axes[2].plot(gt_freqs[kept_inds], y[j,i,:].cpu().flatten(), label=label)\n",
    "#         axes[2].scatter(gt_freqs[kept_inds], y[j,i].cpu())\n",
    "axes[2].set_title(\"Measurements - Linear interpolation\")\n",
    "if n_sparams <= 10:\n",
    "    axes[2].legend()\n",
    "\n",
    "plt.show()"
   ]
  },
  {
   "cell_type": "code",
   "execution_count": null,
   "id": "eef6a590-1b95-4c47-a101-2e2052b8059e",
   "metadata": {},
   "outputs": [],
   "source": [
    "out_mag = utils.to_mag(out)\n",
    "\n",
    "print(out_mag.shape)"
   ]
  },
  {
   "cell_type": "code",
   "execution_count": null,
   "id": "f3a5ff63-a1c1-4398-b5e9-e44e82bc593b",
   "metadata": {},
   "outputs": [],
   "source": [
    "fig, axes = plt.subplots(3,1, figsize=(16, 12))\n",
    "axes = axes.flatten()\n",
    "\n",
    "for j in range(x_mag.shape[0]):\n",
    "    axes[0].plot(gt_freqs, x_mag[j], label=str(j))\n",
    "#     axes[0].scatter(gt_freqs[kept_inds], y_mag[j].cpu().numpy())\n",
    "axes[0].set_title(\"Ground Truth\")\n",
    "axes[0].set_ylabel(\"Magnitude (DB)\")\n",
    "if n_sparams <= 10:\n",
    "    axes[0].legend()\n",
    "\n",
    "for j in range(x_mag.shape[0]):\n",
    "    axes[1].plot(gt_freqs, out_mag[j], label=str(j))\n",
    "#     axes[1].scatter(gt_freqs[kept_inds], y_mag[j].cpu().numpy())\n",
    "axes[1].set_title(\"Last Output\")\n",
    "axes[1].set_ylabel(\"Magnitude (DB)\")\n",
    "if n_sparams <= 10:\n",
    "    axes[1].legend()\n",
    "\n",
    "for j in range(x_mag.shape[0]):\n",
    "    axes[2].plot(gt_freqs, y_interp_mag[j], label=str(j))\n",
    "#     axes[2].scatter(gt_freqs[kept_inds], y_mag[j].cpu().numpy())\n",
    "axes[2].set_title(\"Measurements - Linear interpolation (in complex --> mag)\")\n",
    "axes[2].set_ylabel(\"Magnitude (DB)\")\n",
    "axes[2].set_xlabel(\"Frequency (Hz)\")\n",
    "if n_sparams <= 10:\n",
    "    axes[2].legend()\n",
    "\n",
    "plt.show()"
   ]
  },
  {
   "cell_type": "code",
   "execution_count": null,
   "id": "befed422-7b0a-418a-953d-0aec9409329b",
   "metadata": {},
   "outputs": [],
   "source": [
    "max_idx = 100 #np.argmax(train_losses)\n",
    "\n",
    "plt.figure()\n",
    "plt.plot(train_losses)\n",
    "plt.title(\"TRAIN LOSS\")\n",
    "plt.ylim(0., train_losses[max_idx])\n",
    "plt.show()\n",
    "\n",
    "plt.figure()\n",
    "plt.plot(train_errors)\n",
    "plt.title(\"TRAIN ERRORS\")\n",
    "plt.ylim(0., train_errors[max_idx])\n",
    "plt.show()\n",
    "\n",
    "plt.figure()\n",
    "plt.plot(train_regs)\n",
    "plt.title(\"TRAIN REGS\")\n",
    "plt.ylim(0., train_regs[max_idx])\n",
    "plt.show()\n",
    "\n",
    "plt.figure()\n",
    "plt.plot(test_mses, color='r')\n",
    "plt.title(\"TEST MSE\")\n",
    "plt.ylim(0., test_mses[max_idx])\n",
    "plt.show()\n",
    "\n",
    "plt.figure()\n",
    "plt.plot(test_maes, color='g')\n",
    "plt.title(\"TEST MAE\")\n",
    "plt.ylim(0, test_maes[max_idx])\n",
    "plt.show()"
   ]
  },
  {
   "cell_type": "markdown",
   "id": "e27ca453-27fc-44c1-9cdc-668a54452eaf",
   "metadata": {},
   "source": [
    "# Calculate Metrics between DIP, Vector Fit, Linear Interpolation, and the Ground Truth "
   ]
  },
  {
   "cell_type": "code",
   "execution_count": null,
   "id": "ca3d6f78-9294-4e59-b278-fee394642238",
   "metadata": {},
   "outputs": [],
   "source": [
    "print(test_mses[-1])"
   ]
  },
  {
   "cell_type": "code",
   "execution_count": null,
   "id": "946caeb6-0718-4cd1-ad3c-6b408a80f018",
   "metadata": {},
   "outputs": [],
   "source": [
    "print(torch.nn.MSELoss()(x, y_interp))"
   ]
  },
  {
   "cell_type": "code",
   "execution_count": null,
   "id": "caecc2d2-0db3-4f9c-be21-ca0b4e676e8c",
   "metadata": {},
   "outputs": [],
   "source": [
    "DIP_OUT_MATRIX = utils.sparams_to_matrix(out)\n",
    "\n",
    "INTERP_MATRIX = utils.sparams_to_matrix(y_interp)"
   ]
  },
  {
   "cell_type": "code",
   "execution_count": null,
   "id": "68044ce9-2182-455b-b29d-7aed3b34d0ff",
   "metadata": {},
   "outputs": [],
   "source": [
    "print(DIP_OUT_MATRIX.shape)\n",
    "print(INTERP_MATRIX.shape)"
   ]
  },
  {
   "cell_type": "code",
   "execution_count": null,
   "id": "cf20cdcd-698e-4769-85e8-6f79d8e2ad08",
   "metadata": {},
   "outputs": [],
   "source": [
    "DIP_net = utils.matrix_to_network(DIP_OUT_MATRIX, gt_freqs, \"DIP Recon With \"+str(M)+\" Samples for Chip \"+str(chip_num))\n",
    "\n",
    "INTERP_net = utils.matrix_to_network(INTERP_MATRIX, gt_freqs, \"Linear Interpolation With \"+str(M)+\" Samples for Chip \"+str(chip_num))"
   ]
  },
  {
   "cell_type": "code",
   "execution_count": null,
   "id": "82d1b713-1e24-4326-af36-c02af1fd0098",
   "metadata": {},
   "outputs": [],
   "source": [
    "DIP_FINAL_OUT = np.stack((DIP_net.s.real, DIP_net.s.imag), axis=-1)\n",
    "\n",
    "INTERP_FINAL_OUT = np.stack((INTERP_net.s.real, INTERP_net.s.imag), axis=-1)"
   ]
  },
  {
   "cell_type": "code",
   "execution_count": null,
   "id": "52b2c78b-df76-49b7-9042-8de02fe08cac",
   "metadata": {},
   "outputs": [],
   "source": [
    "print(DIP_FINAL_OUT.shape)\n",
    "print(INTERP_FINAL_OUT.shape)"
   ]
  },
  {
   "cell_type": "code",
   "execution_count": null,
   "id": "3fe458b3-38b6-4031-a6e5-29c476e4d48d",
   "metadata": {},
   "outputs": [],
   "source": [
    "dip_data = utils.matrix_to_sparams(DIP_FINAL_OUT)\n",
    "interp_data = utils.matrix_to_sparams(INTERP_FINAL_OUT)"
   ]
  },
  {
   "cell_type": "code",
   "execution_count": null,
   "id": "d006484a-bf04-4844-bc6e-2777c202aa59",
   "metadata": {},
   "outputs": [],
   "source": [
    "print(dip_data.shape)\n",
    "print(interp_data.shape)"
   ]
  },
  {
   "cell_type": "code",
   "execution_count": null,
   "id": "d6750859-5187-402b-a04e-dbf3aaf4b860",
   "metadata": {},
   "outputs": [],
   "source": [
    "print(dip_data.dtype)\n",
    "print(interp_data.dtype)"
   ]
  },
  {
   "cell_type": "code",
   "execution_count": null,
   "id": "75249d6f-db26-47f4-85a9-1b49dcb35e90",
   "metadata": {},
   "outputs": [],
   "source": [
    "import skimage.metrics\n",
    "from skimage.metrics import peak_signal_noise_ratio as psnr\n",
    "\n",
    "data_range = np.amax(gt_data) - np.amin(gt_data)\n",
    "\n",
    "psnr_ours = psnr(gt_data, dip_data)#, data_range)\n",
    "psnr_interp = psnr(gt_data, interp_data)#, data_range)\n",
    "psnr_vf = psnr(gt_data, vf_data)#, data_range)"
   ]
  },
  {
   "cell_type": "code",
   "execution_count": null,
   "id": "1be083e9-88cb-48dd-a4c2-c5a900ec9b2f",
   "metadata": {},
   "outputs": [],
   "source": [
    "print(\"DIP PSNR: \", psnr_ours)\n",
    "print(\"INTERP PSNR: \", psnr_interp)\n",
    "print(\"VF PSNR: \", psnr_vf)"
   ]
  },
  {
   "cell_type": "code",
   "execution_count": null,
   "id": "306579a9-3692-489d-af4d-d93122702328",
   "metadata": {},
   "outputs": [],
   "source": []
  }
 ],
 "metadata": {
  "kernelspec": {
   "display_name": "Python 3",
   "language": "python",
   "name": "python3"
  },
  "language_info": {
   "codemirror_mode": {
    "name": "ipython",
    "version": 3
   },
   "file_extension": ".py",
   "mimetype": "text/x-python",
   "name": "python",
   "nbconvert_exporter": "python",
   "pygments_lexer": "ipython3",
   "version": "3.7.10"
  }
 },
 "nbformat": 4,
 "nbformat_minor": 5
}
