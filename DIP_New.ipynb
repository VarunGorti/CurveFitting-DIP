{
 "cells": [
  {
   "cell_type": "markdown",
   "id": "fb50d663-1ebd-44f3-9dde-1d49b989f94d",
   "metadata": {},
   "source": [
    "# Imports and Device"
   ]
  },
  {
   "cell_type": "code",
   "execution_count": 1,
   "id": "6542dbd7-988b-442c-b275-c6acb681158b",
   "metadata": {},
   "outputs": [],
   "source": [
    "import torch\n",
    "import random\n",
    "import numpy as np\n",
    "\n",
    "import matplotlib.pyplot as plt\n",
    "%matplotlib inline\n",
    "\n",
    "import torch.nn as nn\n",
    "import torch.nn.functional as F\n",
    "\n",
    "import math\n",
    "import time"
   ]
  },
  {
   "cell_type": "code",
   "execution_count": 2,
   "id": "6673e79d-f85d-407c-a553-74d303ab0b3a",
   "metadata": {},
   "outputs": [
    {
     "name": "stdout",
     "output_type": "stream",
     "text": [
      "cuda:0\n"
     ]
    }
   ],
   "source": [
    "device = torch.device('cuda:0' if torch.cuda.is_available() else 'cpu')\n",
    "print(device)"
   ]
  },
  {
   "cell_type": "markdown",
   "id": "d2c6b2d1-a8d9-46af-ac31-88c6c4706ccf",
   "metadata": {},
   "source": [
    "# Data Loading"
   ]
  },
  {
   "cell_type": "code",
   "execution_count": 3,
   "id": "27459e39-609f-418e-aa6d-4cb4c3395a89",
   "metadata": {},
   "outputs": [],
   "source": [
    "root_path = \"/scratch/04703/sravula/UTAFSDataNew/new_data\""
   ]
  },
  {
   "cell_type": "code",
   "execution_count": 4,
   "id": "88563d86-dffb-4188-925b-665ff6f1b99e",
   "metadata": {},
   "outputs": [],
   "source": [
    "import utils\n",
    "\n",
    "data_dict = utils.grab_chip_data(root_path, 0)"
   ]
  },
  {
   "cell_type": "code",
   "execution_count": 5,
   "id": "5a6df016-ea6b-4de7-994a-71ee08d4477d",
   "metadata": {},
   "outputs": [
    {
     "data": {
      "text/plain": [
       "dict_keys(['gt_matrix', 'gt_freqs', 'vf_matrix', 'y_matrix', 'y_freqs'])"
      ]
     },
     "execution_count": 5,
     "metadata": {},
     "output_type": "execute_result"
    }
   ],
   "source": [
    "data_dict.keys()"
   ]
  },
  {
   "cell_type": "code",
   "execution_count": 6,
   "id": "71bb7b3a-bffa-4d53-904b-e0cc359db008",
   "metadata": {},
   "outputs": [
    {
     "name": "stdout",
     "output_type": "stream",
     "text": [
      "(1000, 2, 2, 2)\n",
      "(1000, 2, 2, 2)\n",
      "(8, 2, 2, 2)\n",
      "(1000,)\n",
      "(8,)\n"
     ]
    }
   ],
   "source": [
    "print(data_dict['gt_matrix'].shape)\n",
    "print(data_dict['vf_matrix'].shape)\n",
    "print(data_dict['y_matrix'].shape)\n",
    "\n",
    "print(data_dict['gt_freqs'].shape)\n",
    "print(data_dict['y_freqs'].shape)"
   ]
  },
  {
   "cell_type": "code",
   "execution_count": 7,
   "id": "3d2d6462-ad10-48a0-a974-eb06716dd15f",
   "metadata": {},
   "outputs": [],
   "source": [
    "kept_inds, A = utils.frequencies_to_samples(data_dict['gt_freqs'], data_dict['y_freqs'])"
   ]
  },
  {
   "cell_type": "code",
   "execution_count": 9,
   "id": "f25e78c4-e3e3-409e-b13d-ccab06a5de8a",
   "metadata": {},
   "outputs": [
    {
     "name": "stdout",
     "output_type": "stream",
     "text": [
      "7\n",
      "[  0   9  99 324 549 774 999]\n",
      "(7, 1000)\n"
     ]
    }
   ],
   "source": [
    "print(len(kept_inds))\n",
    "print(kept_inds)\n",
    "print(A.shape)"
   ]
  },
  {
   "cell_type": "code",
   "execution_count": null,
   "id": "e41a5487-3e10-45b4-a88f-1e77ae1bcbc0",
   "metadata": {},
   "outputs": [],
   "source": []
  }
 ],
 "metadata": {
  "kernelspec": {
   "display_name": "Python 3",
   "language": "python",
   "name": "python3"
  },
  "language_info": {
   "codemirror_mode": {
    "name": "ipython",
    "version": 3
   },
   "file_extension": ".py",
   "mimetype": "text/x-python",
   "name": "python",
   "nbconvert_exporter": "python",
   "pygments_lexer": "ipython3",
   "version": "3.7.10"
  }
 },
 "nbformat": 4,
 "nbformat_minor": 5
}
