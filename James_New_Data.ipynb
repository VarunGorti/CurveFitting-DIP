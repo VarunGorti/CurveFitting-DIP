{
 "cells": [
  {
   "cell_type": "markdown",
   "id": "d44f089b-f3f7-4a79-9782-da7ca07901d5",
   "metadata": {},
   "source": [
    "# imports and file locations"
   ]
  },
  {
   "cell_type": "code",
   "execution_count": 1,
   "id": "c93a7a75-269e-4bac-83b5-f1d37c577809",
   "metadata": {},
   "outputs": [],
   "source": [
    "import matplotlib.pyplot as plt\n",
    "%matplotlib inline\n",
    "\n",
    "import pandas as pd\n",
    "import numpy as np\n",
    "import os"
   ]
  },
  {
   "cell_type": "code",
   "execution_count": 2,
   "id": "c7e1f144-1537-43fe-b1a3-fed855ee34df",
   "metadata": {},
   "outputs": [],
   "source": [
    "data_dir = \"/scratch/04703/sravula/UTAFSDataNew/new_data\""
   ]
  },
  {
   "cell_type": "markdown",
   "id": "7fdeced0-c936-4f06-bfdf-5131ee2b391a",
   "metadata": {},
   "source": [
    "# Look at the directory structure"
   ]
  },
  {
   "cell_type": "code",
   "execution_count": 3,
   "id": "1e7aa844-a379-4bdd-bd8c-e395252a7270",
   "metadata": {},
   "outputs": [
    {
     "name": "stdout",
     "output_type": "stream",
     "text": [
      "62\n",
      "['case00', 'case01', 'case02', 'case03', 'case04', 'case05', 'case06', 'case07', 'case08', 'case09', 'case10', 'case11', 'case12', 'case13', 'case14', 'case15', 'case16', 'case17', 'case18', 'case19', 'case20', 'case21', 'case22', 'case23', 'case24', 'case25', 'case26', 'case27', 'case28', 'case29', 'case30', 'case31', 'case32', 'case33', 'case34', 'case35', 'case36', 'case37', 'case38', 'case39', 'case40', 'case41', 'case42', 'case43', 'case44', 'case45', 'case46', 'case47', 'case48', 'case49', 'case50', 'case51', 'case52', 'case53', 'case54', 'case55', 'case56', 'case57', 'case58', 'case59', 'case60', 'case61']\n"
     ]
    }
   ],
   "source": [
    "file_dirs = os.listdir(data_dir)\n",
    "file_dirs = [f for f in file_dirs if \"case\" in f]\n",
    "file_dirs.sort()\n",
    "print(len(file_dirs))\n",
    "print(file_dirs)"
   ]
  },
  {
   "cell_type": "code",
   "execution_count": 4,
   "id": "afbdb57f-5b36-473d-8531-cd36d3fe91f1",
   "metadata": {},
   "outputs": [
    {
     "name": "stdout",
     "output_type": "stream",
     "text": [
      "/scratch/04703/sravula/UTAFSDataNew/new_data/case06\n"
     ]
    }
   ],
   "source": [
    "fname = os.path.join(data_dir, file_dirs[6])\n",
    "print(fname)"
   ]
  },
  {
   "cell_type": "code",
   "execution_count": 5,
   "id": "daea4fab-2182-4831-94c8-86499cca5ef8",
   "metadata": {},
   "outputs": [
    {
     "name": "stdout",
     "output_type": "stream",
     "text": [
      "6\n"
     ]
    }
   ],
   "source": [
    "chip_num = int(fname.split(\"case\")[-1])\n",
    "print(chip_num)"
   ]
  },
  {
   "cell_type": "markdown",
   "id": "d8030421-5e14-4670-97d1-a356d80ea249",
   "metadata": {},
   "source": [
    "# Descriptions of files\n",
    "- caseID.HLAS.sNp – The result of our own adaptive frequency sweep and internal vector fit\n",
    "- SIEMENS_AFS_SAMPLE_POINTS.csv – The sample points chosen by our adaptive sweep\n",
    "- caseID.sNp – The Touchstone ground truth file\n",
    "- SIEMENS_AFS_SAMPLE_POINT_SIMULATIONS.sNp – This is just caseID.sNp sampled at the frequencies specified in SIEMENS_AFS_SAMPLE_POINTS.csv"
   ]
  },
  {
   "cell_type": "markdown",
   "id": "0c354ba7-836f-45b8-bcf2-bd5b7cfa90eb",
   "metadata": {},
   "source": [
    "# We want a function that will take int 0-61 and returns:\n",
    "- the fully-sampled S-parameters (ground truth)\n",
    "- the sample frequencies chosen by VF for the chip\n",
    "- VF output for the S-params  (x_hat_VF)"
   ]
  },
  {
   "cell_type": "markdown",
   "id": "37c6d727-6139-41a5-a462-4d8eba28f773",
   "metadata": {},
   "source": [
    "## 1. \"SIEMENS_AFS_SAMPLE_POINTS.csv\" - Given Fs"
   ]
  },
  {
   "cell_type": "code",
   "execution_count": 6,
   "id": "2ad560b8-4636-4871-9189-15dfff43d9cf",
   "metadata": {},
   "outputs": [],
   "source": [
    "given_sample_path = os.path.join(fname, 'SIEMENS_AFS_SAMPLE_POINTS.csv')\n",
    "df = pd.read_csv(given_sample_path, sep=',', header=None)"
   ]
  },
  {
   "cell_type": "code",
   "execution_count": 7,
   "id": "43238578-d4de-4e8a-a8f7-0666ec3a5927",
   "metadata": {},
   "outputs": [
    {
     "data": {
      "text/html": [
       "<div>\n",
       "<style scoped>\n",
       "    .dataframe tbody tr th:only-of-type {\n",
       "        vertical-align: middle;\n",
       "    }\n",
       "\n",
       "    .dataframe tbody tr th {\n",
       "        vertical-align: top;\n",
       "    }\n",
       "\n",
       "    .dataframe thead th {\n",
       "        text-align: right;\n",
       "    }\n",
       "</style>\n",
       "<table border=\"1\" class=\"dataframe\">\n",
       "  <thead>\n",
       "    <tr style=\"text-align: right;\">\n",
       "      <th></th>\n",
       "      <th>0</th>\n",
       "    </tr>\n",
       "  </thead>\n",
       "  <tbody>\n",
       "    <tr>\n",
       "      <th>0</th>\n",
       "      <td>10.000000</td>\n",
       "    </tr>\n",
       "    <tr>\n",
       "      <th>1</th>\n",
       "      <td>83.625103</td>\n",
       "    </tr>\n",
       "    <tr>\n",
       "      <th>2</th>\n",
       "      <td>699.315787</td>\n",
       "    </tr>\n",
       "    <tr>\n",
       "      <th>3</th>\n",
       "      <td>5848.035476</td>\n",
       "    </tr>\n",
       "    <tr>\n",
       "      <th>4</th>\n",
       "      <td>48904.256962</td>\n",
       "    </tr>\n",
       "  </tbody>\n",
       "</table>\n",
       "</div>"
      ],
      "text/plain": [
       "              0\n",
       "0     10.000000\n",
       "1     83.625103\n",
       "2    699.315787\n",
       "3   5848.035476\n",
       "4  48904.256962"
      ]
     },
     "execution_count": 7,
     "metadata": {},
     "output_type": "execute_result"
    }
   ],
   "source": [
    "df.head()"
   ]
  },
  {
   "cell_type": "code",
   "execution_count": 8,
   "id": "7a48a270-a93e-40d4-92ef-a104c39b1747",
   "metadata": {},
   "outputs": [
    {
     "name": "stdout",
     "output_type": "stream",
     "text": [
      "(20,)\n",
      "[1.0000000e+01 8.3625107e+01 6.9931580e+02 5.8480356e+03 4.8904258e+04\n",
      " 4.0896234e+05 3.4199520e+06 2.8599382e+07 2.3916264e+08 2.0000000e+09\n",
      " 4.2499999e+09 6.4999997e+09 8.7500001e+09 9.8750003e+09 1.1000001e+10\n",
      " 1.3250000e+10 1.4375000e+10 1.5500000e+10 1.7750000e+10 2.0000000e+10]\n"
     ]
    }
   ],
   "source": [
    "given_samples = df[0].to_numpy().astype(np.float32).squeeze()\n",
    "\n",
    "print(given_samples.shape)\n",
    "print(given_samples)"
   ]
  },
  {
   "cell_type": "markdown",
   "id": "c41e65cc-38ad-4578-bd30-00a58ad8bd4c",
   "metadata": {},
   "source": [
    "## 2. \"caseID.sNp\" - Ground Truth S-parameters"
   ]
  },
  {
   "cell_type": "code",
   "execution_count": 9,
   "id": "f4a0eb60-4e10-4752-b470-bb670979e775",
   "metadata": {},
   "outputs": [
    {
     "name": "stdout",
     "output_type": "stream",
     "text": [
      "['case06.s4p']\n"
     ]
    }
   ],
   "source": [
    "children = os.listdir(fname)\n",
    "children = [f for f in children if str(chip_num)+\".s\" in f]\n",
    "\n",
    "if len(children) > 1:\n",
    "    print(\"ERROR: MORE THAN ONE GT FILE\")\n",
    "print(children)\n",
    "\n",
    "gt_path = os.path.join(fname, children[0])"
   ]
  },
  {
   "cell_type": "code",
   "execution_count": 10,
   "id": "de4e6afd-55e2-4395-bc43-2574e29caf70",
   "metadata": {},
   "outputs": [
    {
     "name": "stdout",
     "output_type": "stream",
     "text": [
      "4-Port Network: 'case06',  10.0-20000000000.0 Hz, 501 pts, z0=[50.+0.j 50.+0.j 50.+0.j 50.+0.j]\n"
     ]
    }
   ],
   "source": [
    "from skrf import Network, Frequency\n",
    "\n",
    "gt_network = Network(gt_path)\n",
    "\n",
    "print(gt_network)"
   ]
  },
  {
   "cell_type": "code",
   "execution_count": 11,
   "id": "d93f919a-394d-421e-8c1c-02a12e4b51f6",
   "metadata": {},
   "outputs": [
    {
     "name": "stdout",
     "output_type": "stream",
     "text": [
      "[1.00000000e+01 4.00000100e+07 8.00000100e+07 1.20000010e+08\n",
      " 1.60000010e+08 2.00000010e+08 2.40000010e+08 2.80000010e+08\n",
      " 3.20000010e+08 3.60000010e+08 4.00000010e+08 4.40000010e+08\n",
      " 4.80000010e+08 5.20000010e+08 5.60000010e+08 6.00000010e+08\n",
      " 6.40000010e+08 6.80000010e+08 7.20000010e+08 7.60000010e+08\n",
      " 8.00000010e+08 8.40000010e+08 8.80000010e+08 9.20000010e+08\n",
      " 9.60000010e+08 1.00000001e+09 1.04000001e+09 1.08000001e+09\n",
      " 1.12000001e+09 1.16000001e+09 1.20000001e+09 1.24000001e+09\n",
      " 1.28000001e+09 1.32000001e+09 1.36000001e+09 1.40000001e+09\n",
      " 1.44000001e+09 1.48000001e+09 1.52000001e+09 1.56000001e+09\n",
      " 1.60000001e+09 1.64000001e+09 1.68000001e+09 1.72000001e+09\n",
      " 1.76000001e+09 1.80000001e+09 1.84000001e+09 1.88000001e+09\n",
      " 1.92000001e+09 1.96000001e+09 2.00000001e+09 2.04000001e+09\n",
      " 2.08000001e+09 2.12000001e+09 2.16000001e+09 2.20000001e+09\n",
      " 2.24000001e+09 2.28000001e+09 2.32000001e+09 2.36000001e+09\n",
      " 2.40000001e+09 2.44000001e+09 2.48000001e+09 2.52000001e+09\n",
      " 2.56000001e+09 2.60000001e+09 2.64000001e+09 2.68000001e+09\n",
      " 2.72000001e+09 2.76000001e+09 2.80000001e+09 2.84000001e+09\n",
      " 2.88000001e+09 2.92000001e+09 2.96000001e+09 3.00000001e+09\n",
      " 3.04000001e+09 3.08000001e+09 3.12000001e+09 3.16000001e+09\n",
      " 3.20000001e+09 3.24000001e+09 3.28000001e+09 3.32000001e+09\n",
      " 3.36000001e+09 3.40000001e+09 3.44000001e+09 3.48000001e+09\n",
      " 3.52000001e+09 3.56000001e+09 3.60000001e+09 3.64000001e+09\n",
      " 3.68000001e+09 3.72000001e+09 3.76000001e+09 3.80000001e+09\n",
      " 3.84000001e+09 3.88000001e+09 3.92000001e+09 3.96000001e+09\n",
      " 4.00000001e+09 4.04000001e+09 4.08000001e+09 4.12000001e+09\n",
      " 4.16000001e+09 4.20000001e+09 4.24000001e+09 4.28000001e+09\n",
      " 4.32000001e+09 4.36000001e+09 4.40000001e+09 4.44000001e+09\n",
      " 4.48000001e+09 4.52000001e+09 4.56000001e+09 4.60000001e+09\n",
      " 4.64000001e+09 4.68000001e+09 4.72000001e+09 4.76000001e+09\n",
      " 4.80000001e+09 4.84000001e+09 4.88000001e+09 4.92000001e+09\n",
      " 4.96000001e+09 5.00000001e+09 5.04000001e+09 5.08000001e+09\n",
      " 5.12000001e+09 5.16000001e+09 5.20000001e+09 5.24000001e+09\n",
      " 5.28000001e+09 5.32000001e+09 5.36000001e+09 5.40000001e+09\n",
      " 5.44000001e+09 5.48000001e+09 5.52000001e+09 5.56000001e+09\n",
      " 5.60000001e+09 5.64000001e+09 5.68000001e+09 5.72000001e+09\n",
      " 5.76000001e+09 5.80000001e+09 5.84000001e+09 5.88000001e+09\n",
      " 5.92000001e+09 5.96000001e+09 6.00000001e+09 6.04000001e+09\n",
      " 6.08000001e+09 6.12000001e+09 6.16000001e+09 6.20000001e+09\n",
      " 6.24000001e+09 6.28000001e+09 6.32000001e+09 6.36000001e+09\n",
      " 6.40000001e+09 6.44000001e+09 6.48000001e+09 6.52000001e+09\n",
      " 6.56000001e+09 6.60000001e+09 6.64000001e+09 6.68000001e+09\n",
      " 6.72000001e+09 6.76000001e+09 6.80000001e+09 6.84000001e+09\n",
      " 6.88000001e+09 6.92000001e+09 6.96000001e+09 7.00000001e+09\n",
      " 7.04000001e+09 7.08000001e+09 7.12000001e+09 7.16000001e+09\n",
      " 7.20000001e+09 7.24000001e+09 7.28000001e+09 7.32000001e+09\n",
      " 7.36000001e+09 7.40000001e+09 7.44000001e+09 7.48000001e+09\n",
      " 7.52000001e+09 7.56000001e+09 7.60000001e+09 7.64000001e+09\n",
      " 7.68000001e+09 7.72000001e+09 7.76000001e+09 7.80000001e+09\n",
      " 7.84000001e+09 7.88000001e+09 7.92000001e+09 7.96000001e+09\n",
      " 8.00000001e+09 8.04000001e+09 8.08000001e+09 8.12000001e+09\n",
      " 8.16000001e+09 8.20000001e+09 8.24000001e+09 8.28000001e+09\n",
      " 8.32000001e+09 8.36000001e+09 8.40000001e+09 8.44000001e+09\n",
      " 8.48000001e+09 8.52000001e+09 8.56000001e+09 8.60000001e+09\n",
      " 8.64000001e+09 8.68000001e+09 8.72000001e+09 8.76000001e+09\n",
      " 8.80000001e+09 8.84000001e+09 8.88000001e+09 8.92000001e+09\n",
      " 8.96000001e+09 9.00000001e+09 9.04000001e+09 9.08000001e+09\n",
      " 9.12000001e+09 9.16000001e+09 9.20000001e+09 9.24000001e+09\n",
      " 9.28000001e+09 9.32000001e+09 9.36000001e+09 9.40000001e+09\n",
      " 9.44000001e+09 9.48000001e+09 9.52000001e+09 9.56000001e+09\n",
      " 9.60000001e+09 9.64000001e+09 9.68000001e+09 9.72000001e+09\n",
      " 9.76000001e+09 9.80000001e+09 9.84000001e+09 9.88000001e+09\n",
      " 9.92000001e+09 9.96000001e+09 1.00000000e+10 1.00400000e+10\n",
      " 1.00800000e+10 1.01200000e+10 1.01600000e+10 1.02000000e+10\n",
      " 1.02400000e+10 1.02800000e+10 1.03200000e+10 1.03600000e+10\n",
      " 1.04000000e+10 1.04400000e+10 1.04800000e+10 1.05200000e+10\n",
      " 1.05600000e+10 1.06000000e+10 1.06400000e+10 1.06800000e+10\n",
      " 1.07200000e+10 1.07600000e+10 1.08000000e+10 1.08400000e+10\n",
      " 1.08800000e+10 1.09200000e+10 1.09600000e+10 1.10000000e+10\n",
      " 1.10400000e+10 1.10800000e+10 1.11200000e+10 1.11600000e+10\n",
      " 1.12000000e+10 1.12400000e+10 1.12800000e+10 1.13200000e+10\n",
      " 1.13600000e+10 1.14000000e+10 1.14400000e+10 1.14800000e+10\n",
      " 1.15200000e+10 1.15600000e+10 1.16000000e+10 1.16400000e+10\n",
      " 1.16800000e+10 1.17200000e+10 1.17600000e+10 1.18000000e+10\n",
      " 1.18400000e+10 1.18800000e+10 1.19200000e+10 1.19600000e+10\n",
      " 1.20000000e+10 1.20400000e+10 1.20800000e+10 1.21200000e+10\n",
      " 1.21600000e+10 1.22000000e+10 1.22400000e+10 1.22800000e+10\n",
      " 1.23200000e+10 1.23600000e+10 1.24000000e+10 1.24400000e+10\n",
      " 1.24800000e+10 1.25200000e+10 1.25600000e+10 1.26000000e+10\n",
      " 1.26400000e+10 1.26800000e+10 1.27200000e+10 1.27600000e+10\n",
      " 1.28000000e+10 1.28400000e+10 1.28800000e+10 1.29200000e+10\n",
      " 1.29600000e+10 1.30000000e+10 1.30400000e+10 1.30800000e+10\n",
      " 1.31200000e+10 1.31600000e+10 1.32000000e+10 1.32400000e+10\n",
      " 1.32800000e+10 1.33200000e+10 1.33600000e+10 1.34000000e+10\n",
      " 1.34400000e+10 1.34800000e+10 1.35200000e+10 1.35600000e+10\n",
      " 1.36000000e+10 1.36400000e+10 1.36800000e+10 1.37200000e+10\n",
      " 1.37600000e+10 1.38000000e+10 1.38400000e+10 1.38800000e+10\n",
      " 1.39200000e+10 1.39600000e+10 1.40000000e+10 1.40400000e+10\n",
      " 1.40800000e+10 1.41200000e+10 1.41600000e+10 1.42000000e+10\n",
      " 1.42400000e+10 1.42800000e+10 1.43200000e+10 1.43600000e+10\n",
      " 1.44000000e+10 1.44400000e+10 1.44800000e+10 1.45200000e+10\n",
      " 1.45600000e+10 1.46000000e+10 1.46400000e+10 1.46800000e+10\n",
      " 1.47200000e+10 1.47600000e+10 1.48000000e+10 1.48400000e+10\n",
      " 1.48800000e+10 1.49200000e+10 1.49600000e+10 1.50000000e+10\n",
      " 1.50400000e+10 1.50800000e+10 1.51200000e+10 1.51600000e+10\n",
      " 1.52000000e+10 1.52400000e+10 1.52800000e+10 1.53200000e+10\n",
      " 1.53600000e+10 1.54000000e+10 1.54400000e+10 1.54800000e+10\n",
      " 1.55200000e+10 1.55600000e+10 1.56000000e+10 1.56400000e+10\n",
      " 1.56800000e+10 1.57200000e+10 1.57600000e+10 1.58000000e+10\n",
      " 1.58400000e+10 1.58800000e+10 1.59200000e+10 1.59600000e+10\n",
      " 1.60000000e+10 1.60400000e+10 1.60800000e+10 1.61200000e+10\n",
      " 1.61600000e+10 1.62000000e+10 1.62400000e+10 1.62800000e+10\n",
      " 1.63200000e+10 1.63600000e+10 1.64000000e+10 1.64400000e+10\n",
      " 1.64800000e+10 1.65200000e+10 1.65600000e+10 1.66000000e+10\n",
      " 1.66400000e+10 1.66800000e+10 1.67200000e+10 1.67600000e+10\n",
      " 1.68000000e+10 1.68400000e+10 1.68800000e+10 1.69200000e+10\n",
      " 1.69600000e+10 1.70000000e+10 1.70400000e+10 1.70800000e+10\n",
      " 1.71200000e+10 1.71600000e+10 1.72000000e+10 1.72400000e+10\n",
      " 1.72800000e+10 1.73200000e+10 1.73600000e+10 1.74000000e+10\n",
      " 1.74400000e+10 1.74800000e+10 1.75200000e+10 1.75600000e+10\n",
      " 1.76000000e+10 1.76400000e+10 1.76800000e+10 1.77200000e+10\n",
      " 1.77600000e+10 1.78000000e+10 1.78400000e+10 1.78800000e+10\n",
      " 1.79200000e+10 1.79600000e+10 1.80000000e+10 1.80400000e+10\n",
      " 1.80800000e+10 1.81200000e+10 1.81600000e+10 1.82000000e+10\n",
      " 1.82400000e+10 1.82800000e+10 1.83200000e+10 1.83600000e+10\n",
      " 1.84000000e+10 1.84400000e+10 1.84800000e+10 1.85200000e+10\n",
      " 1.85600000e+10 1.86000000e+10 1.86400000e+10 1.86800000e+10\n",
      " 1.87200000e+10 1.87600000e+10 1.88000000e+10 1.88400000e+10\n",
      " 1.88800000e+10 1.89200000e+10 1.89600000e+10 1.90000000e+10\n",
      " 1.90400000e+10 1.90800000e+10 1.91200000e+10 1.91600000e+10\n",
      " 1.92000000e+10 1.92400000e+10 1.92800000e+10 1.93200000e+10\n",
      " 1.93600000e+10 1.94000000e+10 1.94400000e+10 1.94800000e+10\n",
      " 1.95200000e+10 1.95600000e+10 1.96000000e+10 1.96400000e+10\n",
      " 1.96800000e+10 1.97200000e+10 1.97600000e+10 1.98000000e+10\n",
      " 1.98400000e+10 1.98800000e+10 1.99200000e+10 1.99600000e+10\n",
      " 2.00000000e+10]\n"
     ]
    }
   ],
   "source": [
    "print(gt_network.f)"
   ]
  },
  {
   "cell_type": "code",
   "execution_count": 12,
   "id": "e883e8a8-dad8-4712-94bf-699aa13c4653",
   "metadata": {},
   "outputs": [
    {
     "name": "stdout",
     "output_type": "stream",
     "text": [
      "(501, 4, 4, 2)\n",
      "float32\n",
      "(501,)\n",
      "float32\n"
     ]
    }
   ],
   "source": [
    "gt_matrix_re = gt_network.s.real.astype(np.float32)\n",
    "gt_matrix_im = gt_network.s.imag.astype(np.float32)\n",
    "gt_matrix = np.stack((gt_matrix_re, gt_matrix_im), axis=-1)\n",
    "\n",
    "gt_freqs = gt_network.f.astype(np.float32).squeeze()\n",
    "\n",
    "print(gt_matrix.shape)\n",
    "print(gt_matrix.dtype)\n",
    "\n",
    "print(gt_freqs.shape)\n",
    "print(gt_freqs.dtype)"
   ]
  },
  {
   "cell_type": "markdown",
   "id": "5d5cf17d-ea74-462e-9b7c-e70331cc3ca9",
   "metadata": {},
   "source": [
    "## 3. \"caseID.HLAS.sNp\" - VF output"
   ]
  },
  {
   "cell_type": "code",
   "execution_count": 13,
   "id": "aade448c-566c-4ff6-92d4-757527348439",
   "metadata": {},
   "outputs": [
    {
     "name": "stdout",
     "output_type": "stream",
     "text": [
      "['case06.HLAS.s4p']\n"
     ]
    }
   ],
   "source": [
    "children = os.listdir(fname)\n",
    "children = [f for f in children if str(chip_num)+\".HLAS.s\" in f]\n",
    "\n",
    "if len(children) > 1:\n",
    "    print(\"ERROR: MORE THAN ONE VF FILE\")\n",
    "print(children)\n",
    "\n",
    "vf_path = os.path.join(fname, children[0])"
   ]
  },
  {
   "cell_type": "code",
   "execution_count": 14,
   "id": "eb7b6c75-871e-4a0b-a83d-ae15e00df632",
   "metadata": {},
   "outputs": [
    {
     "name": "stdout",
     "output_type": "stream",
     "text": [
      "4-Port Network: 'case06.HLAS',  10.0-20000000000.0 Hz, 501 pts, z0=[50.+0.j 50.+0.j 50.+0.j 50.+0.j]\n"
     ]
    }
   ],
   "source": [
    "vf_network = Network(vf_path)\n",
    "\n",
    "print(vf_network)"
   ]
  },
  {
   "cell_type": "code",
   "execution_count": 15,
   "id": "3968f8f5-d623-4271-9cbc-1a6b9f1584bf",
   "metadata": {},
   "outputs": [
    {
     "name": "stdout",
     "output_type": "stream",
     "text": [
      "[1.000e+01 4.000e+07 8.000e+07 1.200e+08 1.600e+08 2.000e+08 2.400e+08\n",
      " 2.800e+08 3.200e+08 3.600e+08 4.000e+08 4.400e+08 4.800e+08 5.200e+08\n",
      " 5.600e+08 6.000e+08 6.400e+08 6.800e+08 7.200e+08 7.600e+08 8.000e+08\n",
      " 8.400e+08 8.800e+08 9.200e+08 9.600e+08 1.000e+09 1.040e+09 1.080e+09\n",
      " 1.120e+09 1.160e+09 1.200e+09 1.240e+09 1.280e+09 1.320e+09 1.360e+09\n",
      " 1.400e+09 1.440e+09 1.480e+09 1.520e+09 1.560e+09 1.600e+09 1.640e+09\n",
      " 1.680e+09 1.720e+09 1.760e+09 1.800e+09 1.840e+09 1.880e+09 1.920e+09\n",
      " 1.960e+09 2.000e+09 2.040e+09 2.080e+09 2.120e+09 2.160e+09 2.200e+09\n",
      " 2.240e+09 2.280e+09 2.320e+09 2.360e+09 2.400e+09 2.440e+09 2.480e+09\n",
      " 2.520e+09 2.560e+09 2.600e+09 2.640e+09 2.680e+09 2.720e+09 2.760e+09\n",
      " 2.800e+09 2.840e+09 2.880e+09 2.920e+09 2.960e+09 3.000e+09 3.040e+09\n",
      " 3.080e+09 3.120e+09 3.160e+09 3.200e+09 3.240e+09 3.280e+09 3.320e+09\n",
      " 3.360e+09 3.400e+09 3.440e+09 3.480e+09 3.520e+09 3.560e+09 3.600e+09\n",
      " 3.640e+09 3.680e+09 3.720e+09 3.760e+09 3.800e+09 3.840e+09 3.880e+09\n",
      " 3.920e+09 3.960e+09 4.000e+09 4.040e+09 4.080e+09 4.120e+09 4.160e+09\n",
      " 4.200e+09 4.240e+09 4.280e+09 4.320e+09 4.360e+09 4.400e+09 4.440e+09\n",
      " 4.480e+09 4.520e+09 4.560e+09 4.600e+09 4.640e+09 4.680e+09 4.720e+09\n",
      " 4.760e+09 4.800e+09 4.840e+09 4.880e+09 4.920e+09 4.960e+09 5.000e+09\n",
      " 5.040e+09 5.080e+09 5.120e+09 5.160e+09 5.200e+09 5.240e+09 5.280e+09\n",
      " 5.320e+09 5.360e+09 5.400e+09 5.440e+09 5.480e+09 5.520e+09 5.560e+09\n",
      " 5.600e+09 5.640e+09 5.680e+09 5.720e+09 5.760e+09 5.800e+09 5.840e+09\n",
      " 5.880e+09 5.920e+09 5.960e+09 6.000e+09 6.040e+09 6.080e+09 6.120e+09\n",
      " 6.160e+09 6.200e+09 6.240e+09 6.280e+09 6.320e+09 6.360e+09 6.400e+09\n",
      " 6.440e+09 6.480e+09 6.520e+09 6.560e+09 6.600e+09 6.640e+09 6.680e+09\n",
      " 6.720e+09 6.760e+09 6.800e+09 6.840e+09 6.880e+09 6.920e+09 6.960e+09\n",
      " 7.000e+09 7.040e+09 7.080e+09 7.120e+09 7.160e+09 7.200e+09 7.240e+09\n",
      " 7.280e+09 7.320e+09 7.360e+09 7.400e+09 7.440e+09 7.480e+09 7.520e+09\n",
      " 7.560e+09 7.600e+09 7.640e+09 7.680e+09 7.720e+09 7.760e+09 7.800e+09\n",
      " 7.840e+09 7.880e+09 7.920e+09 7.960e+09 8.000e+09 8.040e+09 8.080e+09\n",
      " 8.120e+09 8.160e+09 8.200e+09 8.240e+09 8.280e+09 8.320e+09 8.360e+09\n",
      " 8.400e+09 8.440e+09 8.480e+09 8.520e+09 8.560e+09 8.600e+09 8.640e+09\n",
      " 8.680e+09 8.720e+09 8.760e+09 8.800e+09 8.840e+09 8.880e+09 8.920e+09\n",
      " 8.960e+09 9.000e+09 9.040e+09 9.080e+09 9.120e+09 9.160e+09 9.200e+09\n",
      " 9.240e+09 9.280e+09 9.320e+09 9.360e+09 9.400e+09 9.440e+09 9.480e+09\n",
      " 9.520e+09 9.560e+09 9.600e+09 9.640e+09 9.680e+09 9.720e+09 9.760e+09\n",
      " 9.800e+09 9.840e+09 9.880e+09 9.920e+09 9.960e+09 1.000e+10 1.004e+10\n",
      " 1.008e+10 1.012e+10 1.016e+10 1.020e+10 1.024e+10 1.028e+10 1.032e+10\n",
      " 1.036e+10 1.040e+10 1.044e+10 1.048e+10 1.052e+10 1.056e+10 1.060e+10\n",
      " 1.064e+10 1.068e+10 1.072e+10 1.076e+10 1.080e+10 1.084e+10 1.088e+10\n",
      " 1.092e+10 1.096e+10 1.100e+10 1.104e+10 1.108e+10 1.112e+10 1.116e+10\n",
      " 1.120e+10 1.124e+10 1.128e+10 1.132e+10 1.136e+10 1.140e+10 1.144e+10\n",
      " 1.148e+10 1.152e+10 1.156e+10 1.160e+10 1.164e+10 1.168e+10 1.172e+10\n",
      " 1.176e+10 1.180e+10 1.184e+10 1.188e+10 1.192e+10 1.196e+10 1.200e+10\n",
      " 1.204e+10 1.208e+10 1.212e+10 1.216e+10 1.220e+10 1.224e+10 1.228e+10\n",
      " 1.232e+10 1.236e+10 1.240e+10 1.244e+10 1.248e+10 1.252e+10 1.256e+10\n",
      " 1.260e+10 1.264e+10 1.268e+10 1.272e+10 1.276e+10 1.280e+10 1.284e+10\n",
      " 1.288e+10 1.292e+10 1.296e+10 1.300e+10 1.304e+10 1.308e+10 1.312e+10\n",
      " 1.316e+10 1.320e+10 1.324e+10 1.328e+10 1.332e+10 1.336e+10 1.340e+10\n",
      " 1.344e+10 1.348e+10 1.352e+10 1.356e+10 1.360e+10 1.364e+10 1.368e+10\n",
      " 1.372e+10 1.376e+10 1.380e+10 1.384e+10 1.388e+10 1.392e+10 1.396e+10\n",
      " 1.400e+10 1.404e+10 1.408e+10 1.412e+10 1.416e+10 1.420e+10 1.424e+10\n",
      " 1.428e+10 1.432e+10 1.436e+10 1.440e+10 1.444e+10 1.448e+10 1.452e+10\n",
      " 1.456e+10 1.460e+10 1.464e+10 1.468e+10 1.472e+10 1.476e+10 1.480e+10\n",
      " 1.484e+10 1.488e+10 1.492e+10 1.496e+10 1.500e+10 1.504e+10 1.508e+10\n",
      " 1.512e+10 1.516e+10 1.520e+10 1.524e+10 1.528e+10 1.532e+10 1.536e+10\n",
      " 1.540e+10 1.544e+10 1.548e+10 1.552e+10 1.556e+10 1.560e+10 1.564e+10\n",
      " 1.568e+10 1.572e+10 1.576e+10 1.580e+10 1.584e+10 1.588e+10 1.592e+10\n",
      " 1.596e+10 1.600e+10 1.604e+10 1.608e+10 1.612e+10 1.616e+10 1.620e+10\n",
      " 1.624e+10 1.628e+10 1.632e+10 1.636e+10 1.640e+10 1.644e+10 1.648e+10\n",
      " 1.652e+10 1.656e+10 1.660e+10 1.664e+10 1.668e+10 1.672e+10 1.676e+10\n",
      " 1.680e+10 1.684e+10 1.688e+10 1.692e+10 1.696e+10 1.700e+10 1.704e+10\n",
      " 1.708e+10 1.712e+10 1.716e+10 1.720e+10 1.724e+10 1.728e+10 1.732e+10\n",
      " 1.736e+10 1.740e+10 1.744e+10 1.748e+10 1.752e+10 1.756e+10 1.760e+10\n",
      " 1.764e+10 1.768e+10 1.772e+10 1.776e+10 1.780e+10 1.784e+10 1.788e+10\n",
      " 1.792e+10 1.796e+10 1.800e+10 1.804e+10 1.808e+10 1.812e+10 1.816e+10\n",
      " 1.820e+10 1.824e+10 1.828e+10 1.832e+10 1.836e+10 1.840e+10 1.844e+10\n",
      " 1.848e+10 1.852e+10 1.856e+10 1.860e+10 1.864e+10 1.868e+10 1.872e+10\n",
      " 1.876e+10 1.880e+10 1.884e+10 1.888e+10 1.892e+10 1.896e+10 1.900e+10\n",
      " 1.904e+10 1.908e+10 1.912e+10 1.916e+10 1.920e+10 1.924e+10 1.928e+10\n",
      " 1.932e+10 1.936e+10 1.940e+10 1.944e+10 1.948e+10 1.952e+10 1.956e+10\n",
      " 1.960e+10 1.964e+10 1.968e+10 1.972e+10 1.976e+10 1.980e+10 1.984e+10\n",
      " 1.988e+10 1.992e+10 1.996e+10 2.000e+10]\n"
     ]
    }
   ],
   "source": [
    "print(vf_network.f)"
   ]
  },
  {
   "cell_type": "code",
   "execution_count": 16,
   "id": "36f8db90-8ded-4533-a60d-7d351cebd1ce",
   "metadata": {},
   "outputs": [
    {
     "name": "stdout",
     "output_type": "stream",
     "text": [
      "(501, 4, 4, 2)\n",
      "float32\n",
      "(501,)\n",
      "float32\n"
     ]
    }
   ],
   "source": [
    "vf_matrix_re = vf_network.s.real.astype(np.float32)\n",
    "vf_matrix_im = vf_network.s.imag.astype(np.float32)\n",
    "vf_matrix = np.stack((vf_matrix_re, vf_matrix_im), axis=-1)\n",
    "\n",
    "vf_freqs = vf_network.f.astype(np.float32).squeeze()\n",
    "\n",
    "print(vf_matrix.shape)\n",
    "print(vf_matrix.dtype)\n",
    "\n",
    "print(vf_freqs.shape)\n",
    "print(vf_freqs.dtype)"
   ]
  },
  {
   "cell_type": "markdown",
   "id": "d5d4c363-a04a-4407-96bf-e346735dffc8",
   "metadata": {},
   "source": [
    "## 4. \"SIEMENS_AFS_SAMPLE_POINT_SIMULATIONS.sNp\" - GT sampled at the given Fs"
   ]
  },
  {
   "cell_type": "code",
   "execution_count": 17,
   "id": "6cc4cbf0-8223-440d-9a27-5241fe807856",
   "metadata": {},
   "outputs": [
    {
     "name": "stdout",
     "output_type": "stream",
     "text": [
      "['SIEMENS_AFS_SAMPLE_POINT_SIMULATIONS.s4p']\n"
     ]
    }
   ],
   "source": [
    "children = os.listdir(fname)\n",
    "children = [f for f in children if \"SIEMENS_AFS_SAMPLE_POINT_SIMULATIONS.s\" in f]\n",
    "\n",
    "if len(children) > 1:\n",
    "    print(\"ERROR: MORE THAN ONE SAMPLED GT FILE\")\n",
    "print(children)\n",
    "\n",
    "y_path = os.path.join(fname, children[0])"
   ]
  },
  {
   "cell_type": "code",
   "execution_count": 18,
   "id": "a1f36038-288d-49c1-9a14-80dd8f7c585c",
   "metadata": {},
   "outputs": [
    {
     "name": "stdout",
     "output_type": "stream",
     "text": [
      "4-Port Network: 'SIEMENS_AFS_SAMPLE_POINT_SIMULATIONS',  10.0-20000000000.0 Hz, 20 pts, z0=[50.+0.j 50.+0.j 50.+0.j 50.+0.j]\n"
     ]
    }
   ],
   "source": [
    "y_network = Network(y_path)\n",
    "\n",
    "print(y_network)"
   ]
  },
  {
   "cell_type": "code",
   "execution_count": 19,
   "id": "dd360433-2155-4d52-afae-254d414b7c92",
   "metadata": {},
   "outputs": [
    {
     "name": "stdout",
     "output_type": "stream",
     "text": [
      "[1.00000000e+01 8.36251031e+01 6.99315787e+02 5.84803548e+03\n",
      " 4.89042570e+04 4.08962353e+05 3.41995189e+06 2.85993830e+07\n",
      " 2.39162635e+08 2.00000000e+09 4.25000000e+09 6.50000000e+09\n",
      " 8.75000000e+09 9.87500000e+09 1.10000000e+10 1.32500000e+10\n",
      " 1.43750000e+10 1.55000000e+10 1.77500000e+10 2.00000000e+10]\n"
     ]
    }
   ],
   "source": [
    "print(y_network.f)"
   ]
  },
  {
   "cell_type": "code",
   "execution_count": 20,
   "id": "3c7018a0-de73-4398-9ba8-a347aaa117b4",
   "metadata": {},
   "outputs": [
    {
     "name": "stdout",
     "output_type": "stream",
     "text": [
      "(20, 4, 4, 2)\n",
      "float32\n",
      "(20,)\n",
      "float32\n"
     ]
    }
   ],
   "source": [
    "y_matrix_re = y_network.s.real.astype(np.float32)\n",
    "y_matrix_im = y_network.s.imag.astype(np.float32)\n",
    "y_matrix = np.stack((y_matrix_re, y_matrix_im), axis=-1)\n",
    "\n",
    "y_freqs = y_network.f.astype(np.float32).squeeze()\n",
    "\n",
    "print(y_matrix.shape)\n",
    "print(y_matrix.dtype)\n",
    "\n",
    "print(y_freqs.shape)\n",
    "print(y_freqs.dtype)"
   ]
  },
  {
   "cell_type": "markdown",
   "id": "a1eece9a-c5cb-4c78-9786-8081385e459c",
   "metadata": {},
   "source": [
    "## Now compare the plots"
   ]
  },
  {
   "cell_type": "code",
   "execution_count": 21,
   "id": "9c7e5faa-674a-49f3-81cb-880b0f49f864",
   "metadata": {},
   "outputs": [
    {
     "name": "stdout",
     "output_type": "stream",
     "text": [
      "[[0.+0.j 0.+0.j 0.+0.j 0.+0.j]\n",
      " [0.+0.j 0.+0.j 0.+0.j 0.+0.j]\n",
      " [0.+0.j 0.+0.j 0.+0.j 0.+0.j]\n",
      " [0.+0.j 0.+0.j 0.+0.j 0.+0.j]]\n",
      "[[-0.00102541-0.00956438j -0.00021517-0.00207186j  0.00117898+0.02367297j\n",
      "   0.00020767+0.00151916j]\n",
      " [-0.00021517-0.00207186j -0.00100118-0.00927289j  0.00020254+0.00152098j\n",
      "   0.00115405+0.02337387j]\n",
      " [ 0.00117898+0.02367297j  0.00020254+0.00152098j -0.00102336-0.00956625j\n",
      "  -0.0002105 -0.00207191j]\n",
      " [ 0.00020767+0.00151916j  0.00115405+0.02337387j -0.0002105 -0.00207191j\n",
      "  -0.00099862-0.00927062j]]\n",
      "[[-0.00210732-0.01854013j -0.00044902-0.004036j    0.00261512+0.0467051j\n",
      "   0.00041701+0.0029332j ]\n",
      " [-0.00044902-0.004036j   -0.00206466-0.01796103j  0.00041462+0.00293503j\n",
      "   0.00255875+0.04611546j]\n",
      " [ 0.00261512+0.0467051j   0.00041462+0.00293503j -0.00210942-0.01853928j\n",
      "  -0.00044452-0.00403711j]\n",
      " [ 0.00041701+0.0029332j   0.00255875+0.04611546j -0.00044452-0.00403711j\n",
      "  -0.00204065-0.0179622j ]]\n"
     ]
    }
   ],
   "source": [
    "diff_0 = y_network.s[0] - gt_network.s[0]\n",
    "diff_1 = y_network.s[1] - gt_network.s[1]\n",
    "diff_2 = y_network.s[2] - gt_network.s[2]\n",
    "\n",
    "print(diff_0)\n",
    "print(diff_1)\n",
    "print(diff_2)"
   ]
  },
  {
   "cell_type": "code",
   "execution_count": 22,
   "id": "5262fc8b-ea46-482f-bf14-52c60c8a7a0e",
   "metadata": {},
   "outputs": [
    {
     "name": "stderr",
     "output_type": "stream",
     "text": [
      "No handles with labels found to put in legend.\n",
      "No handles with labels found to put in legend.\n",
      "No handles with labels found to put in legend.\n",
      "No handles with labels found to put in legend.\n",
      "No handles with labels found to put in legend.\n",
      "No handles with labels found to put in legend.\n",
      "No handles with labels found to put in legend.\n",
      "No handles with labels found to put in legend.\n",
      "No handles with labels found to put in legend.\n",
      "No handles with labels found to put in legend.\n",
      "No handles with labels found to put in legend.\n",
      "No handles with labels found to put in legend.\n",
      "No handles with labels found to put in legend.\n",
      "No handles with labels found to put in legend.\n",
      "No handles with labels found to put in legend.\n",
      "No handles with labels found to put in legend.\n"
     ]
    },
    {
     "data": {
      "image/png": "[encoded data removed]",
      "text/plain": [
       "<Figure size 432x288 with 1 Axes>"
      ]
     },
     "metadata": {
      "needs_background": "light"
     },
     "output_type": "display_data"
    }
   ],
   "source": [
    "plt.title('GT S-Params')\n",
    "gt_network.plot_s_db(label=\"\")"
   ]
  },
  {
   "cell_type": "code",
   "execution_count": 23,
   "id": "4da6953b-394f-4c47-97a6-c0b11dceb63b",
   "metadata": {},
   "outputs": [
    {
     "name": "stderr",
     "output_type": "stream",
     "text": [
      "No handles with labels found to put in legend.\n",
      "No handles with labels found to put in legend.\n",
      "No handles with labels found to put in legend.\n",
      "No handles with labels found to put in legend.\n",
      "No handles with labels found to put in legend.\n",
      "No handles with labels found to put in legend.\n",
      "No handles with labels found to put in legend.\n",
      "No handles with labels found to put in legend.\n",
      "No handles with labels found to put in legend.\n",
      "No handles with labels found to put in legend.\n",
      "No handles with labels found to put in legend.\n",
      "No handles with labels found to put in legend.\n",
      "No handles with labels found to put in legend.\n",
      "No handles with labels found to put in legend.\n",
      "No handles with labels found to put in legend.\n",
      "No handles with labels found to put in legend.\n"
     ]
    },
    {
     "data": {
      "image/png": "[encoded data removed]",
      "text/plain": [
       "<Figure size 432x288 with 1 Axes>"
      ]
     },
     "metadata": {
      "needs_background": "light"
     },
     "output_type": "display_data"
    }
   ],
   "source": [
    "plt.title('VF S-Params')\n",
    "vf_network.plot_s_db(label=\"\")"
   ]
  },
  {
   "cell_type": "code",
   "execution_count": 24,
   "id": "f209f2ac-7ed3-4578-9f0e-02b45004083a",
   "metadata": {},
   "outputs": [
    {
     "name": "stderr",
     "output_type": "stream",
     "text": [
      "No handles with labels found to put in legend.\n",
      "No handles with labels found to put in legend.\n",
      "No handles with labels found to put in legend.\n",
      "No handles with labels found to put in legend.\n",
      "No handles with labels found to put in legend.\n",
      "No handles with labels found to put in legend.\n",
      "No handles with labels found to put in legend.\n",
      "No handles with labels found to put in legend.\n",
      "No handles with labels found to put in legend.\n",
      "No handles with labels found to put in legend.\n",
      "No handles with labels found to put in legend.\n",
      "No handles with labels found to put in legend.\n",
      "No handles with labels found to put in legend.\n",
      "No handles with labels found to put in legend.\n",
      "No handles with labels found to put in legend.\n",
      "No handles with labels found to put in legend.\n"
     ]
    },
    {
     "data": {
      "image/png": "[encoded data removed]",
      "text/plain": [
       "<Figure size 432x288 with 1 Axes>"
      ]
     },
     "metadata": {
      "needs_background": "light"
     },
     "output_type": "display_data"
    }
   ],
   "source": [
    "plt.title('SAMPLED S-Params')\n",
    "y_network.plot_s_db(label=\"\")"
   ]
  },
  {
   "cell_type": "code",
   "execution_count": null,
   "id": "21b5086d-4a9e-461c-bd93-102cf367844b",
   "metadata": {},
   "outputs": [],
   "source": []
  }
 ],
 "metadata": {
  "kernelspec": {
   "display_name": "Python 3",
   "language": "python",
   "name": "python3"
  },
  "language_info": {
   "codemirror_mode": {
    "name": "ipython",
    "version": 3
   },
   "file_extension": ".py",
   "mimetype": "text/x-python",
   "name": "python",
   "nbconvert_exporter": "python",
   "pygments_lexer": "ipython3",
   "version": "3.7.10"
  }
 },
 "nbformat": 4,
 "nbformat_minor": 5
}
