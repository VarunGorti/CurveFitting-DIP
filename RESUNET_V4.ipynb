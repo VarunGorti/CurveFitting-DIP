{
 "cells": [
  {
   "cell_type": "code",
   "execution_count": 1,
   "id": "3b86e31b-2abb-4974-b648-cdb0276e62c5",
   "metadata": {},
   "outputs": [
    {
     "name": "stderr",
     "output_type": "stream",
     "text": [
      "/scratch/cluster/vgorti/miniconda3/envs/DIP/lib/python3.9/site-packages/tqdm/auto.py:22: TqdmWarning: IProgress not found. Please update jupyter and ipywidgets. See https://ipywidgets.readthedocs.io/en/stable/user_install.html\n",
      "  from .autonotebook import tqdm as notebook_tqdm\n"
     ]
    }
   ],
   "source": [
    "import torch\n",
    "import random\n",
    "import numpy as np\n",
    "\n",
    "import matplotlib.pyplot as plt\n",
    "%matplotlib inline\n",
    "\n",
    "import torch.nn as nn\n",
    "import torch.nn.functional as F\n",
    "import torch.optim\n",
    "\n",
    "import math\n",
    "import time"
   ]
  },
  {
   "cell_type": "code",
   "execution_count": 2,
   "id": "323dacc4-89c5-4f6a-bf59-fb0a197c4e50",
   "metadata": {},
   "outputs": [
    {
     "name": "stdout",
     "output_type": "stream",
     "text": [
      "cuda:0\n"
     ]
    }
   ],
   "source": [
    "device = torch.device('cuda:0' if torch.cuda.is_available() else 'cpu')\n",
    "print(device)"
   ]
  },
  {
   "cell_type": "markdown",
   "id": "63a329bc-9359-4ad5-83b1-1b3cabc37916",
   "metadata": {},
   "source": [
    "# 1. Load the data and get measurements"
   ]
  },
  {
   "cell_type": "code",
   "execution_count": 3,
   "id": "2bcd22b3-d54c-4879-885d-d17fe14ded29",
   "metadata": {},
   "outputs": [],
   "source": [
    "ROOT_PATH = \"/scratch/cluster/vgorti/UTAFSDataNew/new_data\"\n",
    "CHIP_NUM = 2"
   ]
  },
  {
   "cell_type": "code",
   "execution_count": 4,
   "id": "3784652d-e58b-49e7-820f-dc9516f381a8",
   "metadata": {},
   "outputs": [],
   "source": [
    "import utils\n",
    "\n",
    "data_dict = utils.grab_chip_data(ROOT_PATH, CHIP_NUM)"
   ]
  },
  {
   "cell_type": "code",
   "execution_count": 5,
   "id": "8bc32add-f84d-455c-b1f3-a47fa18bf3da",
   "metadata": {},
   "outputs": [
    {
     "data": {
      "text/plain": [
       "dict_keys(['gt_matrix', 'gt_freqs', 'vf_matrix', 'y_matrix', 'y_freqs'])"
      ]
     },
     "execution_count": 5,
     "metadata": {},
     "output_type": "execute_result"
    }
   ],
   "source": [
    "data_dict.keys()"
   ]
  },
  {
   "cell_type": "markdown",
   "id": "0253d82f-fc8a-483c-a5b5-8ea5ffa8c8f2",
   "metadata": {
    "tags": []
   },
   "source": [
    "## Convert the raw data matrices to only the unique S-parameters"
   ]
  },
  {
   "cell_type": "code",
   "execution_count": 6,
   "id": "cf8a71d4-e0ef-48e6-84d9-2d259d01e509",
   "metadata": {},
   "outputs": [
    {
     "name": "stdout",
     "output_type": "stream",
     "text": [
      "VF S-parameters shape:  (10, 2, 581)\n",
      "GT S-parameters shape:  (10, 2, 581)\n",
      "Y S-parameters shape:  (10, 2, 14)\n"
     ]
    }
   ],
   "source": [
    "vf_data = utils.matrix_to_sparams(data_dict['vf_matrix'])\n",
    "gt_data = utils.matrix_to_sparams(data_dict['gt_matrix'])\n",
    "y_data = utils.matrix_to_sparams(data_dict['y_matrix'])\n",
    "\n",
    "print(\"VF S-parameters shape: \", vf_data.shape)\n",
    "print(\"GT S-parameters shape: \", gt_data.shape)\n",
    "print(\"Y S-parameters shape: \", y_data.shape)"
   ]
  },
  {
   "cell_type": "code",
   "execution_count": 7,
   "id": "2b3f248a-70f9-4e70-bb4e-bf132e2fe3d6",
   "metadata": {},
   "outputs": [
    {
     "name": "stdout",
     "output_type": "stream",
     "text": [
      "GT frequencies shape:  (581,)\n",
      "Y frequencies shape:  (14,)\n"
     ]
    }
   ],
   "source": [
    "gt_freqs = data_dict['gt_freqs']\n",
    "y_freqs = data_dict['y_freqs']\n",
    "\n",
    "print(\"GT frequencies shape: \", gt_freqs.shape)\n",
    "print(\"Y frequencies shape: \", y_freqs.shape)"
   ]
  },
  {
   "cell_type": "code",
   "execution_count": 8,
   "id": "303a5998-08b0-4fb1-af81-2bb992c655ba",
   "metadata": {},
   "outputs": [
    {
     "name": "stdout",
     "output_type": "stream",
     "text": [
      "First frequency point:  1000000000.0\n",
      "Mean frequency spacing:  50000000.0\n",
      "STD frequency spacing:  0.0\n",
      "Mode frequency spacing:  50000000.0\n",
      "Number of samples with non-equal spacing:  1\n"
     ]
    }
   ],
   "source": [
    "import scipy as sp\n",
    "\n",
    "spacings = gt_freqs[1:] - gt_freqs[:-1]\n",
    "\n",
    "mode_spacing = sp.stats.mode(spacings, keepdims=False)[0]\n",
    "num_mode = len(np.where(spacings==mode_spacing)[0])\n",
    "\n",
    "print(\"First frequency point: \", gt_freqs[0])\n",
    "print(\"Mean frequency spacing: \", np.mean(spacings))\n",
    "print(\"STD frequency spacing: \", np.std(spacings))\n",
    "print(\"Mode frequency spacing: \", mode_spacing)\n",
    "print(\"Number of samples with non-equal spacing: \", len(gt_freqs) - num_mode)"
   ]
  },
  {
   "cell_type": "code",
   "execution_count": 9,
   "id": "ab2bc461-a793-49b9-86f6-b98ab7ca43b9",
   "metadata": {},
   "outputs": [],
   "source": [
    "#NOTE THIS IS EXPERIMENTAL!!!\n",
    "if gt_freqs[0] == 0:\n",
    "    gt_freqs = gt_freqs[1:]\n",
    "    gt_data = gt_data[:, :, 1:]"
   ]
  },
  {
   "cell_type": "markdown",
   "id": "6b8a8d4c-66f0-41b2-97bc-5514687818d4",
   "metadata": {},
   "source": [
    "## Make some variables we will need"
   ]
  },
  {
   "cell_type": "code",
   "execution_count": 10,
   "id": "a4738913-b30b-47af-a422-d4f5f076998f",
   "metadata": {},
   "outputs": [
    {
     "name": "stdout",
     "output_type": "stream",
     "text": [
      "N_FREQS:  581\n",
      "N_SPARAMS:  10\n"
     ]
    }
   ],
   "source": [
    "N_FREQS = gt_data.shape[-1]\n",
    "N_SPARAMS = gt_data.shape[0]  \n",
    "\n",
    "print(\"N_FREQS: \", N_FREQS)\n",
    "print(\"N_SPARAMS: \", N_SPARAMS)"
   ]
  },
  {
   "cell_type": "code",
   "execution_count": 11,
   "id": "4edbfcae-4c18-4257-a1f4-022e1d7b1dd7",
   "metadata": {},
   "outputs": [
    {
     "name": "stdout",
     "output_type": "stream",
     "text": [
      "x shape:  torch.Size([1, 20, 581])\n"
     ]
    }
   ],
   "source": [
    "x = torch.from_numpy(gt_data).view(-1, N_FREQS).unsqueeze(0).to(device)\n",
    "\n",
    "print(\"x shape: \", x.shape)"
   ]
  },
  {
   "cell_type": "code",
   "execution_count": 12,
   "id": "2cc954d9-8743-418c-9f21-26c1c6a1052c",
   "metadata": {},
   "outputs": [
    {
     "name": "stdout",
     "output_type": "stream",
     "text": [
      "x_mag shape:  torch.Size([1, 10, 581])\n"
     ]
    }
   ],
   "source": [
    "x_mag = utils.sparams_to_mag(x)\n",
    "\n",
    "print(\"x_mag shape: \", x_mag.shape)"
   ]
  },
  {
   "cell_type": "markdown",
   "id": "19a03c8e-cf12-4c5e-aca6-b3db5b8bd3a2",
   "metadata": {},
   "source": [
    "## Plot some stuff"
   ]
  },
  {
   "cell_type": "code",
   "execution_count": 13,
   "id": "ff78a259-32bf-409a-a9ae-716460744a36",
   "metadata": {},
   "outputs": [
    {
     "data": {
      "image/png": "[encoded data removed]",
      "text/plain": [
       "<Figure size 640x480 with 1 Axes>"
      ]
     },
     "metadata": {},
     "output_type": "display_data"
    }
   ],
   "source": [
    "plt.figure()\n",
    "for i in range(N_SPARAMS):\n",
    "    plt.plot(gt_freqs, x_mag[0, i].cpu(), label=str(i))\n",
    "if N_SPARAMS <= 10:\n",
    "    plt.legend()\n",
    "plt.title(\"Ground Truth Magnitude Spectrum\")\n",
    "plt.ylabel(\"Magnitude\")\n",
    "plt.xlabel(\"Frequency\")\n",
    "plt.show()"
   ]
  },
  {
   "cell_type": "code",
   "execution_count": 14,
   "id": "409b2ee7-20da-467f-b00f-41b53ccb3f06",
   "metadata": {},
   "outputs": [
    {
     "data": {
      "image/png": "[encoded data removed]",
      "text/plain": [
       "<Figure size 640x480 with 1 Axes>"
      ]
     },
     "metadata": {},
     "output_type": "display_data"
    }
   ],
   "source": [
    "plt.figure()\n",
    "for i in range(N_SPARAMS):\n",
    "    plt.plot(gt_freqs, x[0,2*i].cpu(), label=str(i)+\" Re\")\n",
    "    plt.plot(gt_freqs, x[0,2*i+1].cpu(), label=str(i)+\" Im\")\n",
    "if N_SPARAMS <= 10:\n",
    "    plt.legend()\n",
    "plt.title(\"Ground Truth Complex Representation\")\n",
    "plt.xlabel(\"Frequency\")\n",
    "plt.show()"
   ]
  },
  {
   "cell_type": "markdown",
   "id": "b50dd8c2-6e31-4994-b80b-1a29ed5caca5",
   "metadata": {},
   "source": [
    "## Grab Some Measurements"
   ]
  },
  {
   "cell_type": "code",
   "execution_count": 15,
   "id": "14c1cc89-bb70-40df-991c-4a82b04833b7",
   "metadata": {},
   "outputs": [
    {
     "name": "stdout",
     "output_type": "stream",
     "text": [
      "Number of Ground Truth Frequency Points:  581\n",
      "Number of Measurements:  14\n",
      "Undersampling Ratio:  0.024096385542168676\n"
     ]
    }
   ],
   "source": [
    "PROBLEM_TYPE = \"equal\" #[random, equal, forecast, full, log, sqrt]\n",
    "# M = int(0.10 * N_FREQS)\n",
    "M = 14\n",
    "\n",
    "kept_inds, missing_inds = utils.get_inds(PROBLEM_TYPE, N_FREQS, M)\n",
    "\n",
    "M = len(kept_inds) #re-define in case kept_inds is off by 1 or something\n",
    "\n",
    "print(\"Number of Ground Truth Frequency Points: \", N_FREQS)\n",
    "print(\"Number of Measurements: \", M)\n",
    "print(\"Undersampling Ratio: \", M/N_FREQS)"
   ]
  },
  {
   "cell_type": "code",
   "execution_count": 16,
   "id": "4026d9a6-1445-4608-b76c-13eba2f71860",
   "metadata": {},
   "outputs": [
    {
     "name": "stdout",
     "output_type": "stream",
     "text": [
      "y shape:  torch.Size([1, 20, 14])\n",
      "y_freqs shape:  (14,)\n"
     ]
    }
   ],
   "source": [
    "y = torch.clone(x)[:, :, kept_inds]\n",
    "y_freqs = gt_freqs[kept_inds]\n",
    "\n",
    "print(\"y shape: \", y.shape)\n",
    "print(\"y_freqs shape: \", y_freqs.shape)"
   ]
  },
  {
   "cell_type": "markdown",
   "id": "4ead318c-5913-467a-959f-0e69157a35c8",
   "metadata": {},
   "source": [
    "# 2. Network Setup"
   ]
  },
  {
   "cell_type": "markdown",
   "id": "05083810-dc41-42af-8dbb-1ba7a65f2ebd",
   "metadata": {},
   "source": [
    "## Define network parameters"
   ]
  },
  {
   "cell_type": "code",
   "execution_count": 17,
   "id": "1a2bccf0-f3c8-40aa-a78e-12c3aa73a889",
   "metadata": {},
   "outputs": [],
   "source": [
    "NZ = y.shape[1]\n",
    "\n",
    "NUM_LAYERS = int(np.ceil(np.log2(N_FREQS))) - 4\n",
    "\n",
    "if NZ < 64:\n",
    "    BASE_NGF = 2 ** (int(np.ceil(np.log2(NZ))) + 1) #second power of two after NZ \n",
    "elif NZ < 128:\n",
    "    BASE_NGF = 2 ** int(np.ceil(np.log2(NZ))) #next highest power of 2\n",
    "else:\n",
    "    BASE_NGF = NZ\n",
    "NGF = [BASE_NGF] * NUM_LAYERS\n",
    "\n",
    "BS = y.shape[0]\n",
    "NC = y.shape[1]\n",
    "\n",
    "KERNEL_SIZE = 3\n",
    "USE_SKIP = False\n",
    "CAUSAL_PASSIVE = True\n",
    "OPTIMIZE_Z = False\n",
    "USE_SGLD = False"
   ]
  },
  {
   "cell_type": "code",
   "execution_count": 18,
   "id": "2f46b6ec-ae3e-4b8c-8d8a-13417c150144",
   "metadata": {},
   "outputs": [
    {
     "name": "stdout",
     "output_type": "stream",
     "text": [
      "NZ:  20\n",
      "NUM_LAYERS:  6\n",
      "BASE NGF:  64\n",
      "NGF:  [64, 64, 64, 64, 64, 64]\n",
      "BS:  1\n",
      "NC:  20\n",
      "KERNEL_SIZE:  3\n",
      "USE_SKIP:  False\n",
      "CAUSAL_PASSIVE:  True\n",
      "OPTIMIZE_Z:  False\n"
     ]
    }
   ],
   "source": [
    "print(\"NZ: \", str(NZ))\n",
    "print(\"NUM_LAYERS: \", str(NUM_LAYERS))\n",
    "print(\"BASE NGF: \", str(BASE_NGF))\n",
    "print(\"NGF: \", str(NGF))\n",
    "print(\"BS: \", BS)\n",
    "print(\"NC: \", NC)\n",
    "print(\"KERNEL_SIZE: \", KERNEL_SIZE)\n",
    "print(\"USE_SKIP: \", USE_SKIP)\n",
    "print(\"CAUSAL_PASSIVE: \", CAUSAL_PASSIVE)\n",
    "print(\"OPTIMIZE_Z: \", OPTIMIZE_Z)"
   ]
  },
  {
   "cell_type": "markdown",
   "id": "e5c01cf7-a114-4ff0-8a22-486438aecc8d",
   "metadata": {},
   "source": [
    "## Init and check dimensions"
   ]
  },
  {
   "cell_type": "code",
   "execution_count": 19,
   "id": "58a23d73-3395-4a95-80c5-0bba6699deab",
   "metadata": {},
   "outputs": [],
   "source": [
    "from models import RES_UNET\n",
    "\n",
    "net = RES_UNET(bs=BS,\n",
    "               nz=NZ,\n",
    "               ngf=NGF,\n",
    "               output_size=N_FREQS,\n",
    "               nc=NC,\n",
    "               optimize_z=OPTIMIZE_Z,\n",
    "               kernel_size=KERNEL_SIZE,\n",
    "               num_layers=NUM_LAYERS,\n",
    "               use_skip=USE_SKIP,\n",
    "               causal_passive=CAUSAL_PASSIVE,\n",
    "               p_dropout=.2\n",
    "               )\n",
    "net = net.to(device)"
   ]
  },
  {
   "cell_type": "code",
   "execution_count": 20,
   "id": "9e6cac17-464c-4ab9-8bfa-aa781db29b8c",
   "metadata": {},
   "outputs": [
    {
     "name": "stdout",
     "output_type": "stream",
     "text": [
      "Net output shape:  torch.Size([1, 20, 581])\n"
     ]
    },
    {
     "name": "stderr",
     "output_type": "stream",
     "text": [
      "/scratch/cluster/vgorti/miniconda3/envs/DIP/lib/python3.9/site-packages/torch/nn/functional.py:1338: UserWarning: dropout2d: Received a 3D input to dropout2d and assuming that channel-wise 1D dropout behavior is desired - input is interpreted as shape (N, C, L), where C is the channel dim. This behavior will change in a future release to interpret the input as one without a batch dimension, i.e. shape (C, H, W). To maintain the 1D channel-wise dropout behavior, please switch to using dropout1d instead.\n",
      "  warnings.warn(\"dropout2d: Received a 3D input to dropout2d and assuming that channel-wise \"\n"
     ]
    }
   ],
   "source": [
    "test_out = net.forward_with_z()\n",
    "\n",
    "print(\"Net output shape: \", test_out.shape)"
   ]
  },
  {
   "cell_type": "code",
   "execution_count": 21,
   "id": "a32b3a98-89b8-471b-9246-408941f7960c",
   "metadata": {},
   "outputs": [
    {
     "name": "stdout",
     "output_type": "stream",
     "text": [
      "TOTAL PARAMS:  349384\n"
     ]
    }
   ],
   "source": [
    "pytorch_total_params = sum(p.numel() for p in net.parameters() if p.requires_grad)\n",
    "\n",
    "print(\"TOTAL PARAMS: \", pytorch_total_params)"
   ]
  },
  {
   "cell_type": "markdown",
   "id": "dc32c8d5-8633-45bc-bfe2-fe2296a7a9ac",
   "metadata": {},
   "source": [
    "# 3. Run"
   ]
  },
  {
   "cell_type": "markdown",
   "id": "affb31a1-36f2-417b-b06b-b3d3c7077bd9",
   "metadata": {},
   "source": [
    "## Define training parameters, losses, and track stats"
   ]
  },
  {
   "cell_type": "code",
   "execution_count": 22,
   "id": "2704585c-e8f5-4ba6-ad3f-74122338a5fe",
   "metadata": {},
   "outputs": [],
   "source": [
    "LR = 5e-5\n",
    "NUM_ITER = 20000\n",
    "\n",
    "REG_HYPERPARAM = 0.05"
   ]
  },
  {
   "cell_type": "code",
   "execution_count": 23,
   "id": "0530ebbf-bb5f-4b8c-8b0c-82fe591010b5",
   "metadata": {},
   "outputs": [
    {
     "name": "stdout",
     "output_type": "stream",
     "text": [
      "Noise decay factor:  0.9995395890030878\n"
     ]
    }
   ],
   "source": [
    "NOISY_INPUT = False\n",
    "\n",
    "START_NOISE_LEVEL = CUR_NOISE_LEVEL = 10\n",
    "END_NOISE_LEVEL = 0.001\n",
    "NOISE_DECAY_FACTOR = (END_NOISE_LEVEL / START_NOISE_LEVEL)**(1 / NUM_ITER) \n",
    "\n",
    "print(\"Noise decay factor: \", NOISE_DECAY_FACTOR)"
   ]
  },
  {
   "cell_type": "code",
   "execution_count": 24,
   "id": "a1d5e4a8-0483-4fd1-97ae-d86b1f9f1ff8",
   "metadata": {},
   "outputs": [],
   "source": [
    "criterion = utils.Measurement_MSE_Loss(kept_inds=kept_inds, per_param=False, reduction=\"sum\")\n",
    "criterion = criterion.to(device)\n",
    "\n",
    "if REG_HYPERPARAM > 0:\n",
    "    regularizer = utils.Smoothing_Loss(per_param=False, reduction=\"sum\")\n",
    "    regularizer = regularizer.to(device)"
   ]
  },
  {
   "cell_type": "code",
   "execution_count": 25,
   "id": "75abd947-2520-4995-8865-d7efe890854e",
   "metadata": {},
   "outputs": [],
   "source": [
    "net = net.train()\n",
    "\n",
    "optim = torch.optim.Adam(net.parameters(), lr=LR)\n",
    "\n",
    "START_LR = LR\n",
    "END_LR = 1e-5\n",
    "LR_DECAY_FACTOR = (END_LR / START_LR)**(1 / NUM_ITER)\n",
    "\n",
    "scheduler = torch.optim.lr_scheduler.ExponentialLR(optim, gamma=LR_DECAY_FACTOR)\n",
    "\n",
    "def get_lr(optimizer):\n",
    "    for param_group in optimizer.param_groups:\n",
    "        return param_group['lr']"
   ]
  },
  {
   "cell_type": "code",
   "execution_count": 26,
   "id": "d5e27a3c-3ccb-44a5-89dd-6381cfa10ec2",
   "metadata": {},
   "outputs": [],
   "source": [
    "train_losses = []\n",
    "train_errors = []\n",
    "if REG_HYPERPARAM > 0:\n",
    "    train_regs = []\n",
    "\n",
    "test_mses = []\n",
    "test_maes = []"
   ]
  },
  {
   "cell_type": "markdown",
   "id": "7833f7f6-230e-46fb-8070-7acaa28ab237",
   "metadata": {},
   "source": [
    "## Train DIP"
   ]
  },
  {
   "cell_type": "code",
   "execution_count": 27,
   "id": "74c9d6c7-b906-4ba6-b94e-b0de6b507944",
   "metadata": {},
   "outputs": [
    {
     "name": "stdout",
     "output_type": "stream",
     "text": [
      "ITER  0\n",
      "TIME:  1.2813677787780762\n",
      "\n",
      "ITER  999\n",
      "TIME:  31.721246242523193\n",
      "\n",
      "ITER  1999\n",
      "TIME:  62.08913516998291\n",
      "\n",
      "ITER  2999\n",
      "TIME:  92.49437475204468\n",
      "\n"
     ]
    }
   ],
   "source": [
    "tic = time.time()\n",
    "net.train()\n",
    "\n",
    "for i in range(NUM_ITER):\n",
    "    optim.zero_grad()\n",
    "    \n",
    "    if NOISY_INPUT:\n",
    "        out = net.forward_with_z(CUR_NOISE_LEVEL)\n",
    "        CUR_NOISE_LEVEL *= NOISE_DECAY_FACTOR\n",
    "    else:\n",
    "        out = net.forward_with_z()\n",
    "    \n",
    "    train_error = criterion(out, y) \n",
    "    if REG_HYPERPARAM > 0:\n",
    "        train_reg = REG_HYPERPARAM * regularizer(out)\n",
    "        train_loss = train_error + train_reg\n",
    "    else:\n",
    "        train_loss = train_error\n",
    "    \n",
    "    train_loss.backward()\n",
    "    optim.step()\n",
    "    scheduler.step()\n",
    "\n",
    "    \n",
    "    with torch.no_grad():\n",
    "        # First 20% of training will be burn-in iterations\n",
    "        if USE_SGLD and i > NUM_ITER * .2:\n",
    "            # Perform SGLD by adding Gaussian noise to parameters after gradient descent\n",
    "            for param in net.parameters():\n",
    "                # param.add_(torch.normal(0, get_lr(optim), size=param.size()).to(device))\n",
    "                param.add_(torch.randn_like(param) * get_lr(optim))\n",
    "        \n",
    "        train_losses.append(train_loss.item())\n",
    "        train_errors.append(train_error.item())\n",
    "        if REG_HYPERPARAM > 0:\n",
    "            train_regs.append(train_reg.item())\n",
    "        \n",
    "        test_mse = nn.MSELoss()(out, x)\n",
    "        test_mses.append(test_mse.item())\n",
    "        \n",
    "        test_mae = nn.L1Loss()(out, x)\n",
    "        test_maes.append(test_mae.item())\n",
    "\n",
    "        if (i+1)%1000 == 0 or i == 0:\n",
    "            toc = time.time()\n",
    "            print(\"ITER \", str(i))\n",
    "            print(\"TIME: \", str(toc - tic))\n",
    "            if NOISY_INPUT:\n",
    "                print(\"NOISE LEVEL: \", CUR_NOISE_LEVEL)\n",
    "            print()"
   ]
  },
  {
   "cell_type": "code",
   "execution_count": null,
   "id": "48db5de9",
   "metadata": {},
   "outputs": [],
   "source": [
    "NUM_FORWARD_PASSES = 100\n",
    "sums_forward_pass_outputs = torch.Tensor(np.zeros(shape=test_out.shape, dtype=np.float32))\n",
    "sums_squared_forward_pass_outputs = torch.Tensor(np.zeros(shape=test_out.shape, dtype=np.float32))\n",
    "for i in range(NUM_FORWARD_PASSES):\n",
    "    sums_forward_pass_outputs += net.forward_with_z().cpu()\n",
    "    sums_squared_forward_pass_outputs += torch.square(net.forward_with_z()).cpu()\n",
    "\n",
    "mean_forward_pass_outputs = sums_forward_pass_outputs / NUM_FORWARD_PASSES\n",
    "std_forward_pass_outputs = torch.sqrt(((NUM_FORWARD_PASSES * sums_squared_forward_pass_outputs) - (sums_forward_pass_outputs * sums_forward_pass_outputs)) / (NUM_FORWARD_PASSES * (NUM_FORWARD_PASSES - 1)))"
   ]
  },
  {
   "cell_type": "code",
   "execution_count": null,
   "id": "7de94bc8",
   "metadata": {},
   "outputs": [],
   "source": [
    "print(mean_forward_pass_outputs.shape)\n",
    "print(std_forward_pass_outputs.shape)"
   ]
  },
  {
   "cell_type": "markdown",
   "id": "16ba6f99-e745-42a2-80c9-b7e629340c5e",
   "metadata": {},
   "source": [
    "## Plot metrics and outputs"
   ]
  },
  {
   "cell_type": "code",
   "execution_count": null,
   "id": "d27ad178-c355-4c6b-99df-4e8fe82fce81",
   "metadata": {},
   "outputs": [],
   "source": [
    "max_idx = 0\n",
    "\n",
    "plt.figure()\n",
    "plt.plot(train_losses)\n",
    "plt.title(\"TRAIN LOSS\")\n",
    "plt.ylim(0., train_losses[max_idx])\n",
    "plt.show()\n",
    "\n",
    "plt.figure()\n",
    "plt.plot(train_errors)\n",
    "plt.title(\"TRAIN ERRORS\")\n",
    "plt.ylim(0., train_errors[max_idx])\n",
    "plt.show()\n",
    "\n",
    "if REG_HYPERPARAM > 0:\n",
    "    plt.figure()\n",
    "    plt.plot(train_regs)\n",
    "    plt.title(\"TRAIN REGS\")\n",
    "    plt.ylim(0., train_regs[max_idx])\n",
    "    plt.show()\n",
    "\n",
    "plt.figure()\n",
    "plt.plot(test_mses, color='r')\n",
    "plt.title(\"TEST MSE\")\n",
    "plt.ylim(0., test_mses[max_idx])\n",
    "plt.show()\n",
    "\n",
    "plt.figure()\n",
    "plt.plot(test_maes, color='g')\n",
    "plt.title(\"TEST MAE\")\n",
    "plt.ylim(0, test_maes[max_idx])\n",
    "plt.show()"
   ]
  },
  {
   "cell_type": "code",
   "execution_count": null,
   "id": "e367ae0b-4043-4205-ac58-26bbd44086e9",
   "metadata": {},
   "outputs": [],
   "source": [
    "print(\"Final Test MSE: \", test_mses[-1])\n",
    "print(\"Best Test MSE: \", np.min(test_mses))\n",
    "print(\"Best Test MSE Iteration: \", np.argmin(test_mses))"
   ]
  },
  {
   "cell_type": "code",
   "execution_count": null,
   "id": "5bded64c",
   "metadata": {},
   "outputs": [],
   "source": [
    "from matplotlib.pyplot import cm"
   ]
  },
  {
   "cell_type": "code",
   "execution_count": null,
   "id": "783bcf18-0d7c-4af3-8143-f46fccbf40bb",
   "metadata": {},
   "outputs": [],
   "source": [
    "dip_errors = x.detach().cpu() - mean_forward_pass_outputs.detach().cpu()\n",
    "print(y.shape)\n",
    "\n",
    "fig, axes = plt.subplots(3,1, figsize=(16, 12))\n",
    "axes = axes.flatten()\n",
    "\n",
    "color = iter(cm.rainbow(np.linspace(0, 1, N_SPARAMS * 2)))\n",
    "\n",
    "for i in range(N_SPARAMS):\n",
    "    axes[0].plot(gt_freqs, x[0,2*i].cpu(), label=str(i)+\" re\", color=next(color))\n",
    "    axes[0].plot(gt_freqs, x[0,2*i+1].cpu(), label=str(i)+\" im\", color=next(color))\n",
    "axes[0].set_title(\"Ground Truth\")\n",
    "axes[0].set_ylim(-1,1)\n",
    "if N_SPARAMS <= 10:\n",
    "    axes[0].legend()\n",
    "\n",
    "color = iter(cm.rainbow(np.linspace(0, 1, N_SPARAMS * 2)))\n",
    "\n",
    "for i in range(N_SPARAMS):\n",
    "\n",
    "    re_color = next(color)\n",
    "    im_color = next(color)\n",
    "\n",
    "    axes[1].plot(gt_freqs, mean_forward_pass_outputs[0,2*i].detach().cpu(), label=str(i)+\" re\", color=re_color)\n",
    "    axes[1].plot(gt_freqs, mean_forward_pass_outputs[0,2*i+1].detach().cpu(), label=str(i)+\" im\", color=im_color)\n",
    "    axes[1].fill_between(gt_freqs, mean_forward_pass_outputs[0,2*i].detach().cpu() - 2 * std_forward_pass_outputs[0,2*i].detach().cpu(), mean_forward_pass_outputs[0,2*i].detach().cpu() + 2 * std_forward_pass_outputs[0,2*i].detach().cpu(), color=re_color)\n",
    "    axes[1].fill_between(gt_freqs, mean_forward_pass_outputs[0,2*i+1].detach().cpu() - 2 * std_forward_pass_outputs[0,2*i+1].detach().cpu(), mean_forward_pass_outputs[0,2*i+1].detach().cpu() + 2 * std_forward_pass_outputs[0,2*i+1].detach().cpu(), color=im_color)\n",
    "\n",
    "    axes[1].scatter(gt_freqs[kept_inds], y[0,2*i].cpu(), color='black')\n",
    "    axes[1].scatter(gt_freqs[kept_inds], y[0,2*i+1].cpu(), color='black')\n",
    "\n",
    "\n",
    "axes[1].set_title(\"DIP Output\")\n",
    "axes[1].set_ylim(-1,1)\n",
    "if N_SPARAMS <= 10:\n",
    "    axes[1].legend()\n",
    "    \n",
    "color = iter(cm.rainbow(np.linspace(0, 1, N_SPARAMS * 2)))\n",
    "\n",
    "for i in range(N_SPARAMS):\n",
    "    axes[2].plot(gt_freqs, dip_errors[0,2*i].detach().cpu(), label=str(i)+\" re\", color=next(color))\n",
    "    axes[2].plot(gt_freqs, dip_errors[0,2*i+1].detach().cpu(), label=str(i)+\" im\", color=next(color))\n",
    "axes[2].set_title(\"DIP Errors\")\n",
    "axes[2].set_ylim(-1,1)\n",
    "if N_SPARAMS <= 10:\n",
    "    axes[2].legend()"
   ]
  },
  {
   "cell_type": "code",
   "execution_count": null,
   "id": "0985f909-3429-48d3-8503-a4265dd4a9fc",
   "metadata": {},
   "outputs": [],
   "source": [
    "out_mag = utils.sparams_to_mag(out)\n",
    "dip_errors_mag = x_mag - out_mag \n",
    "\n",
    "fig, axes = plt.subplots(3,1, figsize=(16, 12))\n",
    "axes = axes.flatten()\n",
    "\n",
    "for i in range(N_SPARAMS):\n",
    "    axes[0].plot(gt_freqs, x_mag[0,i].cpu(), label=str(i))\n",
    "axes[0].set_title(\"Ground Truth Magnitude Spectrum\")\n",
    "axes[0].set_ylim(0,1)\n",
    "if N_SPARAMS <= 10:\n",
    "    axes[0].legend()\n",
    "\n",
    "for i in range(N_SPARAMS):\n",
    "    axes[1].plot(gt_freqs, out_mag[0,i].detach().cpu(), label=str(i))\n",
    "axes[1].set_title(\"DIP Output Magnitude Spectrum\")\n",
    "axes[1].set_ylim(0,1)\n",
    "if N_SPARAMS <= 10:\n",
    "    axes[1].legend()\n",
    "    \n",
    "for i in range(N_SPARAMS):\n",
    "    axes[2].plot(gt_freqs, dip_errors[0,i].detach().cpu(), label=str(i))\n",
    "axes[2].set_title(\"DIP Errors Magnitude Spectrum\")\n",
    "axes[2].set_ylim(-1,1)\n",
    "if N_SPARAMS <= 10:\n",
    "    axes[2].legend()"
   ]
  },
  {
   "cell_type": "code",
   "execution_count": null,
   "id": "f204b771-009c-4583-beee-5fbba5298059",
   "metadata": {},
   "outputs": [],
   "source": []
  },
  {
   "cell_type": "code",
   "execution_count": null,
   "id": "6faf5ec0",
   "metadata": {},
   "outputs": [],
   "source": []
  }
 ],
 "metadata": {
  "kernelspec": {
   "display_name": "DIP",
   "language": "python",
   "name": "python3"
  },
  "language_info": {
   "codemirror_mode": {
    "name": "ipython",
    "version": 3
   },
   "file_extension": ".py",
   "mimetype": "text/x-python",
   "name": "python",
   "nbconvert_exporter": "python",
   "pygments_lexer": "ipython3",
   "version": "3.9.16"
  },
  "vscode": {
   "interpreter": {
    "hash": "f09d14efeb1af5055b7ef4d9adfb3d40e0c1b7736018dd0842f2bb12003322f6"
   }
  }
 },
 "nbformat": 4,
 "nbformat_minor": 5
}
