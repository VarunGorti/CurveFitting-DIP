{
 "cells": [
  {
   "cell_type": "markdown",
   "id": "46d6cc86-9d56-43b0-bf23-b9ea1c403d98",
   "metadata": {
    "tags": []
   },
   "source": [
    "# Imports and Device"
   ]
  },
  {
   "cell_type": "code",
   "execution_count": null,
   "id": "a4ac16f7-e866-459e-a1d2-1c2b2157e97b",
   "metadata": {},
   "outputs": [],
   "source": [
    "import torch\n",
    "import random\n",
    "import numpy as np\n",
    "\n",
    "import matplotlib.pyplot as plt\n",
    "%matplotlib inline\n",
    "\n",
    "import torch.nn as nn\n",
    "import torch.nn.functional as F\n",
    "\n",
    "import math\n",
    "import time"
   ]
  },
  {
   "cell_type": "code",
   "execution_count": null,
   "id": "4426ef12-d435-4206-9684-8fe6e28fe91f",
   "metadata": {},
   "outputs": [],
   "source": [
    "device = torch.device('cuda:0' if torch.cuda.is_available() else 'cpu')\n",
    "print(device)"
   ]
  },
  {
   "cell_type": "markdown",
   "id": "1a64bce6-6ae7-4849-8316-7eea19dc2d6e",
   "metadata": {},
   "source": [
    "# Load the data"
   ]
  },
  {
   "cell_type": "code",
   "execution_count": null,
   "id": "3a7fa41d-a9fb-44d0-923d-41ce4727f14d",
   "metadata": {},
   "outputs": [],
   "source": [
    "root_path = \"/scratch/04703/sravula/UTAFSDataNew/new_data\"\n",
    "chip_num = 0"
   ]
  },
  {
   "cell_type": "code",
   "execution_count": null,
   "id": "856072d9-e566-4b8d-8e36-5bd3340c33b9",
   "metadata": {},
   "outputs": [],
   "source": [
    "import utils\n",
    "\n",
    "data_dict = utils.grab_chip_data(root_path, chip_num, resample=True)"
   ]
  },
  {
   "cell_type": "code",
   "execution_count": null,
   "id": "0f53e1df-69d7-42e5-ac02-040a8741f365",
   "metadata": {},
   "outputs": [],
   "source": [
    "data_dict.keys()"
   ]
  },
  {
   "cell_type": "code",
   "execution_count": null,
   "id": "ef90688c-34eb-4d3d-9982-aa73bcdb2a7b",
   "metadata": {},
   "outputs": [],
   "source": [
    "print(data_dict['gt_matrix'].shape)\n",
    "print(data_dict['vf_matrix'].shape)\n",
    "print(data_dict['y_matrix'].shape)\n",
    "print(data_dict['og_matrix'].shape)"
   ]
  },
  {
   "cell_type": "code",
   "execution_count": null,
   "id": "836ef3a4-5437-41a7-9243-122ab3282df4",
   "metadata": {},
   "outputs": [],
   "source": [
    "print(data_dict['gt_freqs'].shape)\n",
    "print(data_dict['y_freqs'].shape)\n",
    "print(data_dict['og_freqs'].shape)"
   ]
  },
  {
   "cell_type": "code",
   "execution_count": null,
   "id": "2ea03471-873c-406f-b9f7-60d777026221",
   "metadata": {},
   "outputs": [],
   "source": [
    "vf_data = utils.matrix_to_sparams(data_dict['vf_matrix'])\n",
    "gt_data = utils.matrix_to_sparams(data_dict['gt_matrix'])\n",
    "y_data = utils.matrix_to_sparams(data_dict['y_matrix'])\n",
    "og_data = utils.matrix_to_sparams(data_dict['og_matrix'])"
   ]
  },
  {
   "cell_type": "code",
   "execution_count": null,
   "id": "82c09b95-cf24-48fd-965e-f6d706ba322b",
   "metadata": {
    "tags": []
   },
   "outputs": [],
   "source": [
    "print(vf_data.shape)\n",
    "print(gt_data.shape)\n",
    "print(y_data.shape)\n",
    "print(og_data.shape)"
   ]
  },
  {
   "cell_type": "code",
   "execution_count": null,
   "id": "7a067ecf-e26b-45f0-89c5-e93450e16729",
   "metadata": {},
   "outputs": [],
   "source": [
    "og_freqs = data_dict['og_freqs']\n",
    "gt_freqs = data_dict['gt_freqs']"
   ]
  },
  {
   "cell_type": "code",
   "execution_count": null,
   "id": "b075595f-5da6-4d81-9c28-01f4a0304bdc",
   "metadata": {},
   "outputs": [],
   "source": [
    "print(og_freqs.shape)\n",
    "print(gt_freqs.shape)"
   ]
  },
  {
   "cell_type": "code",
   "execution_count": null,
   "id": "c1f2a644-7ea2-4960-b0a5-feed1c2b62eb",
   "metadata": {},
   "outputs": [],
   "source": [
    "n_sparams = gt_data.shape[0]\n",
    "\n",
    "plt.figure()\n",
    "for i in range(n_sparams):\n",
    "    plt.scatter(gt_freqs, gt_data[i,0,:].squeeze(), label=str(i)+\" Re\")\n",
    "    plt.scatter(gt_freqs, gt_data[i,1,:].squeeze(), label=str(i)+\" Im\")\n",
    "plt.legend()\n",
    "plt.title(\"Ground Truth (Resampled)\")\n",
    "plt.show()"
   ]
  },
  {
   "cell_type": "code",
   "execution_count": null,
   "id": "b1592953-5bda-4924-b334-5ddad81d9586",
   "metadata": {},
   "outputs": [],
   "source": [
    "gt_mag = utils.to_mag(torch.from_numpy(gt_data))\n",
    "\n",
    "print(gt_mag.shape)"
   ]
  },
  {
   "cell_type": "code",
   "execution_count": null,
   "id": "300694ae-6b89-4d82-94f1-c74726e9803e",
   "metadata": {},
   "outputs": [],
   "source": [
    "n_sparams = gt_mag.shape[0]\n",
    "\n",
    "plt.figure()\n",
    "for i in range(n_sparams):\n",
    "    plt.scatter(gt_freqs, gt_mag[i], label=str(i))\n",
    "plt.legend()\n",
    "plt.title(\"Ground Truth (Resampled)\")\n",
    "plt.ylabel(\"Magnitude (DB)\")\n",
    "plt.xlabel(\"Frequency\")\n",
    "plt.show()"
   ]
  },
  {
   "cell_type": "markdown",
   "id": "6f72bd54-20c6-40a0-976a-dcd7421b3f0b",
   "metadata": {},
   "source": [
    "## Do some checks for Causality and Passivity"
   ]
  },
  {
   "cell_type": "code",
   "execution_count": null,
   "id": "1e339185-9b59-497f-ba54-790a106fd61e",
   "metadata": {},
   "outputs": [],
   "source": [
    "gt_data_torch = torch.from_numpy(gt_data)\n",
    "gt_data_complex = torch.complex(gt_data_torch[:,0,:], gt_data_torch[:,1,:])"
   ]
  },
  {
   "cell_type": "code",
   "execution_count": null,
   "id": "c53d80a8-052a-4621-90fa-f154149649e7",
   "metadata": {},
   "outputs": [],
   "source": [
    "print(gt_data_complex.shape)\n",
    "print(gt_data_complex.dtype)\n",
    "print(gt_data_complex.device)"
   ]
  },
  {
   "cell_type": "code",
   "execution_count": null,
   "id": "f26450e6-f757-4cef-a514-a2d0329bf679",
   "metadata": {},
   "outputs": [],
   "source": [
    "num_sparams, num_freqs = gt_data_complex.shape"
   ]
  },
  {
   "cell_type": "code",
   "execution_count": null,
   "id": "87d2c9d4-da68-4d5d-a597-fc72686d19d3",
   "metadata": {},
   "outputs": [],
   "source": [
    "gt_data_complex = gt_data_complex.to(device)\n",
    "irfft_true = torch.fft.irfft(gt_data_complex, n=num_freqs*2-1, dim=-1, norm=\"ortho\")\n",
    "irfft_true = irfft_true.cpu()"
   ]
  },
  {
   "cell_type": "code",
   "execution_count": null,
   "id": "b1a1b961-c219-494a-980c-369025423561",
   "metadata": {},
   "outputs": [],
   "source": [
    "print(irfft_true.shape)\n",
    "print(irfft_true.dtype)\n",
    "print(irfft_true.device)"
   ]
  },
  {
   "cell_type": "code",
   "execution_count": null,
   "id": "5b9ff045-c7d5-4e95-abf3-b711a0f9cf95",
   "metadata": {},
   "outputs": [],
   "source": [
    "plt.figure()\n",
    "for i in range(num_sparams):\n",
    "    plt.plot(irfft_true[i,:], label=str(i))\n",
    "plt.legend()\n",
    "plt.show()"
   ]
  },
  {
   "cell_type": "markdown",
   "id": "aaf41248-9a53-420c-b075-426e9fe0144c",
   "metadata": {},
   "source": [
    "## Grab some measurements"
   ]
  },
  {
   "cell_type": "code",
   "execution_count": null,
   "id": "90aed45c-73f3-403d-bf9a-9307bb90d444",
   "metadata": {},
   "outputs": [],
   "source": [
    "PROBLEM_TYPE = \"equal\" #[random, equal, forecast, full]\n",
    "LENGTH = len(gt_freqs)\n",
    "M = 10"
   ]
  },
  {
   "cell_type": "code",
   "execution_count": null,
   "id": "ddea3ae4-4938-47c6-8443-bee7e78c6db6",
   "metadata": {},
   "outputs": [],
   "source": [
    "kept_inds, missing_inds = utils.get_inds(PROBLEM_TYPE, LENGTH, M)"
   ]
  },
  {
   "cell_type": "code",
   "execution_count": null,
   "id": "24d641fd-b4df-49fb-9082-693d3effa6c3",
   "metadata": {},
   "outputs": [],
   "source": [
    "print(LENGTH)\n",
    "print(M)\n",
    "print(len(kept_inds))\n",
    "print(len(missing_inds))"
   ]
  },
  {
   "cell_type": "markdown",
   "id": "c34e945e-1e38-414f-8ec2-ed6a5339bc1e",
   "metadata": {},
   "source": [
    "## Make the final data"
   ]
  },
  {
   "cell_type": "code",
   "execution_count": null,
   "id": "3bbc2b89-5a2e-43f6-af48-70a04f456085",
   "metadata": {},
   "outputs": [],
   "source": [
    "x = torch.from_numpy(gt_data).type(torch.float32)\n",
    "x = x.view(-1, LENGTH).unsqueeze(0)"
   ]
  },
  {
   "cell_type": "code",
   "execution_count": null,
   "id": "44faca16-82e3-4ef9-b8d0-b2a6e88d4c41",
   "metadata": {},
   "outputs": [],
   "source": [
    "print(x.shape)"
   ]
  },
  {
   "cell_type": "code",
   "execution_count": null,
   "id": "0e151d73-20e7-4a84-95c3-7e9ed3616372",
   "metadata": {},
   "outputs": [],
   "source": [
    "y = torch.clone(x)[:, :, kept_inds]"
   ]
  },
  {
   "cell_type": "code",
   "execution_count": null,
   "id": "afdf855a-848f-4def-9c55-24111609c0ef",
   "metadata": {},
   "outputs": [],
   "source": [
    "print(y.shape)"
   ]
  },
  {
   "cell_type": "markdown",
   "id": "1906fbe1-bc0b-41ab-981e-7ca2e4bc87c1",
   "metadata": {},
   "source": [
    "## Make sure that we can transform it back to the OG shape/size"
   ]
  },
  {
   "cell_type": "code",
   "execution_count": null,
   "id": "064ac745-0f1b-4865-bf88-8e05cce5f3e8",
   "metadata": {},
   "outputs": [],
   "source": [
    "x_temp = utils.sparams_to_matrix(x)"
   ]
  },
  {
   "cell_type": "code",
   "execution_count": null,
   "id": "3f1d9580-31b7-41df-adeb-44abc6e7c113",
   "metadata": {},
   "outputs": [],
   "source": [
    "print(x_temp.shape)\n",
    "print(x_temp.dtype)\n",
    "print(x_temp.device)"
   ]
  },
  {
   "cell_type": "code",
   "execution_count": null,
   "id": "4045a195-0e48-45ab-bdeb-d2a887655988",
   "metadata": {},
   "outputs": [],
   "source": [
    "diff = x_temp - data_dict['gt_matrix']\n",
    "\n",
    "print(torch.sum(diff).item())"
   ]
  },
  {
   "cell_type": "markdown",
   "id": "80331096-a5ce-4a5b-9311-5b7f0c7d4486",
   "metadata": {},
   "source": [
    "## Visualize the data and observations"
   ]
  },
  {
   "cell_type": "code",
   "execution_count": null,
   "id": "670db0bf-13c0-4a9c-8ce3-8b18633db4b7",
   "metadata": {},
   "outputs": [],
   "source": [
    "fig, axes = plt.subplots(3,1, figsize=(16, 12))\n",
    "axes = axes.flatten()\n",
    "\n",
    "for j in range(x.shape[0]):\n",
    "    for i in range(x.shape[1]):\n",
    "        label = str(i//2) + (\" re\" if i % 2 == 0 else \" im\")\n",
    "        axes[0].plot(gt_freqs, x[j,i,:].flatten(), label=label)\n",
    "axes[0].set_title(\"Ground Truth\")\n",
    "axes[0].legend()\n",
    "\n",
    "for j in range(x.shape[0]):\n",
    "    for i in range(x.shape[1]):\n",
    "        label = str(i//2) + (\" re\" if i % 2 == 0 else \" im\")\n",
    "        axes[1].plot(gt_freqs[kept_inds], y[j,i,:].flatten(), label=label)\n",
    "axes[1].set_title(\"Measurements - Linear interpolation\")\n",
    "axes[1].legend()\n",
    "\n",
    "for j in range(x.shape[0]):\n",
    "    for i in range(x.shape[1]):\n",
    "        label = str(i//2) + (\" re\" if i % 2 == 0 else \" im\")\n",
    "        axes[2].scatter(gt_freqs[kept_inds], y[j,i,:].flatten(), label=label)\n",
    "axes[2].set_title(\"Measurements - Scatter\")\n",
    "axes[2].legend()\n",
    "\n",
    "plt.show()"
   ]
  },
  {
   "cell_type": "code",
   "execution_count": null,
   "id": "5cbb651d-9b9e-4928-bdb4-b25dbe4d0bfa",
   "metadata": {},
   "outputs": [],
   "source": [
    "x_mag = utils.to_mag(x)\n",
    "y_mag = utils.to_mag(y)\n",
    "\n",
    "print(x_mag.shape)\n",
    "print(y_mag.shape)"
   ]
  },
  {
   "cell_type": "code",
   "execution_count": null,
   "id": "69f159e4-161e-479e-a1f6-47650a43a567",
   "metadata": {},
   "outputs": [],
   "source": [
    "fig, axes = plt.subplots(3,1, figsize=(16, 12))\n",
    "axes = axes.flatten()\n",
    "\n",
    "for j in range(x_mag.shape[0]):\n",
    "    axes[0].plot(gt_freqs, x_mag[j], label=str(j))\n",
    "axes[0].set_title(\"Ground Truth\")\n",
    "axes[0].set_ylabel(\"Magnitude (DB)\")\n",
    "axes[0].legend()\n",
    "\n",
    "for j in range(x_mag.shape[0]):\n",
    "    axes[1].plot(gt_freqs[kept_inds], y_mag[j], label=str(j))\n",
    "axes[1].set_title(\"Measurements - Linear interpolation in mag\")\n",
    "axes[1].set_ylabel(\"Magnitude (DB)\")\n",
    "axes[1].legend()\n",
    "\n",
    "for j in range(x_mag.shape[0]):\n",
    "    axes[2].scatter(gt_freqs[kept_inds], y_mag[j], label=str(j))\n",
    "axes[2].set_title(\"Measurements - Scatter\")\n",
    "axes[2].set_ylabel(\"Magnitude (DB)\")\n",
    "axes[2].set_xlabel(\"Frequency (Hz)\")\n",
    "axes[2].legend()\n",
    "\n",
    "plt.show()"
   ]
  },
  {
   "cell_type": "markdown",
   "id": "856152a7-e3d8-4c84-9ffa-7b6e31c63b54",
   "metadata": {},
   "source": [
    "# Set up the network"
   ]
  },
  {
   "cell_type": "code",
   "execution_count": null,
   "id": "569c03d2-ec6e-4c2d-96c9-1eb40437742d",
   "metadata": {},
   "outputs": [],
   "source": [
    "LR = 1e-4 # learning rate\n",
    "NUM_ITER = 50000 # number iterations\n",
    "\n",
    "NZ = y.shape[1]\n",
    "NGF = 64\n",
    "\n",
    "BS = y.shape[0]\n",
    "NC = y.shape[1]"
   ]
  },
  {
   "cell_type": "code",
   "execution_count": null,
   "id": "fe4e6bcd-0bfe-41e4-a60b-e2bd308398ee",
   "metadata": {},
   "outputs": [],
   "source": [
    "from models import ENC_DEC\n",
    "\n",
    "KERNEL_SIZE = [11, 9, 7, 5, 3]\n",
    "\n",
    "net = ENC_DEC(bs=BS, nz=NZ, ngf=NGF, output_size=LENGTH, nc=NC, kernel_size=KERNEL_SIZE)\n",
    "net = net.to(device)"
   ]
  },
  {
   "cell_type": "code",
   "execution_count": null,
   "id": "f73fdec9-8406-413f-848b-2af4501eadc0",
   "metadata": {},
   "outputs": [],
   "source": [
    "test_out = net.forward_with_z()\n",
    "print(test_out.shape)"
   ]
  },
  {
   "cell_type": "code",
   "execution_count": null,
   "id": "82cf80d8-429a-4059-9fd7-b17e9c4cf30f",
   "metadata": {},
   "outputs": [],
   "source": [
    "pytorch_total_params = sum(p.numel() for p in net.parameters() if p.requires_grad)\n",
    "\n",
    "print(\"TOTAL PARAMS: \", pytorch_total_params)"
   ]
  },
  {
   "cell_type": "markdown",
   "id": "3486db63-0970-4fc5-b1a9-2b5573c76b5a",
   "metadata": {},
   "source": [
    "# (Testing) Fit Interp"
   ]
  },
  {
   "cell_type": "code",
   "execution_count": null,
   "id": "d9033ee3-32eb-49f6-9fd2-862f53c5d5ed",
   "metadata": {},
   "outputs": [],
   "source": [
    "import scipy\n",
    "\n",
    "y_np = y.cpu().detach().numpy()\n",
    "\n",
    "Interpolate = scipy.interpolate.interp1d(kept_inds, y_np, fill_value='extrapolate')"
   ]
  },
  {
   "cell_type": "code",
   "execution_count": null,
   "id": "ae32be78-d83b-41bd-8e75-5c41c2694b09",
   "metadata": {},
   "outputs": [],
   "source": [
    "y_interp = Interpolate(np.arange(LENGTH))\n",
    "\n",
    "print(y_interp.shape)"
   ]
  },
  {
   "cell_type": "code",
   "execution_count": null,
   "id": "e3c7f026-3d46-432c-8fab-0b40f612f029",
   "metadata": {},
   "outputs": [],
   "source": [
    "fig, axes = plt.subplots(2,1, figsize=(16, 8))\n",
    "axes = axes.flatten()\n",
    "\n",
    "for j in range(x.shape[0]):\n",
    "    for i in range(x.shape[1]):\n",
    "        label = str(i//2) + (\" re\" if i % 2 == 0 else \" im\")\n",
    "        axes[0].plot(gt_freqs, x[j,i,:].flatten(), label=label)\n",
    "        axes[0].scatter(gt_freqs[kept_inds], y[j,i].cpu())\n",
    "axes[0].set_title(\"Ground Truth\")\n",
    "axes[0].legend()\n",
    "\n",
    "for j in range(x.shape[0]):\n",
    "    for i in range(x.shape[1]):\n",
    "        label = str(i//2) + (\" re\" if i % 2 == 0 else \" im\")\n",
    "        axes[1].plot(gt_freqs, y_interp[j,i,:].flatten(), label=label)\n",
    "        axes[1].scatter(gt_freqs[kept_inds], y[j,i].cpu())\n",
    "axes[1].set_title(\"Measurements - Linear interpolation\")\n",
    "axes[1].legend()\n",
    "\n",
    "plt.show()"
   ]
  },
  {
   "cell_type": "code",
   "execution_count": null,
   "id": "f3e59fda-8d4c-40e4-8ee5-3452dceee0c3",
   "metadata": {},
   "outputs": [],
   "source": [
    "y_interp_mag = utils.to_mag(torch.from_numpy(y_interp))\n",
    "\n",
    "print(y_interp_mag.shape)"
   ]
  },
  {
   "cell_type": "code",
   "execution_count": null,
   "id": "fa224a65-c06c-43e7-86f6-a40faf608730",
   "metadata": {},
   "outputs": [],
   "source": [
    "fig, axes = plt.subplots(2,1, figsize=(16, 8))\n",
    "axes = axes.flatten()\n",
    "\n",
    "for j in range(x_mag.shape[0]):\n",
    "    axes[0].plot(gt_freqs, x_mag[j], label=str(j))\n",
    "    axes[0].scatter(gt_freqs[kept_inds], y_mag[j])\n",
    "axes[0].set_title(\"Ground Truth\")\n",
    "axes[0].set_ylabel(\"Magnitude (DB)\")\n",
    "axes[0].legend()\n",
    "\n",
    "for j in range(x_mag.shape[0]):\n",
    "    axes[1].plot(gt_freqs, y_interp_mag[j], label=str(j))\n",
    "    axes[1].scatter(gt_freqs[kept_inds], y_mag[j])\n",
    "axes[1].set_title(\"Measurements - Linear interpolation (in complex --> mag)\")\n",
    "axes[1].set_ylabel(\"Magnitude (DB)\")\n",
    "axes[1].set_xlabel(\"Frequency (Hz)\")\n",
    "axes[1].legend()\n",
    "\n",
    "plt.show()"
   ]
  },
  {
   "cell_type": "code",
   "execution_count": null,
   "id": "27abeb66-727b-4166-8ed9-63a9b5c3c93b",
   "metadata": {},
   "outputs": [],
   "source": [
    "criterion = torch.nn.MSELoss()\n",
    "criterion = criterion.to(device)"
   ]
  },
  {
   "cell_type": "code",
   "execution_count": null,
   "id": "3154736b-f11b-4c0d-b8ff-98f963681b10",
   "metadata": {},
   "outputs": [],
   "source": [
    "net = net.train()\n",
    "\n",
    "optim = torch.optim.Adam(net.parameters(), lr=LR)\n",
    "\n",
    "NUM_ITER_PRETRAIN = 1000\n",
    "\n",
    "train_losses = []\n",
    "\n",
    "y_interp = torch.from_numpy(y_interp).type(torch.float32)\n",
    "y_interp = y_interp.to(device)"
   ]
  },
  {
   "cell_type": "code",
   "execution_count": null,
   "id": "e616af44-1694-4790-9c9f-499e6693b636",
   "metadata": {},
   "outputs": [],
   "source": [
    "tic = time.time()\n",
    "for i in range(NUM_ITER_PRETRAIN):\n",
    "    net.perturb_noise(0.01) \n",
    "    \n",
    "    optim.zero_grad()\n",
    "    \n",
    "    out = net.forward_with_z()\n",
    "    train_loss = criterion(out, y_interp)\n",
    "    \n",
    "    train_loss.backward()\n",
    "    optim.step()\n",
    "    \n",
    "    with torch.no_grad():\n",
    "        train_losses.append(train_loss.item())\n",
    "\n",
    "        if (i+1)%100 == 0 or i == 0:\n",
    "            toc = time.time()\n",
    "            print(\"ITER \", str(i))\n",
    "            print(\"TIME: \", str(toc - tic))\n",
    "            print()"
   ]
  },
  {
   "cell_type": "code",
   "execution_count": null,
   "id": "be8df981-1616-4338-a925-51fff5a3451b",
   "metadata": {},
   "outputs": [],
   "source": [
    "out = out.detach().cpu().numpy()\n",
    "\n",
    "fig, axes = plt.subplots(3,1, figsize=(16, 12))\n",
    "axes = axes.flatten()\n",
    "\n",
    "for j in range(x.shape[0]):\n",
    "    for i in range(x.shape[1]):\n",
    "        label = str(i//2) + (\" re\" if i % 2 == 0 else \" im\")\n",
    "        axes[0].plot(gt_freqs, x[j,i,:].cpu().flatten(), label=label)\n",
    "axes[0].set_title(\"Ground Truth\")\n",
    "axes[0].legend()\n",
    "\n",
    "for j in range(x.shape[0]):\n",
    "    for i in range(x.shape[1]):\n",
    "        label = str(i//2) + (\" re\" if i % 2 == 0 else \" im\")\n",
    "        axes[1].plot(gt_freqs, out[j,i,:].flatten(), label=label)\n",
    "axes[1].set_title(\"Last Output\")\n",
    "axes[1].legend()\n",
    "\n",
    "for j in range(x.shape[0]):\n",
    "    for i in range(x.shape[1]):\n",
    "        label = str(i//2) + (\" re\" if i % 2 == 0 else \" im\")\n",
    "        axes[2].plot(gt_freqs, y_interp[j,i,:].cpu().flatten(), label=label)\n",
    "axes[2].set_title(\"Measurements - Linear interpolation\")\n",
    "axes[2].legend()\n",
    "\n",
    "plt.show()"
   ]
  },
  {
   "cell_type": "code",
   "execution_count": null,
   "id": "79ff9018-1df4-4898-9391-93bea21d0794",
   "metadata": {},
   "outputs": [],
   "source": [
    "out_mag = utils.to_mag(torch.from_numpy(out))\n",
    "\n",
    "print(out_mag.shape)"
   ]
  },
  {
   "cell_type": "code",
   "execution_count": null,
   "id": "da8360e6-ad7c-4da8-992a-41e430db8979",
   "metadata": {},
   "outputs": [],
   "source": [
    "fig, axes = plt.subplots(3,1, figsize=(16, 12))\n",
    "axes = axes.flatten()\n",
    "\n",
    "for j in range(x_mag.shape[0]):\n",
    "    axes[0].plot(gt_freqs, x_mag[j], label=str(j))\n",
    "axes[0].set_title(\"Ground Truth\")\n",
    "axes[0].set_ylabel(\"Magnitude (DB)\")\n",
    "axes[0].legend()\n",
    "\n",
    "for j in range(x_mag.shape[0]):\n",
    "    axes[1].plot(gt_freqs, out_mag[j], label=str(j))\n",
    "axes[1].set_title(\"Last Output\")\n",
    "axes[1].set_ylabel(\"Magnitude (DB)\")\n",
    "axes[1].legend()\n",
    "\n",
    "for j in range(x_mag.shape[0]):\n",
    "    axes[2].plot(gt_freqs, y_interp_mag[j], label=str(j))\n",
    "axes[2].set_title(\"Measurements - Linear interpolation (in complex --> mag)\")\n",
    "axes[2].set_ylabel(\"Magnitude (DB)\")\n",
    "axes[2].set_xlabel(\"Frequency (Hz)\")\n",
    "axes[2].legend()\n",
    "\n",
    "plt.show()"
   ]
  },
  {
   "cell_type": "code",
   "execution_count": null,
   "id": "bfecddb8-7a97-4a56-8815-a8bab4940886",
   "metadata": {},
   "outputs": [],
   "source": [
    "max_idx = 100\n",
    "\n",
    "plt.figure()\n",
    "plt.plot(train_losses)\n",
    "plt.title(\"TRAIN LOSS\")\n",
    "plt.ylim(0., train_losses[max_idx])\n",
    "plt.show()"
   ]
  },
  {
   "cell_type": "markdown",
   "id": "40a2a5ad-ace9-4fc7-bb83-acfa64559af1",
   "metadata": {},
   "source": [
    "# Run"
   ]
  },
  {
   "cell_type": "code",
   "execution_count": null,
   "id": "afe17984-9b87-4a9a-badd-3a83b590fa7d",
   "metadata": {},
   "outputs": [],
   "source": [
    "criterion = utils.Measurement_MSE_Loss(kept_inds=kept_inds)\n",
    "criterion = criterion.to(device)"
   ]
  },
  {
   "cell_type": "code",
   "execution_count": null,
   "id": "d839f2fa-110e-4b08-b14c-362d73fc52ea",
   "metadata": {},
   "outputs": [],
   "source": [
    "net = net.train()\n",
    "\n",
    "optim = torch.optim.Adam(net.parameters(), lr=LR)\n",
    "\n",
    "train_losses = []\n",
    "test_mses = []\n",
    "test_maes = []\n",
    "outputs = []\n",
    "\n",
    "x = x.to(device)\n",
    "y = y.to(device)"
   ]
  },
  {
   "cell_type": "code",
   "execution_count": null,
   "id": "7811e950-5576-4bd7-9ec4-846902c2da50",
   "metadata": {},
   "outputs": [],
   "source": [
    "tic = time.time()\n",
    "for i in range(NUM_ITER):\n",
    "    net.perturb_noise(0.01) \n",
    "    \n",
    "    optim.zero_grad()\n",
    "    \n",
    "    out = net.forward_with_z()\n",
    "    train_loss = criterion(out, y)\n",
    "    \n",
    "    train_loss.backward()\n",
    "    optim.step()\n",
    "    \n",
    "    with torch.no_grad():\n",
    "        outputs.append(out.detach().clone().cpu())\n",
    "        train_losses.append(train_loss.item())\n",
    "        \n",
    "        test_mse = nn.MSELoss()(out, x)\n",
    "        test_mses.append(test_mse.item())\n",
    "        \n",
    "        test_mae = nn.L1Loss()(out, x)\n",
    "        test_maes.append(test_mae.item())\n",
    "\n",
    "        if (i+1)%500 == 0 or i == 0:\n",
    "            toc = time.time()\n",
    "            print(\"ITER \", str(i))\n",
    "            print(\"TIME: \", str(toc - tic))\n",
    "            print()"
   ]
  },
  {
   "cell_type": "markdown",
   "id": "7ea3b22a-354b-4787-aae9-fe8513025f44",
   "metadata": {},
   "source": [
    "# Plot the last and best outputs and the metrics"
   ]
  },
  {
   "cell_type": "code",
   "execution_count": null,
   "id": "e5234132-b140-4fa4-8b9b-09125e61841a",
   "metadata": {},
   "outputs": [],
   "source": [
    "out = outputs[-1]\n",
    "\n",
    "fig, axes = plt.subplots(3,1, figsize=(16, 12))\n",
    "axes = axes.flatten()\n",
    "\n",
    "for j in range(x.shape[0]):\n",
    "    for i in range(x.shape[1]):\n",
    "        label = str(i//2) + (\" re\" if i % 2 == 0 else \" im\")\n",
    "        axes[0].plot(gt_freqs, x[j,i,:].cpu().flatten(), label=label)\n",
    "        axes[0].scatter(gt_freqs[kept_inds], y[j,i].cpu())\n",
    "axes[0].set_title(\"Ground Truth\")\n",
    "axes[0].legend()\n",
    "\n",
    "for j in range(x.shape[0]):\n",
    "    for i in range(x.shape[1]):\n",
    "        label = str(i//2) + (\" re\" if i % 2 == 0 else \" im\")\n",
    "        axes[1].plot(gt_freqs, out[j,i,:].flatten(), label=label)\n",
    "        axes[1].scatter(gt_freqs[kept_inds], y[j,i].cpu())\n",
    "axes[1].set_title(\"Last Output\")\n",
    "axes[1].legend()\n",
    "\n",
    "for j in range(x.shape[0]):\n",
    "    for i in range(x.shape[1]):\n",
    "        label = str(i//2) + (\" re\" if i % 2 == 0 else \" im\")\n",
    "        axes[2].plot(gt_freqs[kept_inds], y[j,i,:].cpu().flatten(), label=label)\n",
    "        axes[2].scatter(gt_freqs[kept_inds], y[j,i].cpu())\n",
    "axes[2].set_title(\"Measurements - Linear interpolation\")\n",
    "axes[2].legend()\n",
    "\n",
    "plt.show()"
   ]
  },
  {
   "cell_type": "code",
   "execution_count": null,
   "id": "8e2fa533-7efa-426f-a512-109eaa132a64",
   "metadata": {},
   "outputs": [],
   "source": [
    "out_mag = utils.to_mag(out)\n",
    "\n",
    "print(out_mag.shape)"
   ]
  },
  {
   "cell_type": "code",
   "execution_count": null,
   "id": "94fa2ec3-0a9c-4c1e-a4b8-50cc4e89fd73",
   "metadata": {},
   "outputs": [],
   "source": [
    "fig, axes = plt.subplots(3,1, figsize=(16, 12))\n",
    "axes = axes.flatten()\n",
    "\n",
    "for j in range(x_mag.shape[0]):\n",
    "    axes[0].plot(gt_freqs, x_mag[j], label=str(j))\n",
    "    axes[0].scatter(gt_freqs[kept_inds], y_mag[j].cpu().numpy())\n",
    "axes[0].set_title(\"Ground Truth\")\n",
    "axes[0].set_ylabel(\"Magnitude (DB)\")\n",
    "axes[0].legend()\n",
    "\n",
    "for j in range(x_mag.shape[0]):\n",
    "    axes[1].plot(gt_freqs, out_mag[j], label=str(j))\n",
    "    axes[1].scatter(gt_freqs[kept_inds], y_mag[j].cpu().numpy())\n",
    "axes[1].set_title(\"Last Output\")\n",
    "axes[1].set_ylabel(\"Magnitude (DB)\")\n",
    "axes[1].legend()\n",
    "\n",
    "for j in range(x_mag.shape[0]):\n",
    "    axes[2].plot(gt_freqs, y_interp_mag[j], label=str(j))\n",
    "    axes[2].scatter(gt_freqs[kept_inds], y_mag[j].cpu().numpy())\n",
    "axes[2].set_title(\"Measurements - Linear interpolation (in complex --> mag)\")\n",
    "axes[2].set_ylabel(\"Magnitude (DB)\")\n",
    "axes[2].set_xlabel(\"Frequency (Hz)\")\n",
    "axes[2].legend()\n",
    "\n",
    "plt.show()"
   ]
  },
  {
   "cell_type": "code",
   "execution_count": null,
   "id": "a4d14703-f049-47a8-9920-1123fd2c862c",
   "metadata": {},
   "outputs": [],
   "source": [
    "max_idx = 100 #np.argmax(train_losses)\n",
    "\n",
    "plt.figure()\n",
    "plt.plot(train_losses)\n",
    "plt.title(\"TRAIN LOSS\")\n",
    "plt.ylim(0., train_losses[max_idx])\n",
    "plt.show()\n",
    "\n",
    "plt.figure()\n",
    "plt.plot(test_mses, color='r')\n",
    "plt.title(\"TEST MSE\")\n",
    "plt.ylim(0., test_mses[max_idx])\n",
    "plt.show()\n",
    "\n",
    "plt.figure()\n",
    "plt.plot(test_maes, color='g')\n",
    "plt.title(\"TEST MAE\")\n",
    "plt.ylim(0, test_maes[max_idx])\n",
    "plt.show()"
   ]
  },
  {
   "cell_type": "code",
   "execution_count": null,
   "id": "fde76082-7f3b-4e29-b5dc-4cde9257d965",
   "metadata": {},
   "outputs": [],
   "source": []
  }
 ],
 "metadata": {
  "kernelspec": {
   "display_name": "Python 3",
   "language": "python",
   "name": "python3"
  },
  "language_info": {
   "codemirror_mode": {
    "name": "ipython",
    "version": 3
   },
   "file_extension": ".py",
   "mimetype": "text/x-python",
   "name": "python",
   "nbconvert_exporter": "python",
   "pygments_lexer": "ipython3",
   "version": "3.7.10"
  }
 },
 "nbformat": 4,
 "nbformat_minor": 5
}
