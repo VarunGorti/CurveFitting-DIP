{
 "cells": [
  {
   "cell_type": "code",
   "execution_count": null,
   "id": "27a9ce15-eac3-40b1-9dff-38851d072f18",
   "metadata": {},
   "outputs": [],
   "source": [
    "import torch\n",
    "import random\n",
    "import numpy as np\n",
    "\n",
    "import matplotlib.pyplot as plt\n",
    "%matplotlib inline\n",
    "\n",
    "import torch.nn as nn\n",
    "import torch.nn.functional as F\n",
    "\n",
    "import math\n",
    "import time"
   ]
  },
  {
   "cell_type": "code",
   "execution_count": null,
   "id": "466d8b67-dc9a-4475-ac09-a99ef9e53711",
   "metadata": {},
   "outputs": [],
   "source": [
    "device = torch.device('cuda:0' if torch.cuda.is_available() else 'cpu')\n",
    "print(device)"
   ]
  },
  {
   "cell_type": "markdown",
   "id": "15eda618-f934-4035-b476-87d67091e2f2",
   "metadata": {
    "tags": []
   },
   "source": [
    "# 1. Load the data and get measurements"
   ]
  },
  {
   "cell_type": "code",
   "execution_count": null,
   "id": "3530b249-c0bb-4306-bfdf-3f886d4f92c2",
   "metadata": {},
   "outputs": [],
   "source": [
    "ROOT_PATH = \"/scratch1/04703/sravula/UTAFSDataNew/new_data\"\n",
    "CHIP_NUM = 50"
   ]
  },
  {
   "cell_type": "code",
   "execution_count": null,
   "id": "25f616d5-1fbb-451c-aac4-6ce2262e8c0a",
   "metadata": {},
   "outputs": [],
   "source": [
    "import utils\n",
    "\n",
    "data_dict = utils.get_network_from_file(ROOT_PATH, CHIP_NUM)"
   ]
  },
  {
   "cell_type": "code",
   "execution_count": null,
   "id": "754fa4ec-8795-458e-b86f-16fd77062237",
   "metadata": {},
   "outputs": [],
   "source": [
    "data_dict.keys()"
   ]
  },
  {
   "cell_type": "markdown",
   "id": "ed6836cf-1b57-4d99-a235-53e2bba41a24",
   "metadata": {
    "tags": []
   },
   "source": [
    "## Pre-process the data"
   ]
  },
  {
   "cell_type": "code",
   "execution_count": null,
   "id": "ca65ed8a-597e-46de-a2df-19988c3bb0b9",
   "metadata": {},
   "outputs": [],
   "source": [
    "data_net = data_dict['network']\n",
    "data_freqs = data_dict['network'].frequency"
   ]
  },
  {
   "cell_type": "code",
   "execution_count": null,
   "id": "d6bd5286-7c31-4fcc-8063-6096883a16cb",
   "metadata": {},
   "outputs": [],
   "source": [
    "print(\"Frequency stats\")\n",
    "print(\"Length: %d\" % data_freqs.npoints)\n",
    "print(\"Spacing: %.4e\" % data_freqs.step)\n",
    "print(\"Start: %.4e\" % data_freqs.start)\n",
    "print(\"Stop: %.4e\" % data_freqs.stop)"
   ]
  },
  {
   "cell_type": "code",
   "execution_count": null,
   "id": "7398525e-4e0b-4e69-9e09-40d3c81d953b",
   "metadata": {},
   "outputs": [],
   "source": [
    "f_start = data_freqs.start\n",
    "f_step = data_freqs.step\n",
    "good_spacing = (f_start / f_step).is_integer()\n",
    "print(\"Can extrapolate without aliasing: \", good_spacing)\n",
    "\n",
    "spacing = data_dict[\"sweep\"]\n",
    "print(\"SPACING: \", spacing)\n",
    "\n",
    "good_chip = good_spacing and (spacing == \"LINEAR\")\n",
    "print(\"GOOD SPACING!!!\" if good_chip else \"BAD SPACING???\")"
   ]
  },
  {
   "cell_type": "code",
   "execution_count": null,
   "id": "de4cb327-e84d-4823-b551-f86285aa5035",
   "metadata": {},
   "outputs": [],
   "source": [
    "print([(\"%.4e\" % s) for s in data_freqs.f[0:5]])"
   ]
  },
  {
   "cell_type": "code",
   "execution_count": null,
   "id": "4d724024-a7a9-4f17-9811-5a829e03f6a8",
   "metadata": {},
   "outputs": [],
   "source": [
    "data_net = data_net.extrapolate_to_dc()\n",
    "data_freqs = data_net.frequency "
   ]
  },
  {
   "cell_type": "code",
   "execution_count": null,
   "id": "bf90eb79-f409-4ebc-8a59-b146c244a30a",
   "metadata": {},
   "outputs": [],
   "source": [
    "print(\"Frequency stats\")\n",
    "print(\"Length: %d\" % data_freqs.npoints)\n",
    "print(\"Spacing: %.4e\" % data_freqs.step)\n",
    "print(\"Start: %.4e\" % data_freqs.start)\n",
    "print(\"Stop: %.4e\" % data_freqs.stop)"
   ]
  },
  {
   "cell_type": "code",
   "execution_count": null,
   "id": "b94ea44e-4026-4c52-8800-d99a80b82db8",
   "metadata": {},
   "outputs": [],
   "source": [
    "print([(\"%.4e\" % s) for s in data_freqs.f[0:5]])"
   ]
  },
  {
   "cell_type": "markdown",
   "id": "ee9d2838-ee47-47bd-bdb1-80ea134688d0",
   "metadata": {
    "tags": []
   },
   "source": [
    "## Make some variables we will need"
   ]
  },
  {
   "cell_type": "code",
   "execution_count": null,
   "id": "773e3154-687d-411a-a82f-6d1cf2b23a40",
   "metadata": {},
   "outputs": [],
   "source": [
    "def network_to_sparams(network):\n",
    "    re_mat = network.s.real\n",
    "    im_mat = network.s.imag\n",
    "    out_mat = np.stack((re_mat, im_mat), axis=-1)\n",
    "\n",
    "    out_sparams = utils.matrix_to_sparams(out_mat)\n",
    "\n",
    "    return torch.from_numpy(out_sparams).view(-1, out_sparams.shape[-1]).unsqueeze(0)"
   ]
  },
  {
   "cell_type": "code",
   "execution_count": null,
   "id": "97dc8e9c-42fe-4227-8869-3137d8480ce2",
   "metadata": {},
   "outputs": [],
   "source": [
    "N_FREQS = data_freqs.npoints\n",
    "N_SPARAMS = int(data_net.nports * (data_net.nports + 1) / 2)\n",
    "\n",
    "print(\"N_FREQS: \", N_FREQS)\n",
    "print(\"N_SPARAMS: \", N_SPARAMS)"
   ]
  },
  {
   "cell_type": "code",
   "execution_count": null,
   "id": "c7d4d9f0-1f44-4089-9a92-ef4f10e044ee",
   "metadata": {},
   "outputs": [],
   "source": [
    "x = network_to_sparams(data_net).to(device)\n",
    "\n",
    "print(\"x shape: \", x.shape)"
   ]
  },
  {
   "cell_type": "code",
   "execution_count": null,
   "id": "0f95be31-37b0-4b4d-a0dd-e245d11ced50",
   "metadata": {},
   "outputs": [],
   "source": [
    "x_mag = utils.sparams_to_mag(x)\n",
    "\n",
    "print(\"x_mag shape: \", x_mag.shape)"
   ]
  },
  {
   "cell_type": "markdown",
   "id": "252dc604-a418-4873-9716-c76744517798",
   "metadata": {},
   "source": [
    "## Grab Some Measurements"
   ]
  },
  {
   "cell_type": "code",
   "execution_count": null,
   "id": "aaa491f7-88cf-40b9-be64-6246222447ca",
   "metadata": {},
   "outputs": [],
   "source": [
    "PROBLEM_TYPE = \"equal\" #[random, equal, forecast, full, log, sqrt]\n",
    "M = 0.01\n",
    "\n",
    "kept_inds, missing_inds = utils.get_inds(PROBLEM_TYPE, N_FREQS, M)\n",
    "\n",
    "M = len(kept_inds) #re-define in case kept_inds is off by 1 or something\n",
    "\n",
    "print(\"Number of Ground Truth Frequency Points: \", N_FREQS)\n",
    "print(\"Number of Measurements: \", M)\n",
    "print(\"Undersampling Ratio: \", M/N_FREQS)"
   ]
  },
  {
   "cell_type": "code",
   "execution_count": null,
   "id": "2b271b3a-1c28-4044-9ac6-be6974ca78a7",
   "metadata": {},
   "outputs": [],
   "source": [
    "y = torch.clone(x)[:, :, kept_inds]\n",
    "y_freqs = data_freqs[kept_inds]\n",
    "\n",
    "print(\"y shape: \", y.shape)\n",
    "print(\"y_freqs shape: \", y_freqs.npoints)"
   ]
  },
  {
   "cell_type": "code",
   "execution_count": null,
   "id": "443ae673-1de9-4b53-8e30-8e2f239ef4f2",
   "metadata": {},
   "outputs": [],
   "source": [
    "y_mag = utils.sparams_to_mag(y)\n",
    "\n",
    "print(\"y_mag shape: \", y_mag.shape)"
   ]
  },
  {
   "cell_type": "code",
   "execution_count": null,
   "id": "01da80f3-ea77-41ee-8878-da8a7ac137b2",
   "metadata": {},
   "outputs": [],
   "source": [
    "z = torch.clone(x)\n",
    "z[:, :, missing_inds] = 0\n",
    "\n",
    "print(\"z shape: \", z.shape)"
   ]
  },
  {
   "cell_type": "markdown",
   "id": "937016d4-0f95-418f-9b84-6bceae88770d",
   "metadata": {},
   "source": [
    "## Plot data and measurements"
   ]
  },
  {
   "cell_type": "code",
   "execution_count": null,
   "id": "248004ef-174e-4e03-83ac-7787a169d949",
   "metadata": {},
   "outputs": [],
   "source": [
    "plt.figure()\n",
    "for i in range(N_SPARAMS):\n",
    "    plt.plot(data_freqs.f, x_mag[0, i].cpu(), label=str(i))\n",
    "    plt.scatter(y_freqs.f, y_mag[0, i].cpu(), s=20)\n",
    "if N_SPARAMS <= 10:\n",
    "    plt.legend()\n",
    "plt.title(\"Ground Truth Magnitude Spectrum\")\n",
    "plt.ylabel(\"Magnitude\")\n",
    "plt.xlabel(\"Frequency\")\n",
    "plt.show()"
   ]
  },
  {
   "cell_type": "code",
   "execution_count": null,
   "id": "7c78df32-607a-4e37-8f02-2ac1b867b720",
   "metadata": {},
   "outputs": [],
   "source": [
    "plt.figure()\n",
    "for i in range(N_SPARAMS):\n",
    "    plt.plot(data_freqs.f, x[0,2*i].cpu(), label=str(i)+\" Re\")\n",
    "    plt.plot(data_freqs.f, x[0,2*i+1].cpu(), label=str(i)+\" Im\")\n",
    "    plt.scatter(y_freqs.f, y[0,2*i].cpu(), s=20)\n",
    "    plt.scatter(y_freqs.f, y[0,2*i+1].cpu(), s=20)\n",
    "if N_SPARAMS <= 10:\n",
    "    plt.legend()\n",
    "plt.title(\"Ground Truth Complex Representation\")\n",
    "plt.xlabel(\"Frequency\")\n",
    "plt.show()"
   ]
  },
  {
   "cell_type": "code",
   "execution_count": null,
   "id": "958f8651-b768-4ebb-a333-477e360cb0ac",
   "metadata": {},
   "outputs": [],
   "source": [
    "plt.figure()\n",
    "for i in range(N_SPARAMS):\n",
    "    plt.scatter(data_freqs.f, z[0,2*i].cpu())\n",
    "    plt.scatter(data_freqs.f, z[0,2*i+1].cpu())\n",
    "    plt.plot(data_freqs.f, z[0,2*i].cpu(), label=str(i)+\" Re\")\n",
    "    plt.plot(data_freqs.f, z[0,2*i+1].cpu(), label=str(i)+\" Im\")\n",
    "if N_SPARAMS <= 10:\n",
    "    plt.legend()\n",
    "plt.title(\"Network Input\")\n",
    "plt.xlabel(\"Frequency\")\n",
    "plt.show()"
   ]
  },
  {
   "cell_type": "markdown",
   "id": "ae1b8f5c-264c-4e69-9188-6d85af405b38",
   "metadata": {},
   "source": [
    "# 2. Network Setup"
   ]
  },
  {
   "cell_type": "markdown",
   "id": "08ce5316-e001-4826-bed3-e6be0cbaa9b5",
   "metadata": {},
   "source": [
    "## Define network parameters"
   ]
  },
  {
   "cell_type": "code",
   "execution_count": null,
   "id": "c9deea63-3263-463f-8fa5-fadd42d58fed",
   "metadata": {},
   "outputs": [],
   "source": [
    "NZ = y.shape[1]\n",
    "\n",
    "NUM_LAYERS = int(np.ceil(np.log2(N_FREQS))) - 5\n",
    "\n",
    "if NZ < 16:\n",
    "    BASE_NGF = 2 ** (int(np.ceil(np.log2(NZ))) + 2) #third power of two after NZ \n",
    "elif NZ < 64:\n",
    "    BASE_NGF = 2 ** (int(np.ceil(np.log2(NZ))) + 1) #second power of two after NZ \n",
    "elif NZ < 128:\n",
    "    BASE_NGF = 2 ** int(np.ceil(np.log2(NZ))) #next highest power of 2\n",
    "else:\n",
    "    BASE_NGF = NZ\n",
    "\n",
    "NC = y.shape[1]\n",
    "\n",
    "KERNEL_SIZE = 3\n",
    "CAUSAL = True\n",
    "PASSIVE = False\n",
    "\n",
    "K = 1 #interpolation factor\n",
    "NEW_CAUSAL = True"
   ]
  },
  {
   "cell_type": "code",
   "execution_count": null,
   "id": "5e6cc142-ad84-4a45-963b-08161df5bae6",
   "metadata": {},
   "outputs": [],
   "source": [
    "print(\"NZ: \", str(NZ))\n",
    "print(\"NUM_LAYERS: \", str(NUM_LAYERS))\n",
    "print(\"BASE NGF: \", str(BASE_NGF))\n",
    "print(\"NC: \", NC)\n",
    "print(\"KERNEL_SIZE: \", KERNEL_SIZE)\n",
    "print(\"CAUSAL: \", CAUSAL)\n",
    "print(\"PASSIVE: \", PASSIVE)\n",
    "print(\"K: \", K)\n",
    "print(\"NEW_CAUSAL\", NEW_CAUSAL)"
   ]
  },
  {
   "cell_type": "markdown",
   "id": "e940a34f-147e-4ed5-9698-13659e34c6ad",
   "metadata": {
    "tags": []
   },
   "source": [
    "## Init and check dimensions"
   ]
  },
  {
   "cell_type": "code",
   "execution_count": null,
   "id": "107c069f-8f4f-4ee7-b56f-1f678d5fe4cc",
   "metadata": {},
   "outputs": [],
   "source": [
    "from models import RESNET_BACKBONE, RESNET_HEAD, MODULAR_RESNET\n",
    "\n",
    "net_backbone = RESNET_BACKBONE(ngf=BASE_NGF,\n",
    "                               ngf_in_out=BASE_NGF,\n",
    "                               kernel_size=KERNEL_SIZE,\n",
    "                               num_layers=NUM_LAYERS)\n",
    "net_head = RESNET_HEAD(nz=NZ,\n",
    "                       ngf_in_out=BASE_NGF,\n",
    "                       nc=NC,\n",
    "                       output_size=N_FREQS,\n",
    "                       kernel_size=KERNEL_SIZE,\n",
    "                       causal=CAUSAL,\n",
    "                       passive=PASSIVE,\n",
    "                       k=K,\n",
    "                       new_causality=NEW_CAUSAL)\n",
    "\n",
    "net = MODULAR_RESNET(backbone=net_backbone,\n",
    "                     head=net_head)\n",
    "net = net.to(device)"
   ]
  },
  {
   "cell_type": "code",
   "execution_count": null,
   "id": "a87f6e9a-3ceb-4e59-acfa-97a8aec32dad",
   "metadata": {},
   "outputs": [],
   "source": [
    "z_temp = torch.randn((1, NZ, N_FREQS)).to(device)\n",
    "\n",
    "test_out = net.forward(z_temp)\n",
    "\n",
    "print(\"Net output shape: \", test_out.shape)"
   ]
  },
  {
   "cell_type": "code",
   "execution_count": null,
   "id": "73883df2-f2f4-4630-8071-dd0d6ce7bad4",
   "metadata": {},
   "outputs": [],
   "source": [
    "pytorch_total_params = sum(p.numel() for p in net.parameters() if p.requires_grad)\n",
    "\n",
    "print(\"TOTAL PARAMS: \", pytorch_total_params)"
   ]
  },
  {
   "cell_type": "markdown",
   "id": "14e41d7b-3d65-4c66-b80d-cf86e9af5352",
   "metadata": {},
   "source": [
    "## Define training parameters and run"
   ]
  },
  {
   "cell_type": "code",
   "execution_count": null,
   "id": "b048e4b5-23ab-4fb1-a5f0-b55912300b17",
   "metadata": {},
   "outputs": [],
   "source": [
    "LR = 2e-4 \n",
    "NUM_ITER = 20000 \n",
    "\n",
    "REG_HYPERPARAM = 1.0\n",
    "REG_TYPE = \"smoothing\"\n",
    "REG_TARGET = None #this is only sety if we are using centered_wd regularisation\n",
    "REG_ORDER = 3\n",
    "REG_NORM = 1\n",
    "\n",
    "REDUCTION = \"mean\""
   ]
  },
  {
   "cell_type": "code",
   "execution_count": null,
   "id": "ce9cb773-62a9-46cb-a816-e103d39ba0ff",
   "metadata": {},
   "outputs": [],
   "source": [
    "START_NOISE_LEVEL = 1.0\n",
    "END_NOISE_LEVEL = 0.001\n",
    "NOISE_DECAY_FACTOR = (END_NOISE_LEVEL / START_NOISE_LEVEL)**(1 / NUM_ITER) \n",
    "\n",
    "print(\"Noise decay factor: \", NOISE_DECAY_FACTOR)"
   ]
  },
  {
   "cell_type": "code",
   "execution_count": null,
   "id": "26264fdd-d950-4a5b-96b9-e47ef79b3aa2",
   "metadata": {},
   "outputs": [],
   "source": [
    "SGLD = True\n",
    "BURN_IN_ITER = NUM_ITER - 5000\n",
    "SAVE_OUTPUT_EVERY = 100"
   ]
  },
  {
   "cell_type": "code",
   "execution_count": null,
   "id": "dced4912-91e7-47d8-baa2-e069b2ea39d6",
   "metadata": {},
   "outputs": [],
   "source": [
    "import Fitting\n",
    "\n",
    "dip_args = {\"y\": y,\n",
    "            \"x\": x,\n",
    "            \"z\": z,\n",
    "            \"device\": device,\n",
    "            \"model\": net,\n",
    "            \"lr\": LR,\n",
    "            \"num_iter\": NUM_ITER,\n",
    "            \"reg_type\": REG_TYPE,\n",
    "            \"reg_lambda\": REG_HYPERPARAM,\n",
    "            \"reg_target\": REG_TARGET,\n",
    "            \"reg_order\": REG_ORDER,\n",
    "            \"reg_norm\": REG_NORM,\n",
    "            \"reduction\": REDUCTION,\n",
    "            \"kept_inds\": kept_inds,\n",
    "            \"input_noise_start\": START_NOISE_LEVEL,\n",
    "            \"input_noise_decay\": NOISE_DECAY_FACTOR,\n",
    "            \"perturb_weights\": SGLD,\n",
    "            \"burn_in_iter\": BURN_IN_ITER,\n",
    "            \"save_output_every\": SAVE_OUTPUT_EVERY,\n",
    "            \"debug\": True}\n",
    "dip_args = Fitting.dict2namespace(dip_args)"
   ]
  },
  {
   "cell_type": "code",
   "execution_count": null,
   "id": "0f0cc81b-d7cd-48ce-aa54-f79486705e03",
   "metadata": {},
   "outputs": [],
   "source": [
    "dip_results = Fitting.run_dip(dip_args)"
   ]
  },
  {
   "cell_type": "markdown",
   "id": "300b6a0a-d7e4-439c-b9e0-69799c56017c",
   "metadata": {},
   "source": [
    "# 3. Visualize and get metrics"
   ]
  },
  {
   "cell_type": "code",
   "execution_count": null,
   "id": "a64944c1-26ac-4ad4-8b8f-306fdd4befdb",
   "metadata": {},
   "outputs": [],
   "source": [
    "print(dip_results.__dict__.keys())"
   ]
  },
  {
   "cell_type": "code",
   "execution_count": null,
   "id": "ecf84952-975e-4bd6-b863-f94718ce5626",
   "metadata": {},
   "outputs": [],
   "source": [
    "print(\"Final MSE: %.2e\" % dip_results.mse_list_gt[-1])\n",
    "print(\"Final Mean MSE: %.2e\" % dip_results.mse_list_mean_gt[-1])"
   ]
  },
  {
   "cell_type": "code",
   "execution_count": null,
   "id": "8d25367c-1a87-474a-8ca4-cb88ca09a1e4",
   "metadata": {},
   "outputs": [],
   "source": [
    "MAX_IDX = 5000\n",
    "\n",
    "plt.figure()\n",
    "plt.plot(dip_results.mse_list_gt)\n",
    "plt.title(\"MSE vs GT\")\n",
    "plt.ylim(0, dip_results.mse_list_gt[MAX_IDX])\n",
    "plt.show()\n",
    "\n",
    "plt.figure()\n",
    "plt.plot(dip_results.mse_list_meas)\n",
    "plt.title(\"MSE vs MEAS\")\n",
    "plt.ylim(0, dip_results.mse_list_meas[MAX_IDX])\n",
    "plt.show()\n",
    "\n",
    "if hasattr(dip_results, \"reg_list\"):\n",
    "    plt.figure()\n",
    "    plt.plot(dip_results.reg_list)\n",
    "    plt.title(\"Reg\")\n",
    "    plt.ylim(0, dip_results.reg_list[MAX_IDX])\n",
    "    plt.show()\n",
    "\n",
    "plt.figure()\n",
    "plt.plot(np.arange(BURN_IN_ITER, NUM_ITER, SAVE_OUTPUT_EVERY), dip_results.mse_list_mean_gt)\n",
    "plt.title(\"MEAN MSE vs GT\")\n",
    "plt.show()\n",
    "\n",
    "plt.figure()\n",
    "plt.plot(np.arange(BURN_IN_ITER, NUM_ITER, SAVE_OUTPUT_EVERY), dip_results.mse_list_mean_meas)\n",
    "plt.title(\"MEAN MSE vs MEAS\")\n",
    "plt.show()"
   ]
  },
  {
   "cell_type": "code",
   "execution_count": null,
   "id": "816a596b-e0eb-4a88-bd4e-acf2be0f3ae2",
   "metadata": {},
   "outputs": [],
   "source": [
    "out_mag_list = [utils.sparams_to_mag(i) for i in dip_results.out_list]\n",
    "\n",
    "mean_out_mag = torch.mean(torch.cat(out_mag_list), dim=0, keepdim=True)\n",
    "std_out_mag = torch.std(torch.cat(out_mag_list), dim=0, keepdim=True)"
   ]
  },
  {
   "cell_type": "code",
   "execution_count": null,
   "id": "5dc4b240-4729-46c5-a123-521a4a115120",
   "metadata": {},
   "outputs": [],
   "source": [
    "last_out = dip_results.out_list[-1]\n",
    "\n",
    "last_out_mag = utils.sparams_to_mag(last_out)"
   ]
  },
  {
   "cell_type": "code",
   "execution_count": null,
   "id": "1c077f74-e229-416d-a512-7303506e5283",
   "metadata": {},
   "outputs": [],
   "source": [
    "_, axes = plt.subplots(3,1, figsize=(16, 12))\n",
    "axes = axes.flatten()\n",
    "\n",
    "for i in range(x_mag.shape[1]):\n",
    "    axes[0].plot(x_mag[0,i].cpu(), label=str(i))\n",
    "axes[0].set_title(\"Ground Truth Magnitude Spectrum\")\n",
    "axes[0].set_ylim(0,1)\n",
    "\n",
    "for i in range(x_mag.shape[1]):\n",
    "    axes[1].plot(last_out_mag[0,i].detach().cpu(), label=str(i))\n",
    "axes[1].set_title(\"DIP Final Output Magnitude Spectrum\")\n",
    "axes[1].set_ylim(0,1)\n",
    "\n",
    "for i in range(x_mag.shape[1]):\n",
    "    axes[2].plot(mean_out_mag[0,i].detach().cpu(), label=str(i))\n",
    "axes[2].set_title(\"DIP Mean Output Magnitude Spectrum\")\n",
    "axes[2].set_ylim(0,1)\n",
    "\n",
    "plt.show()"
   ]
  },
  {
   "cell_type": "code",
   "execution_count": null,
   "id": "0aad5f24-c440-4bca-a3fd-de0d530f57a4",
   "metadata": {},
   "outputs": [],
   "source": [
    "under_line = mean_out_mag - 1.96*std_out_mag\n",
    "over_line = mean_out_mag + 1.96*std_out_mag\n",
    "\n",
    "resid_mag = torch.square(x_mag - mean_out_mag)\n",
    "\n",
    "plt.figure(figsize=(16,4))\n",
    "for i in range(std_out_mag.shape[1]):\n",
    "    plt.plot(std_out_mag[0,i].detach().cpu(), label=str(i))\n",
    "    plt.scatter(kept_inds, std_out_mag[0,i][kept_inds].detach().cpu(), s=20)\n",
    "plt.title(\"STD\")\n",
    "\n",
    "plt.figure(figsize=(16,4))\n",
    "for i in range(resid_mag.shape[1]):\n",
    "    plt.plot(resid_mag[0,i].detach().cpu(), label=str(i))\n",
    "    plt.scatter(kept_inds, resid_mag[0,i][kept_inds].detach().cpu(), s=20)\n",
    "plt.title(\"Squared Residuals\")\n",
    "\n",
    "plt.figure(figsize=(16,4))\n",
    "for i in range(mean_out_mag.shape[1]):\n",
    "    plt.plot(np.arange(N_FREQS), mean_out_mag[0,i].detach().cpu(), label=str(i))\n",
    "    plt.scatter(kept_inds, mean_out_mag[0,i][kept_inds].detach().cpu(), s=20)\n",
    "    plt.fill_between(np.arange(N_FREQS), under_line[0,i].detach().cpu(), over_line[0,i].detach().cpu(), alpha=0.3)\n",
    "plt.title(\"Mean\")"
   ]
  },
  {
   "cell_type": "markdown",
   "id": "a5bc96a0-a1f4-4d06-9e87-a58628274095",
   "metadata": {},
   "source": [
    "# 4. Post-Processing and File Saving"
   ]
  },
  {
   "cell_type": "markdown",
   "id": "9237c4fa-0aaf-43cd-9faa-9fe58df3e5df",
   "metadata": {},
   "source": [
    "## check PNSR of our raw outputs"
   ]
  },
  {
   "cell_type": "code",
   "execution_count": null,
   "id": "38f0f7fd-815d-4567-a9cc-b9976e18568c",
   "metadata": {},
   "outputs": [],
   "source": [
    "mean_out = torch.mean(torch.cat(dip_results.out_list), dim=0, keepdim=True)\n",
    "\n",
    "print(mean_out.shape)"
   ]
  },
  {
   "cell_type": "code",
   "execution_count": null,
   "id": "e1ce8740-3591-4a1c-bb8f-8e980145ea46",
   "metadata": {},
   "outputs": [],
   "source": [
    "from skimage.metrics import peak_signal_noise_ratio as psnr\n",
    "\n",
    "psnr_mean = psnr(x.detach().cpu().numpy(), mean_out.detach().cpu().numpy())\n",
    "psnr_last = psnr(x.detach().cpu().numpy(), last_out.detach().cpu().numpy())\n",
    "\n",
    "print(\"PSNR (MEAN): \", psnr_mean)\n",
    "print(\"PSNR (LAST): \", psnr_last)"
   ]
  },
  {
   "cell_type": "markdown",
   "id": "2c511fd8-6449-4faf-be8b-203fe8137c9c",
   "metadata": {},
   "source": [
    "## Fit VF on the mean output and the measurements"
   ]
  },
  {
   "cell_type": "markdown",
   "id": "8ae02719-4665-4344-8958-4c68ce276a31",
   "metadata": {},
   "source": [
    "### First make networks from the DIP outputs and measurements to use with VF "
   ]
  },
  {
   "cell_type": "code",
   "execution_count": null,
   "id": "97a4e120-b6a9-479b-97b9-f49cd0ca5679",
   "metadata": {},
   "outputs": [],
   "source": [
    "last_out_matrix = utils.sparams_to_matrix(last_out)\n",
    "mean_out_matrix = utils.sparams_to_matrix(mean_out)\n",
    "meas_matrix = utils.sparams_to_matrix(y)\n",
    "\n",
    "print(last_out_matrix.shape)\n",
    "print(mean_out_matrix.shape)\n",
    "print(meas_matrix.shape)"
   ]
  },
  {
   "cell_type": "code",
   "execution_count": null,
   "id": "413c0c05-5961-473f-a7e6-5c0b089e4faf",
   "metadata": {},
   "outputs": [],
   "source": [
    "last_out_network = utils.matrix_to_network(last_out_matrix, data_freqs.f, \"Last DIP Output for Chip \"+str(CHIP_NUM))\n",
    "mean_out_network = utils.matrix_to_network(mean_out_matrix, data_freqs.f, \"Mean DIP Output for Chip \"+str(CHIP_NUM))\n",
    "meas_network = utils.matrix_to_network(meas_matrix, y_freqs.f, \"Observations for Chip \"+str(CHIP_NUM))"
   ]
  },
  {
   "cell_type": "markdown",
   "id": "51668e26-c3ea-4b3c-bb89-a11acc227e23",
   "metadata": {},
   "source": [
    "### Now fit the VF"
   ]
  },
  {
   "cell_type": "code",
   "execution_count": null,
   "id": "a691714b-e3c7-4c37-b459-e8ad103e9c51",
   "metadata": {},
   "outputs": [],
   "source": [
    "from VF import vectorfit\n",
    "\n",
    "fitter = vectorfit.VectorFitter(mean_out_network, number_of_failed_improvements_before_quit=5)\n",
    "fitter_base = vectorfit.VectorFitter(meas_network, number_of_failed_improvements_before_quit=5)"
   ]
  },
  {
   "cell_type": "code",
   "execution_count": null,
   "id": "4aa24229-a73e-40e1-9335-c17837bc1d80",
   "metadata": {
    "tags": []
   },
   "outputs": [],
   "source": [
    "vf_output = fitter.vector_fit(\"DIP Mean Output\", data_freqs.f)"
   ]
  },
  {
   "cell_type": "code",
   "execution_count": null,
   "id": "b5eb7d99-cc79-4fb2-91fc-91b8db95707c",
   "metadata": {
    "tags": []
   },
   "outputs": [],
   "source": [
    "vf_base_output = fitter_base.vector_fit(\"Measurements\", data_freqs.f)\n",
    "vf_base_output.fitted_network = vectorfit.VectorFitter.fill_fitted_network(data_freqs.f, vf_base_output.vector_fit_model)"
   ]
  },
  {
   "cell_type": "code",
   "execution_count": null,
   "id": "adbf3804-3bc6-4b61-8981-495ff7a6dcdb",
   "metadata": {},
   "outputs": [],
   "source": [
    "vf_out = network_to_sparams(vf_output.fitted_network)\n",
    "\n",
    "print(\"vf_out shape: \", vf_out.shape)"
   ]
  },
  {
   "cell_type": "code",
   "execution_count": null,
   "id": "6befb80a-f957-4a82-be07-94cd4ee070ba",
   "metadata": {},
   "outputs": [],
   "source": [
    "vf_out_base = network_to_sparams(vf_base_output.fitted_network)\n",
    "\n",
    "print(\"vf_out_base shape: \", vf_out_base.shape)"
   ]
  },
  {
   "cell_type": "code",
   "execution_count": null,
   "id": "5cf3ec00-710b-42e0-a90d-45bfd708f64f",
   "metadata": {},
   "outputs": [],
   "source": [
    "psnr_vf = psnr(x.detach().cpu().numpy(), vf_out.detach().cpu().numpy())\n",
    "psnr_vf_base = psnr(x.detach().cpu().numpy(), vf_out_base.detach().cpu().numpy())\n",
    "\n",
    "print(\"PSNR (VF): \", psnr_vf)\n",
    "print(\"PSNR (VF BASELINE): \", psnr_vf_base)"
   ]
  },
  {
   "cell_type": "code",
   "execution_count": null,
   "id": "49f725e5-e722-4b48-80ed-70755299f7f6",
   "metadata": {},
   "outputs": [],
   "source": [
    "vf_mag = utils.sparams_to_mag(vf_out)\n",
    "vf_mag_base = utils.sparams_to_mag(vf_out_base)"
   ]
  },
  {
   "cell_type": "code",
   "execution_count": null,
   "id": "85a54f19-7bc8-4e6c-ac69-2437f3050f1a",
   "metadata": {},
   "outputs": [],
   "source": [
    "_, axes = plt.subplots(3,1, figsize=(16, 12))\n",
    "axes = axes.flatten()\n",
    "\n",
    "for i in range(x_mag.shape[1]):\n",
    "    axes[0].plot(x_mag[0,i].cpu(), label=str(i))\n",
    "axes[0].set_title(\"Ground Truth Magnitude Spectrum\")\n",
    "axes[0].set_ylim(0,1)\n",
    "\n",
    "for i in range(vf_mag_base.shape[1]):\n",
    "    axes[1].plot(vf_mag_base[0,i].detach().cpu(), label=str(i))\n",
    "axes[1].set_title(\"VF Baseline Magnitude Spectrum\")\n",
    "axes[1].set_ylim(0,1)\n",
    "\n",
    "for i in range(vf_mag.shape[1]):\n",
    "    axes[2].plot(vf_mag[0,i].detach().cpu(), label=str(i))\n",
    "axes[2].set_title(\"VF + DIP Magnitude Spectrum\")\n",
    "axes[2].set_ylim(0,1)\n",
    "\n",
    "plt.show()"
   ]
  },
  {
   "cell_type": "markdown",
   "id": "25331116-15a0-4d3f-935f-3f85dcd7ec69",
   "metadata": {},
   "source": [
    "## Make networks and touchstone files "
   ]
  },
  {
   "cell_type": "markdown",
   "id": "72719885-7a9d-40a9-840a-d4bcbde32fe7",
   "metadata": {},
   "source": [
    "### First write the GT data"
   ]
  },
  {
   "cell_type": "code",
   "execution_count": null,
   "id": "ff440c52-9468-417e-a8c9-73900100adac",
   "metadata": {},
   "outputs": [],
   "source": [
    "import os\n",
    "\n",
    "RESULTS_ROOT = \"/tmp/dip_results\"\n",
    "write_path = os.path.join(RESULTS_ROOT, \"CASE\"+str(CHIP_NUM))\n",
    "\n",
    "if not os.path.exists(write_path):\n",
    "    os.makedirs(write_path)"
   ]
  },
  {
   "cell_type": "code",
   "execution_count": null,
   "id": "234190cb-4cdb-42a3-b8a5-42fef936798b",
   "metadata": {},
   "outputs": [],
   "source": [
    "data_net.write_touchstone(os.path.join(write_path, \"GT\"))"
   ]
  },
  {
   "cell_type": "markdown",
   "id": "8ece522f-a3c6-4499-8abe-facfb6bfb0f5",
   "metadata": {},
   "source": [
    "### Now Write the DIP and Measurement data"
   ]
  },
  {
   "cell_type": "code",
   "execution_count": null,
   "id": "3820cbb9-af08-46f0-ad0c-6c60268620ab",
   "metadata": {},
   "outputs": [],
   "source": [
    "pct_string = str(int(np.round(100*M / N_FREQS))) + \"_PCT\"\n",
    "print(pct_string)\n",
    "\n",
    "write_path = os.path.join(write_path, pct_string)\n",
    "\n",
    "if not os.path.exists(write_path):\n",
    "    os.makedirs(write_path)"
   ]
  },
  {
   "cell_type": "code",
   "execution_count": null,
   "id": "1862e1df-4256-4600-aa64-5c3a0b055bbb",
   "metadata": {},
   "outputs": [],
   "source": [
    "last_out_network.write_touchstone(os.path.join(write_path, \"LAST_DIP\"))\n",
    "mean_out_network.write_touchstone(os.path.join(write_path, \"MEAN_DIP\"))\n",
    "meas_network.write_touchstone(os.path.join(write_path, \"MEASUREMENTS\"))"
   ]
  },
  {
   "cell_type": "markdown",
   "id": "4c99dc43-f974-44da-ae91-58dcef26928f",
   "metadata": {},
   "source": [
    "### Finally Write the VF Data"
   ]
  },
  {
   "cell_type": "code",
   "execution_count": null,
   "id": "19812fe0-ef73-49a5-aa0c-316941709ac3",
   "metadata": {},
   "outputs": [],
   "source": [
    "vf_output.fitted_network.write_touchstone(os.path.join(write_path, \"VF_DIP\"))\n",
    "vf_base_output.fitted_network.write_touchstone(os.path.join(write_path, \"VF\"))"
   ]
  },
  {
   "cell_type": "markdown",
   "id": "fdb479a6-9c81-4885-840c-37e23fa09383",
   "metadata": {},
   "source": [
    "# 5. Check that the saved data look right when we open it back up"
   ]
  },
  {
   "cell_type": "code",
   "execution_count": null,
   "id": "fcedcd59-dcb2-402e-95a6-99148d86cf2e",
   "metadata": {},
   "outputs": [],
   "source": []
  }
 ],
 "metadata": {
  "kernelspec": {
   "display_name": "Python 3 (ipykernel)",
   "language": "python",
   "name": "python3"
  },
  "language_info": {
   "codemirror_mode": {
    "name": "ipython",
    "version": 3
   },
   "file_extension": ".py",
   "mimetype": "text/x-python",
   "name": "python",
   "nbconvert_exporter": "python",
   "pygments_lexer": "ipython3",
   "version": "3.9.13"
  }
 },
 "nbformat": 4,
 "nbformat_minor": 5
}
