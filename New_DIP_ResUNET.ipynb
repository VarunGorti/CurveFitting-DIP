{
 "cells": [
  {
   "cell_type": "markdown",
   "id": "46d6cc86-9d56-43b0-bf23-b9ea1c403d98",
   "metadata": {
    "tags": []
   },
   "source": [
    "# Imports and Device"
   ]
  },
  {
   "cell_type": "code",
   "execution_count": 51,
   "id": "a4ac16f7-e866-459e-a1d2-1c2b2157e97b",
   "metadata": {},
   "outputs": [],
   "source": [
    "import torch\n",
    "import random\n",
    "import numpy as np\n",
    "\n",
    "import matplotlib.pyplot as plt\n",
    "%matplotlib inline\n",
    "\n",
    "import torch.nn as nn\n",
    "import torch.nn.functional as F\n",
    "\n",
    "import math\n",
    "import time"
   ]
  },
  {
   "cell_type": "code",
   "execution_count": 52,
   "id": "4426ef12-d435-4206-9684-8fe6e28fe91f",
   "metadata": {},
   "outputs": [
    {
     "name": "stdout",
     "output_type": "stream",
     "text": [
      "cuda:0\n"
     ]
    }
   ],
   "source": [
    "device = torch.device('cuda:0' if torch.cuda.is_available() else 'cpu')\n",
    "print(device)"
   ]
  },
  {
   "cell_type": "markdown",
   "id": "1a64bce6-6ae7-4849-8316-7eea19dc2d6e",
   "metadata": {},
   "source": [
    "# Load the data"
   ]
  },
  {
   "cell_type": "code",
   "execution_count": 53,
   "id": "3a7fa41d-a9fb-44d0-923d-41ce4727f14d",
   "metadata": {},
   "outputs": [],
   "source": [
    "root_path = \"/scratch/04703/sravula/UTAFSDataNew/new_data\"\n",
    "chip_num = 25"
   ]
  },
  {
   "cell_type": "code",
   "execution_count": 54,
   "id": "856072d9-e566-4b8d-8e36-5bd3340c33b9",
   "metadata": {},
   "outputs": [],
   "source": [
    "import utils\n",
    "\n",
    "data_dict = utils.grab_chip_data(root_path, chip_num, resample=True)"
   ]
  },
  {
   "cell_type": "code",
   "execution_count": 55,
   "id": "0f53e1df-69d7-42e5-ac02-040a8741f365",
   "metadata": {},
   "outputs": [
    {
     "data": {
      "text/plain": [
       "dict_keys(['gt_matrix', 'gt_freqs', 'vf_matrix', 'y_matrix', 'y_freqs', 'og_matrix', 'og_freqs'])"
      ]
     },
     "execution_count": 55,
     "metadata": {},
     "output_type": "execute_result"
    }
   ],
   "source": [
    "data_dict.keys()"
   ]
  },
  {
   "cell_type": "markdown",
   "id": "933442be-aa84-46b7-b7f0-2a4a2d64119a",
   "metadata": {},
   "source": [
    "## Check the data matrices converted from touchstone to np"
   ]
  },
  {
   "cell_type": "code",
   "execution_count": 56,
   "id": "ef90688c-34eb-4d3d-9982-aa73bcdb2a7b",
   "metadata": {},
   "outputs": [
    {
     "name": "stdout",
     "output_type": "stream",
     "text": [
      "(8192, 16, 16, 2)\n",
      "(8000, 16, 16, 2)\n",
      "(38, 16, 16, 2)\n",
      "(8000, 16, 16, 2)\n"
     ]
    }
   ],
   "source": [
    "print(data_dict['gt_matrix'].shape)\n",
    "print(data_dict['vf_matrix'].shape)\n",
    "print(data_dict['y_matrix'].shape)\n",
    "print(data_dict['og_matrix'].shape)"
   ]
  },
  {
   "cell_type": "code",
   "execution_count": 57,
   "id": "503794c6-d528-474b-8bcd-9928c2f88cee",
   "metadata": {},
   "outputs": [
    {
     "name": "stdout",
     "output_type": "stream",
     "text": [
      "float32\n",
      "float32\n",
      "float32\n",
      "float32\n"
     ]
    }
   ],
   "source": [
    "print(data_dict['gt_matrix'].dtype)\n",
    "print(data_dict['vf_matrix'].dtype)\n",
    "print(data_dict['y_matrix'].dtype)\n",
    "print(data_dict['og_matrix'].dtype)"
   ]
  },
  {
   "cell_type": "code",
   "execution_count": 58,
   "id": "836ef3a4-5437-41a7-9243-122ab3282df4",
   "metadata": {},
   "outputs": [
    {
     "name": "stdout",
     "output_type": "stream",
     "text": [
      "(8192,)\n",
      "(38,)\n",
      "(8000,)\n"
     ]
    }
   ],
   "source": [
    "print(data_dict['gt_freqs'].shape)\n",
    "print(data_dict['y_freqs'].shape)\n",
    "print(data_dict['og_freqs'].shape)"
   ]
  },
  {
   "cell_type": "code",
   "execution_count": 59,
   "id": "bff6073b-fac6-4db0-b3c2-6c6b18c07786",
   "metadata": {},
   "outputs": [
    {
     "name": "stdout",
     "output_type": "stream",
     "text": [
      "float64\n",
      "float64\n",
      "float64\n"
     ]
    }
   ],
   "source": [
    "print(data_dict['gt_freqs'].dtype)\n",
    "print(data_dict['y_freqs'].dtype)\n",
    "print(data_dict['og_freqs'].dtype)"
   ]
  },
  {
   "cell_type": "markdown",
   "id": "a8771c6a-32bb-49e7-af69-fe486220cf1c",
   "metadata": {},
   "source": [
    "## Convert the raw data matrices to only the unique S-parameters"
   ]
  },
  {
   "cell_type": "code",
   "execution_count": 60,
   "id": "2ea03471-873c-406f-b9f7-60d777026221",
   "metadata": {},
   "outputs": [],
   "source": [
    "vf_data = utils.matrix_to_sparams(data_dict['vf_matrix'])\n",
    "gt_data = utils.matrix_to_sparams(data_dict['gt_matrix'])\n",
    "y_data = utils.matrix_to_sparams(data_dict['y_matrix'])\n",
    "og_data = utils.matrix_to_sparams(data_dict['og_matrix'])"
   ]
  },
  {
   "cell_type": "code",
   "execution_count": 61,
   "id": "82c09b95-cf24-48fd-965e-f6d706ba322b",
   "metadata": {
    "tags": []
   },
   "outputs": [
    {
     "name": "stdout",
     "output_type": "stream",
     "text": [
      "(136, 2, 8000)\n",
      "(136, 2, 8192)\n",
      "(136, 2, 38)\n",
      "(136, 2, 8000)\n"
     ]
    }
   ],
   "source": [
    "print(vf_data.shape)\n",
    "print(gt_data.shape)\n",
    "print(y_data.shape)\n",
    "print(og_data.shape)"
   ]
  },
  {
   "cell_type": "code",
   "execution_count": 62,
   "id": "7e042149-97bd-4bf6-874d-911b1f389428",
   "metadata": {},
   "outputs": [
    {
     "name": "stdout",
     "output_type": "stream",
     "text": [
      "float32\n",
      "float32\n",
      "float32\n",
      "float32\n"
     ]
    }
   ],
   "source": [
    "print(vf_data.dtype)\n",
    "print(gt_data.dtype)\n",
    "print(y_data.dtype)\n",
    "print(og_data.dtype)"
   ]
  },
  {
   "cell_type": "code",
   "execution_count": 63,
   "id": "7a067ecf-e26b-45f0-89c5-e93450e16729",
   "metadata": {},
   "outputs": [],
   "source": [
    "og_freqs = data_dict['og_freqs']\n",
    "gt_freqs = data_dict['gt_freqs']\n",
    "y_freqs = data_dict['y_freqs']"
   ]
  },
  {
   "cell_type": "code",
   "execution_count": 64,
   "id": "b075595f-5da6-4d81-9c28-01f4a0304bdc",
   "metadata": {},
   "outputs": [
    {
     "name": "stdout",
     "output_type": "stream",
     "text": [
      "(8000,)\n",
      "(8192,)\n",
      "(38,)\n"
     ]
    }
   ],
   "source": [
    "print(og_freqs.shape)\n",
    "print(gt_freqs.shape)\n",
    "print(y_freqs.shape)"
   ]
  },
  {
   "cell_type": "code",
   "execution_count": 65,
   "id": "ae45aa92-6a7b-43e0-8a03-7db70a203334",
   "metadata": {},
   "outputs": [
    {
     "name": "stdout",
     "output_type": "stream",
     "text": [
      "float64\n",
      "float64\n",
      "float64\n"
     ]
    }
   ],
   "source": [
    "print(og_freqs.dtype)\n",
    "print(gt_freqs.dtype)\n",
    "print(y_freqs.dtype)"
   ]
  },
  {
   "cell_type": "markdown",
   "id": "246b08b0-1d06-4b34-aa05-c93aab4c6534",
   "metadata": {},
   "source": [
    "## Plot the (re-sampled) Ground truth S-parameters "
   ]
  },
  {
   "cell_type": "code",
   "execution_count": null,
   "id": "c1f2a644-7ea2-4960-b0a5-feed1c2b62eb",
   "metadata": {},
   "outputs": [],
   "source": [
    "n_sparams = gt_data.shape[0]\n",
    "\n",
    "plt.figure()\n",
    "for i in range(n_sparams):\n",
    "    plt.plot(gt_freqs, gt_data[i,0,:].squeeze(), label=str(i)+\" Re\")\n",
    "    plt.plot(gt_freqs, gt_data[i,1,:].squeeze(), label=str(i)+\" Im\")\n",
    "if n_sparams <= 10:\n",
    "    plt.legend()\n",
    "plt.title(\"Ground Truth (Resampled)\")\n",
    "plt.show()"
   ]
  },
  {
   "cell_type": "code",
   "execution_count": null,
   "id": "b1592953-5bda-4924-b334-5ddad81d9586",
   "metadata": {},
   "outputs": [],
   "source": [
    "gt_mag = utils.to_mag(torch.from_numpy(gt_data))\n",
    "\n",
    "print(gt_mag.shape)"
   ]
  },
  {
   "cell_type": "code",
   "execution_count": null,
   "id": "300694ae-6b89-4d82-94f1-c74726e9803e",
   "metadata": {},
   "outputs": [],
   "source": [
    "n_sparams = gt_mag.shape[0]\n",
    "\n",
    "plt.figure()\n",
    "for i in range(n_sparams):\n",
    "    plt.plot(gt_freqs, gt_mag[i], label=str(i))\n",
    "if n_sparams <= 10:\n",
    "    plt.legend()\n",
    "plt.title(\"Ground Truth (Resampled)\")\n",
    "plt.ylabel(\"Magnitude (DB)\")\n",
    "plt.xlabel(\"Frequency\")\n",
    "plt.show()"
   ]
  },
  {
   "cell_type": "markdown",
   "id": "d82db97f-cbfc-4570-8313-5066fbed9a3b",
   "metadata": {},
   "source": [
    "## Check the data for some smoothness and regularity conditions"
   ]
  },
  {
   "cell_type": "code",
   "execution_count": null,
   "id": "fa328fd6-7c1d-46e5-9cf7-200476799b0b",
   "metadata": {},
   "outputs": [],
   "source": [
    "def calc_diffs(x, order=1):\n",
    "    if order > 1:\n",
    "        x = calc_diffs(x, order-1)\n",
    "    \n",
    "    if isinstance(x, np.ndarray):\n",
    "        return (x - np.roll(x, -1, 2))[...,:-1] \n",
    "    elif torch.is_tensor(x):\n",
    "        return (x - torch.roll(x, -1, 2))[...,:-1]"
   ]
  },
  {
   "cell_type": "code",
   "execution_count": null,
   "id": "f6207649-25ef-4cea-8981-88d8d5140237",
   "metadata": {},
   "outputs": [],
   "source": [
    "x_diff_1 = calc_diffs(gt_data)\n",
    "\n",
    "print(x_diff_1.shape)\n",
    "\n",
    "plt.figure()\n",
    "for i in range(n_sparams):\n",
    "    plt.plot(x_diff_1[i,0,:].squeeze(), label=str(i)+\" Re\")\n",
    "    plt.plot(x_diff_1[i,1,:].squeeze(), label=str(i)+\" Im\")\n",
    "if n_sparams <= 10:\n",
    "    plt.legend()\n",
    "plt.title(\"First-Order Diffs\")\n",
    "plt.show()"
   ]
  },
  {
   "cell_type": "code",
   "execution_count": null,
   "id": "d1a997f5-dbc1-4dcf-9d9c-cb75d79c9e5a",
   "metadata": {},
   "outputs": [],
   "source": [
    "x_diff_2 = calc_diffs(gt_data, 2)\n",
    "\n",
    "print(x_diff_2.shape)\n",
    "\n",
    "plt.figure()\n",
    "for i in range(n_sparams):\n",
    "    plt.plot(x_diff_2[i,0,:].squeeze(), label=str(i)+\" Re\")\n",
    "    plt.plot(x_diff_2[i,1,:].squeeze(), label=str(i)+\" Im\")\n",
    "if n_sparams <= 10:\n",
    "    plt.legend()\n",
    "plt.title(\"Second-Order Diffs\")\n",
    "plt.show()"
   ]
  },
  {
   "cell_type": "markdown",
   "id": "aaf41248-9a53-420c-b075-426e9fe0144c",
   "metadata": {},
   "source": [
    "## Grab some measurements"
   ]
  },
  {
   "cell_type": "code",
   "execution_count": 66,
   "id": "90aed45c-73f3-403d-bf9a-9307bb90d444",
   "metadata": {},
   "outputs": [],
   "source": [
    "PROBLEM_TYPE = \"equal\" #[random, equal, forecast, full]\n",
    "LENGTH = len(gt_freqs)\n",
    "M = int(data_dict['y_freqs'].shape[0] * (gt_freqs.shape[0] / og_freqs.shape[0])) #proportional to amount VF gets"
   ]
  },
  {
   "cell_type": "code",
   "execution_count": 67,
   "id": "ddea3ae4-4938-47c6-8443-bee7e78c6db6",
   "metadata": {},
   "outputs": [],
   "source": [
    "kept_inds, missing_inds = utils.get_inds(PROBLEM_TYPE, LENGTH, M)"
   ]
  },
  {
   "cell_type": "code",
   "execution_count": 68,
   "id": "24d641fd-b4df-49fb-9082-693d3effa6c3",
   "metadata": {},
   "outputs": [
    {
     "name": "stdout",
     "output_type": "stream",
     "text": [
      "8192\n",
      "38\n",
      "39\n",
      "8153\n"
     ]
    }
   ],
   "source": [
    "print(LENGTH)\n",
    "print(M)\n",
    "print(len(kept_inds))\n",
    "print(len(missing_inds))"
   ]
  },
  {
   "cell_type": "markdown",
   "id": "c34e945e-1e38-414f-8ec2-ed6a5339bc1e",
   "metadata": {},
   "source": [
    "## Make the final data"
   ]
  },
  {
   "cell_type": "code",
   "execution_count": null,
   "id": "3bbc2b89-5a2e-43f6-af48-70a04f456085",
   "metadata": {},
   "outputs": [],
   "source": [
    "x = torch.from_numpy(gt_data)\n",
    "x = x.view(-1, LENGTH).unsqueeze(0)"
   ]
  },
  {
   "cell_type": "code",
   "execution_count": null,
   "id": "44faca16-82e3-4ef9-b8d0-b2a6e88d4c41",
   "metadata": {},
   "outputs": [],
   "source": [
    "print(x.shape)\n",
    "print(x.dtype)"
   ]
  },
  {
   "cell_type": "code",
   "execution_count": null,
   "id": "0e151d73-20e7-4a84-95c3-7e9ed3616372",
   "metadata": {},
   "outputs": [],
   "source": [
    "y = torch.clone(x)[:, :, kept_inds]"
   ]
  },
  {
   "cell_type": "code",
   "execution_count": null,
   "id": "afdf855a-848f-4def-9c55-24111609c0ef",
   "metadata": {},
   "outputs": [],
   "source": [
    "print(y.shape)\n",
    "print(y.dtype)"
   ]
  },
  {
   "cell_type": "markdown",
   "id": "1906fbe1-bc0b-41ab-981e-7ca2e4bc87c1",
   "metadata": {},
   "source": [
    "## Make sure that we can transform it back to the OG shape/size"
   ]
  },
  {
   "cell_type": "code",
   "execution_count": null,
   "id": "064ac745-0f1b-4865-bf88-8e05cce5f3e8",
   "metadata": {},
   "outputs": [],
   "source": [
    "x_temp = utils.sparams_to_matrix(x)\n",
    "x_temp = x_temp.numpy()"
   ]
  },
  {
   "cell_type": "code",
   "execution_count": null,
   "id": "3f1d9580-31b7-41df-adeb-44abc6e7c113",
   "metadata": {},
   "outputs": [],
   "source": [
    "print(x_temp.shape)\n",
    "print(x_temp.dtype)"
   ]
  },
  {
   "cell_type": "code",
   "execution_count": null,
   "id": "4045a195-0e48-45ab-bdeb-d2a887655988",
   "metadata": {},
   "outputs": [],
   "source": [
    "print(np.square(np.subtract(x_temp, data_dict['gt_matrix'])).mean())"
   ]
  },
  {
   "cell_type": "markdown",
   "id": "80331096-a5ce-4a5b-9311-5b7f0c7d4486",
   "metadata": {},
   "source": [
    "## Visualize the data and observations"
   ]
  },
  {
   "cell_type": "code",
   "execution_count": null,
   "id": "670db0bf-13c0-4a9c-8ce3-8b18633db4b7",
   "metadata": {},
   "outputs": [],
   "source": [
    "fig, axes = plt.subplots(3,1, figsize=(16, 12))\n",
    "axes = axes.flatten()\n",
    "\n",
    "for j in range(x.shape[0]):\n",
    "    for i in range(x.shape[1]):\n",
    "        label = str(i//2) + (\" re\" if i % 2 == 0 else \" im\")\n",
    "        axes[0].plot(gt_freqs, x[j,i,:].flatten(), label=label)\n",
    "axes[0].set_title(\"Ground Truth\")\n",
    "if n_sparams <= 10:\n",
    "    axes[0].legend()\n",
    "\n",
    "for j in range(x.shape[0]):\n",
    "    for i in range(x.shape[1]):\n",
    "        label = str(i//2) + (\" re\" if i % 2 == 0 else \" im\")\n",
    "        axes[1].plot(gt_freqs[kept_inds], y[j,i,:].flatten(), label=label)\n",
    "axes[1].set_title(\"Measurements - Linear interpolation\")\n",
    "if n_sparams <= 10:\n",
    "    axes[1].legend()\n",
    "\n",
    "for j in range(x.shape[0]):\n",
    "    for i in range(x.shape[1]):\n",
    "        label = str(i//2) + (\" re\" if i % 2 == 0 else \" im\")\n",
    "        axes[2].scatter(gt_freqs[kept_inds], y[j,i,:].flatten(), label=label)\n",
    "axes[2].set_title(\"Measurements - Scatter\")\n",
    "if n_sparams <= 10:\n",
    "    axes[2].legend()\n",
    "\n",
    "plt.show()"
   ]
  },
  {
   "cell_type": "code",
   "execution_count": null,
   "id": "5cbb651d-9b9e-4928-bdb4-b25dbe4d0bfa",
   "metadata": {},
   "outputs": [],
   "source": [
    "x_mag = utils.to_mag(x)\n",
    "y_mag = utils.to_mag(y)\n",
    "\n",
    "print(x_mag.shape)\n",
    "print(y_mag.shape)"
   ]
  },
  {
   "cell_type": "code",
   "execution_count": null,
   "id": "69f159e4-161e-479e-a1f6-47650a43a567",
   "metadata": {},
   "outputs": [],
   "source": [
    "fig, axes = plt.subplots(3,1, figsize=(16, 12))\n",
    "axes = axes.flatten()\n",
    "\n",
    "for j in range(x_mag.shape[0]):\n",
    "    axes[0].plot(gt_freqs, x_mag[j], label=str(j))\n",
    "axes[0].set_title(\"Ground Truth\")\n",
    "axes[0].set_ylabel(\"Magnitude (DB)\")\n",
    "if n_sparams <= 10:\n",
    "    axes[0].legend()\n",
    "\n",
    "for j in range(x_mag.shape[0]):\n",
    "    axes[1].plot(gt_freqs[kept_inds], y_mag[j], label=str(j))\n",
    "axes[1].set_title(\"Measurements - Linear interpolation in mag\")\n",
    "axes[1].set_ylabel(\"Magnitude (DB)\")\n",
    "if n_sparams <= 10:\n",
    "    axes[1].legend()\n",
    "\n",
    "for j in range(x_mag.shape[0]):\n",
    "    axes[2].scatter(gt_freqs[kept_inds], y_mag[j], label=str(j))\n",
    "axes[2].set_title(\"Measurements - Scatter\")\n",
    "axes[2].set_ylabel(\"Magnitude (DB)\")\n",
    "axes[2].set_xlabel(\"Frequency (Hz)\")\n",
    "if n_sparams <= 10:\n",
    "    axes[2].legend()\n",
    "\n",
    "plt.show()"
   ]
  },
  {
   "cell_type": "markdown",
   "id": "856152a7-e3d8-4c84-9ffa-7b6e31c63b54",
   "metadata": {},
   "source": [
    "# Set up the network"
   ]
  },
  {
   "cell_type": "code",
   "execution_count": null,
   "id": "569c03d2-ec6e-4c2d-96c9-1eb40437742d",
   "metadata": {},
   "outputs": [],
   "source": [
    "LR = 1e-4 # learning rate\n",
    "NUM_ITER = 10000 # number iterations\n",
    "\n",
    "NZ = y.shape[1]\n",
    "\n",
    "NUM_LAYERS = int(np.ceil(np.log2(LENGTH))) - 4\n",
    "# NUM_LAYERS = int(np.ceil(np.log2(LENGTH)))\n",
    "NUM_LAYERS = max(NUM_LAYERS, 5)\n",
    "\n",
    "BASE_NGF = 2 ** int(np.ceil(np.log2(NZ)))\n",
    "# BASE_NGF = NZ\n",
    "BASE_NGF = max(BASE_NGF, 128)\n",
    "\n",
    "# NGF = [int(BASE_NGF * 2**(2 * i / NUM_LAYERS)) for i in range(1, NUM_LAYERS+1)]\n",
    "NGF = [int(BASE_NGF * 2**(i/2)) for i in range(NUM_LAYERS)]\n",
    "# NGF = [BASE_NGF] * NUM_LAYERS\n",
    "\n",
    "BS = y.shape[0]\n",
    "NC = y.shape[1]"
   ]
  },
  {
   "cell_type": "code",
   "execution_count": null,
   "id": "68e21d49-7ac9-4816-b8aa-57db90508ef2",
   "metadata": {},
   "outputs": [],
   "source": [
    "print(\"NZ: \", str(NZ))\n",
    "print(\"NUM_LAYERS: \", str(NUM_LAYERS))\n",
    "print(\"BASE NGF: \", str(BASE_NGF))\n",
    "print(\"NGF: \", str(NGF))\n",
    "print(\"BS: \", BS)\n",
    "print(\"NC: \", NC)"
   ]
  },
  {
   "cell_type": "code",
   "execution_count": null,
   "id": "fe4e6bcd-0bfe-41e4-a60b-e2bd308398ee",
   "metadata": {},
   "outputs": [],
   "source": [
    "from models import RES_UNET\n",
    "\n",
    "KERNEL_SIZE = 1\n",
    "\n",
    "net = RES_UNET(bs=BS, nz=NZ, ngf=NGF, output_size=LENGTH, nc=NC, kernel_size=KERNEL_SIZE, num_layers=NUM_LAYERS)\n",
    "net = net.to(device)"
   ]
  },
  {
   "cell_type": "code",
   "execution_count": null,
   "id": "f73fdec9-8406-413f-848b-2af4501eadc0",
   "metadata": {},
   "outputs": [],
   "source": [
    "test_out = net.forward_with_z()\n",
    "print(test_out.shape)"
   ]
  },
  {
   "cell_type": "code",
   "execution_count": null,
   "id": "82cf80d8-429a-4059-9fd7-b17e9c4cf30f",
   "metadata": {},
   "outputs": [],
   "source": [
    "pytorch_total_params = sum(p.numel() for p in net.parameters() if p.requires_grad)\n",
    "\n",
    "print(\"TOTAL PARAMS: \", pytorch_total_params)"
   ]
  },
  {
   "cell_type": "markdown",
   "id": "63531947-8bd7-4cdb-9a5c-5386c2b92bda",
   "metadata": {},
   "source": [
    "# Make the linear interpolation and use it as the input to the network"
   ]
  },
  {
   "cell_type": "code",
   "execution_count": null,
   "id": "9ca41cce-fe56-4583-a028-e3b099869f68",
   "metadata": {},
   "outputs": [],
   "source": [
    "import scipy\n",
    "\n",
    "y_np = y.cpu().detach().numpy()\n",
    "\n",
    "Interpolate = scipy.interpolate.interp1d(kept_inds, y_np, fill_value='extrapolate')"
   ]
  },
  {
   "cell_type": "code",
   "execution_count": null,
   "id": "ee5c0c4f-02b9-4040-9c52-f29609372f6b",
   "metadata": {},
   "outputs": [],
   "source": [
    "y_interp = Interpolate(np.arange(LENGTH))\n",
    "\n",
    "print(y_interp.shape)"
   ]
  },
  {
   "cell_type": "code",
   "execution_count": null,
   "id": "7e957f1f-6196-47cf-a8eb-60ca5507abe5",
   "metadata": {},
   "outputs": [],
   "source": [
    "fig, axes = plt.subplots(2,1, figsize=(16, 8))\n",
    "axes = axes.flatten()\n",
    "\n",
    "for j in range(x.shape[0]):\n",
    "    for i in range(x.shape[1]):\n",
    "        label = str(i//2) + (\" re\" if i % 2 == 0 else \" im\")\n",
    "        axes[0].plot(gt_freqs, x[j,i,:].flatten(), label=label)\n",
    "        axes[0].scatter(gt_freqs[kept_inds], y[j,i].cpu())\n",
    "axes[0].set_title(\"Ground Truth\")\n",
    "if n_sparams <= 10:\n",
    "    axes[0].legend()\n",
    "\n",
    "for j in range(x.shape[0]):\n",
    "    for i in range(x.shape[1]):\n",
    "        label = str(i//2) + (\" re\" if i % 2 == 0 else \" im\")\n",
    "        axes[1].plot(gt_freqs, y_interp[j,i,:].flatten(), label=label)\n",
    "        axes[1].scatter(gt_freqs[kept_inds], y[j,i].cpu())\n",
    "axes[1].set_title(\"Measurements - Linear interpolation\")\n",
    "if n_sparams <= 10:\n",
    "    axes[1].legend()\n",
    "\n",
    "plt.show()"
   ]
  },
  {
   "cell_type": "code",
   "execution_count": null,
   "id": "58088af5-cf1d-453d-ade8-1ea2fd39dbcd",
   "metadata": {},
   "outputs": [],
   "source": [
    "y_interp_mag = utils.to_mag(torch.from_numpy(y_interp))\n",
    "\n",
    "print(y_interp_mag.shape)"
   ]
  },
  {
   "cell_type": "code",
   "execution_count": null,
   "id": "dd244143-fd29-4d0f-a5b1-98dcb1a8a8b7",
   "metadata": {},
   "outputs": [],
   "source": [
    "fig, axes = plt.subplots(2,1, figsize=(16, 8))\n",
    "axes = axes.flatten()\n",
    "\n",
    "for j in range(x_mag.shape[0]):\n",
    "    axes[0].plot(gt_freqs, x_mag[j], label=str(j))\n",
    "    axes[0].scatter(gt_freqs[kept_inds], y_mag[j])\n",
    "axes[0].set_title(\"Ground Truth\")\n",
    "axes[0].set_ylabel(\"Magnitude (DB)\")\n",
    "if n_sparams <= 10:\n",
    "    axes[0].legend()\n",
    "\n",
    "for j in range(x_mag.shape[0]):\n",
    "    axes[1].plot(gt_freqs, y_interp_mag[j], label=str(j))\n",
    "    axes[1].scatter(gt_freqs[kept_inds], y_mag[j])\n",
    "axes[1].set_title(\"Measurements - Linear interpolation (in complex --> mag)\")\n",
    "axes[1].set_ylabel(\"Magnitude (DB)\")\n",
    "axes[1].set_xlabel(\"Frequency (Hz)\")\n",
    "if n_sparams <= 10:\n",
    "    axes[1].legend()\n",
    "\n",
    "plt.show()"
   ]
  },
  {
   "cell_type": "code",
   "execution_count": null,
   "id": "3dde68a8-054d-4ed3-a500-c086813b161c",
   "metadata": {},
   "outputs": [],
   "source": [
    "net.set_z(y_interp)\n",
    "\n",
    "y_interp = torch.from_numpy(y_interp)\n",
    "y_interp = y_interp.to(device)"
   ]
  },
  {
   "cell_type": "markdown",
   "id": "40a2a5ad-ace9-4fc7-bb83-acfa64559af1",
   "metadata": {},
   "source": [
    "# Run"
   ]
  },
  {
   "cell_type": "code",
   "execution_count": null,
   "id": "afe17984-9b87-4a9a-badd-3a83b590fa7d",
   "metadata": {},
   "outputs": [],
   "source": [
    "criterion = utils.Measurement_MSE_Loss(kept_inds=kept_inds, per_param=True, reduction=\"sum\")\n",
    "criterion = criterion.to(device)\n",
    "\n",
    "regularizer = utils.Smoothing_Loss(per_param=True, reduction=\"sum\")\n",
    "regularizer = regularizer.to(device)\n",
    "\n",
    "REG_HYPERPARAM = 10"
   ]
  },
  {
   "cell_type": "code",
   "execution_count": null,
   "id": "d839f2fa-110e-4b08-b14c-362d73fc52ea",
   "metadata": {},
   "outputs": [],
   "source": [
    "net = net.train()\n",
    "\n",
    "optim = torch.optim.Adam(net.parameters(), lr=LR)\n",
    "\n",
    "train_losses = []\n",
    "train_errors = []\n",
    "train_regs = []\n",
    "\n",
    "test_mses = []\n",
    "test_maes = []\n",
    "\n",
    "# outputs = []\n",
    "\n",
    "x = x.to(device)\n",
    "y = y.to(device)"
   ]
  },
  {
   "cell_type": "code",
   "execution_count": null,
   "id": "7811e950-5576-4bd7-9ec4-846902c2da50",
   "metadata": {},
   "outputs": [],
   "source": [
    "tic = time.time()\n",
    "for i in range(NUM_ITER):\n",
    "    \n",
    "    optim.zero_grad()\n",
    "    \n",
    "    out = net.forward_with_z()\n",
    "    \n",
    "    train_error = criterion(out, y) \n",
    "    train_reg = REG_HYPERPARAM * regularizer(out)\n",
    "    train_loss = train_error + train_reg\n",
    "    \n",
    "    train_loss.backward()\n",
    "    optim.step()\n",
    "    \n",
    "    with torch.no_grad():\n",
    "#         outputs.append(out.detach().clone().cpu())\n",
    "        \n",
    "        train_losses.append(train_loss.item())\n",
    "        train_errors.append(train_error.item())\n",
    "        train_regs.append(train_reg.item())\n",
    "        \n",
    "        test_mse = nn.MSELoss()(out, x)\n",
    "        test_mses.append(test_mse.item())\n",
    "        \n",
    "        test_mae = nn.L1Loss()(out, x)\n",
    "        test_maes.append(test_mae.item())\n",
    "\n",
    "        if (i+1)%1000 == 0 or i == 0:\n",
    "            toc = time.time()\n",
    "            print(\"ITER \", str(i))\n",
    "            print(\"TIME: \", str(toc - tic))\n",
    "            print()"
   ]
  },
  {
   "cell_type": "markdown",
   "id": "7ea3b22a-354b-4787-aae9-fe8513025f44",
   "metadata": {},
   "source": [
    "# Plot the last and best outputs and the metrics"
   ]
  },
  {
   "cell_type": "code",
   "execution_count": null,
   "id": "e5234132-b140-4fa4-8b9b-09125e61841a",
   "metadata": {},
   "outputs": [],
   "source": [
    "out = out.detach().clone().cpu()\n",
    "\n",
    "fig, axes = plt.subplots(3,1, figsize=(16, 12))\n",
    "axes = axes.flatten()\n",
    "\n",
    "for j in range(x.shape[0]):\n",
    "    for i in range(x.shape[1]):\n",
    "        label = str(i//2) + (\" re\" if i % 2 == 0 else \" im\")\n",
    "        axes[0].plot(gt_freqs, x[j,i,:].cpu().flatten(), label=label)\n",
    "#         axes[0].scatter(gt_freqs[kept_inds], y[j,i].cpu())\n",
    "axes[0].set_title(\"Ground Truth\")\n",
    "if n_sparams <= 10:\n",
    "    axes[0].legend()\n",
    "\n",
    "for j in range(x.shape[0]):\n",
    "    for i in range(x.shape[1]):\n",
    "        label = str(i//2) + (\" re\" if i % 2 == 0 else \" im\")\n",
    "        axes[1].plot(gt_freqs, out[j,i,:].flatten(), label=label)\n",
    "#         axes[1].scatter(gt_freqs[kept_inds], y[j,i].cpu())\n",
    "axes[1].set_title(\"Last Output\")\n",
    "if n_sparams <= 10:\n",
    "    axes[1].legend()\n",
    "\n",
    "for j in range(x.shape[0]):\n",
    "    for i in range(x.shape[1]):\n",
    "        label = str(i//2) + (\" re\" if i % 2 == 0 else \" im\")\n",
    "        axes[2].plot(gt_freqs[kept_inds], y[j,i,:].cpu().flatten(), label=label)\n",
    "#         axes[2].scatter(gt_freqs[kept_inds], y[j,i].cpu())\n",
    "axes[2].set_title(\"Measurements - Linear interpolation\")\n",
    "if n_sparams <= 10:\n",
    "    axes[2].legend()\n",
    "\n",
    "plt.show()"
   ]
  },
  {
   "cell_type": "code",
   "execution_count": null,
   "id": "8e2fa533-7efa-426f-a512-109eaa132a64",
   "metadata": {},
   "outputs": [],
   "source": [
    "out_mag = utils.to_mag(out)\n",
    "\n",
    "print(out_mag.shape)"
   ]
  },
  {
   "cell_type": "code",
   "execution_count": null,
   "id": "94fa2ec3-0a9c-4c1e-a4b8-50cc4e89fd73",
   "metadata": {},
   "outputs": [],
   "source": [
    "fig, axes = plt.subplots(3,1, figsize=(16, 12))\n",
    "axes = axes.flatten()\n",
    "\n",
    "for j in range(x_mag.shape[0]):\n",
    "    axes[0].plot(gt_freqs, x_mag[j], label=str(j))\n",
    "#     axes[0].scatter(gt_freqs[kept_inds], y_mag[j].cpu().numpy())\n",
    "axes[0].set_title(\"Ground Truth\")\n",
    "axes[0].set_ylabel(\"Magnitude (DB)\")\n",
    "if n_sparams <= 10:\n",
    "    axes[0].legend()\n",
    "\n",
    "for j in range(x_mag.shape[0]):\n",
    "    axes[1].plot(gt_freqs, out_mag[j], label=str(j))\n",
    "#     axes[1].scatter(gt_freqs[kept_inds], y_mag[j].cpu().numpy())\n",
    "axes[1].set_title(\"Last Output\")\n",
    "axes[1].set_ylabel(\"Magnitude (DB)\")\n",
    "if n_sparams <= 10:\n",
    "    axes[1].legend()\n",
    "\n",
    "for j in range(x_mag.shape[0]):\n",
    "    axes[2].plot(gt_freqs, y_interp_mag[j], label=str(j))\n",
    "#     axes[2].scatter(gt_freqs[kept_inds], y_mag[j].cpu().numpy())\n",
    "axes[2].set_title(\"Measurements - Linear interpolation (in complex --> mag)\")\n",
    "axes[2].set_ylabel(\"Magnitude (DB)\")\n",
    "axes[2].set_xlabel(\"Frequency (Hz)\")\n",
    "if n_sparams <= 10:\n",
    "    axes[2].legend()\n",
    "\n",
    "plt.show()"
   ]
  },
  {
   "cell_type": "raw",
   "id": "95edaa73-0801-4ba7-98eb-424a7fd4f02f",
   "metadata": {},
   "source": [
    "out = outputs[np.argmin(train_losses)]\n",
    "\n",
    "fig, axes = plt.subplots(3,1, figsize=(16, 12))\n",
    "axes = axes.flatten()\n",
    "\n",
    "for j in range(x.shape[0]):\n",
    "    for i in range(x.shape[1]):\n",
    "        label = str(i//2) + (\" re\" if i % 2 == 0 else \" im\")\n",
    "        axes[0].plot(gt_freqs, x[j,i,:].cpu().flatten(), label=label)\n",
    "        axes[0].scatter(gt_freqs[kept_inds], y[j,i].cpu())\n",
    "axes[0].set_title(\"Ground Truth\")\n",
    "if n_sparams <= 10:\n",
    "    axes[0].legend()\n",
    "\n",
    "for j in range(x.shape[0]):\n",
    "    for i in range(x.shape[1]):\n",
    "        label = str(i//2) + (\" re\" if i % 2 == 0 else \" im\")\n",
    "        axes[1].plot(gt_freqs, out[j,i,:].flatten(), label=label)\n",
    "        axes[1].scatter(gt_freqs[kept_inds], y[j,i].cpu())\n",
    "axes[1].set_title(\"Best Output (Train Loss)\")\n",
    "if n_sparams <= 10:\n",
    "    axes[1].legend()\n",
    "\n",
    "for j in range(x.shape[0]):\n",
    "    for i in range(x.shape[1]):\n",
    "        label = str(i//2) + (\" re\" if i % 2 == 0 else \" im\")\n",
    "        axes[2].plot(gt_freqs[kept_inds], y[j,i,:].cpu().flatten(), label=label)\n",
    "        axes[2].scatter(gt_freqs[kept_inds], y[j,i].cpu())\n",
    "axes[2].set_title(\"Measurements - Linear interpolation\")\n",
    "if n_sparams <= 10:\n",
    "    axes[2].legend()\n",
    "\n",
    "plt.show()"
   ]
  },
  {
   "cell_type": "raw",
   "id": "57589b28-69ab-4c8b-bd59-4b583200a2b9",
   "metadata": {},
   "source": [
    "out_mag = utils.to_mag(out)\n",
    "\n",
    "print(out_mag.shape)"
   ]
  },
  {
   "cell_type": "raw",
   "id": "870a1987-4eaf-4697-967c-86262e1e1a42",
   "metadata": {},
   "source": [
    "fig, axes = plt.subplots(3,1, figsize=(16, 12))\n",
    "axes = axes.flatten()\n",
    "\n",
    "for j in range(x_mag.shape[0]):\n",
    "    axes[0].plot(gt_freqs, x_mag[j], label=str(j))\n",
    "    axes[0].scatter(gt_freqs[kept_inds], y_mag[j].cpu().numpy())\n",
    "axes[0].set_title(\"Ground Truth\")\n",
    "axes[0].set_ylabel(\"Magnitude (DB)\")\n",
    "if n_sparams <= 10:\n",
    "    axes[0].legend()\n",
    "\n",
    "for j in range(x_mag.shape[0]):\n",
    "    axes[1].plot(gt_freqs, out_mag[j], label=str(j))\n",
    "    axes[1].scatter(gt_freqs[kept_inds], y_mag[j].cpu().numpy())\n",
    "axes[1].set_title(\"Best Output (Train MSE)\")\n",
    "axes[1].set_ylabel(\"Magnitude (DB)\")\n",
    "if n_sparams <= 10:\n",
    "    axes[1].legend()\n",
    "\n",
    "for j in range(x_mag.shape[0]):\n",
    "    axes[2].plot(gt_freqs, y_interp_mag[j], label=str(j))\n",
    "    axes[2].scatter(gt_freqs[kept_inds], y_mag[j].cpu().numpy())\n",
    "axes[2].set_title(\"Measurements - Linear interpolation (in complex --> mag)\")\n",
    "axes[2].set_ylabel(\"Magnitude (DB)\")\n",
    "axes[2].set_xlabel(\"Frequency (Hz)\")\n",
    "if n_sparams <= 10:\n",
    "    axes[2].legend()\n",
    "\n",
    "plt.show()"
   ]
  },
  {
   "cell_type": "code",
   "execution_count": null,
   "id": "a4d14703-f049-47a8-9920-1123fd2c862c",
   "metadata": {},
   "outputs": [],
   "source": [
    "max_idx = 100 #np.argmax(train_losses)\n",
    "\n",
    "plt.figure()\n",
    "plt.plot(train_losses)\n",
    "plt.title(\"TRAIN LOSS\")\n",
    "plt.ylim(0., train_losses[max_idx])\n",
    "plt.show()\n",
    "\n",
    "plt.figure()\n",
    "plt.plot(train_errors)\n",
    "plt.title(\"TRAIN ERRORS\")\n",
    "plt.ylim(0., train_errors[max_idx])\n",
    "plt.show()\n",
    "\n",
    "plt.figure()\n",
    "plt.plot(train_regs)\n",
    "plt.title(\"TRAIN REGS\")\n",
    "plt.ylim(0., train_regs[max_idx])\n",
    "plt.show()\n",
    "\n",
    "plt.figure()\n",
    "plt.plot(test_mses, color='r')\n",
    "plt.title(\"TEST MSE\")\n",
    "plt.ylim(0., test_mses[max_idx])\n",
    "plt.show()\n",
    "\n",
    "plt.figure()\n",
    "plt.plot(test_maes, color='g')\n",
    "plt.title(\"TEST MAE\")\n",
    "plt.ylim(0, test_maes[max_idx])\n",
    "plt.show()"
   ]
  },
  {
   "cell_type": "markdown",
   "id": "79704774-3ed8-49fb-a833-141efe98d8e1",
   "metadata": {},
   "source": [
    "# Calculate Metrics between DIP, Vector Fit, Linear Interpolation, and the Ground Truth "
   ]
  },
  {
   "cell_type": "code",
   "execution_count": null,
   "id": "fde76082-7f3b-4e29-b5dc-4cde9257d965",
   "metadata": {},
   "outputs": [],
   "source": [
    "print(test_mses[-1])"
   ]
  },
  {
   "cell_type": "code",
   "execution_count": null,
   "id": "2565bfa4-5138-4c9e-9949-2b192c989a95",
   "metadata": {},
   "outputs": [],
   "source": [
    "print(torch.nn.MSELoss()(x, y_interp))"
   ]
  },
  {
   "cell_type": "code",
   "execution_count": null,
   "id": "0fc2d0f0-6b79-4239-a696-17a4eaec7a9b",
   "metadata": {},
   "outputs": [],
   "source": [
    "DIP_OUT_MATRIX = utils.sparams_to_matrix(out)\n",
    "\n",
    "INTERP_MATRIX = utils.sparams_to_matrix(y_interp)"
   ]
  },
  {
   "cell_type": "code",
   "execution_count": null,
   "id": "81f8b514-fb0b-41ea-a571-b1efa28cee22",
   "metadata": {},
   "outputs": [],
   "source": [
    "print(DIP_OUT_MATRIX.shape)\n",
    "print(INTERP_MATRIX.shape)"
   ]
  },
  {
   "cell_type": "code",
   "execution_count": null,
   "id": "78f3d1bd-1038-4681-a7c8-5a6c269c838c",
   "metadata": {},
   "outputs": [],
   "source": [
    "print(gt_freqs.shape)\n",
    "print(og_freqs.shape)"
   ]
  },
  {
   "cell_type": "code",
   "execution_count": null,
   "id": "3c08677a-006f-4b92-a852-105b42119041",
   "metadata": {},
   "outputs": [],
   "source": [
    "DIP_net = utils.matrix_to_network(DIP_OUT_MATRIX, gt_freqs, \"DIP Recon With \"+str(M)+\" Samples for Chip \"+str(chip_num), og_freqs)\n",
    "\n",
    "INTERP_net = utils.matrix_to_network(INTERP_MATRIX, gt_freqs, \"Linear Interpolation With \"+str(M)+\" Samples for Chip \"+str(chip_num), og_freqs)"
   ]
  },
  {
   "cell_type": "code",
   "execution_count": null,
   "id": "c22cc73a-b986-4adf-ad4e-f0b0482a0e82",
   "metadata": {},
   "outputs": [],
   "source": [
    "DIP_FINAL_OUT = np.stack((DIP_net.s.real, DIP_net.s.imag), axis=-1)\n",
    "\n",
    "INTERP_FINAL_OUT = np.stack((INTERP_net.s.real, INTERP_net.s.imag), axis=-1)"
   ]
  },
  {
   "cell_type": "code",
   "execution_count": null,
   "id": "765aef83-431e-427f-b6d2-103ae9b93218",
   "metadata": {},
   "outputs": [],
   "source": [
    "print(DIP_FINAL_OUT.shape)\n",
    "print(INTERP_FINAL_OUT.shape)"
   ]
  },
  {
   "cell_type": "code",
   "execution_count": null,
   "id": "6875ee3b-22d8-4847-a562-9607b69eac37",
   "metadata": {},
   "outputs": [],
   "source": [
    "dip_data = utils.matrix_to_sparams(DIP_FINAL_OUT)\n",
    "interp_data = utils.matrix_to_sparams(INTERP_FINAL_OUT)"
   ]
  },
  {
   "cell_type": "code",
   "execution_count": null,
   "id": "19af7af4-74e2-4cfa-875f-55d26fd33ec2",
   "metadata": {},
   "outputs": [],
   "source": [
    "print(dip_data.shape)\n",
    "print(interp_data.shape)"
   ]
  },
  {
   "cell_type": "code",
   "execution_count": null,
   "id": "3a601e85-f2b1-4ad8-97c3-cd8308c2916d",
   "metadata": {},
   "outputs": [],
   "source": [
    "print(dip_data.dtype)\n",
    "print(interp_data.dtype)"
   ]
  },
  {
   "cell_type": "code",
   "execution_count": null,
   "id": "f4c4a1a6-cff7-47c3-8071-c2676a0292ea",
   "metadata": {},
   "outputs": [],
   "source": [
    "import skimage.metrics\n",
    "from skimage.metrics import peak_signal_noise_ratio as psnr\n",
    "\n",
    "data_range = np.amax(og_data) - np.amin(og_data)\n",
    "\n",
    "psnr_ours = psnr(og_data, dip_data)#, data_range)\n",
    "psnr_interp = psnr(og_data, interp_data)#, data_range)\n",
    "psnr_vf = psnr(og_data, vf_data)#, data_range)"
   ]
  },
  {
   "cell_type": "code",
   "execution_count": null,
   "id": "582eeb4a-5024-4c86-a64c-a09fa0afb84b",
   "metadata": {},
   "outputs": [],
   "source": [
    "print(\"DIP PSNR: \", psnr_ours)\n",
    "print(\"INTERP PSNR: \", psnr_interp)\n",
    "print(\"VF PSNR: \", psnr_vf)"
   ]
  },
  {
   "cell_type": "code",
   "execution_count": null,
   "id": "224470b9-69f0-489a-aaab-94bce64e2f08",
   "metadata": {},
   "outputs": [],
   "source": [
    "# DIP_net.write_touchstone(root_path+\"/DIP_\"+str(chip_num))\n",
    "# INTERP_net.write_touchstone(root_path+\"/INTERP_\"+str(chip_num))"
   ]
  }
 ],
 "metadata": {
  "kernelspec": {
   "display_name": "Python 3",
   "language": "python",
   "name": "python3"
  },
  "language_info": {
   "codemirror_mode": {
    "name": "ipython",
    "version": 3
   },
   "file_extension": ".py",
   "mimetype": "text/x-python",
   "name": "python",
   "nbconvert_exporter": "python",
   "pygments_lexer": "ipython3",
   "version": "3.7.10"
  }
 },
 "nbformat": 4,
 "nbformat_minor": 5
}
