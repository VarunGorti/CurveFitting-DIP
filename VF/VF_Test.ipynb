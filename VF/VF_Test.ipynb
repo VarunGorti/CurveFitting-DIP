{
 "cells": [
  {
   "cell_type": "code",
   "execution_count": 1,
   "id": "03b8c5ec-10df-4aa5-baa7-8c0bcf717a7b",
   "metadata": {},
   "outputs": [],
   "source": [
    "import skrf as rf\n",
    "import vectorfit\n",
    "import numpy as np\n",
    "import random\n",
    "import matplotlib.pyplot as plt"
   ]
  },
  {
   "cell_type": "code",
   "execution_count": 2,
   "id": "a90dac71-91c1-4f1c-bf22-5ef082ab2ba6",
   "metadata": {},
   "outputs": [],
   "source": [
    "###############################################\n",
    "# Select the source Touchstone parameters\n",
    "filename = \"/scratch/04703/sravula/UTAFSDataNew/case38/case38.s16p\"\n",
    "\n",
    "###############################################\n",
    "# Create a fitter instance to fill get vector fit\n",
    "# models of this Touchstone file\n",
    "fitter = vectorfit.VectorFitter(filename)"
   ]
  },
  {
   "cell_type": "code",
   "execution_count": 3,
   "id": "98e845cf-d46d-4709-ae96-5d0dd21fa0ed",
   "metadata": {},
   "outputs": [],
   "source": [
    "###############################################\n",
    "# Define a few frequency samples\n",
    "\n",
    "# Start by getting the full sweep range\n",
    "full_sweep = fitter.ground_truth.f\n",
    "fmin = min(full_sweep)\n",
    "fmax = max(full_sweep)\n",
    "\n",
    "# Uniform samples\n",
    "f10 = np.linspace(fmin, fmax, 10)\n",
    "f20 = np.linspace(fmin, fmax, 20)\n",
    "f100 = np.linspace(fmin, fmax, 100)"
   ]
  },
  {
   "cell_type": "code",
   "execution_count": null,
   "id": "df060a26-c7f4-4fb2-b744-52dba5aba0be",
   "metadata": {},
   "outputs": [
    {
     "name": "stderr",
     "output_type": "stream",
     "text": [
      "/scratch/04703/sravula/CurveFitting-DIP/vectorfit.py:227: RuntimeWarning: Replacing d_res solution as it was too small. This is not a good sign and probably means that more starting poles are required\n",
      "  vf.vector_fit(n_poles_cmplx=n_poles)\n",
      "/scratch/04703/sravula/CurveFitting-DIP/vectorfit.py:227: RuntimeWarning: Vector Fitting: The pole relocation process stopped after reaching the maximum number of iterations (N_max = 100). The results did not converge properly. \n",
      "  vf.vector_fit(n_poles_cmplx=n_poles)\n",
      "/scratch/04703/sravula/CurveFitting-DIP/vectorfit.py:227: UserWarning: The fitted network is passive, but the vector fit is not passive. Consider running `passivity_enforce()` to enforce passivity before using this model.\n",
      "  vf.vector_fit(n_poles_cmplx=n_poles)\n"
     ]
    }
   ],
   "source": [
    "###############################################\n",
    "# Create vector fits using the specified frequency points\n",
    "vf10 = fitter.vector_fit(\"Uniform 10\", f10)\n",
    "vf20 = fitter.vector_fit(\"Uniform 20\", f20)\n",
    "vf100 = fitter.vector_fit(\"Uniform 100\", f100)\n",
    "\n",
    "###############################################\n",
    "# Plot these fits\n",
    "def plot_parameter(vector_fits, ground_truth, row, col):\n",
    "    plt.figure()\n",
    "    names = [vf.name for vf in vector_fits] + [\"Ground Truth\"]\n",
    "    networks = [vf.fitted_network for vf in vector_fits] +  [ground_truth]\n",
    "    \n",
    "    for network in networks:\n",
    "        frequencies = network.f\n",
    "        s = [network.s[ff, row, col] for ff in range(len(frequencies))]\n",
    "        plt.plot(frequencies, [abs(val) for val in s])\n",
    "    plt.title(f\"$|S_{{{row+1}{col+1}}}|$\")\n",
    "    plt.xlabel(\"Frequency\")\n",
    "    plt.ylabel(\"$|S|$\")\n",
    "    plt.legend(names)\n",
    "plot_parameter([vf10, vf20, vf100], fitter.ground_truth, 0, 0)\n",
    "plot_parameter([vf10, vf20, vf100], fitter.ground_truth, 0, 1)\n",
    "plt.show()"
   ]
  },
  {
   "cell_type": "code",
   "execution_count": null,
   "id": "5c8e1115-89be-4269-98ec-5838f377c451",
   "metadata": {},
   "outputs": [],
   "source": [
    "vf10.fitted_network.s.shape"
   ]
  },
  {
   "cell_type": "code",
   "execution_count": null,
   "id": "bcfe666c-8dc4-4196-b6be-9142304b55b5",
   "metadata": {},
   "outputs": [],
   "source": []
  }
 ],
 "metadata": {
  "kernelspec": {
   "display_name": "Python 3",
   "language": "python",
   "name": "python3"
  },
  "language_info": {
   "codemirror_mode": {
    "name": "ipython",
    "version": 3
   },
   "file_extension": ".py",
   "mimetype": "text/x-python",
   "name": "python",
   "nbconvert_exporter": "python",
   "pygments_lexer": "ipython3",
   "version": "3.7.10"
  }
 },
 "nbformat": 4,
 "nbformat_minor": 5
}
