{
 "cells": [
  {
   "cell_type": "code",
   "execution_count": null,
   "id": "31e7b885-9cd7-40ce-af58-0666918a443c",
   "metadata": {},
   "outputs": [],
   "source": [
    "import skrf as rf\n",
    "import vectorfit\n",
    "import numpy as np\n",
    "import os\n",
    "import glob\n",
    "import random"
   ]
  },
  {
   "cell_type": "code",
   "execution_count": null,
   "id": "4d787105-fce5-43c3-bd98-9cb9e8cb40e1",
   "metadata": {},
   "outputs": [],
   "source": [
    "save_root = \"/scratch/04703/sravula/dip_results/vf\"\n",
    "data_root = \"/scratch/04703/sravula/UTAFSDataNew\""
   ]
  },
  {
   "cell_type": "code",
   "execution_count": null,
   "id": "e2eb2d8b-6b44-42ed-ac04-074fe2c329bb",
   "metadata": {},
   "outputs": [],
   "source": [
    "file_list = []\n",
    "\n",
    "for i in range(62):\n",
    "    if i == 22:\n",
    "        file_list.append(None)\n",
    "        continue\n",
    "    \n",
    "    num_str = str(i) if i > 9 else \"0\"+str(i)\n",
    "    case_name = \"case\"+num_str\n",
    "    \n",
    "    cur_path = os.path.join(data_root, case_name)\n",
    "    \n",
    "    os.chdir(cur_path)\n",
    "    for file in glob.glob(\"*\" + case_name + \".s*p\"):\n",
    "        if \".sampled\" not in file:\n",
    "            file_list.append(os.path.join(cur_path, file))"
   ]
  },
  {
   "cell_type": "code",
   "execution_count": null,
   "id": "474bad48-773e-4d74-9e48-a08476ba496f",
   "metadata": {},
   "outputs": [],
   "source": [
    "for i in range(1, 62):\n",
    "    filename = file_list[i]\n",
    "    if filename is None:\n",
    "        continue\n",
    "    \n",
    "    fitter = vectorfit.VectorFitter(filename)\n",
    "    \n",
    "    full_sweep = fitter.ground_truth.f\n",
    "    fmin = min(full_sweep)\n",
    "    fmax = max(full_sweep)\n",
    "    \n",
    "    LEN = len(full_sweep)\n",
    "    f1 = np.linspace(fmin, fmax, int(LEN*0.01))\n",
    "    f2 = np.linspace(fmin, fmax, int(LEN*0.02))\n",
    "    f5 = np.linspace(fmin, fmax, int(LEN*0.05))\n",
    "    f10 = np.linspace(fmin, fmax, int(LEN*0.1))\n",
    "    \n",
    "    try:\n",
    "        vf1 = fitter.vector_fit(\"Uniform 1\", f1)\n",
    "        fit1 = vf1.fitted_network.s\n",
    "    except:\n",
    "        fit1 = None\n",
    "        \n",
    "    try:\n",
    "        vf2 = fitter.vector_fit(\"Uniform 2\", f2)\n",
    "        fit2 = vf2.fitted_network.s\n",
    "    except:\n",
    "         fit2 = None\n",
    "        \n",
    "    try:\n",
    "        vf5 = fitter.vector_fit(\"Uniform 5\", f5)\n",
    "        fit5 = vf5.fitted_network.s\n",
    "    except:\n",
    "        fit5 = None\n",
    "    \n",
    "    try:\n",
    "        vf10 = fitter.vector_fit(\"Uniform 10\", f10)\n",
    "        fit10 = vf10.fitted_network.s\n",
    "    except:\n",
    "        fit10 = None\n",
    "    \n",
    "    pth1 = os.path.join(save_root, \"case\"+str(i)+\"_1.npy\")\n",
    "    pth2 = os.path.join(save_root, \"case\"+str(i)+\"_2.npy\")\n",
    "    pth5 = os.path.join(save_root, \"case\"+str(i)+\"_5.npy\")\n",
    "    pth10 = os.path.join(save_root, \"case\"+str(i)+\"_10.npy\")\n",
    "\n",
    "    np.save(pth1, fit1)\n",
    "    np.save(pth2, fit2)\n",
    "    np.save(pth5, fit5)\n",
    "    np.save(pth10, fit10)"
   ]
  },
  {
   "cell_type": "code",
   "execution_count": null,
   "id": "70c3cf75-7a0a-45f7-807c-04c122602fe9",
   "metadata": {},
   "outputs": [],
   "source": []
  }
 ],
 "metadata": {
  "kernelspec": {
   "display_name": "Python 3",
   "language": "python",
   "name": "python3"
  },
  "language_info": {
   "codemirror_mode": {
    "name": "ipython",
    "version": 3
   },
   "file_extension": ".py",
   "mimetype": "text/x-python",
   "name": "python",
   "nbconvert_exporter": "python",
   "pygments_lexer": "ipython3",
   "version": "3.6.9 (default, Jun 29 2022, 11:45:57) \n[GCC 8.4.0]"
  },
  "vscode": {
   "interpreter": {
    "hash": "31f2aee4e71d21fbe5cf8b01ff0e069b9275f58929596ceb00d14d90e3e16cd6"
   }
  }
 },
 "nbformat": 4,
 "nbformat_minor": 5
}
