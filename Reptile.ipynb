{
 "cells": [
  {
   "cell_type": "code",
   "execution_count": 1,
   "id": "0270633e-8520-44d8-af20-79cb3ff26116",
   "metadata": {},
   "outputs": [
    {
     "name": "stderr",
     "output_type": "stream",
     "text": [
      "/work2/04703/sravula/frontera/miniconda3/envs/basic/lib/python3.9/site-packages/tqdm/auto.py:22: TqdmWarning: IProgress not found. Please update jupyter and ipywidgets. See https://ipywidgets.readthedocs.io/en/stable/user_install.html\n",
      "  from .autonotebook import tqdm as notebook_tqdm\n"
     ]
    }
   ],
   "source": [
    "import torch\n",
    "import torch.nn as nn\n",
    "\n",
    "import random\n",
    "import numpy as np\n",
    "\n",
    "import matplotlib.pyplot as plt\n",
    "%matplotlib inline\n",
    "\n",
    "import time\n",
    "from tqdm import tqdm\n",
    "\n",
    "from skrf import Network, Frequency\n",
    "\n",
    "import utils\n",
    "from models import RESNET_BACKBONE, RESNET_HEAD, MODULAR_RESNET"
   ]
  },
  {
   "cell_type": "code",
   "execution_count": 2,
   "id": "228d1699-8f70-4e0b-8878-7c93ed7a0203",
   "metadata": {},
   "outputs": [
    {
     "name": "stdout",
     "output_type": "stream",
     "text": [
      "cuda:0\n"
     ]
    }
   ],
   "source": [
    "device = torch.device('cuda:0' if torch.cuda.is_available() else 'cpu')\n",
    "print(device)"
   ]
  },
  {
   "cell_type": "markdown",
   "id": "8b6f874c-291b-460d-ac16-da750c6c442d",
   "metadata": {},
   "source": [
    "# Define and Grab Data"
   ]
  },
  {
   "cell_type": "code",
   "execution_count": 3,
   "id": "8a508d29-30a8-4de8-9d3e-a40c1a062e9b",
   "metadata": {},
   "outputs": [],
   "source": [
    "def grab_sparams(root_pth, chip_num):\n",
    "    #first grab the chip\n",
    "    chip_dict = utils.get_network_from_file(root_pth, chip_num)\n",
    "    \n",
    "    out_network = chip_dict[\"network\"]\n",
    "    out_freqs = out_network.frequency\n",
    "    \n",
    "    #resample to minimum length if necessary\n",
    "    MIN_LEN = 1000\n",
    "    \n",
    "    if out_freqs.npoints < MIN_LEN:\n",
    "        scale_fac = int(np.ceil(MIN_LEN / out_freqs.npoints))\n",
    "        new_len = scale_fac * (out_freqs.npoints - 1) + 1 #this is smarter scaling that just divides current spacing\n",
    "        \n",
    "        out_network.resample(new_len)\n",
    "        out_freqs = out_network.frequency\n",
    "    \n",
    "    #convert to unique s-parameters tensor\n",
    "    out_matrix_re = out_network.s.real\n",
    "    out_matrix_im = out_network.s.imag\n",
    "    out_matrix = np.stack((out_matrix_re, out_matrix_im), axis=-1)\n",
    "\n",
    "    out_sparams = utils.matrix_to_sparams(out_matrix)\n",
    "\n",
    "    out_sparams = out_sparams.reshape(1, -1, out_freqs.npoints)\n",
    "\n",
    "    return torch.tensor(out_sparams)"
   ]
  },
  {
   "cell_type": "markdown",
   "id": "1b15be87-f38c-4484-8119-cd5c4401497d",
   "metadata": {},
   "source": [
    "# Function to Fit a single DIP to given measurements"
   ]
  },
  {
   "cell_type": "code",
   "execution_count": 4,
   "id": "aad58ac4-e90f-4296-b8aa-9d819c259526",
   "metadata": {},
   "outputs": [],
   "source": [
    "def fit_DIP(model, y, z, \n",
    "            lr, num_iter, \n",
    "            train_loss, train_reg, reg_lambda=0, \n",
    "            start_noise=None, noise_decay=None):\n",
    "    \n",
    "    #we can make the optmizer within the function since we don't need the stats between fits\n",
    "    optim = torch.optim.Adam(model.parameters(), lr=lr)\n",
    "    \n",
    "    for i in range(num_iter):\n",
    "        optim.zero_grad()\n",
    "        \n",
    "        #get the output with or without additive noise in the input\n",
    "        if (start_noise is not None) and (noise_decay is not None):\n",
    "            noisy_z = z + torch.randn_like(z) * start_noise\n",
    "            out = model.forward(noisy_z)\n",
    "            start_noise *= noise_decay\n",
    "        else:\n",
    "            out = model.forward(z)\n",
    "        \n",
    "        #loss and regularization\n",
    "        error = train_loss(out, y) \n",
    "        if reg_lambda > 0:\n",
    "            reg = reg_lambda * train_reg(out)\n",
    "            loss = error + reg\n",
    "        else:\n",
    "            loss = error\n",
    "\n",
    "        loss.backward()\n",
    "        optim.step()\n",
    "    \n",
    "    return model, out"
   ]
  },
  {
   "cell_type": "markdown",
   "id": "f21d8f7c-7028-4d32-a805-62dc86b521c1",
   "metadata": {},
   "source": [
    "# Running FNs"
   ]
  },
  {
   "cell_type": "code",
   "execution_count": 5,
   "id": "27871e7b-87d0-4180-a81a-08c433fb09a1",
   "metadata": {},
   "outputs": [],
   "source": [
    "def grab_data_and_net(data_root, chip_num, measurement_spacing, num_measurements,\n",
    "                      ngf, kernel_size, causal, passive, backbone):\n",
    "    \n",
    "    x = grab_sparams(data_root, chip_num)\n",
    "\n",
    "    #grab the appropriate measurements\n",
    "    kept_inds, missing_inds = utils.get_inds(measurement_spacing, x.shape[-1], num_measurements)\n",
    "\n",
    "    y = torch.clone(x)[:, :, kept_inds]\n",
    "\n",
    "    z = torch.clone(x)\n",
    "    z[:, :, missing_inds] = 0\n",
    "\n",
    "    #set up the clone network and head and make modular net\n",
    "    net_head = RESNET_HEAD(nz=x.shape[1],\n",
    "                           ngf_in_out=ngf,\n",
    "                           nc=x.shape[1],\n",
    "                           output_size=x.shape[-1],\n",
    "                           kernel_size=kernel_size,\n",
    "                           causal=causal,\n",
    "                           passive=passive)\n",
    "\n",
    "    backbone_clone = backbone.make_clone() \n",
    "\n",
    "    net = MODULAR_RESNET(backbone=backbone_clone,\n",
    "                         head=net_head)\n",
    "    \n",
    "    return x, y, z, kept_inds, net"
   ]
  },
  {
   "cell_type": "code",
   "execution_count": 6,
   "id": "5be84f0e-02d4-4bb8-813d-d7c73d0b5076",
   "metadata": {},
   "outputs": [],
   "source": [
    "def train_step(data_root, chip_num, measurement_spacing, num_measurements, ngf,\n",
    "               kernel_size, causal, passive, backbone, device, lr_inner, \n",
    "               num_iters_inner, reg_lambda_inner, start_noise_inner, noise_decay_inner):\n",
    "    #sample chip\n",
    "    x, y, z, kept_inds, net = grab_data_and_net(data_root=data_root, chip_num=chip_num, measurement_spacing=measurement_spacing, \n",
    "                                     num_measurements=num_measurements, ngf=ngf, kernel_size=kernel_size, \n",
    "                                     causal=causal, passive=passive, backbone=backbone)\n",
    "    x = x.to(device)\n",
    "    y = y.to(device)\n",
    "    z = z.to(device)\n",
    "    net = net.to(device)\n",
    "\n",
    "    #set up losses and regularisations\n",
    "    criterion = utils.Measurement_MSE_Loss(kept_inds=kept_inds, per_param=True, reduction=\"mean\")\n",
    "    criterion = criterion.to(device)\n",
    "\n",
    "    regularizer = utils.Smoothing_Loss(per_param=True, reduction=\"mean\")\n",
    "    regularizer = regularizer.to(device)\n",
    "\n",
    "    #Run DIP and get the metrics \n",
    "    updated_net, x_hat = fit_DIP(model=net, y=y, z=z, \n",
    "                                 lr=lr_inner, num_iter=num_iters_inner, \n",
    "                                 train_loss=criterion, train_reg=regularizer, reg_lambda=reg_lambda_inner, \n",
    "                                 start_noise=start_noise_inner, noise_decay=noise_decay_inner) \n",
    "    with torch.no_grad():\n",
    "        test_mse = nn.MSELoss()(x_hat, x).item()\n",
    "    \n",
    "    return updated_net, test_mse"
   ]
  },
  {
   "cell_type": "code",
   "execution_count": 7,
   "id": "927b7c14-449e-4a21-b69b-52dfe1ca5fa1",
   "metadata": {},
   "outputs": [],
   "source": [
    "def reptile(backbone, data_root, device, measurement_spacing, num_measurements, \n",
    "            num_epochs, lr_outer, test_inds, train_inds, \n",
    "            lr_inner, num_iters_inner, reg_lambda_inner, start_noise_inner, noise_decay_inner,    \n",
    "            ngf, kernel_size, causal, passive):\n",
    "    \n",
    "    optim = torch.optim.Adam(backbone.parameters(), lr=lr_outer)\n",
    "    \n",
    "    inner_test_losses = []\n",
    "    outer_test_losses = []\n",
    "    \n",
    "    for epoch in range(num_epochs):\n",
    "\n",
    "        print(\"STARTING EPOCH \" + str(epoch) + \"\\n\")\n",
    "\n",
    "        #testing - don't update parameters, just track the metrics\n",
    "        print(\"TESTING\\n\")\n",
    "\n",
    "        for test_chip_ind in tqdm(test_inds):\n",
    "            _, outer_test_mse = train_step(data_root=data_root, chip_num=test_chip_ind, \n",
    "                                           measurement_spacing=measurement_spacing, num_measurements=num_measurements, \n",
    "                                           ngf=ngf, kernel_size=kernel_size, causal=causal, passive=passive, \n",
    "                                           backbone=backbone, device=device, lr_inner=lr_inner, \n",
    "                                           num_iters_inner=num_iters_inner, reg_lambda_inner=reg_lambda_inner, \n",
    "                                           start_noise_inner=start_noise_inner, noise_decay_inner=noise_decay_inner)\n",
    "\n",
    "            outer_test_losses.append(outer_test_mse)\n",
    "\n",
    "            print(\"CHIP \" + str(test_chip_ind) + \" TEST MSE: \" + str(outer_test_mse) + \"\\n\")\n",
    "        \n",
    "        #training - update params and track metrics\n",
    "        print(\"TRAINING\\n\")\n",
    "\n",
    "        train_shuffle = np.random.permutation(train_inds)\n",
    "\n",
    "        for train_chip_ind in tqdm(train_shuffle):\n",
    "            updated_net, inner_test_mse = train_step(data_root=data_root, chip_num=train_chip_ind, \n",
    "                                           measurement_spacing=measurement_spacing, num_measurements=num_measurements, \n",
    "                                           ngf=ngf, kernel_size=kernel_size, causal=causal, passive=passive, \n",
    "                                           backbone=backbone, device=device, lr_inner=lr_inner, \n",
    "                                           num_iters_inner=num_iters_inner, reg_lambda_inner=reg_lambda_inner, \n",
    "                                           start_noise_inner=start_noise_inner, noise_decay_inner=noise_decay_inner)\n",
    "\n",
    "            inner_test_losses.append(inner_test_mse)\n",
    "\n",
    "            print(\"CHIP \" + str(train_chip_ind) + \" TEST MSE: \" + str(inner_test_mse) + \"\\n\")\n",
    "\n",
    "            #update params\n",
    "            new_backbone = updated_net.backbone.cpu()\n",
    "\n",
    "            for p, new_p in zip(backbone.parameters(), new_backbone.parameters()):\n",
    "                p.grad = p.data - new_p.data\n",
    "            \n",
    "            optim.step()\n",
    "            optim.zero_grad()\n",
    "    \n",
    "    return backbone, inner_test_losses, outer_test_losses"
   ]
  },
  {
   "cell_type": "markdown",
   "id": "d20b1317-3ff8-4964-8dc0-b5d046e003af",
   "metadata": {},
   "source": [
    "# Make the running parameters"
   ]
  },
  {
   "cell_type": "code",
   "execution_count": 8,
   "id": "cbda812a-db43-42a3-9b1f-b80a2e8c5977",
   "metadata": {},
   "outputs": [],
   "source": [
    "ROOT_PATH = \"/scratch1/04703/sravula/UTAFSDataNew/new_data\"\n",
    "\n",
    "NUM_SAMPLES = 62\n",
    "\n",
    "TEST_SET = [9, 21, 29, 38, 49, 50, 61]\n",
    "TRAIN_SET = [i for i in range(NUM_SAMPLES) if i not in TEST_SET]"
   ]
  },
  {
   "cell_type": "code",
   "execution_count": 9,
   "id": "1e1a3a43-d788-4aa4-bdb4-bc4c6c7b52e4",
   "metadata": {},
   "outputs": [],
   "source": [
    "NUM_LAYERS = 8\n",
    "BASE_NGF = 512\n",
    "KERNEL_SIZE = 3\n",
    "\n",
    "CAUSAL = False\n",
    "PASSIVE = False\n",
    "\n",
    "net_backbone = RESNET_BACKBONE(ngf=BASE_NGF,\n",
    "                               ngf_in_out=BASE_NGF,\n",
    "                               kernel_size=KERNEL_SIZE,\n",
    "                               num_layers=NUM_LAYERS)"
   ]
  },
  {
   "cell_type": "code",
   "execution_count": 10,
   "id": "11616291-2583-4a03-8609-bfd0cf3359f4",
   "metadata": {},
   "outputs": [],
   "source": [
    "NUM_EPOCHS = 10\n",
    "LR_OUTER = 1e-3\n",
    "\n",
    "LR_INNER = 1e-4\n",
    "NUM_ITERS = 1000\n",
    "REG_LAMBDA = 0.1\n",
    "\n",
    "MEASUREMENT_SPACING = \"equal\"\n",
    "NUM_MEASUREMENTS = 0.1"
   ]
  },
  {
   "cell_type": "code",
   "execution_count": 11,
   "id": "c56103a9-6824-4982-9df2-27ba62ad4dc6",
   "metadata": {},
   "outputs": [
    {
     "name": "stdout",
     "output_type": "stream",
     "text": [
      "Noise decay factor:  0.995405417351527\n"
     ]
    }
   ],
   "source": [
    "START_NOISE_LEVEL = 0.1\n",
    "END_NOISE_LEVEL = 0.001\n",
    "NOISE_DECAY_FACTOR = (END_NOISE_LEVEL / START_NOISE_LEVEL)**(1 / NUM_ITERS) \n",
    "\n",
    "print(\"Noise decay factor: \", NOISE_DECAY_FACTOR)"
   ]
  },
  {
   "cell_type": "markdown",
   "id": "7ff127f4-0697-4bd3-933c-5ef417fef41d",
   "metadata": {},
   "source": [
    "# Run the thing"
   ]
  },
  {
   "cell_type": "code",
   "execution_count": null,
   "id": "c0e9c505-fb70-4bc9-8e05-fbe0ce246af4",
   "metadata": {},
   "outputs": [
    {
     "name": "stdout",
     "output_type": "stream",
     "text": [
      "STARTING EPOCH 0\n",
      "\n",
      "TESTING\n",
      "\n"
     ]
    },
    {
     "name": "stderr",
     "output_type": "stream",
     "text": [
      " 14%|█▍        | 1/7 [01:18<07:49, 78.18s/it]"
     ]
    },
    {
     "name": "stdout",
     "output_type": "stream",
     "text": [
      "CHIP 9 TEST MSE: 0.002094756346195936\n",
      "\n"
     ]
    },
    {
     "name": "stderr",
     "output_type": "stream",
     "text": [
      " 29%|██▊       | 2/7 [01:45<04:01, 48.30s/it]"
     ]
    },
    {
     "name": "stdout",
     "output_type": "stream",
     "text": [
      "CHIP 21 TEST MSE: 0.00013425626093521714\n",
      "\n"
     ]
    },
    {
     "name": "stderr",
     "output_type": "stream",
     "text": [
      " 43%|████▎     | 3/7 [03:01<04:04, 61.05s/it]"
     ]
    },
    {
     "name": "stdout",
     "output_type": "stream",
     "text": [
      "CHIP 29 TEST MSE: 0.000141730866744183\n",
      "\n"
     ]
    },
    {
     "name": "stderr",
     "output_type": "stream",
     "text": [
      " 57%|█████▋    | 4/7 [04:42<03:50, 76.83s/it]"
     ]
    },
    {
     "name": "stdout",
     "output_type": "stream",
     "text": [
      "CHIP 38 TEST MSE: 0.0018753366312012076\n",
      "\n"
     ]
    },
    {
     "name": "stderr",
     "output_type": "stream",
     "text": [
      " 71%|███████▏  | 5/7 [06:19<02:48, 84.13s/it]"
     ]
    },
    {
     "name": "stdout",
     "output_type": "stream",
     "text": [
      "CHIP 49 TEST MSE: 0.0007656976231373847\n",
      "\n"
     ]
    },
    {
     "name": "stderr",
     "output_type": "stream",
     "text": [
      " 86%|████████▌ | 6/7 [07:56<01:28, 88.41s/it]"
     ]
    },
    {
     "name": "stdout",
     "output_type": "stream",
     "text": [
      "CHIP 50 TEST MSE: 0.0006887433119118214\n",
      "\n"
     ]
    },
    {
     "name": "stderr",
     "output_type": "stream",
     "text": [
      "100%|██████████| 7/7 [08:29<00:00, 72.85s/it]\n"
     ]
    },
    {
     "name": "stdout",
     "output_type": "stream",
     "text": [
      "CHIP 61 TEST MSE: 0.0035398993641138077\n",
      "\n",
      "TRAINING\n",
      "\n"
     ]
    },
    {
     "name": "stderr",
     "output_type": "stream",
     "text": [
      "  0%|          | 0/55 [00:00<?, ?it/s]"
     ]
    },
    {
     "name": "stdout",
     "output_type": "stream",
     "text": [
      "CHIP 61 TEST MSE: 0.0020003104582428932\n",
      "\n"
     ]
    },
    {
     "name": "stderr",
     "output_type": "stream",
     "text": [
      "  2%|▏         | 1/55 [00:55<49:31, 55.03s/it]"
     ]
    },
    {
     "name": "stdout",
     "output_type": "stream",
     "text": [
      "CHIP 61 TEST MSE: 0.0019496030872687697\n",
      "\n"
     ]
    },
    {
     "name": "stderr",
     "output_type": "stream",
     "text": [
      "  4%|▎         | 2/55 [01:54<50:41, 57.40s/it]"
     ]
    },
    {
     "name": "stdout",
     "output_type": "stream",
     "text": [
      "CHIP 61 TEST MSE: 0.001088720397092402\n",
      "\n"
     ]
    },
    {
     "name": "stderr",
     "output_type": "stream",
     "text": [
      "  5%|▌         | 3/55 [02:35<43:27, 50.14s/it]"
     ]
    },
    {
     "name": "stdout",
     "output_type": "stream",
     "text": [
      "CHIP 61 TEST MSE: 0.0008807232370600104\n",
      "\n"
     ]
    },
    {
     "name": "stderr",
     "output_type": "stream",
     "text": [
      "  7%|▋         | 4/55 [04:16<59:45, 70.31s/it]"
     ]
    },
    {
     "name": "stdout",
     "output_type": "stream",
     "text": [
      "CHIP 61 TEST MSE: 0.0011434133630245924\n",
      "\n"
     ]
    },
    {
     "name": "stderr",
     "output_type": "stream",
     "text": [
      "  9%|▉         | 5/55 [04:59<50:15, 60.31s/it]"
     ]
    },
    {
     "name": "stdout",
     "output_type": "stream",
     "text": [
      "CHIP 61 TEST MSE: 0.000721480930224061\n",
      "\n"
     ]
    },
    {
     "name": "stderr",
     "output_type": "stream",
     "text": [
      " 11%|█         | 6/55 [05:28<40:39, 49.78s/it]"
     ]
    },
    {
     "name": "stdout",
     "output_type": "stream",
     "text": [
      "CHIP 61 TEST MSE: 0.00039237196324393153\n",
      "\n"
     ]
    },
    {
     "name": "stderr",
     "output_type": "stream",
     "text": [
      " 13%|█▎        | 7/55 [07:21<56:17, 70.36s/it]"
     ]
    },
    {
     "name": "stdout",
     "output_type": "stream",
     "text": [
      "CHIP 61 TEST MSE: 0.00035913949250243604\n",
      "\n"
     ]
    },
    {
     "name": "stderr",
     "output_type": "stream",
     "text": [
      " 15%|█▍        | 8/55 [07:49<44:32, 56.87s/it]"
     ]
    },
    {
     "name": "stdout",
     "output_type": "stream",
     "text": [
      "CHIP 61 TEST MSE: 0.0014020254602655768\n",
      "\n"
     ]
    },
    {
     "name": "stderr",
     "output_type": "stream",
     "text": [
      " 16%|█▋        | 9/55 [08:27<39:08, 51.04s/it]"
     ]
    },
    {
     "name": "stdout",
     "output_type": "stream",
     "text": [
      "CHIP 61 TEST MSE: 0.0009148393291980028\n",
      "\n"
     ]
    },
    {
     "name": "stderr",
     "output_type": "stream",
     "text": [
      " 18%|█▊        | 10/55 [08:53<32:27, 43.28s/it]"
     ]
    },
    {
     "name": "stdout",
     "output_type": "stream",
     "text": [
      "CHIP 61 TEST MSE: 0.001427693641744554\n",
      "\n"
     ]
    },
    {
     "name": "stderr",
     "output_type": "stream",
     "text": [
      " 20%|██        | 11/55 [09:19<27:52, 38.01s/it]"
     ]
    },
    {
     "name": "stdout",
     "output_type": "stream",
     "text": [
      "CHIP 61 TEST MSE: 0.0013254453660920262\n",
      "\n"
     ]
    },
    {
     "name": "stderr",
     "output_type": "stream",
     "text": [
      " 22%|██▏       | 12/55 [10:00<27:47, 38.78s/it]"
     ]
    },
    {
     "name": "stdout",
     "output_type": "stream",
     "text": [
      "CHIP 61 TEST MSE: 0.002393728354945779\n",
      "\n"
     ]
    },
    {
     "name": "stderr",
     "output_type": "stream",
     "text": [
      " 24%|██▎       | 13/55 [10:34<26:08, 37.35s/it]"
     ]
    },
    {
     "name": "stdout",
     "output_type": "stream",
     "text": [
      "CHIP 61 TEST MSE: 0.002645677886903286\n",
      "\n"
     ]
    },
    {
     "name": "stderr",
     "output_type": "stream",
     "text": [
      " 25%|██▌       | 14/55 [12:06<36:45, 53.80s/it]"
     ]
    },
    {
     "name": "stdout",
     "output_type": "stream",
     "text": [
      "CHIP 61 TEST MSE: 0.001139677013270557\n",
      "\n"
     ]
    },
    {
     "name": "stderr",
     "output_type": "stream",
     "text": [
      " 27%|██▋       | 15/55 [12:46<33:09, 49.75s/it]"
     ]
    },
    {
     "name": "stdout",
     "output_type": "stream",
     "text": [
      "CHIP 61 TEST MSE: 0.001159651787020266\n",
      "\n"
     ]
    },
    {
     "name": "stderr",
     "output_type": "stream",
     "text": [
      " 29%|██▉       | 16/55 [13:26<30:28, 46.87s/it]"
     ]
    },
    {
     "name": "stdout",
     "output_type": "stream",
     "text": [
      "CHIP 61 TEST MSE: 0.0003509735397528857\n",
      "\n"
     ]
    },
    {
     "name": "stderr",
     "output_type": "stream",
     "text": [
      " 31%|███       | 17/55 [13:52<25:41, 40.58s/it]"
     ]
    },
    {
     "name": "stdout",
     "output_type": "stream",
     "text": [
      "CHIP 61 TEST MSE: 0.0011183989699929953\n",
      "\n"
     ]
    },
    {
     "name": "stderr",
     "output_type": "stream",
     "text": [
      " 33%|███▎      | 18/55 [15:44<38:14, 62.01s/it]"
     ]
    },
    {
     "name": "stdout",
     "output_type": "stream",
     "text": [
      "CHIP 61 TEST MSE: 0.0011442668037489057\n",
      "\n"
     ]
    },
    {
     "name": "stderr",
     "output_type": "stream",
     "text": [
      " 35%|███▍      | 19/55 [16:13<31:21, 52.25s/it]"
     ]
    },
    {
     "name": "stdout",
     "output_type": "stream",
     "text": [
      "CHIP 61 TEST MSE: 0.0012421810533851385\n",
      "\n"
     ]
    },
    {
     "name": "stderr",
     "output_type": "stream",
     "text": [
      " 36%|███▋      | 20/55 [16:56<28:41, 49.20s/it]"
     ]
    }
   ],
   "source": [
    "_, _, _ = reptile(backbone=net_backbone, data_root=ROOT_PATH, device=device, \n",
    "                  measurement_spacing=MEASUREMENT_SPACING, num_measurements=NUM_MEASUREMENTS, \n",
    "                  num_epochs=NUM_EPOCHS, lr_outer=LR_OUTER, test_inds=TEST_SET, train_inds=TRAIN_SET, \n",
    "                  lr_inner=LR_INNER, num_iters_inner=NUM_ITERS, reg_lambda_inner=REG_LAMBDA, \n",
    "                  start_noise_inner=START_NOISE_LEVEL, noise_decay_inner=NOISE_DECAY_FACTOR,    \n",
    "                  ngf=BASE_NGF, kernel_size=KERNEL_SIZE, causal=CAUSAL, passive=PASSIVE)"
   ]
  }
 ],
 "metadata": {
  "kernelspec": {
   "display_name": "Python 3 (ipykernel)",
   "language": "python",
   "name": "python3"
  },
  "language_info": {
   "codemirror_mode": {
    "name": "ipython",
    "version": 3
   },
   "file_extension": ".py",
   "mimetype": "text/x-python",
   "name": "python",
   "nbconvert_exporter": "python",
   "pygments_lexer": "ipython3",
   "version": "3.9.13"
  }
 },
 "nbformat": 4,
 "nbformat_minor": 5
}
