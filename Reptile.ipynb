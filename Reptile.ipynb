{
 "cells": [
  {
   "cell_type": "markdown",
   "id": "d20b1317-3ff8-4964-8dc0-b5d046e003af",
   "metadata": {},
   "source": [
    "# Make the running parameters"
   ]
  },
  {
   "cell_type": "code",
   "execution_count": 1,
   "id": "e72c0035-4822-49c6-af89-a65193011ed8",
   "metadata": {},
   "outputs": [],
   "source": [
    "from Fitting import reptile\n",
    "from models import RESNET_BACKBONE\n",
    "\n",
    "import torch"
   ]
  },
  {
   "cell_type": "code",
   "execution_count": 2,
   "id": "56ee54e3-182d-4c1c-999e-07e83ee93786",
   "metadata": {},
   "outputs": [
    {
     "name": "stdout",
     "output_type": "stream",
     "text": [
      "cuda:0\n"
     ]
    }
   ],
   "source": [
    "device = torch.device('cuda:0' if torch.cuda.is_available() else 'cpu')\n",
    "print(device)"
   ]
  },
  {
   "cell_type": "code",
   "execution_count": 3,
   "id": "cbda812a-db43-42a3-9b1f-b80a2e8c5977",
   "metadata": {},
   "outputs": [],
   "source": [
    "ROOT_PATH = \"/scratch1/04703/sravula/UTAFSDataNew/new_data\"\n",
    "\n",
    "NUM_SAMPLES = 62\n",
    "\n",
    "TEST_SET = [9, 21, 29, 38, 49, 50, 61]\n",
    "TRAIN_SET = [i for i in range(NUM_SAMPLES) if i not in TEST_SET]"
   ]
  },
  {
   "cell_type": "code",
   "execution_count": 4,
   "id": "1e1a3a43-d788-4aa4-bdb4-bc4c6c7b52e4",
   "metadata": {},
   "outputs": [],
   "source": [
    "NUM_LAYERS = 8\n",
    "BASE_NGF = 512\n",
    "KERNEL_SIZE = 3\n",
    "\n",
    "CAUSAL = False\n",
    "PASSIVE = False\n",
    "\n",
    "net_backbone = RESNET_BACKBONE(ngf=BASE_NGF,\n",
    "                               ngf_in_out=BASE_NGF,\n",
    "                               kernel_size=KERNEL_SIZE,\n",
    "                               num_layers=NUM_LAYERS)"
   ]
  },
  {
   "cell_type": "code",
   "execution_count": 5,
   "id": "11616291-2583-4a03-8609-bfd0cf3359f4",
   "metadata": {},
   "outputs": [],
   "source": [
    "NUM_EPOCHS = 10\n",
    "LR_META = 1e-4\n",
    "\n",
    "LR_OUTER = LR_INNER = 1e-4\n",
    "NUM_ITERS_OUTER = NUM_ITERS_INNER = 1000\n",
    "REG_LAMBDA_OUTER = REG_LAMBDA_INNER = 1\n",
    "\n",
    "MEASUREMENT_SPACING_OUTER = \"equal\"\n",
    "NUM_MEASUREMENTS_OUTER = 0.1\n",
    "\n",
    "MEASUREMENT_SPACING_INNER = \"full\"\n",
    "NUM_MEASUREMENTS_INNER = 1.0"
   ]
  },
  {
   "cell_type": "code",
   "execution_count": 6,
   "id": "c56103a9-6824-4982-9df2-27ba62ad4dc6",
   "metadata": {},
   "outputs": [],
   "source": [
    "# START_NOISE_LEVEL = 0.1\n",
    "# END_NOISE_LEVEL = 0.001\n",
    "# NOISE_DECAY_FACTOR = (END_NOISE_LEVEL / START_NOISE_LEVEL)**(1 / NUM_ITERS) \n",
    "\n",
    "# print(\"Noise decay factor: \", NOISE_DECAY_FACTOR)\n",
    "START_NOISE_LEVEL = None\n",
    "NOISE_DECAY_FACTOR = None"
   ]
  },
  {
   "cell_type": "markdown",
   "id": "7ff127f4-0697-4bd3-933c-5ef417fef41d",
   "metadata": {},
   "source": [
    "# Run the thing"
   ]
  },
  {
   "cell_type": "code",
   "execution_count": null,
   "id": "c0e9c505-fb70-4bc9-8e05-fbe0ce246af4",
   "metadata": {
    "tags": []
   },
   "outputs": [
    {
     "data": {
      "application/vnd.jupyter.widget-view+json": {
       "model_id": "7c2145ea86b1491abf0436b743cc2927",
       "version_major": 2,
       "version_minor": 0
      },
      "text/plain": [
       "  0%|          | 0/10 [00:00<?, ?it/s]"
      ]
     },
     "metadata": {},
     "output_type": "display_data"
    },
    {
     "data": {
      "application/vnd.jupyter.widget-view+json": {
       "model_id": "85b5efb562b344cead21a44de1556b83",
       "version_major": 2,
       "version_minor": 0
      },
      "text/plain": [
       "  0%|          | 0/7 [00:00<?, ?it/s]"
      ]
     },
     "metadata": {},
     "output_type": "display_data"
    },
    {
     "data": {
      "application/vnd.jupyter.widget-view+json": {
       "model_id": "d266b37cd0244cd2a0b0d68d9ad63bfd",
       "version_major": 2,
       "version_minor": 0
      },
      "text/plain": [
       "  0%|          | 0/55 [00:00<?, ?it/s]"
      ]
     },
     "metadata": {},
     "output_type": "display_data"
    },
    {
     "data": {
      "application/vnd.jupyter.widget-view+json": {
       "model_id": "ac0c21b415ff464c870e5ee4b1e41994",
       "version_major": 2,
       "version_minor": 0
      },
      "text/plain": [
       "  0%|          | 0/7 [00:00<?, ?it/s]"
      ]
     },
     "metadata": {},
     "output_type": "display_data"
    },
    {
     "data": {
      "application/vnd.jupyter.widget-view+json": {
       "model_id": "3ea947216f0149a3a45e64ce577ac0c6",
       "version_major": 2,
       "version_minor": 0
      },
      "text/plain": [
       "  0%|          | 0/55 [00:00<?, ?it/s]"
      ]
     },
     "metadata": {},
     "output_type": "display_data"
    }
   ],
   "source": [
    "_ = reptile(backbone=net_backbone, data_root=ROOT_PATH, device=device, test_inds=TEST_SET, train_inds=TRAIN_SET, \n",
    "            num_epochs=NUM_EPOCHS, lr_meta=LR_META, ngf=BASE_NGF, kernel_size=KERNEL_SIZE, causal=CAUSAL, passive=PASSIVE,\n",
    "            measurement_spacing_inner=MEASUREMENT_SPACING_INNER, num_measurements_inner=NUM_MEASUREMENTS_INNER, \n",
    "            lr_inner=LR_INNER, num_iters_inner=NUM_ITERS_INNER, reg_lambda_inner=REG_LAMBDA_INNER, \n",
    "            start_noise_inner=START_NOISE_LEVEL, noise_decay_inner=NOISE_DECAY_FACTOR,\n",
    "            measurement_spacing_outer=MEASUREMENT_SPACING_OUTER, num_measurements_outer=NUM_MEASUREMENTS_OUTER, \n",
    "            lr_outer=LR_OUTER, num_iters_outer=NUM_ITERS_OUTER, reg_lambda_outer=REG_LAMBDA_OUTER, \n",
    "            start_noise_outer=START_NOISE_LEVEL, noise_decay_outer=NOISE_DECAY_FACTOR)"
   ]
  },
  {
   "cell_type": "code",
   "execution_count": null,
   "id": "4216fcf1-78fc-4fb2-9d21-d61eb02af83e",
   "metadata": {},
   "outputs": [],
   "source": []
  }
 ],
 "metadata": {
  "kernelspec": {
   "display_name": "Python 3 (ipykernel)",
   "language": "python",
   "name": "python3"
  },
  "language_info": {
   "codemirror_mode": {
    "name": "ipython",
    "version": 3
   },
   "file_extension": ".py",
   "mimetype": "text/x-python",
   "name": "python",
   "nbconvert_exporter": "python",
   "pygments_lexer": "ipython3",
   "version": "3.9.13"
  }
 },
 "nbformat": 4,
 "nbformat_minor": 5
}
