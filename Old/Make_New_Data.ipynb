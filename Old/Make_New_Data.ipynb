{
 "cells": [
  {
   "cell_type": "code",
   "execution_count": 1,
   "id": "930bca95-e20b-448a-ac72-a135dbef0d14",
   "metadata": {},
   "outputs": [],
   "source": [
    "from numbers import Complex\n",
    "import pandas as pd\n",
    "import numpy as np\n",
    "import os\n",
    "import json\n",
    "from tqdm import tqdm\n",
    "import torch"
   ]
  },
  {
   "cell_type": "code",
   "execution_count": 2,
   "id": "7bbef3d6-208f-46e6-93a6-1412629f58eb",
   "metadata": {},
   "outputs": [],
   "source": [
    "data_dir = \"/scratch/04703/sravula/UTAFSDataNew\""
   ]
  },
  {
   "cell_type": "code",
   "execution_count": 3,
   "id": "ee067a9e-8a63-4a9d-9a16-e9e65e275a07",
   "metadata": {},
   "outputs": [
    {
     "name": "stdout",
     "output_type": "stream",
     "text": [
      "61\n"
     ]
    }
   ],
   "source": [
    "file_dirs = os.listdir(data_dir)\n",
    "file_dirs = [f for f in file_dirs if \".pt\" not in f]\n",
    "print(len(file_dirs))"
   ]
  },
  {
   "cell_type": "code",
   "execution_count": 4,
   "id": "e54a59a1-5f89-4122-82b2-2a640c2231b6",
   "metadata": {},
   "outputs": [
    {
     "name": "stdout",
     "output_type": "stream",
     "text": [
      "/scratch/04703/sravula/UTAFSDataNew/case09\n"
     ]
    }
   ],
   "source": [
    "fname = os.path.join(data_dir, file_dirs[0])\n",
    "print(fname)"
   ]
  },
  {
   "cell_type": "code",
   "execution_count": 5,
   "id": "8ac58394-c8ea-44bc-b3e4-af0e3965b92b",
   "metadata": {},
   "outputs": [
    {
     "name": "stdout",
     "output_type": "stream",
     "text": [
      "9\n"
     ]
    }
   ],
   "source": [
    "chip_num = int(fname.split(\"case\")[-1])\n",
    "print(chip_num)"
   ]
  },
  {
   "cell_type": "code",
   "execution_count": 6,
   "id": "d2bb6765-d768-4204-91bb-20f3598a0bb7",
   "metadata": {},
   "outputs": [],
   "source": [
    "df = pd.read_csv(os.path.join(fname, 'sparameters.csv'), sep=',')"
   ]
  },
  {
   "cell_type": "code",
   "execution_count": 7,
   "id": "a4902a4e-f277-4956-9c22-4dfb1211bd0d",
   "metadata": {},
   "outputs": [
    {
     "data": {
      "text/html": [
       "<div>\n",
       "<style scoped>\n",
       "    .dataframe tbody tr th:only-of-type {\n",
       "        vertical-align: middle;\n",
       "    }\n",
       "\n",
       "    .dataframe tbody tr th {\n",
       "        vertical-align: top;\n",
       "    }\n",
       "\n",
       "    .dataframe thead th {\n",
       "        text-align: right;\n",
       "    }\n",
       "</style>\n",
       "<table border=\"1\" class=\"dataframe\">\n",
       "  <thead>\n",
       "    <tr style=\"text-align: right;\">\n",
       "      <th></th>\n",
       "      <th>Frequency</th>\n",
       "      <th>S11</th>\n",
       "      <th>S12</th>\n",
       "      <th>S13</th>\n",
       "      <th>S14</th>\n",
       "      <th>S21</th>\n",
       "      <th>S22</th>\n",
       "      <th>S23</th>\n",
       "      <th>S24</th>\n",
       "      <th>S31</th>\n",
       "      <th>S32</th>\n",
       "      <th>S33</th>\n",
       "      <th>S34</th>\n",
       "      <th>S41</th>\n",
       "      <th>S42</th>\n",
       "      <th>S43</th>\n",
       "      <th>S44</th>\n",
       "    </tr>\n",
       "  </thead>\n",
       "  <tbody>\n",
       "    <tr>\n",
       "      <th>0</th>\n",
       "      <td>10.0</td>\n",
       "      <td>(0.0162895518+3.3658567e-08j)</td>\n",
       "      <td>(0.983710447-1.47077344e-07j)</td>\n",
       "      <td>(0.000541198288+1.2065333e-08j)</td>\n",
       "      <td>(-0.000541198335-1.01989557e-08j)</td>\n",
       "      <td>(0.983710447-1.47077344e-07j)</td>\n",
       "      <td>(0.0162895528+6.36966957e-08j)</td>\n",
       "      <td>(-0.000541198789-1.80003793e-08j)</td>\n",
       "      <td>(0.00054119905+2.8302882e-08j)</td>\n",
       "      <td>(0.000541198288+1.2065333e-08j)</td>\n",
       "      <td>(-0.000541198789-1.80003793e-08j)</td>\n",
       "      <td>(0.0162859277+4.44385684e-08j)</td>\n",
       "      <td>(0.983714071-1.46876554e-07j)</td>\n",
       "      <td>(-0.000541198335-1.01989557e-08j)</td>\n",
       "      <td>(0.00054119905+2.8302882e-08j)</td>\n",
       "      <td>(0.983714071-1.46876554e-07j)</td>\n",
       "      <td>(0.0162859282+5.21219e-08j)</td>\n",
       "    </tr>\n",
       "    <tr>\n",
       "      <th>1</th>\n",
       "      <td>20020030.0</td>\n",
       "      <td>(0.0273069861+0.00197834442j)</td>\n",
       "      <td>(0.951345625-0.198990628j)</td>\n",
       "      <td>(0.00339866978+0.0111393863j)</td>\n",
       "      <td>(-0.00110015345+0.000120446466j)</td>\n",
       "      <td>(0.951345625-0.198990628j)</td>\n",
       "      <td>(0.0268616643+0.00247440144j)</td>\n",
       "      <td>(-0.00109024009+0.000123698099j)</td>\n",
       "      <td>(0.00353580652+0.0110947919j)</td>\n",
       "      <td>(0.00339866978+0.0111393863j)</td>\n",
       "      <td>(-0.00109024009+0.000123698099j)</td>\n",
       "      <td>(0.0272945297+0.00216531475j)</td>\n",
       "      <td>(0.95139469-0.198836321j)</td>\n",
       "      <td>(-0.00110015345+0.000120446466j)</td>\n",
       "      <td>(0.00353580652+0.0110947919j)</td>\n",
       "      <td>(0.95139469-0.198836321j)</td>\n",
       "      <td>(0.0269166588+0.0026529526j)</td>\n",
       "    </tr>\n",
       "    <tr>\n",
       "      <th>2</th>\n",
       "      <td>40040050.0</td>\n",
       "      <td>(0.0292684287-5.231726e-05j)</td>\n",
       "      <td>(0.889748483-0.385388636j)</td>\n",
       "      <td>(0.00971315396+0.0205420918j)</td>\n",
       "      <td>(-0.00108891754+0.000221126026j)</td>\n",
       "      <td>(0.889748483-0.385388636j)</td>\n",
       "      <td>(0.0277655374+0.00139156731j)</td>\n",
       "      <td>(-0.00107703048+0.000225001448j)</td>\n",
       "      <td>(0.0101988001+0.0202271826j)</td>\n",
       "      <td>(0.00971315396+0.0205420918j)</td>\n",
       "      <td>(-0.00107703048+0.000225001448j)</td>\n",
       "      <td>(0.0293148349+0.000304627097j)</td>\n",
       "      <td>(0.889898842-0.3851049j)</td>\n",
       "      <td>(-0.00108891754+0.000221126026j)</td>\n",
       "      <td>(0.0101988001+0.0202271826j)</td>\n",
       "      <td>(0.889898842-0.3851049j)</td>\n",
       "      <td>(0.02796406+0.00169292503j)</td>\n",
       "    </tr>\n",
       "    <tr>\n",
       "      <th>3</th>\n",
       "      <td>60060070.0</td>\n",
       "      <td>(0.0317898904-0.00271687759j)</td>\n",
       "      <td>(0.792031883-0.555335596j)</td>\n",
       "      <td>(0.0190229483+0.0266538883j)</td>\n",
       "      <td>(-0.00106142861+0.00034493439j)</td>\n",
       "      <td>(0.792031883-0.555335596j)</td>\n",
       "      <td>(0.0287786335+0.000799283115j)</td>\n",
       "      <td>(-0.00109009944+0.000366124925j)</td>\n",
       "      <td>(0.0199685028+0.0258933604j)</td>\n",
       "      <td>(0.0190229483+0.0266538883j)</td>\n",
       "      <td>(-0.00109009944+0.000366124925j)</td>\n",
       "      <td>(0.031864622-0.00212405084j)</td>\n",
       "      <td>(0.792315414-0.554944138j)</td>\n",
       "      <td>(-0.00106142861+0.00034493439j)</td>\n",
       "      <td>(0.0199685028+0.0258933604j)</td>\n",
       "      <td>(0.792315414-0.554944138j)</td>\n",
       "      <td>(0.029232121+0.00102949912j)</td>\n",
       "    </tr>\n",
       "    <tr>\n",
       "      <th>4</th>\n",
       "      <td>80080090.0</td>\n",
       "      <td>(0.034632948-0.00625590192j)</td>\n",
       "      <td>(0.662594875-0.701428715j)</td>\n",
       "      <td>(0.0298776059+0.0286191782j)</td>\n",
       "      <td>(-0.00106494743+0.000602395559j)</td>\n",
       "      <td>(0.662594875-0.701428715j)</td>\n",
       "      <td>(0.0302756885+9.50504529e-05j)</td>\n",
       "      <td>(-0.000972125733+0.000477142026j)</td>\n",
       "      <td>(0.0310563996+0.0271889717j)</td>\n",
       "      <td>(0.0298776059+0.0286191782j)</td>\n",
       "      <td>(-0.000972125733+0.000477142026j)</td>\n",
       "      <td>(0.0346766681-0.00566241706j)</td>\n",
       "      <td>(0.662998448-0.701085289j)</td>\n",
       "      <td>(-0.00106494743+0.000602395559j)</td>\n",
       "      <td>(0.0310563996+0.0271889717j)</td>\n",
       "      <td>(0.662998448-0.701085289j)</td>\n",
       "      <td>(0.0309089814+0.000245745772j)</td>\n",
       "    </tr>\n",
       "  </tbody>\n",
       "</table>\n",
       "</div>"
      ],
      "text/plain": [
       "    Frequency                            S11                            S12  \\\n",
       "0        10.0  (0.0162895518+3.3658567e-08j)  (0.983710447-1.47077344e-07j)   \n",
       "1  20020030.0  (0.0273069861+0.00197834442j)     (0.951345625-0.198990628j)   \n",
       "2  40040050.0   (0.0292684287-5.231726e-05j)     (0.889748483-0.385388636j)   \n",
       "3  60060070.0  (0.0317898904-0.00271687759j)     (0.792031883-0.555335596j)   \n",
       "4  80080090.0   (0.034632948-0.00625590192j)     (0.662594875-0.701428715j)   \n",
       "\n",
       "                               S13                                S14  \\\n",
       "0  (0.000541198288+1.2065333e-08j)  (-0.000541198335-1.01989557e-08j)   \n",
       "1    (0.00339866978+0.0111393863j)   (-0.00110015345+0.000120446466j)   \n",
       "2    (0.00971315396+0.0205420918j)   (-0.00108891754+0.000221126026j)   \n",
       "3     (0.0190229483+0.0266538883j)    (-0.00106142861+0.00034493439j)   \n",
       "4     (0.0298776059+0.0286191782j)   (-0.00106494743+0.000602395559j)   \n",
       "\n",
       "                             S21                             S22  \\\n",
       "0  (0.983710447-1.47077344e-07j)  (0.0162895528+6.36966957e-08j)   \n",
       "1     (0.951345625-0.198990628j)   (0.0268616643+0.00247440144j)   \n",
       "2     (0.889748483-0.385388636j)   (0.0277655374+0.00139156731j)   \n",
       "3     (0.792031883-0.555335596j)  (0.0287786335+0.000799283115j)   \n",
       "4     (0.662594875-0.701428715j)  (0.0302756885+9.50504529e-05j)   \n",
       "\n",
       "                                 S23                             S24  \\\n",
       "0  (-0.000541198789-1.80003793e-08j)  (0.00054119905+2.8302882e-08j)   \n",
       "1   (-0.00109024009+0.000123698099j)   (0.00353580652+0.0110947919j)   \n",
       "2   (-0.00107703048+0.000225001448j)    (0.0101988001+0.0202271826j)   \n",
       "3   (-0.00109009944+0.000366124925j)    (0.0199685028+0.0258933604j)   \n",
       "4  (-0.000972125733+0.000477142026j)    (0.0310563996+0.0271889717j)   \n",
       "\n",
       "                               S31                                S32  \\\n",
       "0  (0.000541198288+1.2065333e-08j)  (-0.000541198789-1.80003793e-08j)   \n",
       "1    (0.00339866978+0.0111393863j)   (-0.00109024009+0.000123698099j)   \n",
       "2    (0.00971315396+0.0205420918j)   (-0.00107703048+0.000225001448j)   \n",
       "3     (0.0190229483+0.0266538883j)   (-0.00109009944+0.000366124925j)   \n",
       "4     (0.0298776059+0.0286191782j)  (-0.000972125733+0.000477142026j)   \n",
       "\n",
       "                              S33                            S34  \\\n",
       "0  (0.0162859277+4.44385684e-08j)  (0.983714071-1.46876554e-07j)   \n",
       "1   (0.0272945297+0.00216531475j)      (0.95139469-0.198836321j)   \n",
       "2  (0.0293148349+0.000304627097j)       (0.889898842-0.3851049j)   \n",
       "3    (0.031864622-0.00212405084j)     (0.792315414-0.554944138j)   \n",
       "4   (0.0346766681-0.00566241706j)     (0.662998448-0.701085289j)   \n",
       "\n",
       "                                 S41                             S42  \\\n",
       "0  (-0.000541198335-1.01989557e-08j)  (0.00054119905+2.8302882e-08j)   \n",
       "1   (-0.00110015345+0.000120446466j)   (0.00353580652+0.0110947919j)   \n",
       "2   (-0.00108891754+0.000221126026j)    (0.0101988001+0.0202271826j)   \n",
       "3    (-0.00106142861+0.00034493439j)    (0.0199685028+0.0258933604j)   \n",
       "4   (-0.00106494743+0.000602395559j)    (0.0310563996+0.0271889717j)   \n",
       "\n",
       "                             S43                             S44  \n",
       "0  (0.983714071-1.46876554e-07j)     (0.0162859282+5.21219e-08j)  \n",
       "1      (0.95139469-0.198836321j)    (0.0269166588+0.0026529526j)  \n",
       "2       (0.889898842-0.3851049j)     (0.02796406+0.00169292503j)  \n",
       "3     (0.792315414-0.554944138j)    (0.029232121+0.00102949912j)  \n",
       "4     (0.662998448-0.701085289j)  (0.0309089814+0.000245745772j)  "
      ]
     },
     "execution_count": 7,
     "metadata": {},
     "output_type": "execute_result"
    }
   ],
   "source": [
    "df.head()"
   ]
  },
  {
   "cell_type": "code",
   "execution_count": 8,
   "id": "259a019f-4f26-4367-8e7e-81b54c4ea569",
   "metadata": {},
   "outputs": [
    {
     "name": "stdout",
     "output_type": "stream",
     "text": [
      "NUM PORTS:  4\n"
     ]
    }
   ],
   "source": [
    "num_ports = np.sqrt(len(df.columns) - 1)\n",
    "is_int = np.floor(num_ports) == np.ceil(num_ports)\n",
    "\n",
    "if not is_int:\n",
    "    print(\"ERROR!\")\n",
    "else:\n",
    "    num_ports = int(num_ports)\n",
    "    print(\"NUM PORTS: \", num_ports)"
   ]
  },
  {
   "cell_type": "code",
   "execution_count": 9,
   "id": "43a788f9-0b20-4603-9b7e-bf264f4605fc",
   "metadata": {},
   "outputs": [],
   "source": [
    "freq = df[\"Frequency\"].to_numpy().astype(np.float32).squeeze()"
   ]
  },
  {
   "cell_type": "code",
   "execution_count": 10,
   "id": "04783e1e-97d9-4403-be33-c88afe657219",
   "metadata": {},
   "outputs": [
    {
     "name": "stdout",
     "output_type": "stream",
     "text": [
      "(1000,)\n",
      "10.0\n",
      "20020030.0\n"
     ]
    }
   ],
   "source": [
    "print(freq.shape)\n",
    "print(freq[0])\n",
    "print(freq[1])"
   ]
  },
  {
   "cell_type": "code",
   "execution_count": 11,
   "id": "d3227727-b33b-4eab-b021-2dcc30615f31",
   "metadata": {},
   "outputs": [
    {
     "name": "stdout",
     "output_type": "stream",
     "text": [
      "S11\n",
      "S12\n",
      "S13\n",
      "S14\n",
      "S22\n",
      "S23\n",
      "S24\n",
      "S33\n",
      "S34\n",
      "S44\n"
     ]
    }
   ],
   "source": [
    "for i in range(num_ports):\n",
    "    for j in range(i, num_ports):\n",
    "        print(\"S\" + str(i+1) + str(j+1))"
   ]
  },
  {
   "cell_type": "code",
   "execution_count": 12,
   "id": "ca2770b4-ae3e-4351-9941-5b0d110025e6",
   "metadata": {},
   "outputs": [
    {
     "data": {
      "text/plain": [
       "0    (0.0162895518+3.3658567e-08j)\n",
       "1    (0.0273069861+0.00197834442j)\n",
       "2     (0.0292684287-5.231726e-05j)\n",
       "3    (0.0317898904-0.00271687759j)\n",
       "4     (0.034632948-0.00625590192j)\n",
       "Name: S11, dtype: object"
      ]
     },
     "execution_count": 12,
     "metadata": {},
     "output_type": "execute_result"
    }
   ],
   "source": [
    "df[\"S11\"].head()"
   ]
  },
  {
   "cell_type": "code",
   "execution_count": 13,
   "id": "00d4d4cc-832f-4ff6-8169-dc00157ad939",
   "metadata": {},
   "outputs": [],
   "source": [
    "val = df[\"S11\"].values\n",
    "val = np.asarray(val, dtype=complex)\n",
    "val = np.stack((val.real, val.imag)).astype(np.float32)"
   ]
  },
  {
   "cell_type": "code",
   "execution_count": 14,
   "id": "809f0312-be0a-40e9-922d-fde951873b52",
   "metadata": {},
   "outputs": [
    {
     "name": "stdout",
     "output_type": "stream",
     "text": [
      "[1.6289553e-02 3.3658566e-08]\n",
      "[0.02730699 0.00197834]\n",
      "(2, 1000)\n",
      "0.087441556\n",
      "-0.685601\n"
     ]
    }
   ],
   "source": [
    "print(val[:, 0])\n",
    "print(val[:, 1])\n",
    "print(val.shape)\n",
    "print(np.max(val))\n",
    "print(np.min(val))"
   ]
  },
  {
   "cell_type": "code",
   "execution_count": 15,
   "id": "f40459a9-a56d-43fe-aa5d-23448cbf8e41",
   "metadata": {},
   "outputs": [],
   "source": [
    "#Want a dataset that's [1, 2, num_freqs, N, N]"
   ]
  },
  {
   "cell_type": "markdown",
   "id": "88be938c-8975-4109-8480-ae21dc5c07e1",
   "metadata": {},
   "source": [
    "# MAKE THE DATASET"
   ]
  },
  {
   "cell_type": "code",
   "execution_count": 16,
   "id": "ff2986f0-394d-4f6d-a1ee-6b24cf9f6109",
   "metadata": {},
   "outputs": [],
   "source": [
    "data_dir = \"/scratch/04703/sravula/UTAFSDataNew\""
   ]
  },
  {
   "cell_type": "code",
   "execution_count": 17,
   "id": "84f2b045-2253-4f89-92e4-0417b1c127e4",
   "metadata": {},
   "outputs": [
    {
     "name": "stdout",
     "output_type": "stream",
     "text": [
      "63\n"
     ]
    }
   ],
   "source": [
    "file_dirs = os.listdir(data_dir)\n",
    "print(len(file_dirs))"
   ]
  },
  {
   "cell_type": "code",
   "execution_count": 18,
   "id": "f340cb70-b81b-405c-bfff-8a98708e0eea",
   "metadata": {},
   "outputs": [
    {
     "name": "stdout",
     "output_type": "stream",
     "text": [
      "61\n"
     ]
    }
   ],
   "source": [
    "file_dirs = [f for f in file_dirs if \".pt\" not in f]\n",
    "print(len(file_dirs))"
   ]
  },
  {
   "cell_type": "code",
   "execution_count": 19,
   "id": "5baee418-dd1d-4a3a-bace-98ca4da23c4f",
   "metadata": {},
   "outputs": [],
   "source": [
    "frequencies = [None] * (len(file_dirs) + 1)\n",
    "data = [None] * (len(file_dirs) + 1)"
   ]
  },
  {
   "cell_type": "code",
   "execution_count": 20,
   "id": "0ce90427-65c3-4761-9472-4df7a0113f45",
   "metadata": {},
   "outputs": [
    {
     "name": "stdout",
     "output_type": "stream",
     "text": [
      "62\n",
      "62\n"
     ]
    }
   ],
   "source": [
    "print(len(frequencies))\n",
    "print(len(data))"
   ]
  },
  {
   "cell_type": "code",
   "execution_count": 21,
   "id": "ba39f7fd-9604-479c-8c14-061b3a5f5e9d",
   "metadata": {},
   "outputs": [
    {
     "name": "stderr",
     "output_type": "stream",
     "text": [
      "0it [00:00, ?it/s]"
     ]
    },
    {
     "name": "stdout",
     "output_type": "stream",
     "text": [
      "0: case09\n",
      "CHIP NUM:  9\n",
      "NUM PORTS:  4\n",
      "NUM FREQS:  1000\n",
      "NUM UNIQUE:  10\n",
      "FINAL SHAPE:  torch.Size([1, 2, 1000, 10]) \n",
      "\n",
      "1: case04\n",
      "CHIP NUM:  4\n",
      "NUM PORTS:  2\n",
      "NUM FREQS:  1000\n",
      "NUM UNIQUE:  3\n",
      "FINAL SHAPE:  torch.Size([1, 2, 1000, 3]) \n",
      "\n",
      "2: case08\n",
      "CHIP NUM:  8\n",
      "NUM PORTS:  13\n",
      "NUM FREQS:  500\n",
      "NUM UNIQUE:  91\n"
     ]
    },
    {
     "name": "stderr",
     "output_type": "stream",
     "text": [
      "3it [00:00, 24.59it/s]"
     ]
    },
    {
     "name": "stdout",
     "output_type": "stream",
     "text": [
      "FINAL SHAPE:  torch.Size([1, 2, 500, 91]) \n",
      "\n",
      "3: case15\n",
      "CHIP NUM:  15\n",
      "NUM PORTS:  2\n",
      "NUM FREQS:  1000\n",
      "NUM UNIQUE:  3\n",
      "FINAL SHAPE:  torch.Size([1, 2, 1000, 3]) \n",
      "\n",
      "4: case03\n",
      "CHIP NUM:  3\n",
      "NUM PORTS:  4\n",
      "NUM FREQS:  101\n",
      "NUM UNIQUE:  10\n",
      "FINAL SHAPE:  torch.Size([1, 2, 101, 10]) \n",
      "\n",
      "5: case19\n",
      "CHIP NUM:  19\n",
      "NUM PORTS:  2\n",
      "NUM FREQS:  341\n",
      "NUM UNIQUE:  3\n",
      "FINAL SHAPE:  torch.Size([1, 2, 341, 3]) \n",
      "\n",
      "6: case26\n",
      "CHIP NUM:  26\n",
      "NUM PORTS:  16\n",
      "NUM FREQS:  9000\n",
      "NUM UNIQUE:  136\n"
     ]
    },
    {
     "name": "stderr",
     "output_type": "stream",
     "text": [
      "7it [00:02,  2.12it/s]"
     ]
    },
    {
     "name": "stdout",
     "output_type": "stream",
     "text": [
      "FINAL SHAPE:  torch.Size([1, 2, 9000, 136]) \n",
      "\n",
      "7: case14\n",
      "CHIP NUM:  14\n",
      "NUM PORTS:  4\n",
      "NUM FREQS:  500\n",
      "NUM UNIQUE:  10\n",
      "FINAL SHAPE:  torch.Size([1, 2, 500, 10]) \n",
      "\n",
      "8: case02\n",
      "CHIP NUM:  2\n",
      "NUM PORTS:  4\n",
      "NUM FREQS:  581\n",
      "NUM UNIQUE:  10\n",
      "FINAL SHAPE:  torch.Size([1, 2, 581, 10]) \n",
      "\n",
      "9: case21\n",
      "CHIP NUM:  21\n",
      "NUM PORTS:  2\n",
      "NUM FREQS:  600\n",
      "NUM UNIQUE:  3\n",
      "FINAL SHAPE:  torch.Size([1, 2, 600, 3]) \n",
      "\n",
      "10: case49\n",
      "CHIP NUM:  49\n",
      "NUM PORTS:  12\n",
      "NUM FREQS:  9999\n",
      "NUM UNIQUE:  78\n"
     ]
    },
    {
     "name": "stderr",
     "output_type": "stream",
     "text": [
      "11it [00:04,  2.18it/s]"
     ]
    },
    {
     "name": "stdout",
     "output_type": "stream",
     "text": [
      "FINAL SHAPE:  torch.Size([1, 2, 9999, 78]) \n",
      "\n",
      "11: case37\n",
      "CHIP NUM:  37\n",
      "NUM PORTS:  16\n",
      "NUM FREQS:  9999\n",
      "NUM UNIQUE:  136\n"
     ]
    },
    {
     "name": "stderr",
     "output_type": "stream",
     "text": [
      "12it [00:07,  1.23it/s]"
     ]
    },
    {
     "name": "stdout",
     "output_type": "stream",
     "text": [
      "FINAL SHAPE:  torch.Size([1, 2, 9999, 136]) \n",
      "\n",
      "12: case25\n",
      "CHIP NUM:  25\n",
      "NUM PORTS:  16\n",
      "NUM FREQS:  8000\n",
      "NUM UNIQUE:  136\n"
     ]
    },
    {
     "name": "stderr",
     "output_type": "stream",
     "text": [
      "13it [00:09,  1.08s/it]"
     ]
    },
    {
     "name": "stdout",
     "output_type": "stream",
     "text": [
      "FINAL SHAPE:  torch.Size([1, 2, 8000, 136]) \n",
      "\n",
      "13: case13\n",
      "CHIP NUM:  13\n",
      "NUM PORTS:  1\n",
      "NUM FREQS:  500\n",
      "NUM UNIQUE:  1\n",
      "FINAL SHAPE:  torch.Size([1, 2, 500, 1]) \n",
      "\n",
      "14: case32\n",
      "CHIP NUM:  32\n",
      "NUM PORTS:  16\n",
      "NUM FREQS:  8000\n",
      "NUM UNIQUE:  136\n"
     ]
    },
    {
     "name": "stderr",
     "output_type": "stream",
     "text": [
      "15it [00:12,  1.11s/it]"
     ]
    },
    {
     "name": "stdout",
     "output_type": "stream",
     "text": [
      "FINAL SHAPE:  torch.Size([1, 2, 8000, 136]) \n",
      "\n",
      "15: case20\n",
      "CHIP NUM:  20\n",
      "NUM PORTS:  2\n",
      "NUM FREQS:  1500\n",
      "NUM UNIQUE:  3\n",
      "FINAL SHAPE:  torch.Size([1, 2, 1500, 3]) \n",
      "\n",
      "16: case48\n",
      "CHIP NUM:  48\n"
     ]
    },
    {
     "name": "stderr",
     "output_type": "stream",
     "text": [
      "17it [00:12,  1.25it/s]"
     ]
    },
    {
     "name": "stdout",
     "output_type": "stream",
     "text": [
      "NUM PORTS:  12\n",
      "NUM FREQS:  3000\n",
      "NUM UNIQUE:  78\n",
      "FINAL SHAPE:  torch.Size([1, 2, 3000, 78]) \n",
      "\n",
      "17: case36\n",
      "CHIP NUM:  36\n"
     ]
    },
    {
     "name": "stderr",
     "output_type": "stream",
     "text": [
      "18it [00:13,  1.21it/s]"
     ]
    },
    {
     "name": "stdout",
     "output_type": "stream",
     "text": [
      "NUM PORTS:  16\n",
      "NUM FREQS:  3000\n",
      "NUM UNIQUE:  136\n",
      "FINAL SHAPE:  torch.Size([1, 2, 3000, 136]) \n",
      "\n",
      "18: case24\n",
      "CHIP NUM:  24\n",
      "NUM PORTS:  16\n",
      "NUM FREQS:  8000\n",
      "NUM UNIQUE:  136\n"
     ]
    },
    {
     "name": "stderr",
     "output_type": "stream",
     "text": [
      "19it [00:15,  1.15s/it]"
     ]
    },
    {
     "name": "stdout",
     "output_type": "stream",
     "text": [
      "FINAL SHAPE:  torch.Size([1, 2, 8000, 136]) \n",
      "\n",
      "19: case43\n",
      "CHIP NUM:  43\n",
      "NUM PORTS:  16\n",
      "NUM FREQS:  5000\n",
      "NUM UNIQUE:  136\n"
     ]
    },
    {
     "name": "stderr",
     "output_type": "stream",
     "text": [
      "20it [00:17,  1.23s/it]"
     ]
    },
    {
     "name": "stdout",
     "output_type": "stream",
     "text": [
      "FINAL SHAPE:  torch.Size([1, 2, 5000, 136]) \n",
      "\n",
      "20: case31\n",
      "CHIP NUM:  31\n",
      "NUM PORTS:  16\n",
      "NUM FREQS:  7000\n",
      "NUM UNIQUE:  136\n"
     ]
    },
    {
     "name": "stderr",
     "output_type": "stream",
     "text": [
      "21it [00:19,  1.45s/it]"
     ]
    },
    {
     "name": "stdout",
     "output_type": "stream",
     "text": [
      "FINAL SHAPE:  torch.Size([1, 2, 7000, 136]) \n",
      "\n",
      "21: case59\n",
      "CHIP NUM:  59\n",
      "NUM PORTS:  24\n",
      "NUM FREQS:  9999\n",
      "NUM UNIQUE:  300\n"
     ]
    },
    {
     "name": "stderr",
     "output_type": "stream",
     "text": [
      "22it [00:26,  2.81s/it]"
     ]
    },
    {
     "name": "stdout",
     "output_type": "stream",
     "text": [
      "FINAL SHAPE:  torch.Size([1, 2, 9999, 300]) \n",
      "\n",
      "22: case47\n",
      "CHIP NUM:  47\n"
     ]
    },
    {
     "name": "stderr",
     "output_type": "stream",
     "text": [
      "23it [00:26,  2.15s/it]"
     ]
    },
    {
     "name": "stdout",
     "output_type": "stream",
     "text": [
      "NUM PORTS:  12\n",
      "NUM FREQS:  3000\n",
      "NUM UNIQUE:  78\n",
      "FINAL SHAPE:  torch.Size([1, 2, 3000, 78]) \n",
      "\n",
      "23: case54\n",
      "CHIP NUM:  54\n"
     ]
    },
    {
     "name": "stderr",
     "output_type": "stream",
     "text": [
      "24it [00:27,  1.70s/it]"
     ]
    },
    {
     "name": "stdout",
     "output_type": "stream",
     "text": [
      "NUM PORTS:  12\n",
      "NUM FREQS:  3000\n",
      "NUM UNIQUE:  78\n",
      "FINAL SHAPE:  torch.Size([1, 2, 3000, 78]) \n",
      "\n",
      "24: case42\n",
      "CHIP NUM:  42\n",
      "NUM PORTS:  16\n",
      "NUM FREQS:  9000\n",
      "NUM UNIQUE:  136\n"
     ]
    },
    {
     "name": "stderr",
     "output_type": "stream",
     "text": [
      "25it [00:29,  1.97s/it]"
     ]
    },
    {
     "name": "stdout",
     "output_type": "stream",
     "text": [
      "FINAL SHAPE:  torch.Size([1, 2, 9000, 136]) \n",
      "\n",
      "25: case30\n",
      "CHIP NUM:  30\n",
      "NUM PORTS:  12\n",
      "NUM FREQS:  9000\n",
      "NUM UNIQUE:  78\n"
     ]
    },
    {
     "name": "stderr",
     "output_type": "stream",
     "text": [
      "26it [00:31,  1.85s/it]"
     ]
    },
    {
     "name": "stdout",
     "output_type": "stream",
     "text": [
      "FINAL SHAPE:  torch.Size([1, 2, 9000, 78]) \n",
      "\n",
      "26: case58\n",
      "CHIP NUM:  58\n",
      "NUM PORTS:  24\n",
      "NUM FREQS:  9999\n",
      "NUM UNIQUE:  300\n"
     ]
    },
    {
     "name": "stderr",
     "output_type": "stream",
     "text": [
      "27it [00:37,  3.28s/it]"
     ]
    },
    {
     "name": "stdout",
     "output_type": "stream",
     "text": [
      "FINAL SHAPE:  torch.Size([1, 2, 9999, 300]) \n",
      "\n",
      "27: case53\n",
      "CHIP NUM:  53\n"
     ]
    },
    {
     "name": "stderr",
     "output_type": "stream",
     "text": [
      "28it [00:38,  2.51s/it]"
     ]
    },
    {
     "name": "stdout",
     "output_type": "stream",
     "text": [
      "NUM PORTS:  12\n",
      "NUM FREQS:  3000\n",
      "NUM UNIQUE:  78\n",
      "FINAL SHAPE:  torch.Size([1, 2, 3000, 78]) \n",
      "\n",
      "28: case41\n",
      "CHIP NUM:  41\n",
      "NUM PORTS:  12\n",
      "NUM FREQS:  8000\n",
      "NUM UNIQUE:  78\n"
     ]
    },
    {
     "name": "stderr",
     "output_type": "stream",
     "text": [
      "29it [00:39,  2.17s/it]"
     ]
    },
    {
     "name": "stdout",
     "output_type": "stream",
     "text": [
      "FINAL SHAPE:  torch.Size([1, 2, 8000, 78]) \n",
      "\n",
      "29: case52\n",
      "CHIP NUM:  52\n"
     ]
    },
    {
     "name": "stderr",
     "output_type": "stream",
     "text": [
      "30it [00:40,  1.69s/it]"
     ]
    },
    {
     "name": "stdout",
     "output_type": "stream",
     "text": [
      "NUM PORTS:  12\n",
      "NUM FREQS:  3000\n",
      "NUM UNIQUE:  78\n",
      "FINAL SHAPE:  torch.Size([1, 2, 3000, 78]) \n",
      "\n",
      "30: case07\n",
      "CHIP NUM:  7\n"
     ]
    },
    {
     "name": "stderr",
     "output_type": "stream",
     "text": [
      "32it [00:40,  1.06it/s]"
     ]
    },
    {
     "name": "stdout",
     "output_type": "stream",
     "text": [
      "NUM PORTS:  4\n",
      "NUM FREQS:  1000\n",
      "NUM UNIQUE:  10\n",
      "FINAL SHAPE:  torch.Size([1, 2, 1000, 10]) \n",
      "\n",
      "31: case18\n",
      "CHIP NUM:  18\n",
      "NUM PORTS:  6\n",
      "NUM FREQS:  644\n",
      "NUM UNIQUE:  21\n",
      "FINAL SHAPE:  torch.Size([1, 2, 644, 21]) \n",
      "\n",
      "32: case06\n",
      "CHIP NUM:  6\n"
     ]
    },
    {
     "name": "stderr",
     "output_type": "stream",
     "text": [
      "33it [00:40,  1.29it/s]"
     ]
    },
    {
     "name": "stdout",
     "output_type": "stream",
     "text": [
      "NUM PORTS:  4\n",
      "NUM FREQS:  501\n",
      "NUM UNIQUE:  10\n",
      "FINAL SHAPE:  torch.Size([1, 2, 501, 10]) \n",
      "\n",
      "33: case01\n",
      "CHIP NUM:  1\n",
      "NUM PORTS:  4\n",
      "NUM FREQS:  501\n",
      "NUM UNIQUE:  10\n",
      "FINAL SHAPE:  torch.Size([1, 2, 501, 10]) \n",
      "\n",
      "34: case29\n",
      "CHIP NUM:  29\n",
      "NUM PORTS:  16\n",
      "NUM FREQS:  7000\n",
      "NUM UNIQUE:  136\n"
     ]
    },
    {
     "name": "stderr",
     "output_type": "stream",
     "text": [
      "35it [00:43,  1.11it/s]"
     ]
    },
    {
     "name": "stdout",
     "output_type": "stream",
     "text": [
      "FINAL SHAPE:  torch.Size([1, 2, 7000, 136]) \n",
      "\n",
      "35: case17\n",
      "CHIP NUM:  17\n",
      "NUM PORTS:  1\n",
      "NUM FREQS:  501\n",
      "NUM UNIQUE:  1\n",
      "FINAL SHAPE:  torch.Size([1, 2, 501, 1]) \n",
      "\n",
      "36: case05\n",
      "CHIP NUM:  5\n",
      "NUM PORTS:  4\n",
      "NUM FREQS:  1001\n",
      "NUM UNIQUE:  10\n",
      "FINAL SHAPE:  torch.Size([1, 2, 1001, 10]) \n",
      "\n",
      "37: case12\n",
      "CHIP NUM:  12\n",
      "NUM PORTS:  2\n",
      "NUM FREQS:  500\n",
      "NUM UNIQUE:  3\n",
      "FINAL SHAPE:  torch.Size([1, 2, 500, 3]) \n",
      "\n",
      "38: case00\n",
      "CHIP NUM:  0\n",
      "NUM PORTS:  2\n",
      "NUM FREQS:  40\n",
      "NUM UNIQUE:  3\n",
      "FINAL SHAPE:  torch.Size([1, 2, 40, 3]) \n",
      "\n",
      "39: case28\n",
      "CHIP NUM:  28\n",
      "NUM PORTS:  12\n",
      "NUM FREQS:  9000\n",
      "NUM UNIQUE:  78\n"
     ]
    },
    {
     "name": "stderr",
     "output_type": "stream",
     "text": [
      "40it [00:44,  1.81it/s]"
     ]
    },
    {
     "name": "stdout",
     "output_type": "stream",
     "text": [
      "FINAL SHAPE:  torch.Size([1, 2, 9000, 78]) \n",
      "\n",
      "40: case16\n",
      "CHIP NUM:  16\n",
      "NUM PORTS:  2\n",
      "NUM FREQS:  501\n",
      "NUM UNIQUE:  3\n",
      "FINAL SHAPE:  torch.Size([1, 2, 501, 3]) \n",
      "\n",
      "41: case35\n",
      "CHIP NUM:  35\n"
     ]
    },
    {
     "name": "stderr",
     "output_type": "stream",
     "text": [
      "44it [00:45,  2.63it/s]"
     ]
    },
    {
     "name": "stdout",
     "output_type": "stream",
     "text": [
      "NUM PORTS:  16\n",
      "NUM FREQS:  2000\n",
      "NUM UNIQUE:  136\n",
      "FINAL SHAPE:  torch.Size([1, 2, 2000, 136]) \n",
      "\n",
      "42: case23\n",
      "CHIP NUM:  23\n",
      "NUM PORTS:  2\n",
      "NUM FREQS:  2081\n",
      "NUM UNIQUE:  3\n",
      "FINAL SHAPE:  torch.Size([1, 2, 2081, 3]) \n",
      "\n",
      "43: case11\n",
      "CHIP NUM:  11\n",
      "NUM PORTS:  3\n",
      "NUM FREQS:  500\n",
      "NUM UNIQUE:  6\n",
      "FINAL SHAPE:  torch.Size([1, 2, 500, 6]) \n",
      "\n",
      "44: case39\n",
      "CHIP NUM:  39\n",
      "NUM PORTS:  16\n",
      "NUM FREQS:  4500\n",
      "NUM UNIQUE:  136\n"
     ]
    },
    {
     "name": "stderr",
     "output_type": "stream",
     "text": [
      "45it [00:46,  1.85it/s]"
     ]
    },
    {
     "name": "stdout",
     "output_type": "stream",
     "text": [
      "FINAL SHAPE:  torch.Size([1, 2, 4500, 136]) \n",
      "\n",
      "45: case27\n",
      "CHIP NUM:  27\n",
      "NUM PORTS:  16\n",
      "NUM FREQS:  7000\n",
      "NUM UNIQUE:  136\n"
     ]
    },
    {
     "name": "stderr",
     "output_type": "stream",
     "text": [
      "46it [00:49,  1.19it/s]"
     ]
    },
    {
     "name": "stdout",
     "output_type": "stream",
     "text": [
      "FINAL SHAPE:  torch.Size([1, 2, 7000, 136]) \n",
      "\n",
      "46: case46\n",
      "CHIP NUM:  46\n"
     ]
    },
    {
     "name": "stderr",
     "output_type": "stream",
     "text": [
      "47it [00:49,  1.27it/s]"
     ]
    },
    {
     "name": "stdout",
     "output_type": "stream",
     "text": [
      "NUM PORTS:  12\n",
      "NUM FREQS:  3000\n",
      "NUM UNIQUE:  78\n",
      "FINAL SHAPE:  torch.Size([1, 2, 3000, 78]) \n",
      "\n",
      "47: case34\n",
      "CHIP NUM:  34\n",
      "NUM PORTS:  44\n",
      "NUM FREQS:  400\n",
      "NUM UNIQUE:  990\n"
     ]
    },
    {
     "name": "stderr",
     "output_type": "stream",
     "text": [
      "48it [00:50,  1.09it/s]"
     ]
    },
    {
     "name": "stdout",
     "output_type": "stream",
     "text": [
      "FINAL SHAPE:  torch.Size([1, 2, 400, 990]) \n",
      "\n",
      "48: case10\n",
      "CHIP NUM:  10\n",
      "NUM PORTS:  4\n",
      "NUM FREQS:  1000\n",
      "NUM UNIQUE:  10\n",
      "FINAL SHAPE:  torch.Size([1, 2, 1000, 10]) \n",
      "\n",
      "49: case38\n",
      "CHIP NUM:  38\n",
      "NUM PORTS:  16\n",
      "NUM FREQS:  9999\n",
      "NUM UNIQUE:  136\n"
     ]
    },
    {
     "name": "stderr",
     "output_type": "stream",
     "text": [
      "50it [00:53,  1.14s/it]"
     ]
    },
    {
     "name": "stdout",
     "output_type": "stream",
     "text": [
      "FINAL SHAPE:  torch.Size([1, 2, 9999, 136]) \n",
      "\n",
      "50: case57\n",
      "CHIP NUM:  57\n",
      "NUM PORTS:  24\n",
      "NUM FREQS:  9999\n",
      "NUM UNIQUE:  300\n"
     ]
    },
    {
     "name": "stderr",
     "output_type": "stream",
     "text": [
      "51it [01:00,  2.35s/it]"
     ]
    },
    {
     "name": "stdout",
     "output_type": "stream",
     "text": [
      "FINAL SHAPE:  torch.Size([1, 2, 9999, 300]) \n",
      "\n",
      "51: case45\n",
      "CHIP NUM:  45\n"
     ]
    },
    {
     "name": "stderr",
     "output_type": "stream",
     "text": [
      "52it [01:01,  1.94s/it]"
     ]
    },
    {
     "name": "stdout",
     "output_type": "stream",
     "text": [
      "NUM PORTS:  12\n",
      "NUM FREQS:  3000\n",
      "NUM UNIQUE:  78\n",
      "FINAL SHAPE:  torch.Size([1, 2, 3000, 78]) \n",
      "\n",
      "52: case33\n",
      "CHIP NUM:  33\n",
      "NUM PORTS:  44\n",
      "NUM FREQS:  400\n",
      "NUM UNIQUE:  990\n"
     ]
    },
    {
     "name": "stderr",
     "output_type": "stream",
     "text": [
      "53it [01:03,  1.94s/it]"
     ]
    },
    {
     "name": "stdout",
     "output_type": "stream",
     "text": [
      "FINAL SHAPE:  torch.Size([1, 2, 400, 990]) \n",
      "\n",
      "53: case40\n",
      "CHIP NUM:  40\n",
      "NUM PORTS:  12\n",
      "NUM FREQS:  4500\n",
      "NUM UNIQUE:  78\n"
     ]
    },
    {
     "name": "stderr",
     "output_type": "stream",
     "text": [
      "54it [01:03,  1.64s/it]"
     ]
    },
    {
     "name": "stdout",
     "output_type": "stream",
     "text": [
      "FINAL SHAPE:  torch.Size([1, 2, 4500, 78]) \n",
      "\n",
      "54: case56\n",
      "CHIP NUM:  56\n"
     ]
    },
    {
     "name": "stderr",
     "output_type": "stream",
     "text": [
      "55it [01:04,  1.34s/it]"
     ]
    },
    {
     "name": "stdout",
     "output_type": "stream",
     "text": [
      "NUM PORTS:  12\n",
      "NUM FREQS:  3000\n",
      "NUM UNIQUE:  78\n",
      "FINAL SHAPE:  torch.Size([1, 2, 3000, 78]) \n",
      "\n",
      "55: case44\n",
      "CHIP NUM:  44\n"
     ]
    },
    {
     "name": "stderr",
     "output_type": "stream",
     "text": [
      "56it [01:05,  1.12s/it]"
     ]
    },
    {
     "name": "stdout",
     "output_type": "stream",
     "text": [
      "NUM PORTS:  12\n",
      "NUM FREQS:  3000\n",
      "NUM UNIQUE:  78\n",
      "FINAL SHAPE:  torch.Size([1, 2, 3000, 78]) \n",
      "\n",
      "56: case51\n",
      "CHIP NUM:  51\n"
     ]
    },
    {
     "name": "stderr",
     "output_type": "stream",
     "text": [
      "57it [01:05,  1.05it/s]"
     ]
    },
    {
     "name": "stdout",
     "output_type": "stream",
     "text": [
      "NUM PORTS:  12\n",
      "NUM FREQS:  3000\n",
      "NUM UNIQUE:  78\n",
      "FINAL SHAPE:  torch.Size([1, 2, 3000, 78]) \n",
      "\n",
      "57: case55\n",
      "CHIP NUM:  55\n"
     ]
    },
    {
     "name": "stderr",
     "output_type": "stream",
     "text": [
      "58it [01:06,  1.06it/s]"
     ]
    },
    {
     "name": "stdout",
     "output_type": "stream",
     "text": [
      "NUM PORTS:  12\n",
      "NUM FREQS:  3000\n",
      "NUM UNIQUE:  78\n",
      "FINAL SHAPE:  torch.Size([1, 2, 3000, 78]) \n",
      "\n",
      "58: case50\n",
      "CHIP NUM:  50\n",
      "NUM PORTS:  12\n",
      "NUM FREQS:  9999\n",
      "NUM UNIQUE:  78\n"
     ]
    },
    {
     "name": "stderr",
     "output_type": "stream",
     "text": [
      "59it [01:08,  1.18s/it]"
     ]
    },
    {
     "name": "stdout",
     "output_type": "stream",
     "text": [
      "FINAL SHAPE:  torch.Size([1, 2, 9999, 78]) \n",
      "\n",
      "59: case61\n",
      "CHIP NUM:  61\n"
     ]
    },
    {
     "name": "stderr",
     "output_type": "stream",
     "text": [
      "60it [01:08,  1.08it/s]"
     ]
    },
    {
     "name": "stdout",
     "output_type": "stream",
     "text": [
      "NUM PORTS:  12\n",
      "NUM FREQS:  2000\n",
      "NUM UNIQUE:  78\n",
      "FINAL SHAPE:  torch.Size([1, 2, 2000, 78]) \n",
      "\n",
      "60: case60\n",
      "CHIP NUM:  60\n",
      "NUM PORTS:  24\n",
      "NUM FREQS:  9999\n",
      "NUM UNIQUE:  300\n"
     ]
    },
    {
     "name": "stderr",
     "output_type": "stream",
     "text": [
      "61it [01:15,  1.23s/it]"
     ]
    },
    {
     "name": "stdout",
     "output_type": "stream",
     "text": [
      "FINAL SHAPE:  torch.Size([1, 2, 9999, 300]) \n",
      "\n"
     ]
    },
    {
     "name": "stderr",
     "output_type": "stream",
     "text": [
      "\n"
     ]
    }
   ],
   "source": [
    "for i, filename in tqdm(enumerate(file_dirs)):\n",
    "    print(str(i) + \": \" + filename)\n",
    "    \n",
    "    #grab the chip number\n",
    "    chip_num = int(filename.split(\"case\")[-1])\n",
    "    print(\"CHIP NUM: \", chip_num)\n",
    "    \n",
    "    fname = os.path.join(data_dir, filename)\n",
    "    \n",
    "    #grab the dataframe\n",
    "    df = pd.read_csv(os.path.join(fname, 'sparameters.csv'), sep=',')\n",
    "    \n",
    "    #validate the number of ports\n",
    "    num_ports = np.sqrt(len(df.columns) - 1)\n",
    "    is_int = np.floor(num_ports) == np.ceil(num_ports)\n",
    "\n",
    "    if not is_int:\n",
    "        print(\"ERROR!\")\n",
    "        break\n",
    "    else:\n",
    "        num_ports = int(num_ports)\n",
    "        print(\"NUM PORTS: \", num_ports)\n",
    "        \n",
    "    #grab the frequency data\n",
    "    freq = df[\"Frequency\"].to_numpy().astype(np.float32).squeeze()\n",
    "    num_freqs = len(freq)\n",
    "    \n",
    "    print(\"NUM FREQS: \", num_freqs)\n",
    "    \n",
    "    frequencies[chip_num] = torch.from_numpy(freq).clone()\n",
    "    \n",
    "    #grab the data\n",
    "    num_unique = (num_ports + 1) * num_ports // 2\n",
    "    print(\"NUM UNIQUE: \", num_unique)\n",
    "    \n",
    "    cur_data = torch.zeros(1, 2, num_freqs, num_unique)\n",
    "    \n",
    "    cur_idx = 0\n",
    "    for i in range(num_ports):\n",
    "        for j in range(i, num_ports):\n",
    "            sparam = \"S\" + str(i+1) + str(j+1)\n",
    "            \n",
    "            val = df[sparam].values\n",
    "            val = np.asarray(val, dtype=complex)\n",
    "            val = np.stack((val.real, val.imag)).astype(np.float32)\n",
    "            \n",
    "            cur_data[0, :, :, cur_idx] = torch.from_numpy(val).clone()\n",
    "            \n",
    "            cur_idx = cur_idx + 1\n",
    "    \n",
    "    print(\"FINAL SHAPE: \", cur_data.shape, \"\\n\")\n",
    "    data[chip_num] = cur_data.clone()"
   ]
  },
  {
   "cell_type": "code",
   "execution_count": 22,
   "id": "9904b933-18ef-442c-ba89-05b8cc461690",
   "metadata": {},
   "outputs": [],
   "source": [
    "torch.save(data, \"/scratch/04703/sravula/UTAFSDataNew/NEW_DATA.pt\")\n",
    "torch.save(frequencies, \"/scratch/04703/sravula/UTAFSDataNew/NEW_FREQUENCIES.pt\")"
   ]
  }
 ],
 "metadata": {
  "kernelspec": {
   "display_name": "Python 3",
   "language": "python",
   "name": "python3"
  },
  "language_info": {
   "codemirror_mode": {
    "name": "ipython",
    "version": 3
   },
   "file_extension": ".py",
   "mimetype": "text/x-python",
   "name": "python",
   "nbconvert_exporter": "python",
   "pygments_lexer": "ipython3",
   "version": "3.7.10"
  }
 },
 "nbformat": 4,
 "nbformat_minor": 5
}
