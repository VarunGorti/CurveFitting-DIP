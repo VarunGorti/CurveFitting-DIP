{
 "cells": [
  {
   "cell_type": "code",
   "execution_count": 1,
   "id": "cbafca0e-29f6-4d19-8f6a-c33f36f501e9",
   "metadata": {},
   "outputs": [],
   "source": [
    "import matplotlib.pyplot as plt\n",
    "%matplotlib inline\n",
    "\n",
    "import numpy as np\n",
    "import random\n",
    "\n",
    "import torch\n",
    "import torch.nn as nn\n",
    "import torch.nn.functional as F\n",
    "\n",
    "import math\n",
    "import time\n",
    "import pandas as pd\n",
    "\n",
    "from AFSParser import build_dataset"
   ]
  },
  {
   "cell_type": "code",
   "execution_count": 2,
   "id": "0b363fbf-d37c-4b47-bac3-ac8e64a2daec",
   "metadata": {},
   "outputs": [
    {
     "name": "stdout",
     "output_type": "stream",
     "text": [
      "61\n"
     ]
    },
    {
     "name": "stderr",
     "output_type": "stream",
     "text": [
      "61it [04:11,  4.12s/it]\n"
     ]
    }
   ],
   "source": [
    "# Load the data from the file\n",
    "X, y0 = build_dataset(False, \"/scratch/04703/sravula/UTAFSDataNew\")"
   ]
  },
  {
   "cell_type": "code",
   "execution_count": 3,
   "id": "cb9d31ec-6d68-4690-8dcf-88703f931cad",
   "metadata": {},
   "outputs": [
    {
     "name": "stdout",
     "output_type": "stream",
     "text": [
      "float64\n",
      "float64\n"
     ]
    }
   ],
   "source": [
    "print(X.dtype)\n",
    "print(y0.dtype)"
   ]
  },
  {
   "cell_type": "code",
   "execution_count": 4,
   "id": "4c089d9b-d775-478b-92f8-f4240db31304",
   "metadata": {},
   "outputs": [
    {
     "name": "stdout",
     "output_type": "stream",
     "text": [
      "torch.Size([1406, 9999])\n"
     ]
    }
   ],
   "source": [
    "freq_vals = torch.from_numpy(X).float() \n",
    "print(freq_vals.shape)"
   ]
  },
  {
   "cell_type": "code",
   "execution_count": 5,
   "id": "097d6a18-f371-4110-9c04-2ce735bc64e6",
   "metadata": {},
   "outputs": [
    {
     "name": "stdout",
     "output_type": "stream",
     "text": [
      "torch.Size([1406, 9999, 10, 2])\n"
     ]
    }
   ],
   "source": [
    "x_raw = torch.from_numpy(y0).float()\n",
    "print(x_raw.shape)"
   ]
  },
  {
   "cell_type": "code",
   "execution_count": 6,
   "id": "11029d82-f775-47bf-a3ec-f74f786f3e80",
   "metadata": {},
   "outputs": [],
   "source": [
    "torch.save(freq_vals, \"/scratch/04703/sravula/UTAFSDataNew/FREQ_VALS.pt\")\n",
    "torch.save(x_raw, \"/scratch/04703/sravula/UTAFSDataNew/X_RAW.pt\")"
   ]
  },
  {
   "cell_type": "code",
   "execution_count": 27,
   "id": "2cb70e73-885e-4522-974b-21fd1dea324a",
   "metadata": {},
   "outputs": [
    {
     "name": "stdout",
     "output_type": "stream",
     "text": [
      "1000\n",
      "1000\n"
     ]
    }
   ],
   "source": [
    "print(freq_vals[0].nonzero().numel())\n",
    "print(x_raw[0,:,0,0].nonzero().numel())"
   ]
  },
  {
   "cell_type": "code",
   "execution_count": 30,
   "id": "6abeba53-0e20-4795-bf05-2d938d441537",
   "metadata": {},
   "outputs": [
    {
     "name": "stdout",
     "output_type": "stream",
     "text": [
      "8999\n"
     ]
    }
   ],
   "source": [
    "zero_inds = freq_vals[0][freq_vals[0] == 0]\n",
    "print(len(zero_inds))"
   ]
  },
  {
   "cell_type": "code",
   "execution_count": 29,
   "id": "a3aad546-90d6-4022-baf1-d348f3175766",
   "metadata": {},
   "outputs": [
    {
     "data": {
      "image/png": "[encoded data removed]",
      "text/plain": [
       "<Figure size 432x288 with 1 Axes>"
      ]
     },
     "metadata": {
      "needs_background": "light"
     },
     "output_type": "display_data"
    }
   ],
   "source": [
    "plt.figure()\n",
    "plt.scatter(freq_vals[0].numpy().flatten(), x_raw[0,:,0,0].numpy().flatten())\n",
    "plt.scatter(freq_vals[0].numpy().flatten(), x_raw[0,:,0,1].numpy().flatten())\n",
    "plt.show()"
   ]
  },
  {
   "cell_type": "markdown",
   "id": "4559bb48-bff7-40da-a070-e6e635cdecd4",
   "metadata": {},
   "source": [
    "# Let's strip all the unnecessary zero values!"
   ]
  },
  {
   "cell_type": "code",
   "execution_count": 31,
   "id": "35afb942-563a-4bfc-89e9-e0c7b3a44cfb",
   "metadata": {},
   "outputs": [],
   "source": [
    "new_freqs = []\n",
    "\n",
    "for i in range(freq_vals.shape[0]):\n",
    "    temp = freq_vals[i]\n",
    "    new_freqs.append(temp[temp.nonzero(as_tuple=True)])"
   ]
  },
  {
   "cell_type": "code",
   "execution_count": 33,
   "id": "496bc56b-2ff4-4c65-b7fa-e3d95db34141",
   "metadata": {},
   "outputs": [
    {
     "name": "stdout",
     "output_type": "stream",
     "text": [
      "1406\n"
     ]
    }
   ],
   "source": [
    "print(len(new_freqs))"
   ]
  },
  {
   "cell_type": "code",
   "execution_count": 34,
   "id": "1ac5e1e2-dff2-445b-84a1-89d4c98b80db",
   "metadata": {},
   "outputs": [],
   "source": [
    "new_x = []\n",
    "\n",
    "for i in range(freq_vals.shape[0]):\n",
    "    temp = freq_vals[i]\n",
    "    new_x.append(x_raw[i][temp.nonzero(as_tuple=True)])"
   ]
  },
  {
   "cell_type": "code",
   "execution_count": 36,
   "id": "09bed40a-67a4-4a32-b3e7-86246db330dc",
   "metadata": {},
   "outputs": [
    {
     "name": "stdout",
     "output_type": "stream",
     "text": [
      "1406\n"
     ]
    }
   ],
   "source": [
    "print(len(new_x))"
   ]
  },
  {
   "cell_type": "code",
   "execution_count": 40,
   "id": "0da1411c-4f3b-4c51-9e49-5c8a4d0ad5ff",
   "metadata": {},
   "outputs": [],
   "source": [
    "torch.save(new_freqs, \"/scratch/04703/sravula/UTAFSDataNew/FREQ_VALS.pt\")\n",
    "torch.save(new_x, \"/scratch/04703/sravula/UTAFSDataNew/X_RAW.pt\")"
   ]
  },
  {
   "cell_type": "code",
   "execution_count": 41,
   "id": "8676b062-e981-4f22-a216-b2d7171fa2a0",
   "metadata": {},
   "outputs": [],
   "source": [
    "a = torch.load(\"/scratch/04703/sravula/UTAFSDataNew/FREQ_VALS.pt\")\n",
    "b = torch.load(\"/scratch/04703/sravula/UTAFSDataNew/X_RAW.pt\")"
   ]
  },
  {
   "cell_type": "code",
   "execution_count": 46,
   "id": "be3a8f88-25fd-43c5-8043-ef95cd8038a6",
   "metadata": {},
   "outputs": [
    {
     "name": "stdout",
     "output_type": "stream",
     "text": [
      "1406\n",
      "torch.Size([1000])\n",
      "torch.Size([9998])\n",
      "torch.Size([2999])\n"
     ]
    }
   ],
   "source": [
    "print(len(a))\n",
    "\n",
    "print(a[0].shape)\n",
    "print(a[42].shape)\n",
    "print(a[1000].shape)"
   ]
  },
  {
   "cell_type": "code",
   "execution_count": 48,
   "id": "0035a7b7-cf3e-421d-8e50-9d0cc6dd9581",
   "metadata": {},
   "outputs": [
    {
     "name": "stdout",
     "output_type": "stream",
     "text": [
      "1406\n",
      "torch.Size([1000, 10, 2])\n",
      "torch.Size([9998, 10, 2])\n",
      "torch.Size([2999, 10, 2])\n"
     ]
    }
   ],
   "source": [
    "print(len(b))\n",
    "\n",
    "print(b[0].shape)\n",
    "print(b[42].shape)\n",
    "print(b[1000].shape)"
   ]
  },
  {
   "cell_type": "code",
   "execution_count": 50,
   "id": "51b8d339-ed1e-4c70-912c-32d44535972e",
   "metadata": {},
   "outputs": [
    {
     "name": "stdout",
     "output_type": "stream",
     "text": [
      "100\n",
      "9999\n"
     ]
    }
   ],
   "source": [
    "lens = [x.numel() for x in a]\n",
    "\n",
    "mini = np.min(np.array(lens))\n",
    "maxi = np.max(np.array(lens))\n",
    "\n",
    "print(mini)\n",
    "print(maxi)"
   ]
  },
  {
   "cell_type": "code",
   "execution_count": 56,
   "id": "f580d012-12ce-4a84-9d82-e75643ef9f49",
   "metadata": {},
   "outputs": [
    {
     "data": {
      "image/png": "[encoded data removed]",
      "text/plain": [
       "<Figure size 432x288 with 1 Axes>"
      ]
     },
     "metadata": {
      "needs_background": "light"
     },
     "output_type": "display_data"
    }
   ],
   "source": [
    "plt.figure()\n",
    "plt.hist(lens, bins=1000, range=(0, 9999), density=True)\n",
    "plt.show()"
   ]
  },
  {
   "cell_type": "code",
   "execution_count": null,
   "id": "b4be8908-ff92-444c-bdf4-ca8ffb8d2941",
   "metadata": {},
   "outputs": [],
   "source": []
  }
 ],
 "metadata": {
  "kernelspec": {
   "display_name": "Python 3",
   "language": "python",
   "name": "python3"
  },
  "language_info": {
   "codemirror_mode": {
    "name": "ipython",
    "version": 3
   },
   "file_extension": ".py",
   "mimetype": "text/x-python",
   "name": "python",
   "nbconvert_exporter": "python",
   "pygments_lexer": "ipython3",
   "version": "3.7.10"
  }
 },
 "nbformat": 4,
 "nbformat_minor": 5
}
