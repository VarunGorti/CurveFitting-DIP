{
 "cells": [
  {
   "cell_type": "markdown",
   "id": "d44f089b-f3f7-4a79-9782-da7ca07901d5",
   "metadata": {},
   "source": [
    "# imports and file locations"
   ]
  },
  {
   "cell_type": "code",
   "execution_count": 1,
   "id": "c93a7a75-269e-4bac-83b5-f1d37c577809",
   "metadata": {},
   "outputs": [],
   "source": [
    "import matplotlib.pyplot as plt\n",
    "%matplotlib inline\n",
    "\n",
    "import pandas as pd\n",
    "import numpy as np\n",
    "import os"
   ]
  },
  {
   "cell_type": "code",
   "execution_count": 2,
   "id": "c7e1f144-1537-43fe-b1a3-fed855ee34df",
   "metadata": {},
   "outputs": [],
   "source": [
    "data_dir = \"/scratch/04703/sravula/UTAFSDataNew/new_data\""
   ]
  },
  {
   "cell_type": "markdown",
   "id": "7fdeced0-c936-4f06-bfdf-5131ee2b391a",
   "metadata": {},
   "source": [
    "# Look at the directory structure"
   ]
  },
  {
   "cell_type": "code",
   "execution_count": 3,
   "id": "1e7aa844-a379-4bdd-bd8c-e395252a7270",
   "metadata": {},
   "outputs": [
    {
     "name": "stdout",
     "output_type": "stream",
     "text": [
      "62\n",
      "['case00', 'case01', 'case02', 'case03', 'case04', 'case05', 'case06', 'case07', 'case08', 'case09', 'case10', 'case11', 'case12', 'case13', 'case14', 'case15', 'case16', 'case17', 'case18', 'case19', 'case20', 'case21', 'case22', 'case23', 'case24', 'case25', 'case26', 'case27', 'case28', 'case29', 'case30', 'case31', 'case32', 'case33', 'case34', 'case35', 'case36', 'case37', 'case38', 'case39', 'case40', 'case41', 'case42', 'case43', 'case44', 'case45', 'case46', 'case47', 'case48', 'case49', 'case50', 'case51', 'case52', 'case53', 'case54', 'case55', 'case56', 'case57', 'case58', 'case59', 'case60', 'case61']\n"
     ]
    }
   ],
   "source": [
    "file_dirs = os.listdir(data_dir)\n",
    "file_dirs = [f for f in file_dirs if \"case\" in f]\n",
    "file_dirs.sort()\n",
    "print(len(file_dirs))\n",
    "print(file_dirs)"
   ]
  },
  {
   "cell_type": "code",
   "execution_count": 4,
   "id": "afbdb57f-5b36-473d-8531-cd36d3fe91f1",
   "metadata": {},
   "outputs": [
    {
     "name": "stdout",
     "output_type": "stream",
     "text": [
      "/scratch/04703/sravula/UTAFSDataNew/new_data/case03\n"
     ]
    }
   ],
   "source": [
    "fname = os.path.join(data_dir, file_dirs[3])\n",
    "print(fname)"
   ]
  },
  {
   "cell_type": "code",
   "execution_count": 5,
   "id": "daea4fab-2182-4831-94c8-86499cca5ef8",
   "metadata": {},
   "outputs": [
    {
     "name": "stdout",
     "output_type": "stream",
     "text": [
      "3\n"
     ]
    }
   ],
   "source": [
    "chip_num = int(fname.split(\"case\")[-1])\n",
    "print(chip_num)"
   ]
  },
  {
   "cell_type": "markdown",
   "id": "d8030421-5e14-4670-97d1-a356d80ea249",
   "metadata": {},
   "source": [
    "# Descriptions of files\n",
    "- caseID.HLAS.sNp – The result of our own adaptive frequency sweep and internal vector fit\n",
    "- SIEMENS_AFS_SAMPLE_POINTS.csv – The sample points chosen by our adaptive sweep\n",
    "- caseID.sNp – The Touchstone ground truth file\n",
    "- SIEMENS_AFS_SAMPLE_POINT_SIMULATIONS.sNp – This is just caseID.sNp sampled at the frequencies specified in SIEMENS_AFS_SAMPLE_POINTS.csv"
   ]
  },
  {
   "cell_type": "markdown",
   "id": "0c354ba7-836f-45b8-bcf2-bd5b7cfa90eb",
   "metadata": {},
   "source": [
    "# We want a function that will take int 0-61 and returns:\n",
    "- the fully-sampled S-parameters (ground truth)\n",
    "- the sample frequencies chosen by VF for the chip\n",
    "- VF output for the S-params  (x_hat_VF)"
   ]
  },
  {
   "cell_type": "markdown",
   "id": "37c6d727-6139-41a5-a462-4d8eba28f773",
   "metadata": {},
   "source": [
    "## 1. \"SIEMENS_AFS_SAMPLE_POINTS.csv\" - Given Fs"
   ]
  },
  {
   "cell_type": "code",
   "execution_count": 6,
   "id": "2ad560b8-4636-4871-9189-15dfff43d9cf",
   "metadata": {},
   "outputs": [],
   "source": [
    "given_sample_path = os.path.join(fname, 'SIEMENS_AFS_SAMPLE_POINTS.csv')\n",
    "df = pd.read_csv(given_sample_path, sep=',', header=None)"
   ]
  },
  {
   "cell_type": "code",
   "execution_count": 7,
   "id": "43238578-d4de-4e8a-a8f7-0666ec3a5927",
   "metadata": {},
   "outputs": [
    {
     "data": {
      "text/html": [
       "<div>\n",
       "<style scoped>\n",
       "    .dataframe tbody tr th:only-of-type {\n",
       "        vertical-align: middle;\n",
       "    }\n",
       "\n",
       "    .dataframe tbody tr th {\n",
       "        vertical-align: top;\n",
       "    }\n",
       "\n",
       "    .dataframe thead th {\n",
       "        text-align: right;\n",
       "    }\n",
       "</style>\n",
       "<table border=\"1\" class=\"dataframe\">\n",
       "  <thead>\n",
       "    <tr style=\"text-align: right;\">\n",
       "      <th></th>\n",
       "      <th>0</th>\n",
       "    </tr>\n",
       "  </thead>\n",
       "  <tbody>\n",
       "    <tr>\n",
       "      <th>0</th>\n",
       "      <td>0.000000e+00</td>\n",
       "    </tr>\n",
       "    <tr>\n",
       "      <th>1</th>\n",
       "      <td>1.000000e+04</td>\n",
       "    </tr>\n",
       "    <tr>\n",
       "      <th>2</th>\n",
       "      <td>8.181888e+04</td>\n",
       "    </tr>\n",
       "    <tr>\n",
       "      <th>3</th>\n",
       "      <td>6.694330e+05</td>\n",
       "    </tr>\n",
       "    <tr>\n",
       "      <th>4</th>\n",
       "      <td>5.477226e+06</td>\n",
       "    </tr>\n",
       "  </tbody>\n",
       "</table>\n",
       "</div>"
      ],
      "text/plain": [
       "              0\n",
       "0  0.000000e+00\n",
       "1  1.000000e+04\n",
       "2  8.181888e+04\n",
       "3  6.694330e+05\n",
       "4  5.477226e+06"
      ]
     },
     "execution_count": 7,
     "metadata": {},
     "output_type": "execute_result"
    }
   ],
   "source": [
    "df.head()"
   ]
  },
  {
   "cell_type": "code",
   "execution_count": 8,
   "id": "7a48a270-a93e-40d4-92ef-a104c39b1747",
   "metadata": {},
   "outputs": [
    {
     "name": "stdout",
     "output_type": "stream",
     "text": [
      "(13,)\n",
      "[0.0000000e+00 1.0000000e+04 8.1818883e+04 6.6943294e+05 5.4772255e+06\n",
      " 4.4814048e+07 3.6666352e+08 3.0000000e+09 6.3750001e+09 9.7499996e+09\n",
      " 1.6500000e+10 2.3250000e+10 3.0000001e+10]\n"
     ]
    }
   ],
   "source": [
    "given_samples = df[0].to_numpy().astype(np.float32).squeeze()\n",
    "\n",
    "print(given_samples.shape)\n",
    "print(given_samples)"
   ]
  },
  {
   "cell_type": "markdown",
   "id": "c41e65cc-38ad-4578-bd30-00a58ad8bd4c",
   "metadata": {},
   "source": [
    "## 2. \"caseID.sNp\" - Ground Truth S-parameters"
   ]
  },
  {
   "cell_type": "code",
   "execution_count": 9,
   "id": "f4a0eb60-4e10-4752-b470-bb670979e775",
   "metadata": {},
   "outputs": [
    {
     "name": "stdout",
     "output_type": "stream",
     "text": [
      "['case03.s4p']\n"
     ]
    }
   ],
   "source": [
    "children = os.listdir(fname)\n",
    "children = [f for f in children if str(chip_num)+\".s\" in f]\n",
    "\n",
    "if len(children) > 1:\n",
    "    print(\"ERROR: MORE THAN ONE GT FILE\")\n",
    "print(children)\n",
    "\n",
    "gt_path = os.path.join(fname, children[0])"
   ]
  },
  {
   "cell_type": "code",
   "execution_count": 10,
   "id": "de4e6afd-55e2-4395-bc43-2574e29caf70",
   "metadata": {},
   "outputs": [
    {
     "name": "stdout",
     "output_type": "stream",
     "text": [
      "4-Port Network: 'case03',  0.0-30000000000.0 Hz, 101 pts, z0=[50.+0.j 50.+0.j 50.+0.j 50.+0.j]\n"
     ]
    }
   ],
   "source": [
    "from skrf import Network, Frequency\n",
    "\n",
    "gt_network = Network(gt_path)\n",
    "\n",
    "print(gt_network)"
   ]
  },
  {
   "cell_type": "code",
   "execution_count": 11,
   "id": "d93f919a-394d-421e-8c1c-02a12e4b51f6",
   "metadata": {},
   "outputs": [
    {
     "name": "stdout",
     "output_type": "stream",
     "text": [
      "[0.00000000e+00 1.00000000e+04 3.03040202e+08 6.06070404e+08\n",
      " 9.09100606e+08 1.21213081e+09 1.51516101e+09 1.81819121e+09\n",
      " 2.12122141e+09 2.42425162e+09 2.72728182e+09 3.03031202e+09\n",
      " 3.33334222e+09 3.63637242e+09 3.93940263e+09 4.24243283e+09\n",
      " 4.54546303e+09 4.84849323e+09 5.15152343e+09 5.45455364e+09\n",
      " 5.75758384e+09 6.06061404e+09 6.36364424e+09 6.66667444e+09\n",
      " 6.96970465e+09 7.27273485e+09 7.57576505e+09 7.87879525e+09\n",
      " 8.18182545e+09 8.48485566e+09 8.78788586e+09 9.09091606e+09\n",
      " 9.39394626e+09 9.69697646e+09 1.00000067e+10 1.03030369e+10\n",
      " 1.06060671e+10 1.09090973e+10 1.12121275e+10 1.15151577e+10\n",
      " 1.18181879e+10 1.21212181e+10 1.24242483e+10 1.27272785e+10\n",
      " 1.30303087e+10 1.33333389e+10 1.36363691e+10 1.39393993e+10\n",
      " 1.42424295e+10 1.45454597e+10 1.48484899e+10 1.51515201e+10\n",
      " 1.54545503e+10 1.57575805e+10 1.60606107e+10 1.63636409e+10\n",
      " 1.66666711e+10 1.69697013e+10 1.72727315e+10 1.75757617e+10\n",
      " 1.78787919e+10 1.81818221e+10 1.84848523e+10 1.87878825e+10\n",
      " 1.90909127e+10 1.93939429e+10 1.96969731e+10 2.00000033e+10\n",
      " 2.03030335e+10 2.06060637e+10 2.09090939e+10 2.12121241e+10\n",
      " 2.15151543e+10 2.18181845e+10 2.21212147e+10 2.24242449e+10\n",
      " 2.27272752e+10 2.30303054e+10 2.33333356e+10 2.36363658e+10\n",
      " 2.39393960e+10 2.42424262e+10 2.45454564e+10 2.48484866e+10\n",
      " 2.51515168e+10 2.54545470e+10 2.57575772e+10 2.60606074e+10\n",
      " 2.63636376e+10 2.66666678e+10 2.69696980e+10 2.72727282e+10\n",
      " 2.75757584e+10 2.78787886e+10 2.81818188e+10 2.84848490e+10\n",
      " 2.87878792e+10 2.90909094e+10 2.93939396e+10 2.96969698e+10\n",
      " 3.00000000e+10]\n"
     ]
    }
   ],
   "source": [
    "print(gt_network.f)"
   ]
  },
  {
   "cell_type": "code",
   "execution_count": 12,
   "id": "e883e8a8-dad8-4712-94bf-699aa13c4653",
   "metadata": {},
   "outputs": [
    {
     "name": "stdout",
     "output_type": "stream",
     "text": [
      "(101, 4, 4, 2)\n",
      "float32\n",
      "(101,)\n",
      "float32\n"
     ]
    }
   ],
   "source": [
    "gt_matrix_re = gt_network.s.real.astype(np.float32)\n",
    "gt_matrix_im = gt_network.s.imag.astype(np.float32)\n",
    "gt_matrix = np.stack((gt_matrix_re, gt_matrix_im), axis=-1)\n",
    "\n",
    "gt_freqs = gt_network.f.astype(np.float32).squeeze()\n",
    "\n",
    "print(gt_matrix.shape)\n",
    "print(gt_matrix.dtype)\n",
    "\n",
    "print(gt_freqs.shape)\n",
    "print(gt_freqs.dtype)"
   ]
  },
  {
   "cell_type": "markdown",
   "id": "5d5cf17d-ea74-462e-9b7c-e70331cc3ca9",
   "metadata": {},
   "source": [
    "## 3. \"caseID.HLAS.sNp\" - VF output"
   ]
  },
  {
   "cell_type": "code",
   "execution_count": 13,
   "id": "aade448c-566c-4ff6-92d4-757527348439",
   "metadata": {},
   "outputs": [
    {
     "name": "stdout",
     "output_type": "stream",
     "text": [
      "['case03.HLAS.s4p']\n"
     ]
    }
   ],
   "source": [
    "children = os.listdir(fname)\n",
    "children = [f for f in children if str(chip_num)+\".HLAS.s\" in f]\n",
    "\n",
    "if len(children) > 1:\n",
    "    print(\"ERROR: MORE THAN ONE VF FILE\")\n",
    "print(children)\n",
    "\n",
    "vf_path = os.path.join(fname, children[0])"
   ]
  },
  {
   "cell_type": "code",
   "execution_count": 14,
   "id": "eb7b6c75-871e-4a0b-a83d-ae15e00df632",
   "metadata": {},
   "outputs": [
    {
     "name": "stdout",
     "output_type": "stream",
     "text": [
      "4-Port Network: 'case03.HLAS',  0.0-30000000000.0 Hz, 101 pts, z0=[50.+0.j 50.+0.j 50.+0.j 50.+0.j]\n"
     ]
    }
   ],
   "source": [
    "vf_network = Network(vf_path)\n",
    "\n",
    "print(vf_network)"
   ]
  },
  {
   "cell_type": "code",
   "execution_count": 15,
   "id": "3968f8f5-d623-4271-9cbc-1a6b9f1584bf",
   "metadata": {},
   "outputs": [
    {
     "name": "stdout",
     "output_type": "stream",
     "text": [
      "[0.00000e+00 1.00000e+04 3.03040e+08 6.06070e+08 9.09101e+08 1.21213e+09\n",
      " 1.51516e+09 1.81819e+09 2.12122e+09 2.42425e+09 2.72728e+09 3.03031e+09\n",
      " 3.33334e+09 3.63637e+09 3.93940e+09 4.24243e+09 4.54546e+09 4.84849e+09\n",
      " 5.15152e+09 5.45455e+09 5.75758e+09 6.06061e+09 6.36364e+09 6.66667e+09\n",
      " 6.96970e+09 7.27273e+09 7.57577e+09 7.87880e+09 8.18183e+09 8.48486e+09\n",
      " 8.78789e+09 9.09092e+09 9.39395e+09 9.69698e+09 1.00000e+10 1.03030e+10\n",
      " 1.06061e+10 1.09091e+10 1.12121e+10 1.15152e+10 1.18182e+10 1.21212e+10\n",
      " 1.24242e+10 1.27273e+10 1.30303e+10 1.33333e+10 1.36364e+10 1.39394e+10\n",
      " 1.42424e+10 1.45455e+10 1.48485e+10 1.51515e+10 1.54546e+10 1.57576e+10\n",
      " 1.60606e+10 1.63636e+10 1.66667e+10 1.69697e+10 1.72727e+10 1.75758e+10\n",
      " 1.78788e+10 1.81818e+10 1.84849e+10 1.87879e+10 1.90909e+10 1.93939e+10\n",
      " 1.96970e+10 2.00000e+10 2.03030e+10 2.06061e+10 2.09091e+10 2.12121e+10\n",
      " 2.15152e+10 2.18182e+10 2.21212e+10 2.24242e+10 2.27273e+10 2.30303e+10\n",
      " 2.33333e+10 2.36364e+10 2.39394e+10 2.42424e+10 2.45455e+10 2.48485e+10\n",
      " 2.51515e+10 2.54545e+10 2.57576e+10 2.60606e+10 2.63636e+10 2.66667e+10\n",
      " 2.69697e+10 2.72727e+10 2.75758e+10 2.78788e+10 2.81818e+10 2.84848e+10\n",
      " 2.87879e+10 2.90909e+10 2.93939e+10 2.96970e+10 3.00000e+10]\n"
     ]
    }
   ],
   "source": [
    "print(vf_network.f)"
   ]
  },
  {
   "cell_type": "code",
   "execution_count": 16,
   "id": "36f8db90-8ded-4533-a60d-7d351cebd1ce",
   "metadata": {},
   "outputs": [
    {
     "name": "stdout",
     "output_type": "stream",
     "text": [
      "(101, 4, 4, 2)\n",
      "float32\n",
      "(101,)\n",
      "float32\n"
     ]
    }
   ],
   "source": [
    "vf_matrix_re = vf_network.s.real.astype(np.float32)\n",
    "vf_matrix_im = vf_network.s.imag.astype(np.float32)\n",
    "vf_matrix = np.stack((vf_matrix_re, vf_matrix_im), axis=-1)\n",
    "\n",
    "vf_freqs = vf_network.f.astype(np.float32).squeeze()\n",
    "\n",
    "print(vf_matrix.shape)\n",
    "print(vf_matrix.dtype)\n",
    "\n",
    "print(vf_freqs.shape)\n",
    "print(vf_freqs.dtype)"
   ]
  },
  {
   "cell_type": "markdown",
   "id": "d5d4c363-a04a-4407-96bf-e346735dffc8",
   "metadata": {},
   "source": [
    "## 4. \"SIEMENS_AFS_SAMPLE_POINT_SIMULATIONS.sNp\" - GT sampled at the given Fs"
   ]
  },
  {
   "cell_type": "code",
   "execution_count": 17,
   "id": "6cc4cbf0-8223-440d-9a27-5241fe807856",
   "metadata": {},
   "outputs": [
    {
     "name": "stdout",
     "output_type": "stream",
     "text": [
      "['SIEMENS_AFS_SAMPLE_POINT_SIMULATIONS.s4p']\n"
     ]
    }
   ],
   "source": [
    "children = os.listdir(fname)\n",
    "children = [f for f in children if \"SIEMENS_AFS_SAMPLE_POINT_SIMULATIONS.s\" in f]\n",
    "\n",
    "if len(children) > 1:\n",
    "    print(\"ERROR: MORE THAN ONE SAMPLED GT FILE\")\n",
    "print(children)\n",
    "\n",
    "y_path = os.path.join(fname, children[0])"
   ]
  },
  {
   "cell_type": "code",
   "execution_count": 18,
   "id": "a1f36038-288d-49c1-9a14-80dd8f7c585c",
   "metadata": {},
   "outputs": [
    {
     "name": "stdout",
     "output_type": "stream",
     "text": [
      "4-Port Network: 'SIEMENS_AFS_SAMPLE_POINT_SIMULATIONS',  0.0-30000000000.0 Hz, 13 pts, z0=[50.+0.j 50.+0.j 50.+0.j 50.+0.j]\n"
     ]
    }
   ],
   "source": [
    "y_network = Network(y_path)\n",
    "\n",
    "print(y_network)"
   ]
  },
  {
   "cell_type": "code",
   "execution_count": 19,
   "id": "dd360433-2155-4d52-afae-254d414b7c92",
   "metadata": {},
   "outputs": [
    {
     "name": "stdout",
     "output_type": "stream",
     "text": [
      "[0.00000000e+00 1.00000000e+04 8.18188823e+04 6.69432950e+05\n",
      " 5.47722558e+06 4.48140475e+07 3.66663528e+08 3.00000000e+09\n",
      " 6.37500000e+09 9.75000000e+09 1.65000000e+10 2.32500000e+10\n",
      " 3.00000000e+10]\n"
     ]
    }
   ],
   "source": [
    "print(y_network.f)"
   ]
  },
  {
   "cell_type": "code",
   "execution_count": 20,
   "id": "3c7018a0-de73-4398-9ba8-a347aaa117b4",
   "metadata": {},
   "outputs": [
    {
     "name": "stdout",
     "output_type": "stream",
     "text": [
      "(13, 4, 4, 2)\n",
      "float32\n",
      "(13,)\n",
      "float32\n"
     ]
    }
   ],
   "source": [
    "y_matrix_re = y_network.s.real.astype(np.float32)\n",
    "y_matrix_im = y_network.s.imag.astype(np.float32)\n",
    "y_matrix = np.stack((y_matrix_re, y_matrix_im), axis=-1)\n",
    "\n",
    "y_freqs = y_network.f.astype(np.float32).squeeze()\n",
    "\n",
    "print(y_matrix.shape)\n",
    "print(y_matrix.dtype)\n",
    "\n",
    "print(y_freqs.shape)\n",
    "print(y_freqs.dtype)"
   ]
  },
  {
   "cell_type": "markdown",
   "id": "a1eece9a-c5cb-4c78-9786-8081385e459c",
   "metadata": {},
   "source": [
    "## Now compare the plots"
   ]
  },
  {
   "cell_type": "code",
   "execution_count": 21,
   "id": "9c7e5faa-674a-49f3-81cb-880b0f49f864",
   "metadata": {},
   "outputs": [
    {
     "name": "stdout",
     "output_type": "stream",
     "text": [
      "[[0.+0.j 0.+0.j 0.+0.j 0.+0.j]\n",
      " [0.+0.j 0.+0.j 0.+0.j 0.+0.j]\n",
      " [0.+0.j 0.+0.j 0.+0.j 0.+0.j]\n",
      " [0.+0.j 0.+0.j 0.+0.j 0.+0.j]]\n",
      "[[0.+0.j 0.+0.j 0.+0.j 0.+0.j]\n",
      " [0.+0.j 0.+0.j 0.+0.j 0.+0.j]\n",
      " [0.+0.j 0.+0.j 0.+0.j 0.+0.j]\n",
      " [0.+0.j 0.+0.j 0.+0.j 0.+0.j]]\n",
      "[[-7.37871002e-03-0.01886208j  8.70045948e-03+0.0701633j\n",
      "  -8.50099153e-05-0.00043066j  6.92164850e-05+0.00012099j]\n",
      " [ 8.70045948e-03+0.0701633j  -7.37961983e-03-0.01886648j\n",
      "   6.92164835e-05+0.00012099j -8.41000030e-05-0.00042627j]\n",
      " [-8.50099153e-05-0.00043066j  6.92164835e-05+0.00012099j\n",
      "  -7.37872657e-03-0.0188621j   8.70046148e-03+0.07016331j]\n",
      " [ 6.92164850e-05+0.00012099j -8.41000030e-05-0.00042627j\n",
      "   8.70046148e-03+0.07016331j -7.37963672e-03-0.0188665j ]]\n"
     ]
    }
   ],
   "source": [
    "diff_0 = y_network.s[0] - gt_network.s[0]\n",
    "diff_1 = y_network.s[1] - gt_network.s[1]\n",
    "diff_2 = y_network.s[2] - gt_network.s[2]\n",
    "\n",
    "print(diff_0)\n",
    "print(diff_1)\n",
    "print(diff_2)"
   ]
  },
  {
   "cell_type": "code",
   "execution_count": 22,
   "id": "5262fc8b-ea46-482f-bf14-52c60c8a7a0e",
   "metadata": {},
   "outputs": [
    {
     "name": "stderr",
     "output_type": "stream",
     "text": [
      "No handles with labels found to put in legend.\n",
      "No handles with labels found to put in legend.\n",
      "No handles with labels found to put in legend.\n",
      "No handles with labels found to put in legend.\n",
      "No handles with labels found to put in legend.\n",
      "No handles with labels found to put in legend.\n",
      "No handles with labels found to put in legend.\n",
      "No handles with labels found to put in legend.\n",
      "No handles with labels found to put in legend.\n",
      "No handles with labels found to put in legend.\n",
      "No handles with labels found to put in legend.\n",
      "No handles with labels found to put in legend.\n",
      "No handles with labels found to put in legend.\n",
      "No handles with labels found to put in legend.\n",
      "No handles with labels found to put in legend.\n",
      "No handles with labels found to put in legend.\n"
     ]
    },
    {
     "data": {
      "image/png": "[encoded data removed]",
      "text/plain": [
       "<Figure size 432x288 with 1 Axes>"
      ]
     },
     "metadata": {
      "needs_background": "light"
     },
     "output_type": "display_data"
    }
   ],
   "source": [
    "plt.title('GT S-Params')\n",
    "gt_network.plot_s_db(label=\"\")"
   ]
  },
  {
   "cell_type": "code",
   "execution_count": 23,
   "id": "4da6953b-394f-4c47-97a6-c0b11dceb63b",
   "metadata": {},
   "outputs": [
    {
     "name": "stderr",
     "output_type": "stream",
     "text": [
      "No handles with labels found to put in legend.\n",
      "No handles with labels found to put in legend.\n",
      "No handles with labels found to put in legend.\n",
      "No handles with labels found to put in legend.\n",
      "No handles with labels found to put in legend.\n",
      "No handles with labels found to put in legend.\n",
      "No handles with labels found to put in legend.\n",
      "No handles with labels found to put in legend.\n",
      "No handles with labels found to put in legend.\n",
      "No handles with labels found to put in legend.\n",
      "No handles with labels found to put in legend.\n",
      "No handles with labels found to put in legend.\n",
      "No handles with labels found to put in legend.\n",
      "No handles with labels found to put in legend.\n",
      "No handles with labels found to put in legend.\n",
      "No handles with labels found to put in legend.\n"
     ]
    },
    {
     "data": {
      "image/png": "[encoded data removed]",
      "text/plain": [
       "<Figure size 432x288 with 1 Axes>"
      ]
     },
     "metadata": {
      "needs_background": "light"
     },
     "output_type": "display_data"
    }
   ],
   "source": [
    "plt.title('VF S-Params')\n",
    "vf_network.plot_s_db(label=\"\")"
   ]
  },
  {
   "cell_type": "code",
   "execution_count": 24,
   "id": "f209f2ac-7ed3-4578-9f0e-02b45004083a",
   "metadata": {},
   "outputs": [
    {
     "name": "stderr",
     "output_type": "stream",
     "text": [
      "No handles with labels found to put in legend.\n",
      "No handles with labels found to put in legend.\n",
      "No handles with labels found to put in legend.\n",
      "No handles with labels found to put in legend.\n",
      "No handles with labels found to put in legend.\n",
      "No handles with labels found to put in legend.\n",
      "No handles with labels found to put in legend.\n",
      "No handles with labels found to put in legend.\n",
      "No handles with labels found to put in legend.\n",
      "No handles with labels found to put in legend.\n",
      "No handles with labels found to put in legend.\n",
      "No handles with labels found to put in legend.\n",
      "No handles with labels found to put in legend.\n",
      "No handles with labels found to put in legend.\n",
      "No handles with labels found to put in legend.\n",
      "No handles with labels found to put in legend.\n"
     ]
    },
    {
     "data": {
      "image/png": "[encoded data removed]",
      "text/plain": [
       "<Figure size 432x288 with 1 Axes>"
      ]
     },
     "metadata": {
      "needs_background": "light"
     },
     "output_type": "display_data"
    }
   ],
   "source": [
    "plt.title('SAMPLED S-Params')\n",
    "y_network.plot_s_db(label=\"\")"
   ]
  },
  {
   "cell_type": "markdown",
   "id": "42030e2f-1453-4099-a9cb-9a35d8806baa",
   "metadata": {},
   "source": [
    "## Try to interpolate the network and see what happens"
   ]
  },
  {
   "cell_type": "code",
   "execution_count": 25,
   "id": "4312496e-8ca8-4a20-a03c-c25d77446d8f",
   "metadata": {},
   "outputs": [
    {
     "name": "stdout",
     "output_type": "stream",
     "text": [
      "4-Port Network: 'case03',  0.0-30000000000.0 Hz, 101 pts, z0=[50.+0.j 50.+0.j 50.+0.j 50.+0.j]\n"
     ]
    }
   ],
   "source": [
    "print(gt_network)"
   ]
  },
  {
   "cell_type": "code",
   "execution_count": 26,
   "id": "02740ec0-67a6-442f-aa62-e7d157d3ef55",
   "metadata": {},
   "outputs": [],
   "source": [
    "import copy\n",
    "\n",
    "old_net = copy.deepcopy(gt_network)"
   ]
  },
  {
   "cell_type": "code",
   "execution_count": 27,
   "id": "63cffa11-3f44-4d32-930c-c744895e34dc",
   "metadata": {},
   "outputs": [],
   "source": [
    "gt_network.resample(128)"
   ]
  },
  {
   "cell_type": "code",
   "execution_count": 28,
   "id": "93e7b105-05b8-4cd7-af57-a4671008dc30",
   "metadata": {},
   "outputs": [],
   "source": [
    "new_net = copy.deepcopy(gt_network)"
   ]
  },
  {
   "cell_type": "code",
   "execution_count": 29,
   "id": "4799b647-58aa-49eb-8591-97c5e7bd86ea",
   "metadata": {},
   "outputs": [
    {
     "name": "stderr",
     "output_type": "stream",
     "text": [
      "No handles with labels found to put in legend.\n",
      "No handles with labels found to put in legend.\n",
      "No handles with labels found to put in legend.\n",
      "No handles with labels found to put in legend.\n",
      "No handles with labels found to put in legend.\n",
      "No handles with labels found to put in legend.\n",
      "No handles with labels found to put in legend.\n",
      "No handles with labels found to put in legend.\n",
      "No handles with labels found to put in legend.\n",
      "No handles with labels found to put in legend.\n",
      "No handles with labels found to put in legend.\n",
      "No handles with labels found to put in legend.\n",
      "No handles with labels found to put in legend.\n",
      "No handles with labels found to put in legend.\n",
      "No handles with labels found to put in legend.\n",
      "No handles with labels found to put in legend.\n"
     ]
    },
    {
     "data": {
      "image/png": "[encoded data removed]",
      "text/plain": [
       "<Figure size 432x288 with 1 Axes>"
      ]
     },
     "metadata": {
      "needs_background": "light"
     },
     "output_type": "display_data"
    }
   ],
   "source": [
    "plt.title('Old Net')\n",
    "old_net.plot_s_db(label=\"\")"
   ]
  },
  {
   "cell_type": "code",
   "execution_count": 30,
   "id": "e115a011-8ffd-425e-9428-e0b4b66fe42b",
   "metadata": {},
   "outputs": [
    {
     "name": "stderr",
     "output_type": "stream",
     "text": [
      "No handles with labels found to put in legend.\n",
      "No handles with labels found to put in legend.\n",
      "No handles with labels found to put in legend.\n",
      "No handles with labels found to put in legend.\n",
      "No handles with labels found to put in legend.\n",
      "No handles with labels found to put in legend.\n",
      "No handles with labels found to put in legend.\n",
      "No handles with labels found to put in legend.\n",
      "No handles with labels found to put in legend.\n",
      "No handles with labels found to put in legend.\n",
      "No handles with labels found to put in legend.\n",
      "No handles with labels found to put in legend.\n",
      "No handles with labels found to put in legend.\n",
      "No handles with labels found to put in legend.\n",
      "No handles with labels found to put in legend.\n",
      "No handles with labels found to put in legend.\n"
     ]
    },
    {
     "data": {
      "image/png": "[encoded data removed]",
      "text/plain": [
       "<Figure size 432x288 with 1 Axes>"
      ]
     },
     "metadata": {
      "needs_background": "light"
     },
     "output_type": "display_data"
    }
   ],
   "source": [
    "plt.title('Old Net')\n",
    "old_net.plot_s_db(label=\"\")"
   ]
  },
  {
   "cell_type": "code",
   "execution_count": 31,
   "id": "a4068d70-6ec3-45a2-879f-d3b769ce8dbb",
   "metadata": {},
   "outputs": [],
   "source": [
    "overlap_inds = []\n",
    "\n",
    "for i, f_old in enumerate(old_net.f):\n",
    "    for j, f_new in enumerate(new_net.f):\n",
    "        if f_old == f_new:\n",
    "            overlap_inds.append((f_old, f_new))"
   ]
  },
  {
   "cell_type": "code",
   "execution_count": 32,
   "id": "8c49e937-2b09-4491-9bb0-86c14b727b46",
   "metadata": {},
   "outputs": [
    {
     "name": "stdout",
     "output_type": "stream",
     "text": [
      "2\n"
     ]
    }
   ],
   "source": [
    "print(len(overlap_inds))"
   ]
  },
  {
   "cell_type": "code",
   "execution_count": 33,
   "id": "6dcc18a6-07e3-443b-91f8-15fb844e8d61",
   "metadata": {},
   "outputs": [
    {
     "name": "stdout",
     "output_type": "stream",
     "text": [
      "[0.00000000e+00 1.00000000e+04 3.03040202e+08 6.06070404e+08\n",
      " 9.09100606e+08 1.21213081e+09 1.51516101e+09 1.81819121e+09\n",
      " 2.12122141e+09 2.42425162e+09 2.72728182e+09 3.03031202e+09\n",
      " 3.33334222e+09 3.63637242e+09 3.93940263e+09 4.24243283e+09\n",
      " 4.54546303e+09 4.84849323e+09 5.15152343e+09 5.45455364e+09\n",
      " 5.75758384e+09 6.06061404e+09 6.36364424e+09 6.66667444e+09\n",
      " 6.96970465e+09 7.27273485e+09 7.57576505e+09 7.87879525e+09\n",
      " 8.18182545e+09 8.48485566e+09 8.78788586e+09 9.09091606e+09\n",
      " 9.39394626e+09 9.69697646e+09 1.00000067e+10 1.03030369e+10\n",
      " 1.06060671e+10 1.09090973e+10 1.12121275e+10 1.15151577e+10\n",
      " 1.18181879e+10 1.21212181e+10 1.24242483e+10 1.27272785e+10\n",
      " 1.30303087e+10 1.33333389e+10 1.36363691e+10 1.39393993e+10\n",
      " 1.42424295e+10 1.45454597e+10 1.48484899e+10 1.51515201e+10\n",
      " 1.54545503e+10 1.57575805e+10 1.60606107e+10 1.63636409e+10\n",
      " 1.66666711e+10 1.69697013e+10 1.72727315e+10 1.75757617e+10\n",
      " 1.78787919e+10 1.81818221e+10 1.84848523e+10 1.87878825e+10\n",
      " 1.90909127e+10 1.93939429e+10 1.96969731e+10 2.00000033e+10\n",
      " 2.03030335e+10 2.06060637e+10 2.09090939e+10 2.12121241e+10\n",
      " 2.15151543e+10 2.18181845e+10 2.21212147e+10 2.24242449e+10\n",
      " 2.27272752e+10 2.30303054e+10 2.33333356e+10 2.36363658e+10\n",
      " 2.39393960e+10 2.42424262e+10 2.45454564e+10 2.48484866e+10\n",
      " 2.51515168e+10 2.54545470e+10 2.57575772e+10 2.60606074e+10\n",
      " 2.63636376e+10 2.66666678e+10 2.69696980e+10 2.72727282e+10\n",
      " 2.75757584e+10 2.78787886e+10 2.81818188e+10 2.84848490e+10\n",
      " 2.87878792e+10 2.90909094e+10 2.93939396e+10 2.96969698e+10\n",
      " 3.00000000e+10]\n"
     ]
    }
   ],
   "source": [
    "print(old_net.f)"
   ]
  },
  {
   "cell_type": "code",
   "execution_count": 34,
   "id": "cab366c6-5089-4570-8595-50371a4210f0",
   "metadata": {},
   "outputs": [
    {
     "name": "stdout",
     "output_type": "stream",
     "text": [
      "[0.00000000e+00 2.36220472e+08 4.72440945e+08 7.08661417e+08\n",
      " 9.44881890e+08 1.18110236e+09 1.41732283e+09 1.65354331e+09\n",
      " 1.88976378e+09 2.12598425e+09 2.36220472e+09 2.59842520e+09\n",
      " 2.83464567e+09 3.07086614e+09 3.30708661e+09 3.54330709e+09\n",
      " 3.77952756e+09 4.01574803e+09 4.25196850e+09 4.48818898e+09\n",
      " 4.72440945e+09 4.96062992e+09 5.19685039e+09 5.43307087e+09\n",
      " 5.66929134e+09 5.90551181e+09 6.14173228e+09 6.37795276e+09\n",
      " 6.61417323e+09 6.85039370e+09 7.08661417e+09 7.32283465e+09\n",
      " 7.55905512e+09 7.79527559e+09 8.03149606e+09 8.26771654e+09\n",
      " 8.50393701e+09 8.74015748e+09 8.97637795e+09 9.21259843e+09\n",
      " 9.44881890e+09 9.68503937e+09 9.92125984e+09 1.01574803e+10\n",
      " 1.03937008e+10 1.06299213e+10 1.08661417e+10 1.11023622e+10\n",
      " 1.13385827e+10 1.15748031e+10 1.18110236e+10 1.20472441e+10\n",
      " 1.22834646e+10 1.25196850e+10 1.27559055e+10 1.29921260e+10\n",
      " 1.32283465e+10 1.34645669e+10 1.37007874e+10 1.39370079e+10\n",
      " 1.41732283e+10 1.44094488e+10 1.46456693e+10 1.48818898e+10\n",
      " 1.51181102e+10 1.53543307e+10 1.55905512e+10 1.58267717e+10\n",
      " 1.60629921e+10 1.62992126e+10 1.65354331e+10 1.67716535e+10\n",
      " 1.70078740e+10 1.72440945e+10 1.74803150e+10 1.77165354e+10\n",
      " 1.79527559e+10 1.81889764e+10 1.84251969e+10 1.86614173e+10\n",
      " 1.88976378e+10 1.91338583e+10 1.93700787e+10 1.96062992e+10\n",
      " 1.98425197e+10 2.00787402e+10 2.03149606e+10 2.05511811e+10\n",
      " 2.07874016e+10 2.10236220e+10 2.12598425e+10 2.14960630e+10\n",
      " 2.17322835e+10 2.19685039e+10 2.22047244e+10 2.24409449e+10\n",
      " 2.26771654e+10 2.29133858e+10 2.31496063e+10 2.33858268e+10\n",
      " 2.36220472e+10 2.38582677e+10 2.40944882e+10 2.43307087e+10\n",
      " 2.45669291e+10 2.48031496e+10 2.50393701e+10 2.52755906e+10\n",
      " 2.55118110e+10 2.57480315e+10 2.59842520e+10 2.62204724e+10\n",
      " 2.64566929e+10 2.66929134e+10 2.69291339e+10 2.71653543e+10\n",
      " 2.74015748e+10 2.76377953e+10 2.78740157e+10 2.81102362e+10\n",
      " 2.83464567e+10 2.85826772e+10 2.88188976e+10 2.90551181e+10\n",
      " 2.92913386e+10 2.95275591e+10 2.97637795e+10 3.00000000e+10]\n"
     ]
    }
   ],
   "source": [
    "print(new_net.f)"
   ]
  },
  {
   "cell_type": "code",
   "execution_count": 35,
   "id": "5685c8bf-c27c-4cb2-a974-57c5ef62ff6f",
   "metadata": {},
   "outputs": [],
   "source": [
    "gt_network.resample(old_net.f / 1e9)"
   ]
  },
  {
   "cell_type": "code",
   "execution_count": 36,
   "id": "decebb99-ef84-4fbd-b912-f132fb0775b8",
   "metadata": {},
   "outputs": [
    {
     "data": {
      "text/plain": [
       "4-Port Network: 'case03',  0.0-30.0 GHz, 101 pts, z0=[50.+0.j 50.+0.j 50.+0.j 50.+0.j]"
      ]
     },
     "execution_count": 36,
     "metadata": {},
     "output_type": "execute_result"
    }
   ],
   "source": [
    "gt_network"
   ]
  },
  {
   "cell_type": "code",
   "execution_count": 37,
   "id": "b4d71dce-2cfc-4bb1-a2c8-ef50aa981935",
   "metadata": {},
   "outputs": [
    {
     "name": "stdout",
     "output_type": "stream",
     "text": [
      "9.018029694098703e-08\n"
     ]
    }
   ],
   "source": [
    "diff = gt_network.s - old_net.s\n",
    "sq_diff = np.square(np.abs(diff))\n",
    "mse = np.mean(sq_diff)\n",
    "print(mse)"
   ]
  },
  {
   "cell_type": "code",
   "execution_count": 38,
   "id": "8520cbf8-3c27-4c48-a165-58424911582e",
   "metadata": {},
   "outputs": [
    {
     "name": "stdout",
     "output_type": "stream",
     "text": [
      "101\n"
     ]
    }
   ],
   "source": [
    "print(len(gt_network.f))"
   ]
  },
  {
   "cell_type": "code",
   "execution_count": null,
   "id": "f1de1e12-29fe-4719-bdeb-be0ed26f9791",
   "metadata": {},
   "outputs": [],
   "source": []
  }
 ],
 "metadata": {
  "kernelspec": {
   "display_name": "Python 3 (ipykernel)",
   "language": "python",
   "name": "python3"
  },
  "language_info": {
   "codemirror_mode": {
    "name": "ipython",
    "version": 3
   },
   "file_extension": ".py",
   "mimetype": "text/x-python",
   "name": "python",
   "nbconvert_exporter": "python",
   "pygments_lexer": "ipython3",
   "version": "3.9.13"
  }
 },
 "nbformat": 4,
 "nbformat_minor": 5
}
