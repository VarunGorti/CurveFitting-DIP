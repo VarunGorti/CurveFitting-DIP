{
 "cells": [
  {
   "cell_type": "code",
   "execution_count": 1,
   "id": "9ac04688-ddde-43d1-9773-0f018a8fbcce",
   "metadata": {},
   "outputs": [
    {
     "name": "stderr",
     "output_type": "stream",
     "text": [
      "/work2/04703/sravula/frontera/miniconda3/envs/basic/lib/python3.9/site-packages/tqdm/auto.py:22: TqdmWarning: IProgress not found. Please update jupyter and ipywidgets. See https://ipywidgets.readthedocs.io/en/stable/user_install.html\n",
      "  from .autonotebook import tqdm as notebook_tqdm\n"
     ]
    }
   ],
   "source": [
    "import torch\n",
    "import random\n",
    "import numpy as np\n",
    "\n",
    "import matplotlib.pyplot as plt\n",
    "%matplotlib inline\n",
    "\n",
    "import torch.nn as nn\n",
    "import torch.nn.functional as F\n",
    "\n",
    "import math\n",
    "import time\n",
    "\n",
    "import utils\n",
    "\n",
    "from skimage.metrics import peak_signal_noise_ratio as psnr"
   ]
  },
  {
   "cell_type": "markdown",
   "id": "686c3e2d-3e55-43e5-80bd-0a09efa16f7a",
   "metadata": {
    "tags": []
   },
   "source": [
    "# Load the data"
   ]
  },
  {
   "cell_type": "code",
   "execution_count": 2,
   "id": "a1a61993-78a0-46bc-95f0-98e664d96e13",
   "metadata": {},
   "outputs": [],
   "source": [
    "root_path = \"/scratch1/04703/sravula/UTAFSDataNew/new_data\""
   ]
  },
  {
   "cell_type": "code",
   "execution_count": 3,
   "id": "4012a75f-17ef-4ec7-a038-965a4b38989c",
   "metadata": {},
   "outputs": [
    {
     "name": "stdout",
     "output_type": "stream",
     "text": [
      "CHIP 9 PSNR:  35.78918135491242\n",
      "(10, 2, 1000)\n",
      "\n",
      "CHIP 21 PSNR:  13.194919859175645\n",
      "(3, 2, 600)\n",
      "\n",
      "CHIP 29 PSNR:  31.399290318889122\n",
      "(136, 2, 7000)\n",
      "\n",
      "CHIP 38 PSNR:  30.447653579131963\n",
      "(136, 2, 9999)\n",
      "\n",
      "CHIP 49 PSNR:  39.91947346331352\n",
      "(78, 2, 9999)\n",
      "\n",
      "CHIP 50 PSNR:  29.303218944867844\n",
      "(78, 2, 9999)\n",
      "\n",
      "CHIP 61 PSNR:  37.68100684681782\n",
      "(78, 2, 2000)\n",
      "\n"
     ]
    }
   ],
   "source": [
    "for chip_num in range(62):\n",
    "\n",
    "    data_dict = utils.grab_chip_data(root_path, chip_num, resample=False)\n",
    "    \n",
    "    vf_data = utils.matrix_to_sparams(data_dict['vf_matrix'])\n",
    "    gt_data = utils.matrix_to_sparams(data_dict['gt_matrix'])\n",
    "    \n",
    "    psnr_vf = psnr(gt_data, vf_data)\n",
    "    \n",
    "    if psnr_vf < 40:\n",
    "        print(\"CHIP \" + str(chip_num) + \" PSNR: \", psnr_vf)\n",
    "        print(vf_data.shape)\n",
    "        print()"
   ]
  },
  {
   "cell_type": "markdown",
   "id": "835e39e2-67b6-4c2b-8587-c5b9fc4687c9",
   "metadata": {},
   "source": [
    "## Plot the S-parameters"
   ]
  },
  {
   "cell_type": "code",
   "execution_count": null,
   "id": "05d14c7b-77d5-4d8a-b694-d9febfa0423a",
   "metadata": {},
   "outputs": [],
   "source": [
    "dip = \"/scratch1/04703/sravula/SRIRAM_NEW_DIP/DIP_10.s4p\"\n",
    "gt = \"/scratch1/04703/sravula/SRIRAM_NEW_DIP/\""
   ]
  },
  {
   "cell_type": "code",
   "execution_count": null,
   "id": "bd22e21a-89c6-44a3-8983-c5253285c81f",
   "metadata": {},
   "outputs": [],
   "source": []
  }
 ],
 "metadata": {
  "kernelspec": {
   "display_name": "Python 3 (ipykernel)",
   "language": "python",
   "name": "python3"
  },
  "language_info": {
   "codemirror_mode": {
    "name": "ipython",
    "version": 3
   },
   "file_extension": ".py",
   "mimetype": "text/x-python",
   "name": "python",
   "nbconvert_exporter": "python",
   "pygments_lexer": "ipython3",
   "version": "3.10.11"
  }
 },
 "nbformat": 4,
 "nbformat_minor": 5
}
